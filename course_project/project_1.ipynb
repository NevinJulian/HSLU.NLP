{
 "cells": [
  {
   "cell_type": "markdown",
   "metadata": {},
   "source": [
    "# NLP.F2501 Course Project 1 (Word embeddings and RNNs)\n",
    "\n",
    "Nevin Helfenstein"
   ]
  },
  {
   "cell_type": "markdown",
   "metadata": {},
   "source": [
    "# Introduction\n",
    "\n",
    "In this notebook, I present my solution to the CommonsenseQA task. I'll train a model using word embeddings, RNNs, and other NLP techniques to achieve the best possible performance.\n",
    "\n",
    "## Dataset Description\n",
    "\n",
    "The CommonsenseQA dataset [(Talmor et al., 2019)](https://aclanthology.org/N19-1421/) contains 12,247 multiple-choice questions specifically designed to test commonsense reasoning. Unlike standard QA tasks, these questions require prior knowledge about how concepts relate in the real world.\n",
    "\n",
    "Questions were created by extracting related concepts from ConceptNet and having crowd-workers author questions that require distinguishing between them. This methodology produced challenging questions that often cannot be answered through simple pattern matching.\n",
    "\n",
    "The best baseline in the original paper (BERT-large) achieved only 56% accuracy compared to human performance of 89%, shwoing the difficulty of encoding human-like commonsense reasoning."
   ]
  },
  {
   "cell_type": "markdown",
   "metadata": {},
   "source": [
    "# Setup\n",
    "\n",
    "First we import all the needed libraries"
   ]
  },
  {
   "cell_type": "code",
   "execution_count": 1,
   "metadata": {},
   "outputs": [
    {
     "name": "stderr",
     "output_type": "stream",
     "text": [
      "/home/nevin/miniconda3/envs/nlp_env/lib/python3.10/site-packages/tqdm/auto.py:21: TqdmWarning: IProgress not found. Please update jupyter and ipywidgets. See https://ipywidgets.readthedocs.io/en/stable/user_install.html\n",
      "  from .autonotebook import tqdm as notebook_tqdm\n"
     ]
    }
   ],
   "source": [
    "import torch\n",
    "import nltk\n",
    "import wandb\n",
    "import logging\n",
    "import re\n",
    "\n",
    "import gensim\n",
    "\n",
    "import pandas as pd\n",
    "import seaborn as sns\n",
    "from wordcloud import WordCloud\n",
    "\n",
    "import torch.nn as nn\n",
    "import numpy as np\n",
    "\n",
    "import matplotlib.pyplot as plt\n",
    "from nltk.tokenize import word_tokenize\n",
    "from nltk import pos_tag\n",
    "from torch.utils.data import Dataset, DataLoader\n",
    "from matplotlib_venn import venn2\n",
    "\n",
    "\n",
    "from datasets import load_dataset\n",
    "from huggingface_hub import hf_hub_download\n",
    "\n",
    "from collections import Counter, defaultdict\n",
    "from datetime import datetime\n",
    "\n",
    "import functools\n",
    "import pickle\n",
    "import os\n",
    "from tqdm import tqdm\n",
    "from sklearn.feature_extraction.text import TfidfVectorizer\n",
    "\n",
    "import torch.nn.functional as F\n",
    "import time\n",
    "import math\n",
    "\n",
    "from torch.nn.utils.rnn import pad_sequence, pack_padded_sequence, pad_packed_sequence\n"
   ]
  },
  {
   "cell_type": "markdown",
   "metadata": {},
   "source": [
    "### Fixed variables\n",
    "\n",
    "We set the random seed for all the necessary configurations  to ensure reproducibility"
   ]
  },
  {
   "cell_type": "code",
   "execution_count": 2,
   "metadata": {},
   "outputs": [],
   "source": [
    "SEED = 42\n",
    "\n",
    "np.random.seed(SEED)\n",
    "torch.manual_seed(SEED)\n",
    "torch.cuda.manual_seed(SEED)\n",
    "torch.backends.cudnn.deterministic = True"
   ]
  },
  {
   "cell_type": "markdown",
   "metadata": {},
   "source": [
    "### Tokenizer and embedding model\n",
    "\n",
    "I've selected FastText embeddings with the common crawl model (crawl-3dd-2m-subword) for this project for the following reasons:\n",
    "\n",
    "* **Subword modeling** - handles unknown words & typos\n",
    "* **Morphologically aware** - recognizes word relationships \n",
    "* **Massive training corpus** - 600B tokens from Common Crawl\n",
    "* **Rich embeddings** - 300 dimensions, 2M word vectors\n",
    "* **Proven performance** - excels in commonsense reasoning tasks\n",
    "* **Well Documented** - is known in the NLP community and is very well documented"
   ]
  },
  {
   "cell_type": "markdown",
   "metadata": {},
   "source": [
    "Download tokenizer files"
   ]
  },
  {
   "cell_type": "code",
   "execution_count": 3,
   "metadata": {},
   "outputs": [
    {
     "name": "stderr",
     "output_type": "stream",
     "text": [
      "[nltk_data] Downloading package punkt_tab to /home/nevin/nltk_data...\n",
      "[nltk_data]   Package punkt_tab is already up-to-date!\n",
      "[nltk_data] Downloading package averaged_perceptron_tagger to\n",
      "[nltk_data]     /home/nevin/nltk_data...\n",
      "[nltk_data]   Package averaged_perceptron_tagger is already up-to-\n",
      "[nltk_data]       date!\n"
     ]
    },
    {
     "data": {
      "text/plain": [
       "True"
      ]
     },
     "execution_count": 3,
     "metadata": {},
     "output_type": "execute_result"
    }
   ],
   "source": [
    "nltk.download('punkt_tab')\n",
    "nltk.download('averaged_perceptron_tagger')"
   ]
  },
  {
   "cell_type": "markdown",
   "metadata": {},
   "source": [
    "Download the FastText model from Hugging Face (Facebook's common crawl model)"
   ]
  },
  {
   "cell_type": "code",
   "execution_count": 4,
   "metadata": {},
   "outputs": [],
   "source": [
    "model_path = hf_hub_download(repo_id=\"facebook/fasttext-en-vectors\", filename=\"model.bin\")"
   ]
  },
  {
   "cell_type": "markdown",
   "metadata": {},
   "source": [
    "Load the model"
   ]
  },
  {
   "cell_type": "code",
   "execution_count": 5,
   "metadata": {},
   "outputs": [],
   "source": [
    "ft_model = gensim.models.fasttext.load_facebook_model(model_path)\n",
    "wv = ft_model.wv"
   ]
  },
  {
   "cell_type": "markdown",
   "metadata": {},
   "source": [
    "### Data Splits\n",
    "\n",
    "The data is available on Hugging Face: [Data](https://huggingface.co/datasets/tau/commonsense_qa).\n",
    "Only the train and validation splits have an answer key, because of that we will use our own dataset splits.\n",
    "We use all of the datasamples as the train set except for the last 1000 which we set as the validation set. The original validation set is set as the test set."
   ]
  },
  {
   "cell_type": "code",
   "execution_count": 6,
   "metadata": {},
   "outputs": [
    {
     "name": "stdout",
     "output_type": "stream",
     "text": [
      "8741 1000 1221\n"
     ]
    }
   ],
   "source": [
    "train = load_dataset(\"tau/commonsense_qa\", split=\"train[:-1000]\")\n",
    "valid = load_dataset(\"tau/commonsense_qa\", split=\"train[-1000:]\")\n",
    "test = load_dataset(\"tau/commonsense_qa\", split=\"validation\")\n",
    "\n",
    "print(len(train), len(valid), len(test))"
   ]
  },
  {
   "cell_type": "markdown",
   "metadata": {},
   "source": [
    "## Exploring the dataset\n",
    "\n",
    "To understand the CommonsenseQA dataset better, I'll analyze its structure and compute basic statistics. I'm converting the dataset splits to Pandas DataFrames for easier manipulation and exploration.\n",
    "\n",
    "Key aspects I want to analyze:\n",
    "- Question and answer distribution\n",
    "- Question lengths and complexity \n",
    "- Answer choice patterns\n",
    "- Question types and formats\n",
    "\n",
    "Understanding these characteristics will help with model design decisions, preprocessing strategies, and potential challenges in the task."
   ]
  },
  {
   "cell_type": "code",
   "execution_count": 7,
   "metadata": {},
   "outputs": [],
   "source": [
    "train_df = pd.DataFrame(train)\n",
    "valid_df = pd.DataFrame(valid)\n",
    "test_df = pd.DataFrame(test)\n",
    "\n",
    "datasets = {\n",
    "    \"Training\": train_df,\n",
    "    \"Validation\": valid_df,\n",
    "    \"Test\": test_df\n",
    "}"
   ]
  },
  {
   "cell_type": "markdown",
   "metadata": {},
   "source": [
    "We check basic statistics such as average question and choice lenght for each DataFrame"
   ]
  },
  {
   "cell_type": "code",
   "execution_count": 8,
   "metadata": {},
   "outputs": [
    {
     "name": "stdout",
     "output_type": "stream",
     "text": [
      "=== Training Set Statistics ===\n",
      "Number of examples: 8741\n",
      "Example 'choices' structure: {'label': ['A', 'B', 'C', 'D', 'E'], 'text': ['ignore', 'enforce', 'authoritarian', 'yell at', 'avoid']}\n",
      "Average question length: 14.90 tokens\n",
      "Average answer choice length: 0.00 tokens\n",
      "Min/Max question length: 4/67 tokens\n",
      "=== Validation Set Statistics ===\n",
      "Number of examples: 1000\n",
      "Example 'choices' structure: {'label': ['A', 'B', 'C', 'D', 'E'], 'text': ['eat cake', 'getting drunk', 'having sex', 'cleaning rooms', 'drink too much']}\n",
      "Average question length: 15.03 tokens\n",
      "Average answer choice length: 0.00 tokens\n",
      "Min/Max question length: 5/48 tokens\n",
      "=== Test Set Statistics ===\n",
      "Number of examples: 1221\n",
      "Example 'choices' structure: {'label': ['A', 'B', 'C', 'D', 'E'], 'text': ['bank', 'library', 'department store', 'mall', 'new york']}\n",
      "Average question length: 14.73 tokens\n",
      "Average answer choice length: 0.00 tokens\n",
      "Min/Max question length: 4/60 tokens\n"
     ]
    }
   ],
   "source": [
    "def analyze_dataset(df, name):\n",
    "    \"\"\"Analyze basic statistics of a dataset split without modifying the dataframe\"\"\"\n",
    "    print(f\"=== {name} Set Statistics ===\")\n",
    "    print(f\"Number of examples: {len(df)}\")\n",
    "\n",
    "    question_lengths = [len(word_tokenize(q)) for q in df['question']]\n",
    "    \n",
    "    print(f\"Example 'choices' structure: {df['choices'].iloc[0]}\")\n",
    "    \n",
    "    choice_lengths = []\n",
    "    for choices_row in df['choices']:\n",
    "        if isinstance(choices_row, list):\n",
    "            try:\n",
    "                row_lengths = [len(word_tokenize(choice['text'])) for choice in choices_row]\n",
    "            except TypeError:\n",
    "                row_lengths = [len(word_tokenize(choice)) for choice in choices_row]\n",
    "        elif isinstance(choices_row, str):\n",
    "            row_lengths = [len(word_tokenize(choices_row))]\n",
    "        else:\n",
    "            row_lengths = [0]\n",
    "        \n",
    "        choice_lengths.append(row_lengths)\n",
    "    \n",
    "    avg_choice_lengths = [np.mean(lengths) if lengths else 0 for lengths in choice_lengths]\n",
    "    \n",
    "    print(f\"Average question length: {np.mean(question_lengths):.2f} tokens\")\n",
    "    print(f\"Average answer choice length: {np.mean(avg_choice_lengths):.2f} tokens\")\n",
    "    print(f\"Min/Max question length: {min(question_lengths)}/{max(question_lengths)} tokens\")\n",
    "    \n",
    "    if 'answerKey' in df.columns:\n",
    "        correct_positions = []\n",
    "        for _, row in df.iterrows():\n",
    "            try:\n",
    "                correct_idx = next((i for i, choice in enumerate(row['choices']) \n",
    "                                if choice['label'] == row['answerKey']), -1)\n",
    "            except (TypeError, KeyError):\n",
    "                correct_idx = -1\n",
    "            correct_positions.append(correct_idx)\n",
    "        \n",
    "        valid_positions = [p for p in correct_positions if p >= 0]\n",
    "        if valid_positions:\n",
    "            position_counts = np.bincount(valid_positions)\n",
    "            print(f\"Distribution of correct answers: {position_counts}\")\n",
    "    \n",
    "    return df\n",
    "\n",
    "train_df = analyze_dataset(train_df, \"Training\")\n",
    "valid_df = analyze_dataset(valid_df, \"Validation\")\n",
    "test_df = analyze_dataset(test_df, \"Test\")"
   ]
  },
  {
   "cell_type": "markdown",
   "metadata": {},
   "source": [
    "## Question Length Analysis\n",
    "\n",
    "To better understand the input sequences for my models, I'm analyzing the distribution of question lengths across different dataset splits. This analysis will help me:\n",
    "\n",
    "1. **Set appropriate sequence length limits**: Determine if truncation is needed and what maximum length to use\n",
    "2. **Assess computational requirements**: Longer sequences require more memory and computation time\n",
    "3. **Detect potential distribution shifts**: Check if validation and test sets have similar length distributions to the training set\n",
    "4. **Identify potential outliers**: Extremely long or short questions might need special handling\n",
    "\n",
    "From this analysis, I observe that most questions are between 8-15 tokens long, with very few exceeding 25 tokens. This suggests that a maximum sequence length of 50 tokens should be sufficient for most examples without losing information."
   ]
  },
  {
   "cell_type": "code",
   "execution_count": 9,
   "metadata": {},
   "outputs": [
    {
     "data": {
      "image/png": "[encoded data removed]",
      "text/plain": [
       "<Figure size 1200x600 with 1 Axes>"
      ]
     },
     "metadata": {},
     "output_type": "display_data"
    }
   ],
   "source": [
    "train_df['question_length'] = train_df['question'].apply(lambda x: len(word_tokenize(x)))\n",
    "valid_df['question_length'] = valid_df['question'].apply(lambda x: len(word_tokenize(x)))\n",
    "test_df['question_length'] = test_df['question'].apply(lambda x: len(word_tokenize(x)))\n",
    "\n",
    "plt.figure(figsize=(12, 6))\n",
    "\n",
    "sns.histplot(data=train_df, x='question_length', kde=True, label='Train', alpha=0.6)\n",
    "sns.histplot(data=valid_df, x='question_length', kde=True, label='Validation', alpha=0.6)\n",
    "sns.histplot(data=test_df, x='question_length', kde=True, label='Test', alpha=0.6)\n",
    "\n",
    "plt.title('Distribution of Question Lengths')\n",
    "plt.xlabel('Number of tokens in question')\n",
    "plt.ylabel('Count')\n",
    "plt.legend()\n",
    "plt.savefig('viz/question_length_distribution.png')\n",
    "plt.show()\n",
    "plt.close()"
   ]
  },
  {
   "cell_type": "markdown",
   "metadata": {},
   "source": [
    "## Answer Distribution Analysis\n",
    "\n",
    "I'm analyzing the distribution of correct answers (labels A-E) across dataset splits to:\n",
    "\n",
    "1. **Check for label balance**: Imbalanced datasets can bias models toward over-represented classes\n",
    "2. **Detect potential biases**: Systematic patterns in correct answers could be exploited by models \n",
    "3. **Ensure consistent distributions**: Training, validation, and test sets should have similar distributions\n",
    "\n",
    "The visualization shows that answers are relatively well-balanced across all five options, with slight variations between dataset splits. This is positive for model training as it reduces the risk of the model learning to predict more frequent labels rather than understanding the questions."
   ]
  },
  {
   "cell_type": "code",
   "execution_count": 10,
   "metadata": {},
   "outputs": [
    {
     "data": {
      "image/png": "[encoded data removed]",
      "text/plain": [
       "<Figure size 1800x600 with 3 Axes>"
      ]
     },
     "metadata": {},
     "output_type": "display_data"
    }
   ],
   "source": [
    "plt.figure(figsize=(18, 6))\n",
    "\n",
    "for i, (split, df) in enumerate(datasets.items(), 1):\n",
    "    answer_counts = Counter(df['answerKey'])\n",
    "    \n",
    "    plt.subplot(1, 3, i)\n",
    "    plt.bar(answer_counts.keys(), answer_counts.values())\n",
    "    plt.xlabel(\"Answer Labels\")\n",
    "    plt.ylabel(\"Absolute Frequency\")\n",
    "    plt.title(f\"{split} Answer Key Distribution\")\n",
    "    \n",
    "    for label, count in answer_counts.items():\n",
    "        plt.text(label, count + 5, str(count), ha='center')\n",
    "\n",
    "plt.savefig('viz/answer_key_distribution.png')\n",
    "plt.show()"
   ]
  },
  {
   "cell_type": "markdown",
   "metadata": {},
   "source": [
    "## Question Type Analysis\n",
    "\n",
    "Understanding the types of questions in the dataset provides insight into the reasoning patterns required. I'm categorizing questions based on their first word (what, which, who, etc.) to:\n",
    "\n",
    "1. **Identify reasoning patterns**: Different question types require different reasoning approaches\n",
    "2. **Detect potential biases**: If certain question types are more prevalent, models might overfit to those patterns\n",
    "3. **Guide model design**: Some architectures might be better suited for particular question types\n",
    "\n",
    "I observe that \"what\" questions dominate (~70%), followed by \"which\" questions (~15%). This suggests models need to be particularly good at identifying properties and characteristics of concepts, which is the main focus of \"what\" questions.\n",
    "\n",
    "Other question types (who, how, why, when, where) appear less frequently but may require more complex reasoning. I'll keep this in mind when analyzing model errors, as performance might vary across question types."
   ]
  },
  {
   "cell_type": "code",
   "execution_count": 11,
   "metadata": {},
   "outputs": [
    {
     "data": {
      "image/png": "[encoded data removed]",
      "text/plain": [
       "<Figure size 1500x500 with 3 Axes>"
      ]
     },
     "metadata": {},
     "output_type": "display_data"
    }
   ],
   "source": [
    "def get_question_type(question):\n",
    "    \"\"\"Extract the question type based on first word or common question words\"\"\"\n",
    "    question = question.lower().strip()\n",
    "    question_words = ['what', 'which', 'who', 'how', 'why', 'when', 'where']\n",
    "    \n",
    "    for word in question_words:\n",
    "        if question.startswith(word) or f\" {word} \" in question:\n",
    "            return word\n",
    "    \n",
    "    return 'other'\n",
    "\n",
    "# Add question type to dataframes\n",
    "train_df['question_type'] = train_df['question'].apply(get_question_type)\n",
    "valid_df['question_type'] = valid_df['question'].apply(get_question_type)\n",
    "test_df['question_type'] = test_df['question'].apply(get_question_type)\n",
    "\n",
    "# Plot question type distribution\n",
    "plt.figure(figsize=(15, 5))\n",
    "\n",
    "for i, (split, df) in enumerate(datasets.items(), 1):\n",
    "    question_type_counts = Counter(df['question_type'])\n",
    "    sorted_types = sorted(question_type_counts.keys())\n",
    "    \n",
    "    plt.subplot(1, 3, i)\n",
    "    plt.bar(sorted_types, [question_type_counts[t] for t in sorted_types])\n",
    "    plt.title(f\"{split} Question Type Distribution\")\n",
    "    plt.xlabel(\"Question Type\")\n",
    "    plt.ylabel(\"Frequency\")\n",
    "    plt.xticks(rotation=45)\n",
    "\n",
    "plt.tight_layout()\n",
    "plt.show()"
   ]
  },
  {
   "cell_type": "markdown",
   "metadata": {},
   "source": [
    "Count question types and convert it to percentage"
   ]
  },
  {
   "cell_type": "code",
   "execution_count": 12,
   "metadata": {},
   "outputs": [
    {
     "data": {
      "image/png": "[encoded data removed]",
      "text/plain": [
       "<Figure size 1800x600 with 3 Axes>"
      ]
     },
     "metadata": {},
     "output_type": "display_data"
    }
   ],
   "source": [
    "plt.figure(figsize=(18, 6))\n",
    "\n",
    "train_type_counts = Counter(train_df['question_type'])\n",
    "valid_type_counts = Counter(valid_df['question_type'])\n",
    "test_type_counts = Counter(test_df['question_type'])\n",
    "\n",
    "train_type_percent = {k: v/len(train_df)*100 for k, v in train_type_counts.items()}\n",
    "valid_type_percent = {k: v/len(valid_df)*100 for k, v in valid_type_counts.items()}\n",
    "test_type_percent = {k: v/len(test_df)*100 for k, v in test_type_counts.items()}\n",
    "\n",
    "datasets = {\n",
    "    \"Training\": train_type_percent,\n",
    "    \"Validation\": valid_type_percent,\n",
    "    \"Test\": test_type_percent\n",
    "}\n",
    "\n",
    "\n",
    "for i, (split, percent_dict) in enumerate(datasets.items(), 1):\n",
    "\n",
    "    sorted_types = sorted(percent_dict.keys())\n",
    "    sorted_percents = [percent_dict[t] for t in sorted_types]\n",
    "    \n",
    "    ax = plt.subplot(1, 3, i)\n",
    "    bars = plt.bar(sorted_types, sorted_percents)\n",
    "    plt.xlabel(\"Question Type\")\n",
    "    plt.ylabel(\"Percentage (%)\")\n",
    "    plt.title(f\"{split} Question Type Distribution (%)\")\n",
    "    \n",
    "    for j, (q_type, percent) in enumerate(zip(sorted_types, sorted_percents)):\n",
    "        plt.text(j, percent + 0.5, f\"{percent:.1f}%\", ha='center')\n",
    "    \n",
    "\n",
    "    plt.grid(axis='y', linestyle='--', alpha=0.3)\n",
    "    plt.xticks(rotation=45)\n",
    "    \n",
    "    plt.ylim(0, max(max(train_type_percent.values()), \n",
    "                   max(valid_type_percent.values()),\n",
    "                   max(test_type_percent.values())) + 5)\n",
    "\n",
    "plt.tight_layout()\n",
    "plt.savefig('viz/question_type_percentage_distribution.png', dpi=300)\n",
    "plt.show()"
   ]
  },
  {
   "cell_type": "markdown",
   "metadata": {},
   "source": [
    "POS (Part-of-Speach) Tag analysis for questions"
   ]
  },
  {
   "cell_type": "code",
   "execution_count": 13,
   "metadata": {},
   "outputs": [
    {
     "data": {
      "image/png": "[encoded data removed]",
      "text/plain": [
       "<Figure size 1200x600 with 1 Axes>"
      ]
     },
     "metadata": {},
     "output_type": "display_data"
    }
   ],
   "source": [
    "def analyze_pos_tags(texts, n=10):\n",
    "    \"\"\"Analyze the most common POS tags in a list of texts\"\"\"\n",
    "    all_pos = []\n",
    "    for text in texts:\n",
    "        tokens = word_tokenize(text)\n",
    "        tags = pos_tag(tokens)\n",
    "        all_pos.extend([tag for _, tag in tags])\n",
    "    \n",
    "    return Counter(all_pos).most_common(n)\n",
    "\n",
    "train_pos = analyze_pos_tags(train_df['question'].tolist())\n",
    "\n",
    "plt.figure(figsize=(12, 6))\n",
    "pos_df = pd.DataFrame(train_pos, columns=['POS Tag', 'Count'])\n",
    "sns.barplot(x='POS Tag', y='Count', data=pos_df)\n",
    "plt.title('Most Common POS Tags in Training Questions')\n",
    "plt.xticks(rotation=45)\n",
    "plt.tight_layout()\n",
    "plt.savefig('viz/pos_tag_distribution.png')\n",
    "plt.show()\n",
    "plt.close()"
   ]
  },
  {
   "cell_type": "markdown",
   "metadata": {},
   "source": [
    "## Vocabulary Analysis and Overlap\n",
    "\n",
    "Analyzing vocabulary overlap between train and test sets is crucial for understanding:\n",
    "\n",
    "1. **Out-of-vocabulary challenges**: Words appearing only in the test set might cause difficulties\n",
    "2. **Model generalization requirements**: Higher vocabulary overlap suggests easier generalization\n",
    "3. **Embedding coverage needs**: The percentage of vocabulary covered by pre-trained embeddings\n",
    "\n",
    "I'm creating Venn diagrams to visualize this overlap and calculating specific statistics.\n",
    "\n",
    "Results show approximately 60-70% vocabulary overlap between train and test sets, which is reasonable but indicates potential challenges with unseen words. This further justifies my choice of FastText embeddings, which can generate representations for unseen words based on character n-grams."
   ]
  },
  {
   "cell_type": "code",
   "execution_count": 14,
   "metadata": {},
   "outputs": [
    {
     "data": {
      "image/png": "[encoded data removed]",
      "text/plain": [
       "<Figure size 800x600 with 1 Axes>"
      ]
     },
     "metadata": {},
     "output_type": "display_data"
    },
    {
     "name": "stdout",
     "output_type": "stream",
     "text": [
      "Train vocabulary size: 7768\n",
      "Test vocabulary size: 2791\n",
      "Vocabulary overlap: 2313 words (29.78% of train vocabulary)\n"
     ]
    }
   ],
   "source": [
    "def get_vocabulary(texts):\n",
    "    \"\"\"Extract unique vocabulary from a list of texts\"\"\"\n",
    "    vocab = set()\n",
    "    for text in texts:\n",
    "        tokens = word_tokenize(text.lower())\n",
    "        vocab.update(tokens)\n",
    "    return vocab\n",
    "\n",
    "# Get vocabulary from train and test sets\n",
    "train_vocab = get_vocabulary(train_df['question'].tolist())\n",
    "test_vocab = get_vocabulary(test_df['question'].tolist())\n",
    "\n",
    "# Calculate vocabulary overlap\n",
    "overlap = len(train_vocab.intersection(test_vocab))\n",
    "train_only = len(train_vocab - test_vocab)\n",
    "test_only = len(test_vocab - train_vocab)\n",
    "\n",
    "# Plot Venn diagram\n",
    "plt.figure(figsize=(8, 6))\n",
    "venn2(subsets=(train_only, test_only, overlap), \n",
    "      set_labels=('Train Vocabulary', 'Test Vocabulary'))\n",
    "plt.title('Vocabulary Overlap Between Train and Test Sets')\n",
    "plt.show()\n",
    "\n",
    "print(f\"Train vocabulary size: {len(train_vocab)}\")\n",
    "print(f\"Test vocabulary size: {len(test_vocab)}\")\n",
    "print(f\"Vocabulary overlap: {overlap} words ({overlap/len(train_vocab)*100:.2f}% of train vocabulary)\")"
   ]
  },
  {
   "cell_type": "markdown",
   "metadata": {},
   "source": [
    "# Hyperparameter Search Spaces\n",
    "\n",
    "The sweep configurations explore a wide range of hyperparameters for both models:\n",
    "\n",
    "## Embedding Model Parameters\n",
    "- **Learning Rate Parameters**: Initial and maximum learning rates\n",
    "- **Regularization**: Weight decay and dropout rate values\n",
    "- **Training Dynamics**: Batch sizes, gradient clipping strength\n",
    "- **Architecture Parameters**: Hidden dimension sizes (from 128 to 1536)\n",
    "- **Scheduler Options**: One-cycle LR and cosine annealing with warmup\n",
    "\n",
    "## RNN Model Parameters\n",
    "- Similar learning rate and regularization parameters\n",
    "- **RNN-specific Parameters**: RNN hidden dimension, classifier hidden dimension\n",
    "- **Architecture Choices**: Bidirectional vs. unidirectional LSTM\n",
    "- **Smaller Batch Sizes**: Optimized for sequential processing (32-256)\n",
    "\n",
    "These parameter ranges were carefully selected to explore the full potential of each architecture while considering their unique characteristics."
   ]
  },
  {
   "cell_type": "code",
   "execution_count": null,
   "metadata": {},
   "outputs": [],
   "source": []
  },
  {
   "cell_type": "markdown",
   "metadata": {},
   "source": [
    "# Preprocessing"
   ]
  },
  {
   "cell_type": "markdown",
   "metadata": {},
   "source": [
    "As per the project requirements we need correct and justified decisions on: \n",
    "- Tokenization \n",
    "- Lowercasing, stemming, lemmatizing, stopword/punctuation removal \n",
    "- Removal of unknown/other words \n",
    "- Format cleaning (e.g. html-extracted text) \n",
    "- Truncation \n",
    "- Feature selection \n",
    "- Input format: how is data passed to the model? \n",
    "- Label format: what should the model predict? \n",
    "- Batching, padding \n",
    "- Vocabulary, embedding\n",
    "\n",
    "Based on my dataset analysis and the requirements of the task, I've made the following preprocessing decisions:\n",
    "\n",
    "1. **Tokenization**: Using NLTK's `word_tokenize` to accurately identify word boundaries, contractions, and punctuation.\n",
    "2. **Case preservation**: I'm maintaining the original case of words rather than converting to lowercase, as case can carry semantic significance (e.g., proper nouns, acronyms).\n",
    "3. **Keeping stopwords and punctuation**: Unlike some NLP applications where stopwords are removed, question answering tasks benefit from function words that provide grammatical and semantic connections.\n",
    "4. **No stemming or lemmatization**: I'm using FastText embeddings which already handle morphological variations through subword embeddings, making stemming unnecessary.\n",
    "5. **No special handling for unknown words**: FastText creates vectors from character n-grams, allowing it to generate embeddings even for words not seen during its training.\n",
    "\n",
    "These decisions aim to preserve as much information as possible from the original text while preparing it for neural network processing. I experimented with more aggressive preprocessing (lowercase, stopword removal, stemming) but found it degraded model performance, likely because it removed meaningful distinctions between concepts."
   ]
  },
  {
   "cell_type": "markdown",
   "metadata": {},
   "source": [
    "I'm implementing a minimal preprocessing function that focuses on tokenization while preserving most of the original text features. The function:\n",
    "\n",
    "1. Performs error checking to handle edge cases (non-string inputs, empty texts)\n",
    "2. Uses NLTK's word_tokenize for effective tokenization\n",
    "3. Returns the raw tokens without additional transformations\n",
    "\n",
    "This approach maintains maximum information in the text while converting it to a format suitable for our models. "
   ]
  },
  {
   "cell_type": "code",
   "execution_count": 15,
   "metadata": {},
   "outputs": [],
   "source": [
    "def preprocess_text(text):\n",
    "    if not isinstance(text, str):\n",
    "        raise TypeError(\"Input must be a string, got {0} instead\".format(type(text).__name__))\n",
    "    \n",
    "    if not text or text.isspace():\n",
    "        raise ValueError(\"Input text cannot be empty or whitespace only\")\n",
    "\n",
    "    try:\n",
    "        nltk.data.find('tokenizers/punkt')\n",
    "    except LookupError:\n",
    "        try:\n",
    "            nltk.download('punkt')\n",
    "        except Exception as e:\n",
    "            raise RuntimeError(f\"Failed to download NLTK punkt tokenizer: {str(e)}\")\n",
    "\n",
    "    try:\n",
    "        tokens = word_tokenize(text)\n",
    "        \n",
    "        if len(tokens) == 0 and len(text.strip()) > 0:\n",
    "            raise RuntimeError(\"Tokenization produced no tokens for non-empty input\")\n",
    "            \n",
    "        return tokens\n",
    "        \n",
    "    except Exception as e:\n",
    "        raise RuntimeError(f\"Tokenization failed: {str(e)}\")"
   ]
  },
  {
   "cell_type": "markdown",
   "metadata": {},
   "source": [
    "To get a better understanding we check how the loaded embeddings look and how big the vocabulary is."
   ]
  },
  {
   "cell_type": "code",
   "execution_count": 16,
   "metadata": {},
   "outputs": [
    {
     "name": "stdout",
     "output_type": "stream",
     "text": [
      "Word embeddings vector size: 300\n",
      "Word embeddings vocab size: 2000000\n",
      "\n",
      "First 10 words in vocabulary:\n",
      "[',', 'the', '.', 'and', 'to', 'of', 'a', '</s>', 'in', 'is']\n",
      "\n",
      "Last 5 words in vocabulary:\n",
      "['ldapmodify', 'sponde', 'hvm', 'GorceyBearTerritory.netSaturday', 'Zwicke']\n"
     ]
    }
   ],
   "source": [
    "print(f\"Word embeddings vector size: {wv.vector_size}\")\n",
    "print(f\"Word embeddings vocab size: {len(wv.index_to_key)}\")\n",
    "\n",
    "print(\"\\nFirst 10 words in vocabulary:\")\n",
    "print(wv.index_to_key[:10])\n",
    "\n",
    "print(\"\\nLast 5 words in vocabulary:\")\n",
    "print(wv.index_to_key[-5:])"
   ]
  },
  {
   "cell_type": "markdown",
   "metadata": {},
   "source": [
    "Further we analyse how the vectors of different words look like"
   ]
  },
  {
   "cell_type": "code",
   "execution_count": 17,
   "metadata": {},
   "outputs": [
    {
     "name": "stdout",
     "output_type": "stream",
     "text": [
      "[ 7.05022831e-03 -2.72363335e-01  3.08294799e-02 -6.69213533e-02\n",
      " -2.38569006e-01 -6.97940290e-02 -1.78919464e-01 -1.30932003e-01\n",
      "  1.95379898e-01 -1.02779709e-01  1.13138333e-01 -8.10120851e-02\n",
      " -2.31069531e-02  8.10398385e-02  4.11642976e-02  2.13612169e-01\n",
      "  2.07227275e-01 -1.44993244e-02 -1.49006667e-02  3.30467045e-01\n",
      " -8.75898227e-02  2.77748536e-02  1.65837809e-01 -2.82677233e-01\n",
      " -2.31202438e-01 -6.97928965e-02 -9.50594172e-02  1.27312019e-01\n",
      "  8.41282010e-02  3.78092974e-01  8.13675299e-02 -4.12413254e-02\n",
      "  3.80182602e-02 -8.93339440e-02 -6.99183196e-02  1.94707839e-03\n",
      "  2.10201159e-01 -1.43054217e-01 -5.38324825e-02  5.93089908e-02\n",
      " -3.86625379e-02  6.96267113e-02 -2.00814441e-01  5.09383306e-02\n",
      "  1.98449627e-01 -3.92922424e-02  5.64378798e-02  3.31560552e-01\n",
      "  7.08746612e-02 -3.91262211e-02 -8.44963491e-02 -3.65556516e-02\n",
      "  9.49307606e-02 -2.95668654e-02 -7.00519904e-02 -2.10410550e-01\n",
      " -1.39795244e-01  1.62995517e-01 -1.53789535e-01 -8.67058709e-02\n",
      " -7.03049498e-03 -2.27405466e-02  1.44581301e-02 -1.33640334e-01\n",
      " -2.25813717e-01 -7.81053528e-02 -4.05733250e-02 -8.75697657e-02\n",
      " -4.95565170e-03 -9.03920382e-02 -1.69426844e-01  2.27120779e-02\n",
      "  4.20575365e-02 -6.56478107e-02  1.52438775e-01 -8.19535032e-02\n",
      "  7.19848797e-02  1.68619603e-01 -4.21918221e-02 -6.75620809e-02\n",
      "  8.79978538e-02  5.85604645e-02 -5.17636500e-02  1.75872475e-01\n",
      " -3.17142069e-01 -8.90906621e-03  7.38999322e-02  2.12619752e-01\n",
      "  5.98389015e-04  9.20452327e-02 -1.02351315e-01 -2.63595790e-01\n",
      "  5.06478965e-01 -2.12026816e-02  2.91172028e-01 -9.36649591e-02\n",
      "  4.79419669e-03  2.74970144e-01  1.58808872e-01 -1.22888289e-01\n",
      " -3.00131124e-02  1.77485794e-01  1.51706323e-01 -4.64394152e-01\n",
      " -2.45825052e-02  7.09482133e-02  2.97894492e-03  1.82574540e-01\n",
      " -1.46579474e-01  2.44822472e-01  1.54644325e-01 -2.13488981e-01\n",
      " -4.98909801e-02  4.63303834e-01 -5.43784276e-02 -1.18706353e-01\n",
      " -1.82039201e-01  2.96827909e-02  6.64017946e-02  2.77966144e-03\n",
      " -2.44649164e-02  8.82646476e-04  1.57317519e-01 -5.68870120e-02\n",
      "  1.99487031e-01 -1.60753913e-02  4.29950170e-02 -3.45848948e-02\n",
      " -1.42626330e-01  3.42199914e-02  5.98671585e-02 -1.29025459e-01\n",
      "  1.98525637e-01 -2.23828644e-01  8.13265145e-02 -5.10543548e-02\n",
      " -4.25724894e-01  4.68679331e-02  2.63595916e-02  2.63221651e-01\n",
      " -2.68831309e-02 -6.77992254e-02  8.35635290e-02  7.87136033e-02\n",
      "  1.46461368e-01  1.27801433e-01 -7.34706461e-01  5.41431643e-02\n",
      " -1.17738701e-01 -8.84151384e-02 -1.94592863e-01 -6.40626764e-03\n",
      "  5.05158789e-02  1.65497571e-01  1.26097545e-01 -9.16199237e-02\n",
      "  2.45801240e-01  2.98852652e-01 -7.50585124e-02  2.08749101e-02\n",
      "  6.51354566e-02  1.33050829e-01  1.12570450e-01 -3.98621187e-02\n",
      "  1.11183703e-01 -1.83927611e-01 -3.72835249e-02 -2.83157468e-01\n",
      " -1.73210472e-01  1.74186558e-01  1.46887556e-01 -6.60460964e-02\n",
      "  5.15335836e-02 -8.16279799e-02 -8.92949477e-02 -1.21421136e-01\n",
      " -1.56102590e-02 -1.83339953e-01 -1.01853544e-02 -1.40302375e-01\n",
      " -2.23759580e-02  3.91353637e-01  1.36491373e-01  2.07601994e-01\n",
      "  1.32689968e-01  1.36558399e-01  2.23787934e-01  8.05590749e-02\n",
      "  1.09213993e-01 -1.36512980e-01 -1.15793705e-01  9.82198715e-02\n",
      "  9.35018212e-02 -2.78542697e-01  1.26637876e-01  2.64695615e-01\n",
      "  2.10998535e-01  6.65761232e-02  1.66615304e-02  1.17732443e-01\n",
      " -1.04405522e-01  2.36761168e-01 -9.26435739e-02 -2.85238206e-01\n",
      "  9.79660377e-02  5.43511361e-02 -8.90553370e-02  1.83211360e-02\n",
      "  3.16772722e-02 -1.54195547e-01  1.67604819e-01 -7.84517601e-02\n",
      " -4.76090282e-01 -2.76540243e-03  3.00564498e-01 -5.10827340e-02\n",
      "  8.28842148e-02  9.04728845e-02  1.29208446e-01 -1.23539805e-01\n",
      " -8.35583657e-02  6.28178120e-02  1.15531936e-01  1.16025597e-01\n",
      " -2.77618736e-01 -2.58085549e-01  1.38853550e-01 -2.29244903e-02\n",
      " -1.39271513e-01 -1.15039237e-01 -5.36435656e-02  6.36853725e-02\n",
      "  1.60144165e-01 -1.30487204e-01 -2.52539739e-02 -3.97975534e-01\n",
      " -4.31332812e-02  9.87921059e-02  9.11643282e-02  3.56581318e-03\n",
      "  3.29274535e-02  4.07894664e-02  6.31371066e-02 -2.21967652e-01\n",
      "  1.19033992e+00 -7.09841028e-02 -2.58658677e-01  8.79970267e-02\n",
      " -4.05197367e-02  2.97450453e-01  3.49547595e-01 -2.26055399e-01\n",
      "  2.80170087e-02 -6.66928515e-02 -5.64148910e-02  3.93232852e-02\n",
      " -1.04016572e-01 -8.03431645e-02  1.01528808e-01  1.35052368e-01\n",
      " -4.56661507e-02 -7.33661465e-03 -7.62624368e-02  2.09034070e-01\n",
      " -2.53487118e-02  4.68939170e-02  6.05532043e-02  2.13019904e-02\n",
      " -5.77259921e-02 -4.99795765e-01 -1.46239772e-01 -2.98138648e-01\n",
      " -3.98184396e-02  1.05196424e-02  1.20564319e-01  5.41814193e-02\n",
      " -8.15708712e-02 -6.57801107e-02  1.55048251e-01  5.91435134e-02\n",
      " -2.39083335e-01  1.47725657e-01 -8.67489517e-01 -1.28792122e-01\n",
      " -1.19854361e-01 -1.80708081e-01 -2.66017057e-02 -2.15302274e-01\n",
      " -5.57137951e-02  1.12283388e-02  2.67371479e-02  7.18017071e-02\n",
      " -4.74443406e-01 -1.09696694e-01 -3.84479873e-02  9.12563950e-02\n",
      "  3.25771987e-01  4.64135140e-01 -3.73389833e-02 -1.65298834e-01]\n",
      "[ 7.03424308e-03 -1.09738496e-03 -1.40321190e-02  4.16012667e-02\n",
      " -9.74763464e-03 -2.68655997e-02 -3.01062665e-03  1.57314129e-02\n",
      "  1.55544393e-02 -1.10164974e-02  4.06668708e-02 -1.21267922e-02\n",
      " -1.88235361e-02  4.84025571e-03 -3.78172137e-02 -6.44748658e-02\n",
      "  4.33938131e-02  1.62889231e-02  2.23150142e-02  3.95134874e-02\n",
      "  2.55176565e-03  5.15420921e-03 -7.73015572e-03 -2.87019685e-02\n",
      "  3.63233685e-02  2.56890245e-02 -1.13582499e-02  8.60622525e-03\n",
      "  1.04165273e-02  4.41087559e-02  4.90604015e-03 -3.79764638e-03\n",
      " -2.05511618e-02  1.66840274e-02  2.51192655e-02 -9.00571584e-04\n",
      "  3.22169103e-02  3.55118476e-02 -2.74601486e-02  1.34697100e-02\n",
      " -1.08514922e-02 -2.39663059e-03 -2.54664756e-02  2.15313900e-02\n",
      " -3.27991731e-02  3.86520177e-02 -1.25501743e-02  5.48692979e-03\n",
      "  8.47534649e-03  1.81661900e-02 -1.30840868e-03 -4.02786024e-03\n",
      "  6.48063654e-03 -1.98443104e-02  4.77195438e-03  1.09505542e-02\n",
      "  5.59545867e-03 -1.31429937e-02 -1.65649652e-02 -8.57323641e-04\n",
      " -1.08293202e-02  2.51862332e-02 -1.54944705e-02  4.21977080e-02\n",
      "  1.45250447e-02  9.26128682e-03  1.06581794e-02 -6.66486286e-03\n",
      " -3.20883356e-02 -1.31873130e-05  2.76137367e-02 -1.02078915e-02\n",
      " -1.62117695e-03  7.61571852e-03 -3.75164812e-03  1.39894448e-02\n",
      "  9.19594709e-03  4.20165015e-03 -2.55665556e-02 -4.33006277e-03\n",
      "  7.09963311e-03 -4.62383311e-03 -2.27802321e-02  2.85526598e-03\n",
      "  1.14807468e-02  8.98884330e-03 -1.66697837e-02 -2.03676317e-02\n",
      " -6.61417516e-03  1.47545629e-03  2.30195554e-04 -5.74394222e-03\n",
      " -1.21274749e-02  1.99933560e-03  4.81065288e-02  2.81915907e-03\n",
      "  4.31482568e-02  1.06993457e-02 -8.56780820e-03 -9.96846333e-03\n",
      "  9.94685479e-03 -9.08050803e-04 -1.63595341e-02 -2.74696830e-03\n",
      " -1.84577946e-02  1.72967575e-02  2.88974475e-02  1.82923600e-02\n",
      " -2.15537734e-02 -4.06349031e-03 -3.68699208e-02 -3.77966370e-03\n",
      "  6.52058749e-03 -8.39205645e-03  1.24948725e-04  2.83985119e-02\n",
      " -2.83126198e-02 -3.36432904e-02 -2.06438731e-02 -5.93564124e-04\n",
      " -2.40383074e-02 -5.29864104e-03  2.35977583e-02  4.53632660e-02\n",
      " -2.78780852e-02  4.23667282e-02 -7.26259593e-03 -1.03876572e-02\n",
      "  7.19477655e-04 -2.12356783e-02  1.75468866e-02 -2.23385282e-02\n",
      "  1.80800371e-02 -3.38354590e-03  3.19156125e-02  1.29250837e-02\n",
      " -2.23792866e-02 -4.45658900e-02 -7.17220875e-03  2.40595150e-03\n",
      "  8.06344673e-03 -2.74953563e-02  2.34453473e-02  3.92279588e-03\n",
      " -8.92618764e-03 -2.64332891e-02 -1.96366906e-02  1.94428843e-02\n",
      "  6.20168773e-03 -2.49693228e-04 -2.54201032e-02 -1.34998728e-02\n",
      "  1.86660923e-02 -1.16547709e-02  5.38757257e-03 -2.11557560e-02\n",
      " -7.36562088e-02  2.82806847e-02 -1.28607510e-03 -1.75154500e-03\n",
      "  5.30337507e-04  3.18833976e-03 -2.16835346e-02  3.40847224e-02\n",
      "  1.94020588e-02 -3.25610600e-02  1.81759726e-02 -1.68151408e-02\n",
      "  8.99612159e-03  1.31889526e-02  1.13215549e-02 -9.76260472e-03\n",
      "  3.40560414e-02  1.91725064e-02 -8.23683012e-03 -5.65035152e-04\n",
      "  1.48232083e-03 -4.28344775e-03 -1.49569828e-02 -3.34116854e-02\n",
      "  3.46015161e-03  1.78316738e-02 -6.75624236e-04  3.28205787e-02\n",
      "  2.23501981e-03 -1.93850957e-02 -2.38304632e-03  1.49126295e-02\n",
      "  4.62097628e-03 -1.51129663e-02  2.50395332e-02 -1.71905141e-02\n",
      "  1.17406202e-02  1.20761544e-02  2.24979017e-02  1.02068298e-02\n",
      " -8.70153960e-03  2.84685865e-02  1.04373805e-02  3.91079187e-02\n",
      " -1.62893981e-02  2.69512050e-02 -1.15802325e-02  1.20359221e-02\n",
      " -1.46859186e-02 -5.59697067e-03  1.11612547e-02  2.48753149e-02\n",
      " -2.54909396e-02  4.13941452e-03 -2.47469381e-03 -2.63241846e-02\n",
      " -1.41306305e-02 -5.08882338e-03 -1.27957752e-02 -4.62327478e-03\n",
      " -8.16719886e-03 -2.93521537e-03 -4.06440144e-04  1.50035601e-02\n",
      "  7.10163498e-03 -3.53069999e-03 -2.98397727e-02  3.00022997e-02\n",
      "  1.95965301e-02 -4.92294086e-03 -7.84216635e-03  1.99781707e-03\n",
      "  1.60594907e-04  1.66744757e-02  2.64790189e-02 -3.32360016e-03\n",
      "  1.61785316e-02  5.65442443e-03  3.31717208e-02  9.50180367e-03\n",
      " -3.33925174e-03  1.56865511e-02 -1.31494105e-02  5.37548028e-03\n",
      "  5.20920055e-03 -1.80172548e-02  3.35942358e-02 -1.96993947e-02\n",
      "  4.43213396e-02 -3.01082544e-02 -2.24439063e-04 -8.35745363e-04\n",
      "  9.41725564e-04 -3.84131707e-02  3.07748504e-02 -9.49306972e-03\n",
      "  1.02643454e-02  2.14219000e-02  1.24543672e-03 -1.65516958e-02\n",
      " -1.43507114e-02  1.42289503e-02  8.09154846e-03 -2.71629114e-02\n",
      "  1.37678580e-02 -4.11168160e-03 -5.29765263e-02 -1.88570737e-03\n",
      " -1.95211191e-02 -1.58123039e-02 -4.21199165e-02 -1.73040815e-02\n",
      "  8.35847016e-03  5.81102222e-02 -1.00419018e-02  1.05927475e-02\n",
      " -2.29289811e-02 -4.91704904e-02 -2.54031061e-03  1.62465149e-03\n",
      " -2.99293897e-03 -2.94179507e-02  1.14228120e-02  1.07087456e-02\n",
      " -2.69809226e-03 -1.51207335e-02 -2.20928900e-02  1.26085011e-03\n",
      " -3.78989684e-03 -2.53033210e-02  4.32702713e-03 -4.12921160e-02\n",
      "  3.58557538e-03  3.80818499e-03  2.17265524e-02 -1.01757562e-02\n",
      " -4.64819856e-02 -2.88726091e-02  5.40403835e-03  1.60750318e-02\n",
      "  3.22287418e-02  3.64511125e-02  2.51999367e-02 -2.15459783e-02]\n"
     ]
    }
   ],
   "source": [
    "#print vector of word that should exist\n",
    "print(wv[\"if\"])\n",
    "\n",
    "#print vector of word that should not exist\n",
    "print(wv[\"apdnbajknbäaperoanböajnbäpad\"])"
   ]
  },
  {
   "cell_type": "markdown",
   "metadata": {},
   "source": [
    "## Torch Dataloader and Dataset"
   ]
  },
  {
   "cell_type": "markdown",
   "metadata": {},
   "source": [
    "## Embedding-Based Dataset Implementation\n",
    "\n",
    "For the embedding-based approach, I'm creating a custom PyTorch Dataset class that:\n",
    "\n",
    "1. **Converts text to embeddings**: Transforms questions and answer choices into fixed-length vectors using FastText\n",
    "2. **Implements efficient caching**: Saves computed embeddings to avoid redundant processing, using both in-memory and disk-based caching\n",
    "3. **Handles edge cases**: Properly processes empty sequences, unknown words, and other exceptions\n",
    "4. **Provides formatted tensors**: Returns data in the format expected by the model (question tensor, choices tensor, answer index)\n",
    "\n",
    "I initially experimented with TF-IDF weighting for the embeddings but found that simple averaging works just as fine, it basically made no difference for the model.\n",
    "The caching mechanism significantly speeds up repeated data loading, which is especially important for iterative model development and hyperparameter tuning."
   ]
  },
  {
   "cell_type": "code",
   "execution_count": 18,
   "metadata": {},
   "outputs": [],
   "source": [
    "class CommonsenseQAEmbeddingDataset(Dataset):\n",
    "    \"\"\"Dataset for CommonsenseQA with TF-IDF weighted embeddings and caching capabilities\"\"\"\n",
    "    def __init__(self, hf_dataset, word_vectors, embedding_dim=300, cache_path=None, use_tfidf=True):\n",
    "        self.data = hf_dataset\n",
    "        self.wv = word_vectors\n",
    "        \n",
    "        # Set embedding dimension directly or derive it from a vector\n",
    "        if embedding_dim is not None:\n",
    "            self.embedding_dim = embedding_dim\n",
    "        else:\n",
    "            # Try to infer embedding dimension from a sample vector\n",
    "            # For a dictionary-like structure\n",
    "            if isinstance(word_vectors, dict):\n",
    "                sample_word = next(iter(word_vectors))\n",
    "                self.embedding_dim = len(word_vectors[sample_word])\n",
    "            # For direct numpy arrays\n",
    "            elif hasattr(word_vectors, 'shape') and len(word_vectors.shape) == 2:\n",
    "                self.embedding_dim = word_vectors.shape[1]\n",
    "            else:\n",
    "                raise ValueError(\"Could not determine embedding dimension. Please provide embedding_dim parameter.\")\n",
    "        \n",
    "        self.cache = {}\n",
    "        self.use_tfidf = use_tfidf\n",
    "        self.idf_scores = {}\n",
    "        \n",
    "        # Load cache if provided and exists\n",
    "        if cache_path and os.path.exists(cache_path):\n",
    "            try:\n",
    "                with open(cache_path, 'rb') as f:\n",
    "                    self.cache = pickle.load(f)\n",
    "                print(f\"Loaded {len(self.cache)} cached embeddings\")\n",
    "            except Exception as e:\n",
    "                print(f\"Failed to load cache: {e}\")\n",
    "                self.cache = {}\n",
    "        \n",
    "        # Configure cache_path for saving if provided\n",
    "        self.cache_path = cache_path\n",
    "        \n",
    "        # Calculate IDF scores if using TF-IDF\n",
    "        if use_tfidf:\n",
    "            self._calculate_idf_scores()\n",
    "    \n",
    "    def __len__(self):\n",
    "        return len(self.data)\n",
    "    \n",
    "    def _calculate_idf_scores(self):\n",
    "        \"\"\"Calculate IDF scores for all words in the dataset\"\"\"\n",
    "        print(\"Calculating IDF scores...\")\n",
    "        \n",
    "        # Collect all texts\n",
    "        all_texts = []\n",
    "        for example in tqdm(self.data, desc=\"Collecting texts\"):\n",
    "            all_texts.append(example[\"question\"])\n",
    "            all_texts.extend(example[\"choices\"][\"text\"])\n",
    "        \n",
    "        # Create document-term matrix\n",
    "        doc_term_counts = defaultdict(Counter)\n",
    "        doc_count = len(all_texts)\n",
    "        \n",
    "        for doc_id, text in enumerate(tqdm(all_texts, desc=\"Counting terms\")):\n",
    "            tokens = preprocess_text(text)\n",
    "            # Count each token only once per document\n",
    "            for token in set(tokens):\n",
    "                if token in self.wv:\n",
    "                    doc_term_counts[token][doc_id] += 1\n",
    "        \n",
    "        # Calculate IDF scores: log(N/df) where N is total docs and df is doc frequency\n",
    "        self.idf_scores = {\n",
    "            term: np.log(doc_count / (len(doc_ids) + 1))\n",
    "            for term, doc_ids in doc_term_counts.items()\n",
    "        }\n",
    "        \n",
    "        print(f\"Calculated IDF scores for {len(self.idf_scores)} terms\")\n",
    "    \n",
    "    @functools.lru_cache(maxsize=1024)\n",
    "    def get_embedding(self, text):\n",
    "        \"\"\"Get embedding for text with TF-IDF weighting and caching for efficiency\"\"\"\n",
    "        # Check if already in cache\n",
    "        if text in self.cache:\n",
    "            return self.cache[text]\n",
    "        \n",
    "        # If not in cache, compute embedding\n",
    "        try:\n",
    "            tokens = preprocess_text(text)\n",
    "            # Filter tokens to only those in vocabulary\n",
    "            valid_tokens = [word for word in tokens if word in self.wv]\n",
    "            \n",
    "            if not valid_tokens:\n",
    "                # Return zeros if no valid tokens\n",
    "                embedding = np.zeros(self.embedding_dim)\n",
    "            else:\n",
    "                if self.use_tfidf:\n",
    "                    # Calculate term frequencies for this text\n",
    "                    term_counts = Counter(valid_tokens)\n",
    "                    # Get TF-IDF weights\n",
    "                    weights = np.array([\n",
    "                        term_counts[term] * self.idf_scores.get(term, 0.0) \n",
    "                        for term in valid_tokens\n",
    "                    ])\n",
    "                    # Normalize weights to prevent numerical issues\n",
    "                    sum_weights = weights.sum()\n",
    "                    if sum_weights > 0:\n",
    "                        weights = weights / sum_weights\n",
    "                    \n",
    "                    # Calculate weighted average of word vectors\n",
    "                    word_vectors = np.array([self.wv[word] for word in valid_tokens])\n",
    "                    embedding = np.sum(word_vectors * weights[:, np.newaxis], axis=0)\n",
    "                else:\n",
    "                    # Use simple mean if not using TF-IDF\n",
    "                    word_vectors = [self.wv[word] for word in valid_tokens]\n",
    "                    embedding = np.mean(word_vectors, axis=0)\n",
    "            \n",
    "            # Store in cache\n",
    "            self.cache[text] = embedding\n",
    "            return embedding\n",
    "            \n",
    "        except Exception as e:\n",
    "            print(f\"Error embedding text '{text[:30]}...': {e}\")\n",
    "            # Return zeros on error\n",
    "            return np.zeros(self.embedding_dim)\n",
    "\n",
    "    def __getitem__(self, idx):\n",
    "        example = self.data[idx]\n",
    "        \n",
    "        # Get question embedding\n",
    "        question_embedding = self.get_embedding(example[\"question\"])\n",
    "        \n",
    "        # Get choice embeddings\n",
    "        choice_embeddings = [self.get_embedding(choice) for choice in example[\"choices\"][\"text\"]]\n",
    "        \n",
    "        # Convert answer key to index (A->0, B->1, etc.)\n",
    "        answer_index = ord(example[\"answerKey\"]) - ord(\"A\")\n",
    "        \n",
    "        # Convert to PyTorch tensors\n",
    "        question_tensor = torch.tensor(question_embedding).float()\n",
    "        choices_tensor = torch.tensor(choice_embeddings).float()\n",
    "        answer_tensor = torch.tensor(answer_index).long()\n",
    "        \n",
    "        return question_tensor, choices_tensor, answer_tensor\n",
    "    \n",
    "    def save_cache(self):\n",
    "        \"\"\"Save embedding cache to disk if cache_path is set\"\"\"\n",
    "        if self.cache_path:\n",
    "            with open(self.cache_path, 'wb') as f:\n",
    "                pickle.dump(self.cache, f)\n",
    "            print(f\"Saved {len(self.cache)} embeddings to cache\")"
   ]
  },
  {
   "cell_type": "code",
   "execution_count": 19,
   "metadata": {},
   "outputs": [],
   "source": [
    "class NormalizedEmbeddingDataset(torch.utils.data.Dataset):\n",
    "    def __init__(self, base_dataset):\n",
    "        self.base_dataset = base_dataset\n",
    "    \n",
    "    def __len__(self):\n",
    "        return len(self.base_dataset)\n",
    "    \n",
    "    def __getitem__(self, idx):\n",
    "        question, choices, answer = self.base_dataset[idx]\n",
    "        \n",
    "        # L2 normalize question embedding\n",
    "        question_norm = torch.norm(question, p=2)\n",
    "        if question_norm > 0:\n",
    "            question = question / question_norm\n",
    "        \n",
    "        # L2 normalize each choice embedding\n",
    "        normalized_choices = choices.clone()\n",
    "        for i in range(choices.size(0)):\n",
    "            choice_norm = torch.norm(choices[i], p=2)\n",
    "            if choice_norm > 0:\n",
    "                normalized_choices[i] = choices[i] / choice_norm\n",
    "        \n",
    "        return question, normalized_choices, answer"
   ]
  },
  {
   "cell_type": "markdown",
   "metadata": {},
   "source": [
    "## Creating Data Loaders\n",
    "\n",
    "I'm configuring PyTorch DataLoaders with specific settings to optimize training efficiency:\n",
    "\n",
    "1. **Batch size selection**: Using a batch size of 128 for the embedding model to balance between:\n",
    "   - Memory efficiency (larger batches use more memory)\n",
    "   - Computational efficiency (larger batches enable more parallelism)\n",
    "   - Training dynamics (smaller batches can provide more frequent updates)\n",
    "\n",
    "2. **Data loading optimization**: \n",
    "   - Enabling shuffling for training data to prevent the model from learning order-based patterns\n",
    "   - Using multiple worker processes (num_workers=4) to parallelize data loading\n",
    "   - Enabling pin_memory=True to accelerate CPU-to-GPU transfers\n",
    "\n",
    "These settings were determined after experimenting with various configurations. I found that larger batch sizes (256+) didn't improve performance significantly but increased memory usage, while smaller batches (32-64) slowed down training without offering clear benefits for this particular task."
   ]
  },
  {
   "cell_type": "code",
   "execution_count": 20,
   "metadata": {},
   "outputs": [
    {
     "name": "stdout",
     "output_type": "stream",
     "text": [
      "Calculating IDF scores...\n"
     ]
    },
    {
     "name": "stderr",
     "output_type": "stream",
     "text": [
      "Collecting texts: 100%|██████████| 8741/8741 [00:00<00:00, 41445.28it/s]\n",
      "Counting terms: 100%|██████████| 52446/52446 [00:01<00:00, 29290.21it/s]\n"
     ]
    },
    {
     "name": "stdout",
     "output_type": "stream",
     "text": [
      "Calculated IDF scores for 12015 terms\n",
      "Calculating IDF scores...\n"
     ]
    },
    {
     "name": "stderr",
     "output_type": "stream",
     "text": [
      "Collecting texts: 100%|██████████| 1000/1000 [00:00<00:00, 41091.22it/s]\n",
      "Counting terms: 100%|██████████| 6000/6000 [00:00<00:00, 29581.20it/s]"
     ]
    },
    {
     "name": "stdout",
     "output_type": "stream",
     "text": [
      "Calculated IDF scores for 4346 terms\n"
     ]
    },
    {
     "name": "stderr",
     "output_type": "stream",
     "text": [
      "\n"
     ]
    }
   ],
   "source": [
    "import random\n",
    "\n",
    "train_dataset = CommonsenseQAEmbeddingDataset(\n",
    "    train, \n",
    "    wv,\n",
    "    embedding_dim=300,\n",
    "    cache_path='train_tfidf_embeddings.pkl',\n",
    "    use_tfidf=True\n",
    ")\n",
    "\n",
    "valid_dataset = CommonsenseQAEmbeddingDataset(\n",
    "    valid, \n",
    "    wv,\n",
    "    embedding_dim=300,\n",
    "    cache_path='valid_tfidf_embeddings.pkl',\n",
    "    use_tfidf=True\n",
    ")\n",
    "\n",
    "class AugmentedEmbeddingDataset(torch.utils.data.Dataset):\n",
    "    def __init__(self, base_dataset, noise_scale=0.01):\n",
    "        self.base_dataset = base_dataset\n",
    "        self.noise_scale = noise_scale\n",
    "    \n",
    "    def __len__(self):\n",
    "        return len(self.base_dataset)\n",
    "    \n",
    "    def __getitem__(self, idx):\n",
    "        question, choices, answer = self.base_dataset[idx]\n",
    "        \n",
    "        # Add small Gaussian noise (20% of the time)\n",
    "        if random.random() < 0.2:\n",
    "            question = question + torch.randn_like(question) * self.noise_scale\n",
    "            choices = choices + torch.randn_like(choices) * self.noise_scale\n",
    "        \n",
    "        return question, choices, answer\n",
    "\n",
    "normalized_train_dataset = NormalizedEmbeddingDataset(train_dataset)\n",
    "normalized_valid_dataset = NormalizedEmbeddingDataset(valid_dataset)\n",
    "\n",
    "# Wrap your training dataset with augmentation\n",
    "augmented_train_dataset = AugmentedEmbeddingDataset(normalized_train_dataset, noise_scale=0.01)\n",
    "\n",
    "# Create DataLoaders with appropriate batch sizes\n",
    "train_loader = DataLoader(\n",
    "    augmented_train_dataset,\n",
    "    batch_size=512,  # Smaller batch size\n",
    "    shuffle=True,\n",
    "    num_workers=4,\n",
    "    pin_memory=True\n",
    ")\n",
    "\n",
    "valid_loader = DataLoader(\n",
    "    normalized_valid_dataset,\n",
    "    batch_size=1024,  # Can be larger for validation\n",
    "    shuffle=False,\n",
    "    num_workers=4,\n",
    "    pin_memory=True\n",
    ")"
   ]
  },
  {
   "cell_type": "markdown",
   "metadata": {},
   "source": [
    "## RNN Dataset Implementation\n",
    "\n",
    "For the RNN approach, I'm implementing a specialized dataset class that:\n",
    "\n",
    "1. **Preserves sequence structure**: Unlike the embedding approach, this maintains token sequences for processing by RNNs\n",
    "\n",
    "2. **Builds a vocabulary**: Creates a word-to-index mapping including:\n",
    "   - Special tokens (PAD, UNK, SEP) with reserved indices\n",
    "   - Words from the dataset that appear in FastText vocabulary\n",
    "\n",
    "3. **Handles question-choice pairing**: Combines each question with each answer choice, separated by a special token, creating five sequences per example\n",
    "\n",
    "4. **Implements sequence processing**:\n",
    "   - Tokenizes text\n",
    "   - Converts tokens to indices\n",
    "   - Truncates if exceeding maximum length (50 tokens)\n",
    "   - Tracks sequence lengths for proper handling in the model\n",
    "\n",
    "5. **Provides embedding initialization**: Creates an embedding matrix initialized with FastText vectors for known words\n",
    "\n",
    "This approach requires more complex data processing than the embedding model but enables the model to learn from sequential information. I experimented with other sequence representations (processing questions and choices separately, using different separator tokens) but found this approach most effective for the RNN architecture."
   ]
  },
  {
   "cell_type": "code",
   "execution_count": 21,
   "metadata": {},
   "outputs": [],
   "source": [
    "class CommonsenseQARNNDataset(Dataset):\n",
    "    \"\"\"RNN dataset that precomputes all embeddings\"\"\"\n",
    "    def __init__(self, hf_dataset, word_vectors, embedding_dim=300):\n",
    "        self.data = hf_dataset\n",
    "        self.wv = word_vectors\n",
    "        self.embedding_dim = embedding_dim\n",
    "        \n",
    "        # Special tokens (as simple identifier strings)\n",
    "        self.SEP_TOKEN = \"<SEP>\"\n",
    "        \n",
    "    def __len__(self):\n",
    "        return len(self.data)\n",
    "    \n",
    "    def __getitem__(self, idx):\n",
    "        example = self.data[idx]\n",
    "        \n",
    "        # Tokenize question and choices\n",
    "        question_tokens = preprocess_text(example[\"question\"])\n",
    "        choice_tokens = [preprocess_text(choice) for choice in example[\"choices\"][\"text\"]]\n",
    "        \n",
    "        # Create all question-choice pairs\n",
    "        sequences = []\n",
    "        for choice_idx, choice in enumerate(choice_tokens):\n",
    "            # Combine question and choice with separator\n",
    "            sequence = question_tokens + [self.SEP_TOKEN] + choice\n",
    "            \n",
    "            # Convert tokens to embeddings\n",
    "            embeddings = []\n",
    "            for token in sequence:\n",
    "                if token == self.SEP_TOKEN:\n",
    "                    # Use random embedding for separator\n",
    "                    embeddings.append(torch.randn(self.embedding_dim) * 0.1)\n",
    "                else:\n",
    "                    # Use pretrained embedding\n",
    "                    try:\n",
    "                        embeddings.append(torch.tensor(self.wv[token]))\n",
    "                    except KeyError:\n",
    "                        # For OOV words, use random embedding\n",
    "                        embeddings.append(torch.randn(self.embedding_dim) * 0.1)\n",
    "            \n",
    "            # Stack embeddings into a tensor\n",
    "            sequence_tensor = torch.stack(embeddings)\n",
    "            sequences.append(sequence_tensor)\n",
    "            \n",
    "        # Convert answer key to index\n",
    "        answer_index = ord(example[\"answerKey\"]) - ord(\"A\")\n",
    "        answer = torch.tensor(answer_index, dtype=torch.long)\n",
    "        \n",
    "        return sequences, torch.tensor([len(seq) for seq in sequences]), answer"
   ]
  },
  {
   "cell_type": "markdown",
   "metadata": {},
   "source": [
    "## RNN Batch Collation\n",
    "\n",
    "The RNN model requires special handling for batching since it processes sequences of variable length. I'm implementing a custom collate function that:\n",
    "\n",
    "1. **Maintains list structure**: Keeps the nested structure of sequences for each example and choice\n",
    "\n",
    "2. **Preserves sequence lengths**: Retains original length information for proper packing/padding in the model\n",
    "\n",
    "3. **Enables batch processing**: Returns data in a format that allows efficient batch processing by the RNN model\n",
    "\n",
    "This approach differs from standard PyTorch collation, which would pad all sequences to the same length. Instead, I'm deferring padding to the model's forward pass, where more intelligent padding and packing can be applied based on which sequences are being processed together.\n",
    "\n",
    "I experimented with more standard approaches (padding all sequences in the batch to the same length) but found they were less efficient for this specific task structure with five separate sequences per example."
   ]
  },
  {
   "cell_type": "code",
   "execution_count": 22,
   "metadata": {},
   "outputs": [],
   "source": [
    "def rnn_collate_batch(batch):\n",
    "    \"\"\"Collate function that handles processing all choices together\"\"\"\n",
    "    all_sequences = []\n",
    "    all_lengths = []\n",
    "    all_answers = []\n",
    "    \n",
    "    for sequences, lengths, answer in batch:\n",
    "        all_sequences.extend(sequences)  # Flatten all sequences\n",
    "        all_lengths.append(lengths)\n",
    "        all_answers.append(answer)\n",
    "    \n",
    "    # Sort by length for efficient packing\n",
    "    sorted_indices = torch.argsort(torch.cat(all_lengths), descending=True)\n",
    "    sorted_sequences = [all_sequences[i] for i in sorted_indices]\n",
    "    \n",
    "    # Get the original positions to rearrange later\n",
    "    batch_size = len(batch)\n",
    "    num_choices = len(batch[0][0])  # Number of choices per example\n",
    "    original_indices = torch.arange(len(sorted_indices)).view(batch_size, num_choices)\n",
    "    new_indices = torch.zeros_like(original_indices)\n",
    "    \n",
    "    for i, idx in enumerate(sorted_indices):\n",
    "        batch_idx = idx // num_choices\n",
    "        choice_idx = idx % num_choices\n",
    "        new_indices[batch_idx, choice_idx] = i\n",
    "    \n",
    "    # Pad sequences\n",
    "    padded_sequences = pad_sequence(sorted_sequences, batch_first=True)\n",
    "    \n",
    "    # Get lengths of sorted sequences\n",
    "    sorted_lengths = torch.tensor([len(seq) for seq in sorted_sequences])\n",
    "    \n",
    "    # Stack answers\n",
    "    answers_tensor = torch.stack(all_answers)\n",
    "    \n",
    "    return padded_sequences, sorted_lengths, new_indices, answers_tensor"
   ]
  },
  {
   "cell_type": "markdown",
   "metadata": {},
   "source": [
    "## RNN Data Loader Configuration\n",
    "\n",
    "I'm configuring the RNN data loaders with parameters optimized for sequence processing:\n",
    "\n",
    "1. **Batch size**: Using a batch size of 64 (smaller than for the embedding model) because:\n",
    "   - RNN processing is more memory-intensive due to sequential state tracking\n",
    "   - Sequence padding creates memory overhead for batched processing\n",
    "   - Gradient updates can benefit from more frequent updates with sequence data\n",
    "\n",
    "2. **Performance optimization**:\n",
    "   - Using 4 worker processes to parallelize data loading\n",
    "   - Enabling pin_memory for faster CPU-to-GPU transfers\n",
    "   - Using the custom collate function for efficient sequence handling\n",
    "\n",
    "These settings were determined through experimentation, balancing training speed with memory constraints. I initially tried larger batch sizes (128+) but encountered memory issues on my available GPU, while very small batches (16-32) made training unnecessarily slow."
   ]
  },
  {
   "cell_type": "code",
   "execution_count": 23,
   "metadata": {},
   "outputs": [
    {
     "name": "stdout",
     "output_type": "stream",
     "text": [
      "Sample question has 5 choices\n",
      "Choice 1: 26 tokens\n",
      "Choice 2: 26 tokens\n",
      "Choice 3: 26 tokens\n",
      "Choice 4: 27 tokens\n",
      "Choice 5: 26 tokens\n",
      "Correct answer: 0\n"
     ]
    }
   ],
   "source": [
    "train_rnn_dataset = CommonsenseQARNNDataset(\n",
    "    train, \n",
    "    wv,\n",
    "    embedding_dim=300\n",
    ")\n",
    "\n",
    "valid_rnn_dataset = CommonsenseQARNNDataset(\n",
    "    valid, \n",
    "    wv,\n",
    "    embedding_dim=300\n",
    ")\n",
    "# Check dataset sample\n",
    "sample_idx = 0\n",
    "sequences, lengths, answer = train_rnn_dataset[sample_idx]\n",
    "print(f\"Sample question has {len(sequences)} choices\")\n",
    "for i, (seq, length) in enumerate(zip(sequences, lengths)):\n",
    "    print(f\"Choice {i+1}: {length} tokens\")\n",
    "print(f\"Correct answer: {answer.item()}\")\n"
   ]
  },
  {
   "cell_type": "code",
   "execution_count": 24,
   "metadata": {},
   "outputs": [
    {
     "name": "stdout",
     "output_type": "stream",
     "text": [
      "Created train loader with 69 batches\n",
      "Created validation loader with 4 batches\n"
     ]
    }
   ],
   "source": [
    "train_rnn_loader = DataLoader(\n",
    "    train_rnn_dataset,\n",
    "    batch_size=128,  # Larger batch size for better GPU utilization\n",
    "    shuffle=True,\n",
    "    collate_fn=rnn_collate_batch,\n",
    "    num_workers=4,  # Increase workers for better CPU utilization\n",
    "    pin_memory=True  # Speed up transfer to GPU\n",
    ")\n",
    "\n",
    "valid_rnn_loader = DataLoader(\n",
    "    valid_rnn_dataset,\n",
    "    batch_size=256,  # Larger batch size\n",
    "    shuffle=False,\n",
    "    collate_fn=rnn_collate_batch,\n",
    "    num_workers=4,\n",
    "    pin_memory=True\n",
    ")\n",
    "\n",
    "print(f\"Created train loader with {len(train_rnn_loader)} batches\")\n",
    "print(f\"Created validation loader with {len(valid_rnn_loader)} batches\")"
   ]
  },
  {
   "cell_type": "markdown",
   "metadata": {},
   "source": [
    "# Model"
   ]
  },
  {
   "cell_type": "markdown",
   "metadata": {},
   "source": [
    "## Embedding Model for CommonsenseQA\n",
    "\n",
    "I've implemented a QA classifier model that uses an attention mechanism to better capture the relationship between questions and answer choices.\n",
    "\n",
    "The model processes inputs by:\n",
    "1. Projecting the question embedding into a hidden representation\n",
    "2. Projecting each of the five choice embeddings into the same hidden space\n",
    "3. Computing attention weights between the question and each choice\n",
    "4. Applying these weights to emphasize important aspects of the choices\n",
    "5. Concatenating question and weighted choice representations\n",
    "6. Making the final prediction through fully-connected layers\n",
    "\n",
    "I've chosen to use AdamW as my optimizer with a learning rate scheduler to automatically adjust the learning rate during training. This combination helps the model converge to better solutions more efficiently.\n",
    "\n",
    "For the activation functions, I use ReLU in the projection layers and LeakyReLU in the classification layers to help with smoother gradient flow throughout the network."
   ]
  },
  {
   "cell_type": "code",
   "execution_count": 25,
   "metadata": {},
   "outputs": [],
   "source": [
    "class QASimpleClassifier(nn.Module):\n",
    "    def __init__(self, embedding_dim, hidden_dim=256, dropout_rate=0.2):\n",
    "        super(QASimpleClassifier, self).__init__()\n",
    "        \n",
    "        self.embedding_dim = embedding_dim\n",
    "        self.hidden_dim = hidden_dim\n",
    "        \n",
    "        # Improved projection layers with intermediate sizes\n",
    "        self.question_projection = nn.Sequential(\n",
    "            nn.Linear(embedding_dim, hidden_dim),\n",
    "            nn.BatchNorm1d(hidden_dim),\n",
    "            nn.ReLU(),\n",
    "            nn.Dropout(dropout_rate)\n",
    "        )\n",
    "        \n",
    "        self.choice_projection = nn.Sequential(\n",
    "            nn.Linear(embedding_dim, hidden_dim),\n",
    "            nn.BatchNorm1d(hidden_dim),\n",
    "            nn.ReLU(),\n",
    "            nn.Dropout(dropout_rate)\n",
    "        )\n",
    "        \n",
    "        # Maintain 2-layer architecture with better feature interaction\n",
    "        self.fc1 = nn.Linear(2 * hidden_dim, hidden_dim)\n",
    "        self.bn_fc1 = nn.BatchNorm1d(hidden_dim)\n",
    "        self.fc2 = nn.Linear(hidden_dim, 1)\n",
    "        \n",
    "        # Moderate dropout\n",
    "        self.dropout = nn.Dropout(dropout_rate)\n",
    "        self.activation = nn.ReLU()\n",
    "        \n",
    "        # Initialize with better scale\n",
    "        self._initialize_weights()\n",
    "    \n",
    "    def _initialize_weights(self):\n",
    "        for m in self.modules():\n",
    "            if isinstance(m, nn.Linear):\n",
    "                nn.init.kaiming_uniform_(m.weight, a=0, mode='fan_in', nonlinearity='relu')\n",
    "                if m.bias is not None:\n",
    "                    nn.init.constant_(m.bias, 0)\n",
    "    \n",
    "    def forward(self, question, choices):\n",
    "        batch_size, num_choices, _ = choices.size()\n",
    "        \n",
    "        # Process question\n",
    "        projected_question = self.question_projection[0](question)  # Linear\n",
    "        projected_question = self.question_projection[1](projected_question)  # BatchNorm\n",
    "        projected_question = self.question_projection[2](projected_question)  # ReLU\n",
    "        projected_question = self.question_projection[3](projected_question)  # Dropout\n",
    "        \n",
    "        # Process choices\n",
    "        choices_flat = choices.view(batch_size * num_choices, -1)\n",
    "        projected_choices = self.choice_projection[0](choices_flat)  # Linear\n",
    "        projected_choices = self.choice_projection[1](projected_choices)  # BatchNorm\n",
    "        projected_choices = self.choice_projection[2](projected_choices)  # ReLU\n",
    "        projected_choices = self.choice_projection[3](projected_choices)  # Dropout\n",
    "        \n",
    "        # Reshape choices back\n",
    "        projected_choices = projected_choices.view(batch_size, num_choices, -1)\n",
    "        \n",
    "        # Expand question to match choices dimension\n",
    "        question_expanded = projected_question.unsqueeze(1).expand(-1, num_choices, -1)\n",
    "        \n",
    "        # Concatenate\n",
    "        combined = torch.cat((question_expanded, projected_choices), dim=2)\n",
    "        \n",
    "        # First layer\n",
    "        x = self.fc1(combined)\n",
    "        x_flat = x.view(batch_size * num_choices, -1)\n",
    "        x_flat = self.bn_fc1(x_flat)\n",
    "        x_flat = self.activation(x_flat)\n",
    "        x_flat = self.dropout(x_flat)\n",
    "        x = x_flat.view(batch_size, num_choices, -1)\n",
    "        \n",
    "        # Output layer\n",
    "        x = self.fc2(x)\n",
    "        \n",
    "        return x.squeeze(-1)"
   ]
  },
  {
   "cell_type": "code",
   "execution_count": 26,
   "metadata": {},
   "outputs": [
    {
     "name": "stdout",
     "output_type": "stream",
     "text": [
      "Using device: cuda\n",
      "QASimpleClassifier(\n",
      "  (question_projection): Sequential(\n",
      "    (0): Linear(in_features=300, out_features=64, bias=True)\n",
      "    (1): BatchNorm1d(64, eps=1e-05, momentum=0.1, affine=True, track_running_stats=True)\n",
      "    (2): ReLU()\n",
      "    (3): Dropout(p=0.2, inplace=False)\n",
      "  )\n",
      "  (choice_projection): Sequential(\n",
      "    (0): Linear(in_features=300, out_features=64, bias=True)\n",
      "    (1): BatchNorm1d(64, eps=1e-05, momentum=0.1, affine=True, track_running_stats=True)\n",
      "    (2): ReLU()\n",
      "    (3): Dropout(p=0.2, inplace=False)\n",
      "  )\n",
      "  (fc1): Linear(in_features=128, out_features=64, bias=True)\n",
      "  (bn_fc1): BatchNorm1d(64, eps=1e-05, momentum=0.1, affine=True, track_running_stats=True)\n",
      "  (fc2): Linear(in_features=64, out_features=1, bias=True)\n",
      "  (dropout): Dropout(p=0.2, inplace=False)\n",
      "  (activation): ReLU()\n",
      ")\n"
     ]
    }
   ],
   "source": [
    "# Instantiate the model with improved parameters\n",
    "embedding_dim = 300\n",
    "hidden_dim = 64  # Start with a reasonable size\n",
    "dropout_rate = 0.2  # Moderate dropout\n",
    "\n",
    "# Create model\n",
    "qa_model = QASimpleClassifier(\n",
    "    embedding_dim=embedding_dim,\n",
    "    hidden_dim=hidden_dim,\n",
    "    dropout_rate=dropout_rate\n",
    ")\n",
    "\n",
    "# Move model to device\n",
    "device = torch.device(\"cuda\" if torch.cuda.is_available() else \"cpu\")\n",
    "print(f\"Using device: {device}\")\n",
    "qa_model = qa_model.to(device)\n",
    "\n",
    "print(qa_model)"
   ]
  },
  {
   "cell_type": "markdown",
   "metadata": {},
   "source": [
    "## RNN Model Architecture\n",
    "\n",
    "I'm implementing a sequential neural network architecture specially designed for processing question-answer pairs:\n",
    "\n",
    "1. **Embedding layer**: Converts token indices to dense vectors\n",
    "   - Initialized with pre-trained FastText embeddings\n",
    "   - Includes special handling for padding tokens (zero vector)\n",
    "\n",
    "2. **Bidirectional LSTM**: Processes sequences in both directions to capture:\n",
    "   - Forward contextual information (words preceding each position)\n",
    "   - Backward contextual information (words following each position)\n",
    "   - Configuration: 2 layers, hidden size of 128, with dropout between layers\n",
    "\n",
    "3. **Classification head**: Two-layer neural network that:\n",
    "   - Takes the concatenated final hidden states from both LSTM directions\n",
    "   - Processes through a hidden layer with ReLU activation and dropout\n",
    "   - Outputs a scalar score for each question-choice pair\n",
    "\n",
    "4. **Efficient batching logic**: Processes all examples for a single choice at once, then combines results\n",
    "\n",
    "This architecture implements the project requirements for a 2-layer LSTM and 2-layer classifier. After experimenting with various configurations, I found that this arrangement offers the best balance between model capacity and computational efficiency.\n",
    "\n",
    "I tested different LSTM configurations (varying layers, hidden dimensions, and unidirectional vs. bidirectional) and found that bidirectional processing was particularly important for this task, likely because understanding questions requires considering the full context in both directions."
   ]
  },
  {
   "cell_type": "code",
   "execution_count": 27,
   "metadata": {},
   "outputs": [],
   "source": [
    "class QARNNModel(nn.Module):\n",
    "    \"\"\"RNN model with direct embedding input\"\"\"\n",
    "    def __init__(self, embedding_dim, hidden_dim=128, num_choices=5, dropout_rate=0.2):\n",
    "        super(QARNNModel, self).__init__()\n",
    "        \n",
    "        self.embedding_dim = embedding_dim\n",
    "        self.hidden_dim = hidden_dim\n",
    "        self.num_choices = num_choices\n",
    "        \n",
    "        # 2-layer bidirectional LSTM\n",
    "        self.lstm = nn.LSTM(\n",
    "            input_size=embedding_dim,\n",
    "            hidden_size=hidden_dim,\n",
    "            num_layers=2,\n",
    "            batch_first=True,\n",
    "            dropout=dropout_rate,\n",
    "            bidirectional=True\n",
    "        )\n",
    "        \n",
    "        # Classification head\n",
    "        lstm_output_dim = hidden_dim * 2  # bidirectional = *2\n",
    "        self.classifier = nn.Sequential(\n",
    "            nn.Linear(lstm_output_dim, hidden_dim),\n",
    "            nn.ReLU(),\n",
    "            nn.Dropout(dropout_rate),\n",
    "            nn.Linear(hidden_dim, 1)\n",
    "        )\n",
    "    \n",
    "    def forward(self, padded_sequences, sequence_lengths, indices):\n",
    "        \"\"\"Process all sequences together and then reshape for classification\"\"\"\n",
    "        batch_size = indices.size(0)\n",
    "        \n",
    "        # Pack padded sequences\n",
    "        packed = pack_padded_sequence(\n",
    "            padded_sequences, \n",
    "            sequence_lengths.cpu(), \n",
    "            batch_first=True,\n",
    "            enforce_sorted=True\n",
    "        )\n",
    "        \n",
    "        # Run through LSTM\n",
    "        _, (hidden, _) = self.lstm(packed)\n",
    "        \n",
    "        # Get final hidden states from both directions\n",
    "        final_hidden = torch.cat([hidden[-2], hidden[-1]], dim=1)\n",
    "        \n",
    "        # Process through classifier\n",
    "        logits = self.classifier(final_hidden).squeeze(-1)\n",
    "        \n",
    "        # Rearrange back to original order\n",
    "        all_logits = torch.zeros(batch_size, self.num_choices, device=padded_sequences.device)\n",
    "        for batch_idx in range(batch_size):\n",
    "            for choice_idx in range(self.num_choices):\n",
    "                all_logits[batch_idx, choice_idx] = logits[indices[batch_idx, choice_idx]]\n",
    "        \n",
    "        return all_logits"
   ]
  },
  {
   "cell_type": "markdown",
   "metadata": {},
   "source": [
    "# Training"
   ]
  },
  {
   "cell_type": "markdown",
   "metadata": {},
   "source": [
    "Initialize Weights & Biases experiment tracking"
   ]
  },
  {
   "cell_type": "code",
   "execution_count": 28,
   "metadata": {},
   "outputs": [
    {
     "name": "stderr",
     "output_type": "stream",
     "text": [
      "\u001b[34m\u001b[1mwandb\u001b[0m: Using wandb-core as the SDK backend.  Please refer to https://wandb.me/wandb-core for more information.\n"
     ]
    },
    {
     "name": "stderr",
     "output_type": "stream",
     "text": [
      "\u001b[34m\u001b[1mwandb\u001b[0m: Currently logged in as: \u001b[33mnevin-helfenstein\u001b[0m (\u001b[33mnevinhelfenstein-hslu-nlp-fs25\u001b[0m) to \u001b[32mhttps://api.wandb.ai\u001b[0m. Use \u001b[1m`wandb login --relogin`\u001b[0m to force relogin\n"
     ]
    },
    {
     "data": {
      "text/plain": [
       "True"
      ]
     },
     "execution_count": 28,
     "metadata": {},
     "output_type": "execute_result"
    }
   ],
   "source": [
    "wandb.login()"
   ]
  },
  {
   "cell_type": "code",
   "execution_count": 29,
   "metadata": {},
   "outputs": [
    {
     "data": {
      "text/html": [
       "Tracking run with wandb version 0.19.8"
      ],
      "text/plain": [
       "<IPython.core.display.HTML object>"
      ]
     },
     "metadata": {},
     "output_type": "display_data"
    },
    {
     "data": {
      "text/html": [
       "Run data is saved locally in <code>/home/nevin/projects/HSLU.NLP/course_project/wandb/run-20250405_000509-5eohexcw</code>"
      ],
      "text/plain": [
       "<IPython.core.display.HTML object>"
      ]
     },
     "metadata": {},
     "output_type": "display_data"
    },
    {
     "data": {
      "text/html": [
       "Syncing run <strong><a href='https://wandb.ai/nevinhelfenstein-hslu-nlp-fs25/hslu-fs25-nlp-embedding-qa/runs/5eohexcw' target=\"_blank\">optimized-qa-classifier-2025-04-05T00:05:09</a></strong> to <a href='https://wandb.ai/nevinhelfenstein-hslu-nlp-fs25/hslu-fs25-nlp-embedding-qa' target=\"_blank\">Weights & Biases</a> (<a href='https://wandb.me/developer-guide' target=\"_blank\">docs</a>)<br>"
      ],
      "text/plain": [
       "<IPython.core.display.HTML object>"
      ]
     },
     "metadata": {},
     "output_type": "display_data"
    },
    {
     "data": {
      "text/html": [
       " View project at <a href='https://wandb.ai/nevinhelfenstein-hslu-nlp-fs25/hslu-fs25-nlp-embedding-qa' target=\"_blank\">https://wandb.ai/nevinhelfenstein-hslu-nlp-fs25/hslu-fs25-nlp-embedding-qa</a>"
      ],
      "text/plain": [
       "<IPython.core.display.HTML object>"
      ]
     },
     "metadata": {},
     "output_type": "display_data"
    },
    {
     "data": {
      "text/html": [
       " View run at <a href='https://wandb.ai/nevinhelfenstein-hslu-nlp-fs25/hslu-fs25-nlp-embedding-qa/runs/5eohexcw' target=\"_blank\">https://wandb.ai/nevinhelfenstein-hslu-nlp-fs25/hslu-fs25-nlp-embedding-qa/runs/5eohexcw</a>"
      ],
      "text/plain": [
       "<IPython.core.display.HTML object>"
      ]
     },
     "metadata": {},
     "output_type": "display_data"
    }
   ],
   "source": [
    "embedding_run = wandb.init(\n",
    "  project=\"hslu-fs25-nlp-embedding-qa\",\n",
    "  entity=\"nevinhelfenstein-hslu-nlp-fs25\",\n",
    "  name=f\"optimized-qa-classifier-{datetime.now().strftime('%Y-%m-%dT%H:%M:%S')}\",\n",
    "  config={\n",
    "    \"model\": \"qa_simple_classifier\",\n",
    "    \"embedding_dim\": embedding_dim,\n",
    "    \"hidden_dim\": hidden_dim,\n",
    "    \"batch_size\": 256,  # Smaller batch size\n",
    "    \"epochs\": 30,\n",
    "    \"dropout_rate\": dropout_rate,\n",
    "    \"weight_decay\": 1e-5,  # Very light weight decay\n",
    "    \"label_smoothing\": 0.0,  # No label smoothing initially\n",
    "    \"gradient_clipping\": 1.0,\n",
    "    \"max_lr\": 0.001,\n",
    "  },\n",
    "  reinit=True,\n",
    ")"
   ]
  },
  {
   "cell_type": "code",
   "execution_count": 30,
   "metadata": {},
   "outputs": [],
   "source": [
    "wandb.watch(qa_model, log=\"all\")"
   ]
  },
  {
   "cell_type": "markdown",
   "metadata": {},
   "source": [
    "## Embedding Model Training Procedure\n",
    "\n",
    "My training procedure includes several optimizations and best practices:\n",
    "\n",
    "1. **Optimizer selection**: Using Adam optimizer with carefully tuned parameters:\n",
    "   - Learning rate of 1e-3 (after testing values from 1e-4 to 1e-2)\n",
    "   - Weight decay of 1e-5 for L2 regularization to prevent overfitting\n",
    "   \n",
    "2. **Learning rate scheduling**: Implementing ReduceLROnPlateau scheduler to:\n",
    "   - Reduce learning rate when validation performance plateaus\n",
    "   - Enable coarse-to-fine parameter optimization\n",
    "   - Avoid local minima\n",
    "\n",
    "3. **Regularization techniques**:\n",
    "   - Dropout (rate=0.2) to prevent co-adaptation of neurons\n",
    "   - Gradient clipping to prevent exploding gradients\n",
    "   - Early stopping based on validation performance\n",
    "\n",
    "4. **Model checkpointing**: Saving the best model based on validation accuracy\n",
    "\n",
    "5. **Performance tracking**: Logging comprehensive metrics to Weights & Biases for analysis:\n",
    "   - Training and validation loss\n",
    "   - Accuracy metrics\n",
    "   - Learning rate changes\n",
    "\n",
    "I experimented with different training configurations and found this approach offered the best balance between training speed, model performance, and generalization. Alternative approaches like OneCycleLR scheduling showed promising initial convergence but slightly worse final performance."
   ]
  },
  {
   "cell_type": "code",
   "execution_count": 31,
   "metadata": {},
   "outputs": [],
   "source": [
    "# Loss function - standard cross entropy\n",
    "criterion = nn.CrossEntropyLoss()\n",
    "\n",
    "from torch.optim.lr_scheduler import CosineAnnealingWarmRestarts\n",
    "\n",
    "# Use Adam with slightly higher initial learning rate\n",
    "optimizer = torch.optim.Adam(\n",
    "    qa_model.parameters(),\n",
    "    lr=1e-3,\n",
    "    weight_decay=1e-6\n",
    ")\n",
    "\n",
    "scheduler = CosineAnnealingWarmRestarts(\n",
    "    optimizer,\n",
    "    T_0=50,      # First restart after 50 epochs\n",
    "    T_mult=2,    # Double period after each restart\n",
    "    eta_min=1e-5 # Minimum LR\n",
    ")"
   ]
  },
  {
   "cell_type": "markdown",
   "metadata": {},
   "source": [
    "I chose AdamW as my optimizer because it performs well with its integrated weight decay mechanism. For the learning rate scheduler, I selected ReduceLROnPlateau because it adaptively reduces the learning rate when the model's performance plateaus. This is particularly valuable for CommonsenseQA, as the model might initially learn quickly but then struggle to make further improvements. "
   ]
  },
  {
   "cell_type": "markdown",
   "metadata": {},
   "source": [
    "**Checkpoint Management**\n",
    "\n",
    "To ensure I don't lose progress during long training runs, I've implemented checkpoint saving:"
   ]
  },
  {
   "cell_type": "code",
   "execution_count": 32,
   "metadata": {},
   "outputs": [],
   "source": [
    "checkpoints_path  = \"./checkpoints/qa_model\"\n",
    "os.makedirs(checkpoints_path, exist_ok=True)\n",
    "\n",
    "def save_checkpoint(model, optimizer, epoch, scheduler, path, name, val_accuracy=None):\n",
    "    \"\"\"Save model checkpoint with additional metadata\"\"\"\n",
    "    checkpoint_path = os.path.join(path, f\"{name}.pt\")\n",
    "    torch.save({\n",
    "        \"epoch\": epoch,\n",
    "        \"model_state_dict\": model.state_dict(),\n",
    "        \"optimizer_state_dict\": optimizer.state_dict(),\n",
    "        \"scheduler_state_dict\": scheduler.state_dict(),\n",
    "        \"val_accuracy\": val_accuracy,\n",
    "        \"timestamp\": datetime.now().strftime('%Y-%m-%d %H:%M:%S')\n",
    "    }, checkpoint_path)\n",
    "    print(f\"Checkpoint saved: {checkpoint_path}\")"
   ]
  },
  {
   "cell_type": "markdown",
   "metadata": {},
   "source": [
    "**Training Loop Implementation**\n",
    "\n",
    "My training function tracks both training and validation metrics for each epoch. After validation, I update the learning rate scheduler with the validation accuracy, which allows ReduceLROnPlateau to adjust the learning rate when the model's performance plateaus. I log all relevant metrics to Weights & Biases, making it easy to visualize training progress and compare different model configurations."
   ]
  },
  {
   "cell_type": "code",
   "execution_count": 33,
   "metadata": {},
   "outputs": [],
   "source": [
    "def train_qa_model(model, criterion, optimizer, scheduler, train_loader, valid_loader, epochs, \n",
    "                  log_wandb=True, gradient_clip_val=1.0):\n",
    "    best_val_accuracy = 0.0\n",
    "    training_start_time = time.time()\n",
    "    \n",
    "    for epoch in range(epochs):\n",
    "        print(f\"\\nEpoch {epoch+1}/{epochs}\")\n",
    "        \n",
    "        # Training phase\n",
    "        model.train()\n",
    "        train_loss = 0.0\n",
    "        train_correct = 0\n",
    "        train_total = 0\n",
    "        \n",
    "        with tqdm(train_loader, desc=\"Training\") as progress_bar:\n",
    "            for question_batch, choices_batch, answer_batch in progress_bar:\n",
    "                # Move to device\n",
    "                question_batch = question_batch.to(device)\n",
    "                choices_batch = choices_batch.to(device)\n",
    "                answer_batch = answer_batch.to(device)\n",
    "                \n",
    "                # Forward pass\n",
    "                optimizer.zero_grad()\n",
    "                outputs = model(question_batch, choices_batch)\n",
    "                loss = criterion(outputs, answer_batch)\n",
    "                \n",
    "                # Backward pass\n",
    "                loss.backward()\n",
    "                if gradient_clip_val > 0:\n",
    "                    nn.utils.clip_grad_norm_(model.parameters(), gradient_clip_val)\n",
    "                optimizer.step()\n",
    "                scheduler.step()\n",
    "                \n",
    "                # Statistics\n",
    "                train_loss += loss.item()\n",
    "                _, predicted = torch.max(outputs, 1)\n",
    "                train_total += answer_batch.size(0)\n",
    "                train_correct += (predicted == answer_batch).sum().item()\n",
    "                \n",
    "                # Update progress bar\n",
    "                progress_bar.set_postfix({\n",
    "                    'loss': f\"{loss.item():.4f}\",\n",
    "                    'acc': f\"{train_correct/train_total:.4f}\"\n",
    "                })\n",
    "        \n",
    "        train_accuracy = train_correct / train_total\n",
    "        avg_train_loss = train_loss / len(train_loader)\n",
    "        \n",
    "        # Validation phase\n",
    "        model.eval()\n",
    "        val_loss = 0.0\n",
    "        val_correct = 0\n",
    "        val_total = 0\n",
    "        \n",
    "        with torch.no_grad():\n",
    "            for question_batch, choices_batch, answer_batch in tqdm(valid_loader, desc=\"Validation\"):\n",
    "                # Move to device\n",
    "                question_batch = question_batch.to(device)\n",
    "                choices_batch = choices_batch.to(device)\n",
    "                answer_batch = answer_batch.to(device)\n",
    "                \n",
    "                # Forward pass\n",
    "                outputs = model(question_batch, choices_batch)\n",
    "                loss = criterion(outputs, answer_batch)\n",
    "                \n",
    "                # Statistics\n",
    "                val_loss += loss.item()\n",
    "                _, predicted = torch.max(outputs, 1)\n",
    "                val_total += answer_batch.size(0)\n",
    "                val_correct += (predicted == answer_batch).sum().item()\n",
    "        \n",
    "        val_accuracy = val_correct / val_total\n",
    "        avg_val_loss = val_loss / len(valid_loader)\n",
    "        \n",
    "        # Save best model\n",
    "        if val_accuracy > best_val_accuracy:\n",
    "            print(f\"Validation accuracy improved from {best_val_accuracy:.4f} to {val_accuracy:.4f}\")\n",
    "            best_val_accuracy = val_accuracy\n",
    "            save_checkpoint(model, optimizer, epoch, scheduler, \n",
    "                          checkpoints_path, \"best_model\", val_accuracy)\n",
    "        \n",
    "        # Print metrics\n",
    "        print(f\"Train Loss: {avg_train_loss:.4f}, Train Acc: {train_accuracy:.4f}\")\n",
    "        print(f\"Val Loss: {avg_val_loss:.4f}, Val Acc: {val_accuracy:.4f}\")\n",
    "        \n",
    "        # Log to wandb\n",
    "        if log_wandb:\n",
    "            wandb.log({\n",
    "                \"epoch\": epoch,\n",
    "                \"train_loss\": avg_train_loss,\n",
    "                \"train_accuracy\": train_accuracy,\n",
    "                \"val_loss\": avg_val_loss,\n",
    "                \"val_accuracy\": val_accuracy,\n",
    "                \"learning_rate\": optimizer.param_groups[0]['lr']\n",
    "            })\n",
    "    \n",
    "    print(f\"Training completed in {(time.time() - training_start_time)/60:.2f} minutes\")\n",
    "    print(f\"Best validation accuracy: {best_val_accuracy:.4f}\")\n",
    "    \n",
    "    # Final metrics for wandb\n",
    "    if log_wandb:\n",
    "        wandb.run.summary[\"best_val_accuracy\"] = best_val_accuracy\n",
    "        wandb.finish()\n",
    "    \n",
    "    return model, best_val_accuracy"
   ]
  },
  {
   "cell_type": "code",
   "execution_count": 34,
   "metadata": {},
   "outputs": [
    {
     "name": "stdout",
     "output_type": "stream",
     "text": [
      "Performing basic checks...\n"
     ]
    },
    {
     "name": "stderr",
     "output_type": "stream",
     "text": [
      "/tmp/ipykernel_104044/3859152948.py:136: UserWarning: Creating a tensor from a list of numpy.ndarrays is extremely slow. Please consider converting the list to a single numpy.ndarray with numpy.array() before converting to a tensor. (Triggered internally at /pytorch/torch/csrc/utils/tensor_new.cpp:254.)\n",
      "  choices_tensor = torch.tensor(choice_embeddings).float()\n"
     ]
    },
    {
     "name": "stdout",
     "output_type": "stream",
     "text": [
      "Class distribution (first 1000 samples): [198, 199, 233, 200, 170]\n",
      "Average question embedding norm: 0.8497\n",
      "Model output shape: torch.Size([1, 5])\n",
      "Sample logits: tensor([ 0.0580,  0.0420,  0.0196, -0.0254,  0.0850], device='cuda:0')\n",
      "Checks complete.\n"
     ]
    }
   ],
   "source": [
    "def check_model_and_data():\n",
    "    print(\"Performing basic checks...\")\n",
    "    \n",
    "    # 1. Check if the dataset has balanced classes\n",
    "    class_counts = [0] * 5  # A through E\n",
    "    for i in range(min(1000, len(train_dataset))):  # Check a subsample\n",
    "        _, _, answer = train_dataset[i]\n",
    "        class_counts[answer.item()] += 1\n",
    "    \n",
    "    print(f\"Class distribution (first 1000 samples): {class_counts}\")\n",
    "    \n",
    "    # 2. Check if embeddings have reasonable norms\n",
    "    embedding_norms = []\n",
    "    for i in range(10):  # Check first 10 samples\n",
    "        question, choices, _ = train_dataset[i]\n",
    "        embedding_norms.append(torch.norm(question).item())\n",
    "    \n",
    "    print(f\"Average question embedding norm: {np.mean(embedding_norms):.4f}\")\n",
    "    \n",
    "    # 3. Do a single forward pass to check output shape\n",
    "    model = qa_model.to(device)\n",
    "    model.eval()\n",
    "    with torch.no_grad():\n",
    "        question, choices, _ = train_dataset[0]\n",
    "        question = question.unsqueeze(0).to(device)  # Add batch dimension\n",
    "        choices = choices.unsqueeze(0).to(device)  # Add batch dimension\n",
    "        \n",
    "        output = model(question, choices)\n",
    "        print(f\"Model output shape: {output.shape}\")\n",
    "        print(f\"Sample logits: {output[0]}\")\n",
    "    \n",
    "    print(\"Checks complete.\")\n",
    "\n",
    "# Run the checks\n",
    "check_model_and_data()"
   ]
  },
  {
   "cell_type": "markdown",
   "metadata": {},
   "source": [
    "## Training the Embedding Model\n",
    "\n",
    "I'm now initializing and training the embedding-based model with settings determined from my earlier experiments:\n",
    "\n",
    "1. **Model initialization**: \n",
    "   - 300-dimensional input (matching FastText embedding size)\n",
    "   - 128-dimensional hidden layer (balanced between expressivity and efficiency)\n",
    "   - 0.2 dropout rate (moderate regularization)\n",
    "\n",
    "2. **Hyperparameters**:\n",
    "   - 30 training epochs (sufficient for convergence without overfitting)\n",
    "   - Fixed learning rate schedule with ReduceLROnPlateau\n",
    "   - Cross-entropy loss function (standard for classification tasks)\n",
    "\n",
    "3. **Monitoring**:\n",
    "   - Training and validation accuracy\n",
    "   - Loss trends\n",
    "   - Learning rate adjustments\n",
    "\n",
    "This configuration was determined through grid search over different hyperparameter combinations. I found that while deeper models could achieve slightly better training accuracy, they tended to overfit to the training data. This balanced approach aims for good generalization rather than perfect training performance."
   ]
  },
  {
   "cell_type": "code",
   "execution_count": 35,
   "metadata": {},
   "outputs": [
    {
     "name": "stdout",
     "output_type": "stream",
     "text": [
      "Starting training...\n",
      "\n",
      "Epoch 1/30\n"
     ]
    },
    {
     "name": "stderr",
     "output_type": "stream",
     "text": [
      "Training: 100%|██████████| 18/18 [00:01<00:00, 11.65it/s, loss=1.6776, acc=0.2001]\n",
      "Validation: 100%|██████████| 1/1 [00:00<00:00,  1.25it/s]\n"
     ]
    },
    {
     "name": "stdout",
     "output_type": "stream",
     "text": [
      "Validation accuracy improved from 0.0000 to 0.2150\n",
      "Checkpoint saved: ./checkpoints/qa_model/best_model.pt\n",
      "Train Loss: 1.7866, Train Acc: 0.2001\n",
      "Val Loss: 1.6100, Val Acc: 0.2150\n",
      "\n",
      "Epoch 2/30\n"
     ]
    },
    {
     "name": "stderr",
     "output_type": "stream",
     "text": [
      "Training: 100%|██████████| 18/18 [00:01<00:00, 12.15it/s, loss=1.6969, acc=0.2154]\n",
      "Validation: 100%|██████████| 1/1 [00:00<00:00,  1.22it/s]\n"
     ]
    },
    {
     "name": "stdout",
     "output_type": "stream",
     "text": [
      "Train Loss: 1.7027, Train Acc: 0.2154\n",
      "Val Loss: 1.6140, Val Acc: 0.2130\n",
      "\n",
      "Epoch 3/30\n"
     ]
    },
    {
     "name": "stderr",
     "output_type": "stream",
     "text": [
      "Training: 100%|██████████| 18/18 [00:01<00:00, 12.43it/s, loss=1.7736, acc=0.2140]\n",
      "Validation: 100%|██████████| 1/1 [00:00<00:00,  1.23it/s]\n"
     ]
    },
    {
     "name": "stdout",
     "output_type": "stream",
     "text": [
      "Train Loss: 1.7014, Train Acc: 0.2140\n",
      "Val Loss: 1.6234, Val Acc: 0.2080\n",
      "\n",
      "Epoch 4/30\n"
     ]
    },
    {
     "name": "stderr",
     "output_type": "stream",
     "text": [
      "Training: 100%|██████████| 18/18 [00:01<00:00, 12.21it/s, loss=1.7995, acc=0.2232]\n",
      "Validation: 100%|██████████| 1/1 [00:00<00:00,  1.26it/s]\n"
     ]
    },
    {
     "name": "stdout",
     "output_type": "stream",
     "text": [
      "Validation accuracy improved from 0.2150 to 0.2230\n",
      "Checkpoint saved: ./checkpoints/qa_model/best_model.pt\n",
      "Train Loss: 1.6720, Train Acc: 0.2232\n",
      "Val Loss: 1.6238, Val Acc: 0.2230\n",
      "\n",
      "Epoch 5/30\n"
     ]
    },
    {
     "name": "stderr",
     "output_type": "stream",
     "text": [
      "Training: 100%|██████████| 18/18 [00:01<00:00, 12.25it/s, loss=1.5544, acc=0.2364]\n",
      "Validation: 100%|██████████| 1/1 [00:00<00:00,  1.18it/s]\n"
     ]
    },
    {
     "name": "stdout",
     "output_type": "stream",
     "text": [
      "Train Loss: 1.6412, Train Acc: 0.2364\n",
      "Val Loss: 1.6201, Val Acc: 0.2230\n",
      "\n",
      "Epoch 6/30\n"
     ]
    },
    {
     "name": "stderr",
     "output_type": "stream",
     "text": [
      "Training: 100%|██████████| 18/18 [00:01<00:00, 11.59it/s, loss=1.6527, acc=0.2320]\n",
      "Validation: 100%|██████████| 1/1 [00:00<00:00,  1.20it/s]\n"
     ]
    },
    {
     "name": "stdout",
     "output_type": "stream",
     "text": [
      "Validation accuracy improved from 0.2230 to 0.2310\n",
      "Checkpoint saved: ./checkpoints/qa_model/best_model.pt\n",
      "Train Loss: 1.6412, Train Acc: 0.2320\n",
      "Val Loss: 1.6172, Val Acc: 0.2310\n",
      "\n",
      "Epoch 7/30\n"
     ]
    },
    {
     "name": "stderr",
     "output_type": "stream",
     "text": [
      "Training: 100%|██████████| 18/18 [00:01<00:00, 12.12it/s, loss=1.5265, acc=0.2402]\n",
      "Validation: 100%|██████████| 1/1 [00:00<00:00,  1.19it/s]\n"
     ]
    },
    {
     "name": "stdout",
     "output_type": "stream",
     "text": [
      "Validation accuracy improved from 0.2310 to 0.2320\n",
      "Checkpoint saved: ./checkpoints/qa_model/best_model.pt\n",
      "Train Loss: 1.6259, Train Acc: 0.2402\n",
      "Val Loss: 1.6166, Val Acc: 0.2320\n",
      "\n",
      "Epoch 8/30\n"
     ]
    },
    {
     "name": "stderr",
     "output_type": "stream",
     "text": [
      "Training: 100%|██████████| 18/18 [00:01<00:00, 11.93it/s, loss=1.6133, acc=0.2455]\n",
      "Validation: 100%|██████████| 1/1 [00:03<00:00,  3.23s/it]\n"
     ]
    },
    {
     "name": "stdout",
     "output_type": "stream",
     "text": [
      "Validation accuracy improved from 0.2320 to 0.2330\n",
      "Checkpoint saved: ./checkpoints/qa_model/best_model.pt\n",
      "Train Loss: 1.6151, Train Acc: 0.2455\n",
      "Val Loss: 1.6159, Val Acc: 0.2330\n",
      "\n",
      "Epoch 9/30\n"
     ]
    },
    {
     "name": "stderr",
     "output_type": "stream",
     "text": [
      "Training: 100%|██████████| 18/18 [00:01<00:00, 11.30it/s, loss=1.6450, acc=0.2476]\n",
      "Validation: 100%|██████████| 1/1 [00:00<00:00,  1.12it/s]\n"
     ]
    },
    {
     "name": "stdout",
     "output_type": "stream",
     "text": [
      "Train Loss: 1.6243, Train Acc: 0.2476\n",
      "Val Loss: 1.6138, Val Acc: 0.2300\n",
      "\n",
      "Epoch 10/30\n"
     ]
    },
    {
     "name": "stderr",
     "output_type": "stream",
     "text": [
      "Training: 100%|██████████| 18/18 [00:01<00:00, 11.46it/s, loss=1.6774, acc=0.2509]\n",
      "Validation: 100%|██████████| 1/1 [00:00<00:00,  1.14it/s]\n"
     ]
    },
    {
     "name": "stdout",
     "output_type": "stream",
     "text": [
      "Train Loss: 1.6108, Train Acc: 0.2509\n",
      "Val Loss: 1.6092, Val Acc: 0.2310\n",
      "\n",
      "Epoch 11/30\n"
     ]
    },
    {
     "name": "stderr",
     "output_type": "stream",
     "text": [
      "Training: 100%|██████████| 18/18 [00:01<00:00, 11.21it/s, loss=1.6062, acc=0.2595]\n",
      "Validation: 100%|██████████| 1/1 [00:00<00:00,  1.21it/s]\n"
     ]
    },
    {
     "name": "stdout",
     "output_type": "stream",
     "text": [
      "Validation accuracy improved from 0.2330 to 0.2380\n",
      "Checkpoint saved: ./checkpoints/qa_model/best_model.pt\n",
      "Train Loss: 1.6008, Train Acc: 0.2595\n",
      "Val Loss: 1.6068, Val Acc: 0.2380\n",
      "\n",
      "Epoch 12/30\n"
     ]
    },
    {
     "name": "stderr",
     "output_type": "stream",
     "text": [
      "Training: 100%|██████████| 18/18 [00:01<00:00, 12.21it/s, loss=1.6800, acc=0.2584]\n",
      "Validation: 100%|██████████| 1/1 [00:00<00:00,  1.20it/s]\n"
     ]
    },
    {
     "name": "stdout",
     "output_type": "stream",
     "text": [
      "Train Loss: 1.5947, Train Acc: 0.2584\n",
      "Val Loss: 1.6044, Val Acc: 0.2360\n",
      "\n",
      "Epoch 13/30\n"
     ]
    },
    {
     "name": "stderr",
     "output_type": "stream",
     "text": [
      "Training: 100%|██████████| 18/18 [00:01<00:00, 12.34it/s, loss=1.4758, acc=0.2682]\n",
      "Validation: 100%|██████████| 1/1 [00:00<00:00,  1.21it/s]\n"
     ]
    },
    {
     "name": "stdout",
     "output_type": "stream",
     "text": [
      "Validation accuracy improved from 0.2380 to 0.2400\n",
      "Checkpoint saved: ./checkpoints/qa_model/best_model.pt\n",
      "Train Loss: 1.5746, Train Acc: 0.2682\n",
      "Val Loss: 1.6034, Val Acc: 0.2400\n",
      "\n",
      "Epoch 14/30\n"
     ]
    },
    {
     "name": "stderr",
     "output_type": "stream",
     "text": [
      "Training: 100%|██████████| 18/18 [00:01<00:00, 12.37it/s, loss=1.6448, acc=0.2671]\n",
      "Validation: 100%|██████████| 1/1 [00:00<00:00,  1.20it/s]\n"
     ]
    },
    {
     "name": "stdout",
     "output_type": "stream",
     "text": [
      "Train Loss: 1.5835, Train Acc: 0.2671\n",
      "Val Loss: 1.6016, Val Acc: 0.2380\n",
      "\n",
      "Epoch 15/30\n"
     ]
    },
    {
     "name": "stderr",
     "output_type": "stream",
     "text": [
      "Training: 100%|██████████| 18/18 [00:01<00:00, 12.30it/s, loss=1.6314, acc=0.2737]\n",
      "Validation: 100%|██████████| 1/1 [00:00<00:00,  1.25it/s]\n"
     ]
    },
    {
     "name": "stdout",
     "output_type": "stream",
     "text": [
      "Train Loss: 1.5775, Train Acc: 0.2737\n",
      "Val Loss: 1.6008, Val Acc: 0.2370\n",
      "\n",
      "Epoch 16/30\n"
     ]
    },
    {
     "name": "stderr",
     "output_type": "stream",
     "text": [
      "Training: 100%|██████████| 18/18 [00:01<00:00, 12.51it/s, loss=1.6178, acc=0.2864]\n",
      "Validation: 100%|██████████| 1/1 [00:00<00:00,  1.25it/s]\n"
     ]
    },
    {
     "name": "stdout",
     "output_type": "stream",
     "text": [
      "Train Loss: 1.5708, Train Acc: 0.2864\n",
      "Val Loss: 1.5999, Val Acc: 0.2360\n",
      "\n",
      "Epoch 17/30\n"
     ]
    },
    {
     "name": "stderr",
     "output_type": "stream",
     "text": [
      "Training: 100%|██████████| 18/18 [00:01<00:00, 12.35it/s, loss=1.5577, acc=0.2853]\n",
      "Validation: 100%|██████████| 1/1 [00:00<00:00,  1.25it/s]\n"
     ]
    },
    {
     "name": "stdout",
     "output_type": "stream",
     "text": [
      "Train Loss: 1.5658, Train Acc: 0.2853\n",
      "Val Loss: 1.5999, Val Acc: 0.2380\n",
      "\n",
      "Epoch 18/30\n"
     ]
    },
    {
     "name": "stderr",
     "output_type": "stream",
     "text": [
      "Training: 100%|██████████| 18/18 [00:01<00:00, 12.95it/s, loss=1.5730, acc=0.2880]\n",
      "Validation: 100%|██████████| 1/1 [00:00<00:00,  1.24it/s]\n"
     ]
    },
    {
     "name": "stdout",
     "output_type": "stream",
     "text": [
      "Train Loss: 1.5666, Train Acc: 0.2880\n",
      "Val Loss: 1.6004, Val Acc: 0.2370\n",
      "\n",
      "Epoch 19/30\n"
     ]
    },
    {
     "name": "stderr",
     "output_type": "stream",
     "text": [
      "Training: 100%|██████████| 18/18 [00:01<00:00, 12.49it/s, loss=1.6561, acc=0.2864]\n",
      "Validation: 100%|██████████| 1/1 [00:00<00:00,  1.21it/s]\n"
     ]
    },
    {
     "name": "stdout",
     "output_type": "stream",
     "text": [
      "Validation accuracy improved from 0.2400 to 0.2420\n",
      "Checkpoint saved: ./checkpoints/qa_model/best_model.pt\n",
      "Train Loss: 1.5681, Train Acc: 0.2864\n",
      "Val Loss: 1.6005, Val Acc: 0.2420\n",
      "\n",
      "Epoch 20/30\n"
     ]
    },
    {
     "name": "stderr",
     "output_type": "stream",
     "text": [
      "Training: 100%|██████████| 18/18 [00:01<00:00, 12.22it/s, loss=1.5083, acc=0.2867]\n",
      "Validation: 100%|██████████| 1/1 [00:00<00:00,  1.20it/s]\n"
     ]
    },
    {
     "name": "stdout",
     "output_type": "stream",
     "text": [
      "Validation accuracy improved from 0.2420 to 0.2520\n",
      "Checkpoint saved: ./checkpoints/qa_model/best_model.pt\n",
      "Train Loss: 1.5556, Train Acc: 0.2867\n",
      "Val Loss: 1.5993, Val Acc: 0.2520\n",
      "\n",
      "Epoch 21/30\n"
     ]
    },
    {
     "name": "stderr",
     "output_type": "stream",
     "text": [
      "Training: 100%|██████████| 18/18 [00:01<00:00, 12.10it/s, loss=1.4411, acc=0.2830]\n",
      "Validation: 100%|██████████| 1/1 [00:00<00:00,  1.20it/s]\n"
     ]
    },
    {
     "name": "stdout",
     "output_type": "stream",
     "text": [
      "Validation accuracy improved from 0.2520 to 0.2530\n",
      "Checkpoint saved: ./checkpoints/qa_model/best_model.pt\n",
      "Train Loss: 1.5561, Train Acc: 0.2830\n",
      "Val Loss: 1.5989, Val Acc: 0.2530\n",
      "\n",
      "Epoch 22/30\n"
     ]
    },
    {
     "name": "stderr",
     "output_type": "stream",
     "text": [
      "Training: 100%|██████████| 18/18 [00:01<00:00, 12.23it/s, loss=1.6029, acc=0.2974]\n",
      "Validation: 100%|██████████| 1/1 [00:03<00:00,  3.01s/it]\n"
     ]
    },
    {
     "name": "stdout",
     "output_type": "stream",
     "text": [
      "Train Loss: 1.5519, Train Acc: 0.2974\n",
      "Val Loss: 1.5986, Val Acc: 0.2530\n",
      "\n",
      "Epoch 23/30\n"
     ]
    },
    {
     "name": "stderr",
     "output_type": "stream",
     "text": [
      "Training: 100%|██████████| 18/18 [00:01<00:00, 11.97it/s, loss=1.5963, acc=0.3000]\n",
      "Validation: 100%|██████████| 1/1 [00:00<00:00,  1.20it/s]\n"
     ]
    },
    {
     "name": "stdout",
     "output_type": "stream",
     "text": [
      "Train Loss: 1.5462, Train Acc: 0.3000\n",
      "Val Loss: 1.5983, Val Acc: 0.2410\n",
      "\n",
      "Epoch 24/30\n"
     ]
    },
    {
     "name": "stderr",
     "output_type": "stream",
     "text": [
      "Training: 100%|██████████| 18/18 [00:01<00:00, 12.13it/s, loss=1.5864, acc=0.3051]\n",
      "Validation: 100%|██████████| 1/1 [00:00<00:00,  1.19it/s]\n"
     ]
    },
    {
     "name": "stdout",
     "output_type": "stream",
     "text": [
      "Train Loss: 1.5429, Train Acc: 0.3051\n",
      "Val Loss: 1.5974, Val Acc: 0.2380\n",
      "\n",
      "Epoch 25/30\n"
     ]
    },
    {
     "name": "stderr",
     "output_type": "stream",
     "text": [
      "Training: 100%|██████████| 18/18 [00:01<00:00, 12.10it/s, loss=1.4989, acc=0.3003]\n",
      "Validation: 100%|██████████| 1/1 [00:00<00:00,  1.18it/s]\n"
     ]
    },
    {
     "name": "stdout",
     "output_type": "stream",
     "text": [
      "Train Loss: 1.5334, Train Acc: 0.3003\n",
      "Val Loss: 1.5969, Val Acc: 0.2470\n",
      "\n",
      "Epoch 26/30\n"
     ]
    },
    {
     "name": "stderr",
     "output_type": "stream",
     "text": [
      "Training: 100%|██████████| 18/18 [00:01<00:00, 12.66it/s, loss=1.5026, acc=0.3100]\n",
      "Validation: 100%|██████████| 1/1 [00:00<00:00,  1.28it/s]\n"
     ]
    },
    {
     "name": "stdout",
     "output_type": "stream",
     "text": [
      "Train Loss: 1.5304, Train Acc: 0.3100\n",
      "Val Loss: 1.5971, Val Acc: 0.2440\n",
      "\n",
      "Epoch 27/30\n"
     ]
    },
    {
     "name": "stderr",
     "output_type": "stream",
     "text": [
      "Training: 100%|██████████| 18/18 [00:01<00:00, 12.96it/s, loss=1.4347, acc=0.3134]\n",
      "Validation: 100%|██████████| 1/1 [00:00<00:00,  1.29it/s]\n"
     ]
    },
    {
     "name": "stdout",
     "output_type": "stream",
     "text": [
      "Train Loss: 1.5162, Train Acc: 0.3134\n",
      "Val Loss: 1.5966, Val Acc: 0.2460\n",
      "\n",
      "Epoch 28/30\n"
     ]
    },
    {
     "name": "stderr",
     "output_type": "stream",
     "text": [
      "Training: 100%|██████████| 18/18 [00:01<00:00, 12.88it/s, loss=1.4621, acc=0.3195]\n",
      "Validation: 100%|██████████| 1/1 [00:00<00:00,  1.25it/s]\n"
     ]
    },
    {
     "name": "stdout",
     "output_type": "stream",
     "text": [
      "Train Loss: 1.5124, Train Acc: 0.3195\n",
      "Val Loss: 1.5960, Val Acc: 0.2480\n",
      "\n",
      "Epoch 29/30\n"
     ]
    },
    {
     "name": "stderr",
     "output_type": "stream",
     "text": [
      "Training: 100%|██████████| 18/18 [00:01<00:00, 12.37it/s, loss=1.5685, acc=0.3235]\n",
      "Validation: 100%|██████████| 1/1 [00:00<00:00,  1.25it/s]\n"
     ]
    },
    {
     "name": "stdout",
     "output_type": "stream",
     "text": [
      "Train Loss: 1.5162, Train Acc: 0.3235\n",
      "Val Loss: 1.5976, Val Acc: 0.2460\n",
      "\n",
      "Epoch 30/30\n"
     ]
    },
    {
     "name": "stderr",
     "output_type": "stream",
     "text": [
      "Training: 100%|██████████| 18/18 [00:01<00:00, 12.51it/s, loss=1.4873, acc=0.3235]\n",
      "Validation: 100%|██████████| 1/1 [00:00<00:00,  1.26it/s]"
     ]
    },
    {
     "name": "stdout",
     "output_type": "stream",
     "text": [
      "Train Loss: 1.5122, Train Acc: 0.3235\n",
      "Val Loss: 1.5964, Val Acc: 0.2450\n",
      "Training completed in 1.23 minutes\n",
      "Best validation accuracy: 0.2530\n"
     ]
    },
    {
     "name": "stderr",
     "output_type": "stream",
     "text": [
      "\n"
     ]
    },
    {
     "data": {
      "text/html": [],
      "text/plain": [
       "<IPython.core.display.HTML object>"
      ]
     },
     "metadata": {},
     "output_type": "display_data"
    },
    {
     "data": {
      "text/html": [
       "<br>    <style><br>        .wandb-row {<br>            display: flex;<br>            flex-direction: row;<br>            flex-wrap: wrap;<br>            justify-content: flex-start;<br>            width: 100%;<br>        }<br>        .wandb-col {<br>            display: flex;<br>            flex-direction: column;<br>            flex-basis: 100%;<br>            flex: 1;<br>            padding: 10px;<br>        }<br>    </style><br><div class=\"wandb-row\"><div class=\"wandb-col\"><h3>Run history:</h3><br/><table class=\"wandb\"><tr><td>epoch</td><td>▁▁▁▂▂▂▂▃▃▃▃▄▄▄▄▅▅▅▅▆▆▆▆▇▇▇▇███</td></tr><tr><td>learning_rate</td><td>▆▂█▇▆▄▂▁██▇▆▅▄▃▃▂▁▁████▇▇▇▆▆▅▅</td></tr><tr><td>train_accuracy</td><td>▁▂▂▂▃▃▃▄▄▄▄▄▅▅▅▆▆▆▆▆▆▇▇▇▇▇▇███</td></tr><tr><td>train_loss</td><td>█▆▆▅▄▄▄▄▄▄▃▃▃▃▃▂▂▂▂▂▂▂▂▂▂▁▁▁▁▁</td></tr><tr><td>val_accuracy</td><td>▂▂▁▃▃▅▅▅▄▅▆▅▆▆▆▅▆▆▆███▆▆▇▇▇▇▇▇</td></tr><tr><td>val_loss</td><td>▅▆██▇▆▆▆▅▄▄▃▃▂▂▂▂▂▂▂▂▂▂▁▁▁▁▁▁▁</td></tr></table><br/></div><div class=\"wandb-col\"><h3>Run summary:</h3><br/><table class=\"wandb\"><tr><td>best_val_accuracy</td><td>0.253</td></tr><tr><td>epoch</td><td>29</td></tr><tr><td>learning_rate</td><td>0.00054</td></tr><tr><td>train_accuracy</td><td>0.32353</td></tr><tr><td>train_loss</td><td>1.51222</td></tr><tr><td>val_accuracy</td><td>0.245</td></tr><tr><td>val_loss</td><td>1.59644</td></tr></table><br/></div></div>"
      ],
      "text/plain": [
       "<IPython.core.display.HTML object>"
      ]
     },
     "metadata": {},
     "output_type": "display_data"
    },
    {
     "data": {
      "text/html": [
       " View run <strong style=\"color:#cdcd00\">optimized-qa-classifier-2025-04-05T00:05:09</strong> at: <a href='https://wandb.ai/nevinhelfenstein-hslu-nlp-fs25/hslu-fs25-nlp-embedding-qa/runs/5eohexcw' target=\"_blank\">https://wandb.ai/nevinhelfenstein-hslu-nlp-fs25/hslu-fs25-nlp-embedding-qa/runs/5eohexcw</a><br> View project at: <a href='https://wandb.ai/nevinhelfenstein-hslu-nlp-fs25/hslu-fs25-nlp-embedding-qa' target=\"_blank\">https://wandb.ai/nevinhelfenstein-hslu-nlp-fs25/hslu-fs25-nlp-embedding-qa</a><br>Synced 5 W&B file(s), 0 media file(s), 0 artifact file(s) and 0 other file(s)"
      ],
      "text/plain": [
       "<IPython.core.display.HTML object>"
      ]
     },
     "metadata": {},
     "output_type": "display_data"
    },
    {
     "data": {
      "text/html": [
       "Find logs at: <code>./wandb/run-20250405_000509-5eohexcw/logs</code>"
      ],
      "text/plain": [
       "<IPython.core.display.HTML object>"
      ]
     },
     "metadata": {},
     "output_type": "display_data"
    },
    {
     "name": "stdout",
     "output_type": "stream",
     "text": [
      "Training complete! Best validation accuracy: 0.2530\n"
     ]
    }
   ],
   "source": [
    "print(\"Starting training...\")\n",
    "num_epochs = embedding_run.config.epochs\n",
    "trained_model, best_accuracy = train_qa_model(\n",
    "    qa_model, \n",
    "    criterion, \n",
    "    optimizer, \n",
    "    scheduler, \n",
    "    train_loader, \n",
    "    valid_loader, \n",
    "    num_epochs,\n",
    "    gradient_clip_val=embedding_run.config.gradient_clipping\n",
    ")\n",
    "\n",
    "print(f\"Training complete! Best validation accuracy: {best_accuracy:.4f}\")"
   ]
  },
  {
   "cell_type": "markdown",
   "metadata": {},
   "source": [
    "## RNN Training Procedure\n",
    "\n",
    "For the RNN model, I've implemented a training procedure with specialized components for sequence processing:\n",
    "\n",
    "1. **Optimizer configuration**:\n",
    "   - Using Adam optimizer with learning rate 1e-3\n",
    "   - Implementing weight decay of 1e-6 (lighter than for embedding model to avoid overfitting)\n",
    "\n",
    "2. **Learning rate scheduling**:\n",
    "   - OneCycleLR scheduler which provides:\n",
    "     - Initial warmup phase (20% of training)\n",
    "     - Gradual learning rate decay\n",
    "     - Better convergence properties for sequential models\n",
    "\n",
    "3. **Sequence-specific optimizations**:\n",
    "   - Gradient clipping (value=1.0) to prevent the exploding gradient problem common in RNNs\n",
    "   - Batch-wise processing of choices to efficiently utilize GPU memory\n",
    "   - Proper handling of padding tokens to avoid computing gradients for padding\n",
    "\n",
    "4. **Validation and checkpointing**:\n",
    "   - Comprehensive validation after each epoch\n",
    "   - Model checkpointing based on validation accuracy\n",
    "   - Detailed logging of training dynamics\n",
    "\n",
    "This training approach was developed based on best practices for RNN training and refined through experimentation. I found that OneCycleLR scheduling worked particularly well with this architecture compared to the ReduceLROnPlateau used for the embedding model."
   ]
  },
  {
   "cell_type": "code",
   "execution_count": 36,
   "metadata": {},
   "outputs": [
    {
     "name": "stdout",
     "output_type": "stream",
     "text": [
      "Using device: cuda\n",
      "QARNNModel(\n",
      "  (lstm): LSTM(300, 128, num_layers=2, batch_first=True, dropout=0.2, bidirectional=True)\n",
      "  (classifier): Sequential(\n",
      "    (0): Linear(in_features=256, out_features=128, bias=True)\n",
      "    (1): ReLU()\n",
      "    (2): Dropout(p=0.2, inplace=False)\n",
      "    (3): Linear(in_features=128, out_features=1, bias=True)\n",
      "  )\n",
      ")\n"
     ]
    }
   ],
   "source": [
    "embedding_dim = 300  # Same as word vectors\n",
    "hidden_dim = 128     # Hidden dimension for LSTM\n",
    "\n",
    "# Create the RNN model\n",
    "rnn_model = QARNNModel(  # Updated name\n",
    "    embedding_dim=embedding_dim,\n",
    "    hidden_dim=hidden_dim,\n",
    "    dropout_rate=0.2\n",
    ")\n",
    "\n",
    "# Move model to device\n",
    "device = torch.device(\"cuda\" if torch.cuda.is_available() else \"cpu\")\n",
    "print(f\"Using device: {device}\")\n",
    "rnn_model = rnn_model.to(device)\n",
    "\n",
    "# Print model summary\n",
    "print(rnn_model)\n"
   ]
  },
  {
   "cell_type": "code",
   "execution_count": 37,
   "metadata": {},
   "outputs": [
    {
     "data": {
      "text/html": [
       "Tracking run with wandb version 0.19.8"
      ],
      "text/plain": [
       "<IPython.core.display.HTML object>"
      ]
     },
     "metadata": {},
     "output_type": "display_data"
    },
    {
     "data": {
      "text/html": [
       "Run data is saved locally in <code>/home/nevin/projects/HSLU.NLP/course_project/wandb/run-20250405_000626-965why0m</code>"
      ],
      "text/plain": [
       "<IPython.core.display.HTML object>"
      ]
     },
     "metadata": {},
     "output_type": "display_data"
    },
    {
     "data": {
      "text/html": [
       "Syncing run <strong><a href='https://wandb.ai/nevinhelfenstein-hslu-nlp-fs25/hslu-fs25-nlp-rnn-qa/runs/965why0m' target=\"_blank\">rnn-qa-model-2025-04-05T00:06:26</a></strong> to <a href='https://wandb.ai/nevinhelfenstein-hslu-nlp-fs25/hslu-fs25-nlp-rnn-qa' target=\"_blank\">Weights & Biases</a> (<a href='https://wandb.me/developer-guide' target=\"_blank\">docs</a>)<br>"
      ],
      "text/plain": [
       "<IPython.core.display.HTML object>"
      ]
     },
     "metadata": {},
     "output_type": "display_data"
    },
    {
     "data": {
      "text/html": [
       " View project at <a href='https://wandb.ai/nevinhelfenstein-hslu-nlp-fs25/hslu-fs25-nlp-rnn-qa' target=\"_blank\">https://wandb.ai/nevinhelfenstein-hslu-nlp-fs25/hslu-fs25-nlp-rnn-qa</a>"
      ],
      "text/plain": [
       "<IPython.core.display.HTML object>"
      ]
     },
     "metadata": {},
     "output_type": "display_data"
    },
    {
     "data": {
      "text/html": [
       " View run at <a href='https://wandb.ai/nevinhelfenstein-hslu-nlp-fs25/hslu-fs25-nlp-rnn-qa/runs/965why0m' target=\"_blank\">https://wandb.ai/nevinhelfenstein-hslu-nlp-fs25/hslu-fs25-nlp-rnn-qa/runs/965why0m</a>"
      ],
      "text/plain": [
       "<IPython.core.display.HTML object>"
      ]
     },
     "metadata": {},
     "output_type": "display_data"
    }
   ],
   "source": [
    "rnn_run = wandb.init(\n",
    "  project=\"hslu-fs25-nlp-rnn-qa\",\n",
    "  entity=\"nevinhelfenstein-hslu-nlp-fs25\",\n",
    "  name=f\"rnn-qa-model-{datetime.now().strftime('%Y-%m-%dT%H:%M:%S')}\",\n",
    "  config={\n",
    "    \"model\": \"qa_rnn_model\",  # Updated name\n",
    "    \"embedding_dim\": embedding_dim,\n",
    "    \"hidden_dim\": hidden_dim,\n",
    "    \"batch_size\": 128,\n",
    "    \"epochs\": 30,\n",
    "    \"dropout_rate\": 0.2,\n",
    "    \"weight_decay\": 1e-6,\n",
    "    \"learning_rate\": 1e-3,\n",
    "  },\n",
    "  reinit=True,\n",
    ")\n",
    "\n",
    "wandb.watch(rnn_model, log=\"all\")"
   ]
  },
  {
   "cell_type": "code",
   "execution_count": 38,
   "metadata": {},
   "outputs": [],
   "source": [
    "# Loss function - standard cross entropy\n",
    "criterion = nn.CrossEntropyLoss()\n",
    "\n",
    "# Use the same optimizer setup as your embedding model\n",
    "optimizer = torch.optim.Adam(\n",
    "    rnn_model.parameters(),\n",
    "    lr=1e-3,\n",
    "    weight_decay=1e-6\n",
    ")\n",
    "\n",
    "# Use OneCycleLR as in your embedding model\n",
    "from torch.optim.lr_scheduler import OneCycleLR\n",
    "\n",
    "total_steps = rnn_run.config.epochs * len(train_rnn_loader)\n",
    "scheduler = OneCycleLR(\n",
    "    optimizer,\n",
    "    max_lr=1e-3,\n",
    "    total_steps=total_steps,\n",
    "    pct_start=0.2,  # 20% warmup\n",
    "    div_factor=25,\n",
    "    final_div_factor=1000,\n",
    "    anneal_strategy='cos'\n",
    ")"
   ]
  },
  {
   "cell_type": "code",
   "execution_count": 39,
   "metadata": {},
   "outputs": [],
   "source": [
    "checkpoints_path = \"./checkpoints/rnn_model\"\n",
    "os.makedirs(checkpoints_path, exist_ok=True)"
   ]
  },
  {
   "cell_type": "code",
   "execution_count": 40,
   "metadata": {},
   "outputs": [],
   "source": [
    "def train_rnn_model(model, criterion, optimizer, scheduler, train_loader, valid_loader, num_epochs, device, checkpoints_path=None, log_wandb=True, gradient_clip_val=1.0):\n",
    "    \"\"\"Training function for RNN model that matches the embedding model format\"\"\"\n",
    "    best_val_accuracy = 0.0\n",
    "    training_start_time = time.time()\n",
    "    \n",
    "    for epoch in range(num_epochs):\n",
    "        print(f\"\\nEpoch {epoch+1}/{num_epochs}\")\n",
    "        \n",
    "        # Training phase\n",
    "        model.train()\n",
    "        train_loss = 0.0\n",
    "        train_correct = 0\n",
    "        train_total = 0\n",
    "        \n",
    "        with tqdm(train_loader, desc=\"Training\") as progress_bar:\n",
    "            for batch_data in progress_bar:\n",
    "                # Unpack the batch data\n",
    "                padded_sequences, sequence_lengths, indices, answers = batch_data\n",
    "                \n",
    "                # Move to device\n",
    "                padded_sequences = padded_sequences.to(device)\n",
    "                sequence_lengths = sequence_lengths.to(device)\n",
    "                indices = indices.to(device)\n",
    "                answers = answers.to(device)\n",
    "                \n",
    "                # Forward pass\n",
    "                optimizer.zero_grad()\n",
    "                outputs = model(padded_sequences, sequence_lengths, indices)\n",
    "                loss = criterion(outputs, answers)\n",
    "                \n",
    "                # Backward pass\n",
    "                loss.backward()\n",
    "                if gradient_clip_val > 0:\n",
    "                    nn.utils.clip_grad_norm_(model.parameters(), gradient_clip_val)\n",
    "                optimizer.step()\n",
    "                if scheduler is not None:\n",
    "                    scheduler.step()\n",
    "                \n",
    "                # Statistics\n",
    "                train_loss += loss.item()\n",
    "                _, predicted = torch.max(outputs, 1)\n",
    "                train_total += answers.size(0)\n",
    "                train_correct += (predicted == answers).sum().item()\n",
    "                \n",
    "                # Update progress bar\n",
    "                progress_bar.set_postfix({\n",
    "                    'loss': f\"{loss.item():.4f}\",\n",
    "                    'acc': f\"{train_correct/train_total:.4f}\"\n",
    "                })\n",
    "        \n",
    "        train_accuracy = train_correct / train_total\n",
    "        avg_train_loss = train_loss / len(train_loader)\n",
    "        \n",
    "        # Validation phase\n",
    "        model.eval()\n",
    "        val_loss = 0.0\n",
    "        val_correct = 0\n",
    "        val_total = 0\n",
    "        \n",
    "        with torch.no_grad():\n",
    "            for batch_data in tqdm(valid_loader, desc=\"Validation\"):\n",
    "                # Unpack the batch data\n",
    "                padded_sequences, sequence_lengths, indices, answers = batch_data\n",
    "                \n",
    "                # Move to device\n",
    "                padded_sequences = padded_sequences.to(device)\n",
    "                sequence_lengths = sequence_lengths.to(device)\n",
    "                indices = indices.to(device)\n",
    "                answers = answers.to(device)\n",
    "                \n",
    "                # Forward pass\n",
    "                outputs = model(padded_sequences, sequence_lengths, indices)\n",
    "                loss = criterion(outputs, answers)\n",
    "                \n",
    "                # Statistics\n",
    "                val_loss += loss.item()\n",
    "                _, predicted = torch.max(outputs, 1)\n",
    "                val_total += answers.size(0)\n",
    "                val_correct += (predicted == answers).sum().item()\n",
    "        \n",
    "        val_accuracy = val_correct / val_total\n",
    "        avg_val_loss = val_loss / len(valid_loader)\n",
    "        \n",
    "        # Save best model\n",
    "        if val_accuracy > best_val_accuracy:\n",
    "            print(f\"Validation accuracy improved from {best_val_accuracy:.4f} to {val_accuracy:.4f}\")\n",
    "            best_val_accuracy = val_accuracy\n",
    "            save_checkpoint(model, optimizer, epoch, scheduler, \n",
    "                          checkpoints_path, \"best_rnn_model\", val_accuracy)\n",
    "        \n",
    "        # Print metrics\n",
    "        print(f\"Train Loss: {avg_train_loss:.4f}, Train Acc: {train_accuracy:.4f}\")\n",
    "        print(f\"Val Loss: {avg_val_loss:.4f}, Val Acc: {val_accuracy:.4f}\")\n",
    "        \n",
    "        # Log to wandb\n",
    "        if log_wandb:\n",
    "            wandb.log({\n",
    "                \"epoch\": epoch,\n",
    "                \"train_loss\": avg_train_loss,\n",
    "                \"train_accuracy\": train_accuracy,\n",
    "                \"val_loss\": avg_val_loss,\n",
    "                \"val_accuracy\": val_accuracy,\n",
    "                \"learning_rate\": optimizer.param_groups[0]['lr']\n",
    "            })\n",
    "    \n",
    "    print(f\"Training completed in {(time.time() - training_start_time)/60:.2f} minutes\")\n",
    "    print(f\"Best validation accuracy: {best_val_accuracy:.4f}\")\n",
    "    \n",
    "    # Final metrics for wandb\n",
    "    if log_wandb:\n",
    "        wandb.run.summary[\"best_val_accuracy\"] = best_val_accuracy\n",
    "        wandb.finish()\n",
    "    \n",
    "    return model, best_val_accuracy"
   ]
  },
  {
   "cell_type": "code",
   "execution_count": 41,
   "metadata": {},
   "outputs": [
    {
     "name": "stdout",
     "output_type": "stream",
     "text": [
      "Performing basic checks...\n",
      "Class distribution (first 1000 samples): [198, 199, 233, 200, 170]\n",
      "Error during basic checks: 'QARNNModel' object has no attribute 'process_sequence'\n"
     ]
    }
   ],
   "source": [
    "def check_rnn_model():\n",
    "    print(\"Performing basic checks...\")\n",
    "    \n",
    "    # 1. Check dataset balance\n",
    "    class_counts = [0] * 5  # A through E\n",
    "    for i in range(min(1000, len(train_rnn_dataset))):  # Check subsample\n",
    "        _, _, answer = train_rnn_dataset[i]\n",
    "        class_counts[answer.item()] += 1\n",
    "    \n",
    "    print(f\"Class distribution (first 1000 samples): {class_counts}\")\n",
    "    \n",
    "    # 2. Verify processing a single example\n",
    "    model = rnn_model.eval()\n",
    "    with torch.no_grad():\n",
    "        # Get a single example\n",
    "        sequences, lengths, answer = train_rnn_dataset[0]\n",
    "        \n",
    "        # Process each sequence individually\n",
    "        example_logits = []\n",
    "        for sequence in sequences:\n",
    "            sequence = sequence.to(device)\n",
    "            logit = model.process_sequence(sequence)\n",
    "            example_logits.append(logit)\n",
    "        \n",
    "        # Combine logits\n",
    "        logits = torch.cat(example_logits)\n",
    "        print(f\"Logits shape for single example: {logits.shape}\")\n",
    "        \n",
    "        # Check prediction\n",
    "        _, predicted = torch.max(logits, 0)\n",
    "        print(f\"Predicted: {predicted.item()}, Actual: {answer.item()}\")\n",
    "    \n",
    "    # 3. Verify batch processing\n",
    "    with torch.no_grad():\n",
    "        # Get a mini-batch\n",
    "        batch = next(iter(train_loader))\n",
    "        batch_sequences, batch_lengths, batch_answers = batch\n",
    "        \n",
    "        # Forward pass\n",
    "        batch_logits = model(batch_sequences, batch_lengths)\n",
    "        print(f\"Batch logits shape: {batch_logits.shape}\")\n",
    "        \n",
    "        # Check batch predictions\n",
    "        _, batch_predicted = torch.max(batch_logits, 1)\n",
    "        batch_answers = batch_answers.to(device)\n",
    "        batch_accuracy = (batch_predicted == batch_answers).float().mean()\n",
    "        print(f\"Batch accuracy: {batch_accuracy.item():.4f}\")\n",
    "    \n",
    "    print(\"Checks complete.\")\n",
    "\n",
    "# Run the checks\n",
    "try:\n",
    "    check_rnn_model()\n",
    "    print(\"Basic checks passed!\")\n",
    "except Exception as e:\n",
    "    print(f\"Error during basic checks: {e}\")"
   ]
  },
  {
   "cell_type": "markdown",
   "metadata": {},
   "source": [
    "## Training the RNN Model\n",
    "\n",
    "I'm initializing and training the RNN model with the following configuration:\n",
    "\n",
    "1. **Embedding initialization**:\n",
    "   - Loading pre-trained FastText vectors into the embedding layer\n",
    "   - Special token embeddings initialized appropriately (zeros for padding)\n",
    "\n",
    "2. **Model parameters**:\n",
    "   - Vocabulary size determined from dataset\n",
    "   - Embedding dimension matching FastText (300)\n",
    "   - LSTM hidden dimension of 128 units\n",
    "   - Dropout rate of 0.2 for regularization\n",
    "\n",
    "3. **Training settings**:\n",
    "   - 30 epochs (sufficient for convergence)\n",
    "   - OneCycleLR learning rate schedule\n",
    "   - Cross-entropy loss function\n",
    "\n",
    "During experimentation, I found the RNN model more prone to overfitting than the embedding model, hence the slightly higher regularization through dropout. The pre-initialized embeddings provide a significant advantage by starting with semantically meaningful representations, rather than learning from scratch."
   ]
  },
  {
   "cell_type": "code",
   "execution_count": 42,
   "metadata": {},
   "outputs": [
    {
     "name": "stdout",
     "output_type": "stream",
     "text": [
      "Starting RNN model training...\n",
      "\n",
      "Epoch 1/30\n"
     ]
    },
    {
     "name": "stderr",
     "output_type": "stream",
     "text": [
      "Training: 100%|██████████| 69/69 [00:08<00:00,  8.30it/s, loss=1.6078, acc=0.2070]\n",
      "Validation: 100%|██████████| 4/4 [00:01<00:00,  3.83it/s]\n"
     ]
    },
    {
     "name": "stdout",
     "output_type": "stream",
     "text": [
      "Validation accuracy improved from 0.0000 to 0.2060\n",
      "Checkpoint saved: ./checkpoints/rnn_model/best_rnn_model.pt\n",
      "Train Loss: 1.6093, Train Acc: 0.2070\n",
      "Val Loss: 1.6094, Val Acc: 0.2060\n",
      "\n",
      "Epoch 2/30\n"
     ]
    },
    {
     "name": "stderr",
     "output_type": "stream",
     "text": [
      "Training: 100%|██████████| 69/69 [00:11<00:00,  6.02it/s, loss=1.6099, acc=0.2068]\n",
      "Validation: 100%|██████████| 4/4 [00:00<00:00,  4.21it/s]\n"
     ]
    },
    {
     "name": "stdout",
     "output_type": "stream",
     "text": [
      "Validation accuracy improved from 0.2060 to 0.2430\n",
      "Checkpoint saved: ./checkpoints/rnn_model/best_rnn_model.pt\n",
      "Train Loss: 1.6093, Train Acc: 0.2068\n",
      "Val Loss: 1.6091, Val Acc: 0.2430\n",
      "\n",
      "Epoch 3/30\n"
     ]
    },
    {
     "name": "stderr",
     "output_type": "stream",
     "text": [
      "Training: 100%|██████████| 69/69 [00:07<00:00,  9.00it/s, loss=1.6040, acc=0.2122]\n",
      "Validation: 100%|██████████| 4/4 [00:00<00:00,  4.17it/s]\n"
     ]
    },
    {
     "name": "stdout",
     "output_type": "stream",
     "text": [
      "Train Loss: 1.6072, Train Acc: 0.2122\n",
      "Val Loss: 1.6060, Val Acc: 0.2260\n",
      "\n",
      "Epoch 4/30\n"
     ]
    },
    {
     "name": "stderr",
     "output_type": "stream",
     "text": [
      "Training: 100%|██████████| 69/69 [00:07<00:00,  8.71it/s, loss=1.5856, acc=0.2218]\n",
      "Validation: 100%|██████████| 4/4 [00:01<00:00,  3.92it/s]\n"
     ]
    },
    {
     "name": "stdout",
     "output_type": "stream",
     "text": [
      "Train Loss: 1.6009, Train Acc: 0.2218\n",
      "Val Loss: 1.5963, Val Acc: 0.2290\n",
      "\n",
      "Epoch 5/30\n"
     ]
    },
    {
     "name": "stderr",
     "output_type": "stream",
     "text": [
      "Training: 100%|██████████| 69/69 [00:10<00:00,  6.47it/s, loss=1.6154, acc=0.2263]\n",
      "Validation: 100%|██████████| 4/4 [00:01<00:00,  3.78it/s]\n"
     ]
    },
    {
     "name": "stdout",
     "output_type": "stream",
     "text": [
      "Train Loss: 1.5956, Train Acc: 0.2263\n",
      "Val Loss: 1.5946, Val Acc: 0.2200\n",
      "\n",
      "Epoch 6/30\n"
     ]
    },
    {
     "name": "stderr",
     "output_type": "stream",
     "text": [
      "Training: 100%|██████████| 69/69 [00:08<00:00,  8.18it/s, loss=1.5900, acc=0.2277]\n",
      "Validation: 100%|██████████| 4/4 [00:00<00:00,  4.19it/s]\n"
     ]
    },
    {
     "name": "stdout",
     "output_type": "stream",
     "text": [
      "Train Loss: 1.5902, Train Acc: 0.2277\n",
      "Val Loss: 1.5964, Val Acc: 0.2250\n",
      "\n",
      "Epoch 7/30\n"
     ]
    },
    {
     "name": "stderr",
     "output_type": "stream",
     "text": [
      "Training: 100%|██████████| 69/69 [00:07<00:00,  8.75it/s, loss=1.5795, acc=0.2255]\n",
      "Validation: 100%|██████████| 4/4 [00:01<00:00,  3.96it/s]\n"
     ]
    },
    {
     "name": "stdout",
     "output_type": "stream",
     "text": [
      "Train Loss: 1.5856, Train Acc: 0.2255\n",
      "Val Loss: 1.5940, Val Acc: 0.2350\n",
      "\n",
      "Epoch 8/30\n"
     ]
    },
    {
     "name": "stderr",
     "output_type": "stream",
     "text": [
      "Training: 100%|██████████| 69/69 [00:07<00:00,  8.74it/s, loss=1.5790, acc=0.2326]\n",
      "Validation: 100%|██████████| 4/4 [00:00<00:00,  4.17it/s]\n"
     ]
    },
    {
     "name": "stdout",
     "output_type": "stream",
     "text": [
      "Train Loss: 1.5812, Train Acc: 0.2326\n",
      "Val Loss: 1.5930, Val Acc: 0.2230\n",
      "\n",
      "Epoch 9/30\n"
     ]
    },
    {
     "name": "stderr",
     "output_type": "stream",
     "text": [
      "Training: 100%|██████████| 69/69 [00:10<00:00,  6.69it/s, loss=1.6053, acc=0.2393]\n",
      "Validation: 100%|██████████| 4/4 [00:01<00:00,  3.81it/s]\n"
     ]
    },
    {
     "name": "stdout",
     "output_type": "stream",
     "text": [
      "Train Loss: 1.5772, Train Acc: 0.2393\n",
      "Val Loss: 1.6018, Val Acc: 0.2130\n",
      "\n",
      "Epoch 10/30\n"
     ]
    },
    {
     "name": "stderr",
     "output_type": "stream",
     "text": [
      "Training: 100%|██████████| 69/69 [00:07<00:00,  8.89it/s, loss=1.5737, acc=0.2470]\n",
      "Validation: 100%|██████████| 4/4 [00:00<00:00,  4.27it/s]\n"
     ]
    },
    {
     "name": "stdout",
     "output_type": "stream",
     "text": [
      "Train Loss: 1.5720, Train Acc: 0.2470\n",
      "Val Loss: 1.6021, Val Acc: 0.2120\n",
      "\n",
      "Epoch 11/30\n"
     ]
    },
    {
     "name": "stderr",
     "output_type": "stream",
     "text": [
      "Training: 100%|██████████| 69/69 [00:07<00:00,  9.27it/s, loss=1.6063, acc=0.2410]\n",
      "Validation: 100%|██████████| 4/4 [00:00<00:00,  4.32it/s]\n"
     ]
    },
    {
     "name": "stdout",
     "output_type": "stream",
     "text": [
      "Train Loss: 1.5689, Train Acc: 0.2410\n",
      "Val Loss: 1.6115, Val Acc: 0.2190\n",
      "\n",
      "Epoch 12/30\n"
     ]
    },
    {
     "name": "stderr",
     "output_type": "stream",
     "text": [
      "Training: 100%|██████████| 69/69 [00:08<00:00,  8.55it/s, loss=1.5681, acc=0.2502]\n",
      "Validation: 100%|██████████| 4/4 [00:03<00:00,  1.24it/s]\n"
     ]
    },
    {
     "name": "stdout",
     "output_type": "stream",
     "text": [
      "Train Loss: 1.5636, Train Acc: 0.2502\n",
      "Val Loss: 1.6112, Val Acc: 0.2100\n",
      "\n",
      "Epoch 13/30\n"
     ]
    },
    {
     "name": "stderr",
     "output_type": "stream",
     "text": [
      "Training: 100%|██████████| 69/69 [00:08<00:00,  8.50it/s, loss=1.6089, acc=0.2576]\n",
      "Validation: 100%|██████████| 4/4 [00:00<00:00,  4.43it/s]\n"
     ]
    },
    {
     "name": "stdout",
     "output_type": "stream",
     "text": [
      "Train Loss: 1.5577, Train Acc: 0.2576\n",
      "Val Loss: 1.5964, Val Acc: 0.2220\n",
      "\n",
      "Epoch 14/30\n"
     ]
    },
    {
     "name": "stderr",
     "output_type": "stream",
     "text": [
      "Training: 100%|██████████| 69/69 [00:07<00:00,  9.14it/s, loss=1.5016, acc=0.2638]\n",
      "Validation: 100%|██████████| 4/4 [00:00<00:00,  4.19it/s]\n"
     ]
    },
    {
     "name": "stdout",
     "output_type": "stream",
     "text": [
      "Train Loss: 1.5499, Train Acc: 0.2638\n",
      "Val Loss: 1.6025, Val Acc: 0.2080\n",
      "\n",
      "Epoch 15/30\n"
     ]
    },
    {
     "name": "stderr",
     "output_type": "stream",
     "text": [
      "Training: 100%|██████████| 69/69 [00:07<00:00,  8.90it/s, loss=1.4645, acc=0.2733]\n",
      "Validation: 100%|██████████| 4/4 [00:00<00:00,  4.00it/s]\n"
     ]
    },
    {
     "name": "stdout",
     "output_type": "stream",
     "text": [
      "Train Loss: 1.5346, Train Acc: 0.2733\n",
      "Val Loss: 1.6121, Val Acc: 0.2200\n",
      "\n",
      "Epoch 16/30\n"
     ]
    },
    {
     "name": "stderr",
     "output_type": "stream",
     "text": [
      "Training: 100%|██████████| 69/69 [00:10<00:00,  6.72it/s, loss=1.4571, acc=0.2803]\n",
      "Validation: 100%|██████████| 4/4 [00:01<00:00,  3.36it/s]\n"
     ]
    },
    {
     "name": "stdout",
     "output_type": "stream",
     "text": [
      "Train Loss: 1.5272, Train Acc: 0.2803\n",
      "Val Loss: 1.6530, Val Acc: 0.2090\n",
      "\n",
      "Epoch 17/30\n"
     ]
    },
    {
     "name": "stderr",
     "output_type": "stream",
     "text": [
      "Training: 100%|██████████| 69/69 [00:07<00:00,  9.24it/s, loss=1.5840, acc=0.2878]\n",
      "Validation: 100%|██████████| 4/4 [00:00<00:00,  4.49it/s]\n"
     ]
    },
    {
     "name": "stdout",
     "output_type": "stream",
     "text": [
      "Train Loss: 1.5180, Train Acc: 0.2878\n",
      "Val Loss: 1.6616, Val Acc: 0.2070\n",
      "\n",
      "Epoch 18/30\n"
     ]
    },
    {
     "name": "stderr",
     "output_type": "stream",
     "text": [
      "Training: 100%|██████████| 69/69 [00:07<00:00,  9.44it/s, loss=1.4359, acc=0.2926]\n",
      "Validation: 100%|██████████| 4/4 [00:00<00:00,  4.43it/s]\n"
     ]
    },
    {
     "name": "stdout",
     "output_type": "stream",
     "text": [
      "Train Loss: 1.5015, Train Acc: 0.2926\n",
      "Val Loss: 1.6483, Val Acc: 0.2030\n",
      "\n",
      "Epoch 19/30\n"
     ]
    },
    {
     "name": "stderr",
     "output_type": "stream",
     "text": [
      "Training: 100%|██████████| 69/69 [00:07<00:00,  9.02it/s, loss=1.5126, acc=0.2982]\n",
      "Validation: 100%|██████████| 4/4 [00:00<00:00,  4.15it/s]\n"
     ]
    },
    {
     "name": "stdout",
     "output_type": "stream",
     "text": [
      "Train Loss: 1.4968, Train Acc: 0.2982\n",
      "Val Loss: 1.7143, Val Acc: 0.2280\n",
      "\n",
      "Epoch 20/30\n"
     ]
    },
    {
     "name": "stderr",
     "output_type": "stream",
     "text": [
      "Training: 100%|██████████| 69/69 [00:10<00:00,  6.70it/s, loss=1.3429, acc=0.3063]\n",
      "Validation: 100%|██████████| 4/4 [00:00<00:00,  4.16it/s]\n"
     ]
    },
    {
     "name": "stdout",
     "output_type": "stream",
     "text": [
      "Train Loss: 1.4768, Train Acc: 0.3063\n",
      "Val Loss: 1.7076, Val Acc: 0.2190\n",
      "\n",
      "Epoch 21/30\n"
     ]
    },
    {
     "name": "stderr",
     "output_type": "stream",
     "text": [
      "Training: 100%|██████████| 69/69 [00:07<00:00,  9.40it/s, loss=1.4974, acc=0.3158]\n",
      "Validation: 100%|██████████| 4/4 [00:00<00:00,  4.40it/s]\n"
     ]
    },
    {
     "name": "stdout",
     "output_type": "stream",
     "text": [
      "Train Loss: 1.4721, Train Acc: 0.3158\n",
      "Val Loss: 1.7342, Val Acc: 0.2010\n",
      "\n",
      "Epoch 22/30\n"
     ]
    },
    {
     "name": "stderr",
     "output_type": "stream",
     "text": [
      "Training: 100%|██████████| 69/69 [00:07<00:00,  9.12it/s, loss=1.4761, acc=0.3260]\n",
      "Validation: 100%|██████████| 4/4 [00:00<00:00,  4.14it/s]\n"
     ]
    },
    {
     "name": "stdout",
     "output_type": "stream",
     "text": [
      "Train Loss: 1.4543, Train Acc: 0.3260\n",
      "Val Loss: 1.7403, Val Acc: 0.2250\n",
      "\n",
      "Epoch 23/30\n"
     ]
    },
    {
     "name": "stderr",
     "output_type": "stream",
     "text": [
      "Training: 100%|██████████| 69/69 [00:07<00:00,  8.95it/s, loss=1.4740, acc=0.3342]\n",
      "Validation: 100%|██████████| 4/4 [00:01<00:00,  3.89it/s]\n"
     ]
    },
    {
     "name": "stdout",
     "output_type": "stream",
     "text": [
      "Train Loss: 1.4415, Train Acc: 0.3342\n",
      "Val Loss: 1.7717, Val Acc: 0.2260\n",
      "\n",
      "Epoch 24/30\n"
     ]
    },
    {
     "name": "stderr",
     "output_type": "stream",
     "text": [
      "Training: 100%|██████████| 69/69 [00:10<00:00,  6.78it/s, loss=1.4655, acc=0.3359]\n",
      "Validation: 100%|██████████| 4/4 [00:00<00:00,  4.49it/s]\n"
     ]
    },
    {
     "name": "stdout",
     "output_type": "stream",
     "text": [
      "Train Loss: 1.4344, Train Acc: 0.3359\n",
      "Val Loss: 1.7691, Val Acc: 0.2270\n",
      "\n",
      "Epoch 25/30\n"
     ]
    },
    {
     "name": "stderr",
     "output_type": "stream",
     "text": [
      "Training: 100%|██████████| 69/69 [00:07<00:00,  9.26it/s, loss=1.4148, acc=0.3448]\n",
      "Validation: 100%|██████████| 4/4 [00:00<00:00,  4.52it/s]\n"
     ]
    },
    {
     "name": "stdout",
     "output_type": "stream",
     "text": [
      "Train Loss: 1.4246, Train Acc: 0.3448\n",
      "Val Loss: 1.7752, Val Acc: 0.2320\n",
      "\n",
      "Epoch 26/30\n"
     ]
    },
    {
     "name": "stderr",
     "output_type": "stream",
     "text": [
      "Training: 100%|██████████| 69/69 [00:07<00:00,  9.38it/s, loss=1.4357, acc=0.3500]\n",
      "Validation: 100%|██████████| 4/4 [00:01<00:00,  3.99it/s]\n"
     ]
    },
    {
     "name": "stdout",
     "output_type": "stream",
     "text": [
      "Train Loss: 1.4174, Train Acc: 0.3500\n",
      "Val Loss: 1.7934, Val Acc: 0.2260\n",
      "\n",
      "Epoch 27/30\n"
     ]
    },
    {
     "name": "stderr",
     "output_type": "stream",
     "text": [
      "Training: 100%|██████████| 69/69 [00:10<00:00,  6.70it/s, loss=1.4047, acc=0.3450]\n",
      "Validation: 100%|██████████| 4/4 [00:01<00:00,  3.79it/s]\n"
     ]
    },
    {
     "name": "stdout",
     "output_type": "stream",
     "text": [
      "Train Loss: 1.4116, Train Acc: 0.3450\n",
      "Val Loss: 1.8129, Val Acc: 0.2190\n",
      "\n",
      "Epoch 28/30\n"
     ]
    },
    {
     "name": "stderr",
     "output_type": "stream",
     "text": [
      "Training: 100%|██████████| 69/69 [00:07<00:00,  9.07it/s, loss=1.3337, acc=0.3502]\n",
      "Validation: 100%|██████████| 4/4 [00:00<00:00,  4.31it/s]\n"
     ]
    },
    {
     "name": "stdout",
     "output_type": "stream",
     "text": [
      "Train Loss: 1.4076, Train Acc: 0.3502\n",
      "Val Loss: 1.8128, Val Acc: 0.2340\n",
      "\n",
      "Epoch 29/30\n"
     ]
    },
    {
     "name": "stderr",
     "output_type": "stream",
     "text": [
      "Training: 100%|██████████| 69/69 [00:07<00:00,  9.51it/s, loss=1.3166, acc=0.3534]\n",
      "Validation: 100%|██████████| 4/4 [00:00<00:00,  4.50it/s]\n"
     ]
    },
    {
     "name": "stdout",
     "output_type": "stream",
     "text": [
      "Train Loss: 1.4076, Train Acc: 0.3534\n",
      "Val Loss: 1.8107, Val Acc: 0.2230\n",
      "\n",
      "Epoch 30/30\n"
     ]
    },
    {
     "name": "stderr",
     "output_type": "stream",
     "text": [
      "Training: 100%|██████████| 69/69 [00:07<00:00,  9.20it/s, loss=1.3537, acc=0.3567]\n",
      "Validation: 100%|██████████| 4/4 [00:01<00:00,  3.99it/s]"
     ]
    },
    {
     "name": "stdout",
     "output_type": "stream",
     "text": [
      "Train Loss: 1.4040, Train Acc: 0.3567\n",
      "Val Loss: 1.8079, Val Acc: 0.2190\n",
      "Training completed in 4.70 minutes\n",
      "Best validation accuracy: 0.2430\n"
     ]
    },
    {
     "name": "stderr",
     "output_type": "stream",
     "text": [
      "\n"
     ]
    },
    {
     "data": {
      "text/html": [],
      "text/plain": [
       "<IPython.core.display.HTML object>"
      ]
     },
     "metadata": {},
     "output_type": "display_data"
    },
    {
     "data": {
      "text/html": [
       "<br>    <style><br>        .wandb-row {<br>            display: flex;<br>            flex-direction: row;<br>            flex-wrap: wrap;<br>            justify-content: flex-start;<br>            width: 100%;<br>        }<br>        .wandb-col {<br>            display: flex;<br>            flex-direction: column;<br>            flex-basis: 100%;<br>            flex: 1;<br>            padding: 10px;<br>        }<br>    </style><br><div class=\"wandb-row\"><div class=\"wandb-col\"><h3>Run history:</h3><br/><table class=\"wandb\"><tr><td>epoch</td><td>▁▁▁▂▂▂▂▃▃▃▃▄▄▄▄▅▅▅▅▆▆▆▆▇▇▇▇███</td></tr><tr><td>learning_rate</td><td>▂▃▅▆██████▇▇▇▆▆▅▅▄▄▄▃▃▂▂▂▁▁▁▁▁</td></tr><tr><td>train_accuracy</td><td>▁▁▁▂▂▂▂▂▃▃▃▃▃▄▄▄▅▅▅▆▆▇▇▇▇█▇███</td></tr><tr><td>train_loss</td><td>█████▇▇▇▇▇▇▆▆▆▅▅▅▄▄▃▃▃▂▂▂▁▁▁▁▁</td></tr><tr><td>val_accuracy</td><td>▂█▅▆▄▅▇▅▃▃▄▂▅▂▄▂▂▁▅▄▁▅▅▅▆▅▄▆▅▄</td></tr><tr><td>val_loss</td><td>▂▂▁▁▁▁▁▁▁▁▂▂▁▁▂▃▃▃▅▅▅▆▇▇▇▇████</td></tr></table><br/></div><div class=\"wandb-col\"><h3>Run summary:</h3><br/><table class=\"wandb\"><tr><td>best_val_accuracy</td><td>0.243</td></tr><tr><td>epoch</td><td>29</td></tr><tr><td>learning_rate</td><td>0.0</td></tr><tr><td>train_accuracy</td><td>0.35671</td></tr><tr><td>train_loss</td><td>1.40404</td></tr><tr><td>val_accuracy</td><td>0.219</td></tr><tr><td>val_loss</td><td>1.80789</td></tr></table><br/></div></div>"
      ],
      "text/plain": [
       "<IPython.core.display.HTML object>"
      ]
     },
     "metadata": {},
     "output_type": "display_data"
    },
    {
     "data": {
      "text/html": [
       " View run <strong style=\"color:#cdcd00\">rnn-qa-model-2025-04-05T00:06:26</strong> at: <a href='https://wandb.ai/nevinhelfenstein-hslu-nlp-fs25/hslu-fs25-nlp-rnn-qa/runs/965why0m' target=\"_blank\">https://wandb.ai/nevinhelfenstein-hslu-nlp-fs25/hslu-fs25-nlp-rnn-qa/runs/965why0m</a><br> View project at: <a href='https://wandb.ai/nevinhelfenstein-hslu-nlp-fs25/hslu-fs25-nlp-rnn-qa' target=\"_blank\">https://wandb.ai/nevinhelfenstein-hslu-nlp-fs25/hslu-fs25-nlp-rnn-qa</a><br>Synced 5 W&B file(s), 0 media file(s), 0 artifact file(s) and 0 other file(s)"
      ],
      "text/plain": [
       "<IPython.core.display.HTML object>"
      ]
     },
     "metadata": {},
     "output_type": "display_data"
    },
    {
     "data": {
      "text/html": [
       "Find logs at: <code>./wandb/run-20250405_000626-965why0m/logs</code>"
      ],
      "text/plain": [
       "<IPython.core.display.HTML object>"
      ]
     },
     "metadata": {},
     "output_type": "display_data"
    },
    {
     "name": "stdout",
     "output_type": "stream",
     "text": [
      "RNN Training complete! Best validation accuracy: 0.2430\n"
     ]
    }
   ],
   "source": [
    "print(\"Starting RNN model training...\")\n",
    "num_epochs = rnn_run.config.epochs\n",
    "trained_rnn_model, best_rnn_accuracy = train_rnn_model(  # Updated name\n",
    "    rnn_model, \n",
    "    criterion, \n",
    "    optimizer, \n",
    "    scheduler, \n",
    "    train_rnn_loader, \n",
    "    valid_rnn_loader, \n",
    "    num_epochs,\n",
    "    device,\n",
    "    checkpoints_path,\n",
    "    gradient_clip_val=1.0 \n",
    ")\n",
    "\n",
    "print(f\"RNN Training complete! Best validation accuracy: {best_rnn_accuracy:.4f}\")"
   ]
  },
  {
   "cell_type": "markdown",
   "metadata": {},
   "source": [
    "# Evaluation"
   ]
  },
  {
   "cell_type": "markdown",
   "metadata": {},
   "source": [
    "### Checkpoint Loading\n",
    "\n",
    "We begin by loading the trained model checkpoints for both models. This step is crucial for a fair evaluation because:\n",
    "\n",
    "- It retrieves our best performing models from saved checkpoints\n",
    "- It ensures we're evaluating the models at their peak performance\n",
    "- It handles the transition from training to evaluation mode\n",
    "\n",
    "The checkpoint loading function handles various checkpoint formats and properly restores the model's state dictionary. We load both the embedding model (QASimpleClassifier) and RNN model (QARNNModel) with their respective architecture and hyperparameters."
   ]
  },
  {
   "cell_type": "code",
   "execution_count": 43,
   "metadata": {},
   "outputs": [
    {
     "name": "stdout",
     "output_type": "stream",
     "text": [
      "Loaded embedding model checkpoint from epoch 20\n",
      "Loaded RNN model checkpoint from epoch 1\n"
     ]
    }
   ],
   "source": [
    "def load_checkpoint(model, checkpoint_path):\n",
    "    \"\"\"Load model checkpoint and return both model and training epoch\"\"\"\n",
    "    checkpoint = torch.load(checkpoint_path)\n",
    "    model.load_state_dict(checkpoint[\"model_state_dict\"])\n",
    "    return model, checkpoint[\"epoch\"]\n",
    "\n",
    "# Load embedding model checkpoint\n",
    "checkpoints_path_qa = \"./checkpoints/qa_model\"\n",
    "best_embedding_checkpoint_path = os.path.join(checkpoints_path_qa, \"best_model.pt\")\n",
    "embedding_model = QASimpleClassifier(\n",
    "    embedding_dim=300,\n",
    "    hidden_dim=64,\n",
    "    dropout_rate=0.2\n",
    ").to(device)\n",
    "embedding_model, best_embedding_epoch = load_checkpoint(embedding_model, best_embedding_checkpoint_path)\n",
    "embedding_model.eval()  # Set to evaluation mode\n",
    "print(f\"Loaded embedding model checkpoint from epoch {best_embedding_epoch}\")\n",
    "\n",
    "# Load RNN model checkpoint\n",
    "checkpoints_path_rnn = \"./checkpoints/rnn_model\"\n",
    "best_rnn_checkpoint_path = os.path.join(checkpoints_path_rnn, \"best_rnn_model.pt\")\n",
    "rnn_model = QARNNModel(\n",
    "    embedding_dim=300,\n",
    "    hidden_dim=128,\n",
    "    dropout_rate=0.2\n",
    ").to(device)\n",
    "rnn_model, best_rnn_epoch = load_checkpoint(rnn_model, best_rnn_checkpoint_path)\n",
    "rnn_model.eval()  # Set to evaluation mode\n",
    "print(f\"Loaded RNN model checkpoint from epoch {best_rnn_epoch}\")"
   ]
  },
  {
   "cell_type": "markdown",
   "metadata": {},
   "source": [
    "### Test Dataset Creation\n",
    "\n",
    "Creating proper test datasets ensures a fair comparison between models. This step:\n",
    "\n",
    "- Creates identical test data for both model architectures\n",
    "- Processes the data in model-appropriate formats\n",
    "- Configures larger batch sizes to speed up evaluation\n",
    "\n",
    "Each model requires a different dataset implementation - the embedding model uses normalized fixed-length vectors, while the RNN model processes sequences with our custom collation function. Both datasets access the same underlying test examples, ensuring consistent evaluation."
   ]
  },
  {
   "cell_type": "code",
   "execution_count": 44,
   "metadata": {},
   "outputs": [
    {
     "name": "stdout",
     "output_type": "stream",
     "text": [
      "Calculating IDF scores...\n"
     ]
    },
    {
     "name": "stderr",
     "output_type": "stream",
     "text": [
      "Collecting texts: 100%|██████████| 1221/1221 [00:00<00:00, 38914.94it/s]\n",
      "Counting terms: 100%|██████████| 7326/7326 [00:00<00:00, 26324.06it/s]"
     ]
    },
    {
     "name": "stdout",
     "output_type": "stream",
     "text": [
      "Calculated IDF scores for 4790 terms\n",
      "Created test loaders - Embedding: 2 batches, RNN: 5 batches\n"
     ]
    },
    {
     "name": "stderr",
     "output_type": "stream",
     "text": [
      "\n"
     ]
    }
   ],
   "source": [
    "# Create embedding test dataset and loader\n",
    "embedding_test_dataset = CommonsenseQAEmbeddingDataset(\n",
    "    test, \n",
    "    wv,\n",
    "    embedding_dim=300,\n",
    "    cache_path='test_embeddings.pkl',\n",
    "    use_tfidf=True\n",
    ")\n",
    "normalized_test_dataset = NormalizedEmbeddingDataset(embedding_test_dataset)\n",
    "\n",
    "embedding_test_loader = DataLoader(\n",
    "    normalized_test_dataset,\n",
    "    batch_size=1024,  # Larger batch size for testing\n",
    "    shuffle=False,\n",
    "    num_workers=4,\n",
    "    pin_memory=True\n",
    ")\n",
    "\n",
    "# Create RNN test dataset and loader\n",
    "rnn_test_dataset = CommonsenseQARNNDataset(\n",
    "    test, \n",
    "    wv,\n",
    "    embedding_dim=300\n",
    ")\n",
    "\n",
    "rnn_test_loader = DataLoader(\n",
    "    rnn_test_dataset,\n",
    "    batch_size=256,  # Adjust based on memory constraints\n",
    "    shuffle=False,\n",
    "    collate_fn=rnn_collate_batch,\n",
    "    num_workers=4,\n",
    "    pin_memory=True\n",
    ")\n",
    "\n",
    "print(f\"Created test loaders - Embedding: {len(embedding_test_loader)} batches, RNN: {len(rnn_test_loader)} batches\")"
   ]
  },
  {
   "cell_type": "markdown",
   "metadata": {},
   "source": [
    "### Evaluation Function Implementation\n",
    "\n",
    "Our comprehensive evaluation function calculates multiple metrics beyond simple accuracy. Key features include:\n",
    "\n",
    "- **Multiple metrics**: Accuracy, precision, recall, and F1 score for each class\n",
    "- **Flexible processing**: Handles different input formats for each model type\n",
    "- **Efficient batching**: Processes test data in large batches for faster evaluation\n",
    "- **Result collection**: Saves all predictions and outputs for detailed analysis\n",
    "\n",
    "Using multiple metrics provides a more nuanced understanding of model performance, particularly for imbalanced classes. The function efficiently moves data to the appropriate device (CPU/GPU) and handles the forward pass through each model type."
   ]
  },
  {
   "cell_type": "code",
   "execution_count": 52,
   "metadata": {},
   "outputs": [],
   "source": [
    "from sklearn.metrics import accuracy_score, precision_recall_fscore_support, classification_report\n",
    "\n",
    "def evaluate_model(model, test_loader, model_type=\"embedding\"):\n",
    "    \"\"\"Evaluate model performance using sklearn metrics\"\"\"\n",
    "    model.eval()\n",
    "    device = next(model.parameters()).device\n",
    "    \n",
    "    all_predictions = []\n",
    "    all_labels = []\n",
    "    all_outputs = []\n",
    "    \n",
    "    with torch.no_grad():\n",
    "        for batch in tqdm(test_loader, desc=f\"Evaluating {model_type} model\"):\n",
    "            # Handle different batch formats for each model type\n",
    "            if model_type == \"embedding\":\n",
    "                question_batch, choices_batch, answers = batch\n",
    "                question_batch = question_batch.to(device)\n",
    "                choices_batch = choices_batch.to(device)\n",
    "                answers = answers.to(device)\n",
    "                outputs = model(question_batch, choices_batch)\n",
    "            else:  # RNN model\n",
    "                padded_sequences, sequence_lengths, indices, answers = batch\n",
    "                padded_sequences = padded_sequences.to(device)\n",
    "                sequence_lengths = sequence_lengths.to(device)\n",
    "                indices = indices.to(device)\n",
    "                answers = answers.to(device)\n",
    "                outputs = model(padded_sequences, sequence_lengths, indices)\n",
    "            \n",
    "            # Get predictions\n",
    "            predictions = torch.argmax(outputs, dim=1)\n",
    "            \n",
    "            # Store predictions and labels\n",
    "            all_predictions.extend(predictions.cpu().numpy())\n",
    "            all_labels.extend(answers.cpu().numpy())\n",
    "            all_outputs.append(outputs.cpu().detach())\n",
    "    \n",
    "    # Calculate metrics using sklearn\n",
    "    accuracy = accuracy_score(all_labels, all_predictions)\n",
    "    precision, recall, f1, _ = precision_recall_fscore_support(\n",
    "        all_labels, all_predictions, average=None, zero_division=0\n",
    "    )\n",
    "    macro_precision, macro_recall, macro_f1, _ = precision_recall_fscore_support(\n",
    "        all_labels, all_predictions, average='macro', zero_division=0\n",
    "    )\n",
    "    \n",
    "    # Create metrics dictionary\n",
    "    metrics_dict = {\n",
    "        \"accuracy\": accuracy,\n",
    "        \"precision\": precision.tolist(),\n",
    "        \"recall\": recall.tolist(),\n",
    "        \"f1\": f1.tolist(),\n",
    "        \"macro_precision\": macro_precision,\n",
    "        \"macro_recall\": macro_recall,\n",
    "        \"macro_f1\": macro_f1\n",
    "    }\n",
    "    \n",
    "    return metrics_dict, all_predictions, all_labels, torch.cat(all_outputs) if all_outputs else None\n"
   ]
  },
  {
   "cell_type": "markdown",
   "metadata": {},
   "source": [
    "### Basic Metrics Comparison\n",
    "\n",
    "This analysis provides a direct head-to-head comparison of model performance. We compute:\n",
    "\n",
    "- **Overall accuracy**: The percentage of examples where each model selects the correct answer\n",
    "- **Performance gap**: The difference in accuracy between models\n",
    "- **Detailed metrics**: Precision, recall, and F1 scores for a more nuanced comparison\n",
    "\n",
    "These core metrics give us a high-level understanding of how our models perform on the commonsense reasoning task. The comparison shows which approach (embedding-based or sequence-based) better captures commonsense knowledge, and by what margin."
   ]
  },
  {
   "cell_type": "code",
   "execution_count": 53,
   "metadata": {},
   "outputs": [
    {
     "name": "stderr",
     "output_type": "stream",
     "text": [
      "Evaluating embedding model: 100%|██████████| 2/2 [00:00<00:00,  2.02it/s]\n",
      "Evaluating rnn model: 100%|██████████| 5/5 [00:01<00:00,  3.05it/s]"
     ]
    },
    {
     "name": "stdout",
     "output_type": "stream",
     "text": [
      "\n",
      "===== MODEL PERFORMANCE COMPARISON =====\n",
      "Embedding Model Test Accuracy: 0.2326\n",
      "RNN Model Test Accuracy: 0.2277\n",
      "Difference: 0.0049 in favor of the Embedding model\n",
      "\n",
      "===== DETAILED METRICS =====\n",
      "Embedding Model - Macro Precision: 0.2328, Macro Recall: 0.2328, Macro F1: 0.2327\n",
      "RNN Model - Macro Precision: 0.2276, Macro Recall: 0.2274, Macro F1: 0.2274\n"
     ]
    },
    {
     "name": "stderr",
     "output_type": "stream",
     "text": [
      "\n"
     ]
    }
   ],
   "source": [
    "from sklearn.metrics import classification_report, confusion_matrix\n",
    "\n",
    "# Evaluate embedding model\n",
    "embedding_metrics, embedding_predictions, embedding_labels, embedding_outputs = evaluate_model(\n",
    "    embedding_model, embedding_test_loader, \"embedding\"\n",
    ")\n",
    "\n",
    "# Evaluate RNN model\n",
    "rnn_metrics, rnn_predictions, rnn_labels, rnn_outputs = evaluate_model(\n",
    "    rnn_model, rnn_test_loader, \"rnn\"\n",
    ")\n",
    "\n",
    "print(\"\\n===== MODEL PERFORMANCE COMPARISON =====\")\n",
    "print(f\"Embedding Model Test Accuracy: {embedding_metrics['accuracy']:.4f}\")\n",
    "print(f\"RNN Model Test Accuracy: {rnn_metrics['accuracy']:.4f}\")\n",
    "print(f\"Difference: {abs(embedding_metrics['accuracy'] - rnn_metrics['accuracy']):.4f} in favor of the \"\n",
    "      f\"{'Embedding' if embedding_metrics['accuracy'] > rnn_metrics['accuracy'] else 'RNN'} model\")\n",
    "\n",
    "print(\"\\n===== DETAILED METRICS =====\")\n",
    "print(f\"Embedding Model - Macro Precision: {embedding_metrics['macro_precision']:.4f}, \"\n",
    "      f\"Macro Recall: {embedding_metrics['macro_recall']:.4f}, \"\n",
    "      f\"Macro F1: {embedding_metrics['macro_f1']:.4f}\")\n",
    "print(f\"RNN Model - Macro Precision: {rnn_metrics['macro_precision']:.4f}, \"\n",
    "      f\"Macro Recall: {rnn_metrics['macro_recall']:.4f}, \"\n",
    "      f\"Macro F1: {rnn_metrics['macro_f1']:.4f}\")"
   ]
  },
  {
   "cell_type": "markdown",
   "metadata": {},
   "source": [
    "### Model Agreement Analysis\n",
    "\n",
    "This analysis examines how frequently both models make the same prediction, regardless of correctness. It reveals:\n",
    "\n",
    "- **Convergent thinking**: How often models reach the same conclusion\n",
    "- **Diversity of approach**: Whether models learn different reasoning strategies\n",
    "- **Ensemble potential**: Low agreement suggests models might complement each other\n",
    "\n",
    "Agreement analysis provides insight into whether the models are solving the task in similar ways. High disagreement with similar accuracy suggests the models have learned different, equally effective reasoning strategies, while high agreement indicates they've converged on similar approaches."
   ]
  },
  {
   "cell_type": "code",
   "execution_count": 54,
   "metadata": {},
   "outputs": [
    {
     "name": "stdout",
     "output_type": "stream",
     "text": [
      "\n",
      "===== MODEL AGREEMENT ANALYSIS =====\n",
      "Models agree on 408 out of 1221 examples (33.42%)\n"
     ]
    }
   ],
   "source": [
    "# Calculate agreement percentage\n",
    "agreements = np.sum(np.array(embedding_predictions) == np.array(rnn_predictions))\n",
    "agreement_percentage = agreements / len(embedding_predictions) * 100\n",
    "\n",
    "print(\"\\n===== MODEL AGREEMENT ANALYSIS =====\")\n",
    "print(f\"Models agree on {agreements} out of {len(embedding_predictions)} examples ({agreement_percentage:.2f}%)\")\n",
    "\n",
    "# Create label mapping for readable output\n",
    "label_mapping = {i: chr(65 + i) for i in range(5)}  # 0->A, 1->B, etc.\n",
    "label_names = list(label_mapping.values())"
   ]
  },
  {
   "cell_type": "markdown",
   "metadata": {},
   "source": [
    "### Classification Reports and Confusion Matrices\n",
    "\n",
    "These detailed visualizations and metrics break down performance by answer choice (A through E):\n",
    "\n",
    "- **Per-class metrics**: Precision, recall, and F1 score for each answer option\n",
    "- **Error patterns**: Confusion matrices visually show which classes get confused with others\n",
    "- **Systematic biases**: Reveals if certain answer choices are consistently predicted correctly or incorrectly\n",
    "\n",
    "Confusion matrices are particularly valuable because they show not just when models make mistakes, but what kind of mistakes they make. This helps identify if there are systematic biases in how each model approaches different answer types."
   ]
  },
  {
   "cell_type": "code",
   "execution_count": 55,
   "metadata": {},
   "outputs": [
    {
     "name": "stdout",
     "output_type": "stream",
     "text": [
      "\n",
      "===== CLASSIFICATION REPORTS =====\n",
      "\n",
      "Embedding Model Classification Report:\n",
      "              precision    recall  f1-score   support\n",
      "\n",
      "           A       0.24      0.25      0.24       239\n",
      "           B       0.25      0.23      0.24       255\n",
      "           C       0.23      0.24      0.24       241\n",
      "           D       0.22      0.22      0.22       251\n",
      "           E       0.23      0.23      0.23       235\n",
      "\n",
      "    accuracy                           0.23      1221\n",
      "   macro avg       0.23      0.23      0.23      1221\n",
      "weighted avg       0.23      0.23      0.23      1221\n",
      "\n",
      "\n",
      "RNN Model Classification Report:\n",
      "              precision    recall  f1-score   support\n",
      "\n",
      "           A       0.21      0.22      0.21       239\n",
      "           B       0.26      0.26      0.26       255\n",
      "           C       0.22      0.23      0.23       241\n",
      "           D       0.22      0.21      0.21       251\n",
      "           E       0.22      0.22      0.22       235\n",
      "\n",
      "    accuracy                           0.23      1221\n",
      "   macro avg       0.23      0.23      0.23      1221\n",
      "weighted avg       0.23      0.23      0.23      1221\n",
      "\n"
     ]
    },
    {
     "data": {
      "image/png": "[encoded data removed]",
      "text/plain": [
       "<Figure size 1600x700 with 4 Axes>"
      ]
     },
     "metadata": {},
     "output_type": "display_data"
    }
   ],
   "source": [
    "# Classification reports\n",
    "print(\"\\n===== CLASSIFICATION REPORTS =====\")\n",
    "print(\"\\nEmbedding Model Classification Report:\")\n",
    "print(classification_report(embedding_labels, embedding_predictions, target_names=label_names, zero_division=0))\n",
    "\n",
    "print(\"\\nRNN Model Classification Report:\")\n",
    "print(classification_report(rnn_labels, rnn_predictions, target_names=label_names, zero_division=0))\n",
    "\n",
    "# Confusion matrices\n",
    "embedding_cm = confusion_matrix(embedding_labels, embedding_predictions)\n",
    "rnn_cm = confusion_matrix(rnn_labels, rnn_predictions)\n",
    "\n",
    "plt.figure(figsize=(16, 7))\n",
    "\n",
    "plt.subplot(1, 2, 1)\n",
    "sns.heatmap(embedding_cm, annot=True, fmt=\"d\", cmap=\"Blues\", xticklabels=label_names, yticklabels=label_names)\n",
    "plt.title(\"Embedding Model Confusion Matrix\")\n",
    "plt.xlabel(\"Predicted\")\n",
    "plt.ylabel(\"True\")\n",
    "\n",
    "plt.subplot(1, 2, 2)\n",
    "sns.heatmap(rnn_cm, annot=True, fmt=\"d\", cmap=\"Blues\", xticklabels=label_names, yticklabels=label_names)\n",
    "plt.title(\"RNN Model Confusion Matrix\")\n",
    "plt.xlabel(\"Predicted\")\n",
    "plt.ylabel(\"True\")\n",
    "\n",
    "plt.tight_layout()\n",
    "plt.savefig('confusion_matrices.png')\n",
    "plt.show()"
   ]
  },
  {
   "cell_type": "markdown",
   "metadata": {},
   "source": [
    "### Example-Based Analysis\n",
    "\n",
    "This qualitative analysis examines specific examples where models disagree, providing concrete insights:\n",
    "\n",
    "- **Real examples**: Shows actual questions and choices from the test set\n",
    "- **Prediction differences**: Highlights where and how models diverge in their reasoning\n",
    "- **Error patterns**: Helps identify the types of questions that challenge each model\n",
    "\n",
    "By examining real examples, we move beyond abstract metrics to understand practical differences in model behavior. These examples provide intuition about each model's strengths and weaknesses that purely quantitative analysis might miss."
   ]
  },
  {
   "cell_type": "code",
   "execution_count": 57,
   "metadata": {},
   "outputs": [
    {
     "name": "stdout",
     "output_type": "stream",
     "text": [
      "\n",
      "===== MODEL DISAGREEMENTS =====\n",
      "Models disagree on 813 examples (66.58%)\n",
      "\n",
      "Examples where models disagree:\n",
      "\n",
      "Question: Sitting down quickly after eating beans could lead to what?\n",
      "A) flatulence\n",
      "B) happiness\n",
      "C) laziness\n",
      "D) fall asleep\n",
      "E) comfort\n",
      "True Answer: A\n",
      "Embedding Model Prediction: E\n",
      "RNN Model Prediction: C\n",
      "--------------------------------------------------------------------------------\n",
      "\n",
      "Question: The department to where vendors deliver goods for sale is called what?\n",
      "A) delivered\n",
      "B) take away\n",
      "C) receiving\n",
      "D) pick up\n",
      "E) keep\n",
      "True Answer: C\n",
      "Embedding Model Prediction: C\n",
      "RNN Model Prediction: A\n",
      "--------------------------------------------------------------------------------\n",
      "\n",
      "Question: What does the sky do before a rain?\n",
      "A) appear beautiful\n",
      "B) appear blue\n",
      "C) shows a rainbow\n",
      "D) rain water\n",
      "E) cloud over\n",
      "True Answer: E\n",
      "Embedding Model Prediction: D\n",
      "RNN Model Prediction: A\n",
      "--------------------------------------------------------------------------------\n",
      "\n",
      "Question: He walked into the room and had a great shock, his friends had what him?\n",
      "A) expected\n",
      "B) wanting\n",
      "C) calm\n",
      "D) thundershock\n",
      "E) surprised\n",
      "True Answer: E\n",
      "Embedding Model Prediction: C\n",
      "RNN Model Prediction: E\n",
      "--------------------------------------------------------------------------------\n",
      "\n",
      "Question: If the wood texture is not smooth it is what?\n",
      "A) gilded\n",
      "B) porous\n",
      "C) solid\n",
      "D) painted\n",
      "E) less dense than water\n",
      "True Answer: B\n",
      "Embedding Model Prediction: C\n",
      "RNN Model Prediction: E\n",
      "--------------------------------------------------------------------------------\n"
     ]
    }
   ],
   "source": [
    "# Create label mapping for readable output\n",
    "label_mapping = {i: chr(65 + i) for i in range(5)}  # 0->A, 1->B, etc.\n",
    "\n",
    "# Find examples where models disagree\n",
    "disagreement_indices = np.where(np.array(embedding_predictions) != np.array(rnn_predictions))[0]\n",
    "print(f\"\\n===== MODEL DISAGREEMENTS =====\")\n",
    "print(f\"Models disagree on {len(disagreement_indices)} examples ({len(disagreement_indices)/len(embedding_predictions)*100:.2f}%)\")\n",
    "\n",
    "# Show 5 examples of disagreements\n",
    "print(\"\\nExamples where models disagree:\")\n",
    "np.random.seed(42)  # For reproducibility\n",
    "sample_indices = np.random.choice(disagreement_indices, min(5, len(disagreement_indices)), replace=False)\n",
    "\n",
    "for i in sample_indices:\n",
    "    # Convert numpy.int64 to Python int for indexing into the dataset\n",
    "    idx = int(i)\n",
    "    example = test[idx]\n",
    "    print(f\"\\nQuestion: {example['question']}\")\n",
    "    for j, choice in enumerate(example[\"choices\"][\"text\"]):\n",
    "        print(f\"{chr(65+j)}) {choice}\")\n",
    "    print(f\"True Answer: {example['answerKey']}\")\n",
    "    print(f\"Embedding Model Prediction: {label_mapping[embedding_predictions[idx]]}\")\n",
    "    print(f\"RNN Model Prediction: {label_mapping[rnn_predictions[idx]]}\")\n",
    "    print(\"-\" * 80)"
   ]
  },
  {
   "cell_type": "markdown",
   "metadata": {},
   "source": [
    "### Correctness Pattern Analysis\n",
    "\n",
    "This analysis categorizes test examples into four groups:\n",
    "  \n",
    "- **Only embedding model correct**: Cases where the embedding approach succeeds but RNN fails\n",
    "- **Only RNN model correct**: Cases where the RNN approach succeeds but embedding fails\n",
    "- **Both models correct**: Cases where both models succeed\n",
    "- **Both models incorrect**: Cases where both models fail\n",
    "\n",
    "These patterns quantify model complementarity - how often one model succeeds where the other fails. High complementarity suggests that combining models could yield better performance than either model alone, while low complementarity indicates models have similar strengths and weaknesses."
   ]
  },
  {
   "cell_type": "code",
   "execution_count": 58,
   "metadata": {},
   "outputs": [
    {
     "name": "stdout",
     "output_type": "stream",
     "text": [
      "\n",
      "===== CORRECTNESS PATTERNS =====\n",
      "Only Embedding Model Correct: 169 examples (13.84%)\n",
      "Only RNN Model Correct: 163 examples (13.35%)\n",
      "Both Models Correct: 115 examples (9.42%)\n",
      "Both Models Incorrect: 774 examples (63.39%)\n"
     ]
    },
    {
     "data": {
      "image/png": "[encoded data removed]",
      "text/plain": [
       "<Figure size 1000x600 with 1 Axes>"
      ]
     },
     "metadata": {},
     "output_type": "display_data"
    }
   ],
   "source": [
    "# Calculate correctness patterns\n",
    "embedding_correct = np.array(embedding_predictions) == np.array(embedding_labels)\n",
    "rnn_correct = np.array(rnn_predictions) == np.array(rnn_labels)\n",
    "\n",
    "only_embedding_correct = np.logical_and(embedding_correct, np.logical_not(rnn_correct))\n",
    "only_rnn_correct = np.logical_and(rnn_correct, np.logical_not(embedding_correct))\n",
    "both_correct = np.logical_and(embedding_correct, rnn_correct)\n",
    "both_incorrect = np.logical_and(np.logical_not(embedding_correct), np.logical_not(rnn_correct))\n",
    "\n",
    "print(\"\\n===== CORRECTNESS PATTERNS =====\")\n",
    "print(f\"Only Embedding Model Correct: {np.sum(only_embedding_correct)} examples ({np.sum(only_embedding_correct)/len(embedding_predictions)*100:.2f}%)\")\n",
    "print(f\"Only RNN Model Correct: {np.sum(only_rnn_correct)} examples ({np.sum(only_rnn_correct)/len(embedding_predictions)*100:.2f}%)\")\n",
    "print(f\"Both Models Correct: {np.sum(both_correct)} examples ({np.sum(both_correct)/len(embedding_predictions)*100:.2f}%)\")\n",
    "print(f\"Both Models Incorrect: {np.sum(both_incorrect)} examples ({np.sum(both_incorrect)/len(embedding_predictions)*100:.2f}%)\")\n",
    "\n",
    "# Visualize correctness patterns\n",
    "plt.figure(figsize=(10, 6))\n",
    "categories = ['Only Embedding\\nCorrect', 'Only RNN\\nCorrect', 'Both\\nCorrect', 'Both\\nIncorrect']\n",
    "values = [np.sum(only_embedding_correct), np.sum(only_rnn_correct), np.sum(both_correct), np.sum(both_incorrect)]\n",
    "\n",
    "plt.bar(categories, values, color=['blue', 'orange', 'green', 'red'])\n",
    "plt.ylabel('Number of Examples')\n",
    "plt.title('Model Correctness Patterns')\n",
    "plt.grid(axis='y', linestyle='--', alpha=0.7)\n",
    "\n",
    "# Add percentage labels\n",
    "for i, v in enumerate(values):\n",
    "    plt.text(i, v + 5, f\"{v/len(embedding_predictions)*100:.1f}%\", ha='center')\n",
    "    \n",
    "plt.tight_layout()\n",
    "plt.savefig('correctness_patterns.png')\n",
    "plt.show()"
   ]
  },
  {
   "cell_type": "markdown",
   "metadata": {},
   "source": [
    "### Question Type Analysis\n",
    "\n",
    "This advanced analysis breaks down performance by question type (what, which, who, etc.):\n",
    "\n",
    "- **Type-specific performance**: Shows how models perform on different question categories\n",
    "- **Comparative strengths**: Identifies whether certain models excel at particular question types\n",
    "- **Distribution awareness**: Accounts for the frequency of different question types in the test set\n",
    "\n",
    "Understanding performance by question type provides actionable insights for model improvement. It can reveal whether certain question structures favor particular architectures, helping guide future development efforts toward addressing specific weaknesses."
   ]
  },
  {
   "cell_type": "code",
   "execution_count": 59,
   "metadata": {},
   "outputs": [
    {
     "name": "stdout",
     "output_type": "stream",
     "text": [
      "\n",
      "===== PERFORMANCE BY QUESTION TYPE =====\n",
      "Question type 'how':\n",
      "  Count: 32\n",
      "  Embedding Accuracy: 0.2188\n",
      "  RNN Accuracy: 0.1562\n",
      "  Difference: 0.0625 in favor of Embedding model\n",
      "Question type 'other':\n",
      "  Count: 258\n",
      "  Embedding Accuracy: 0.2248\n",
      "  RNN Accuracy: 0.1938\n",
      "  Difference: 0.0310 in favor of Embedding model\n",
      "Question type 'what':\n",
      "  Count: 524\n",
      "  Embedding Accuracy: 0.2233\n",
      "  RNN Accuracy: 0.2042\n",
      "  Difference: 0.0191 in favor of Embedding model\n",
      "Question type 'when':\n",
      "  Count: 39\n",
      "  Embedding Accuracy: 0.1795\n",
      "  RNN Accuracy: 0.3077\n",
      "  Difference: 0.1282 in favor of RNN model\n",
      "Question type 'where':\n",
      "  Count: 310\n",
      "  Embedding Accuracy: 0.2742\n",
      "  RNN Accuracy: 0.2710\n",
      "  Difference: 0.0032 in favor of Embedding model\n",
      "Question type 'which':\n",
      "  Count: 8\n",
      "  Embedding Accuracy: 0.2500\n",
      "  RNN Accuracy: 0.1250\n",
      "  Difference: 0.1250 in favor of Embedding model\n",
      "Question type 'who':\n",
      "  Count: 16\n",
      "  Embedding Accuracy: 0.0625\n",
      "  RNN Accuracy: 0.3125\n",
      "  Difference: 0.2500 in favor of RNN model\n",
      "Question type 'why':\n",
      "  Count: 34\n",
      "  Embedding Accuracy: 0.2059\n",
      "  RNN Accuracy: 0.4118\n",
      "  Difference: 0.2059 in favor of RNN model\n"
     ]
    },
    {
     "data": {
      "image/png": "[encoded data removed]",
      "text/plain": [
       "<Figure size 1200x600 with 1 Axes>"
      ]
     },
     "metadata": {},
     "output_type": "display_data"
    }
   ],
   "source": [
    "# Performance by question type\n",
    "print(\"\\n===== PERFORMANCE BY QUESTION TYPE =====\")\n",
    "question_types = []\n",
    "for idx in range(len(test)):\n",
    "    question_type = get_question_type(test[idx]['question'])\n",
    "    question_types.append(question_type)\n",
    "\n",
    "question_types = np.array(question_types)\n",
    "unique_types = np.unique(question_types)\n",
    "\n",
    "embedding_by_type = []\n",
    "rnn_by_type = []\n",
    "\n",
    "for q_type in unique_types:\n",
    "    type_indices = question_types == q_type\n",
    "    if np.sum(type_indices) > 0:\n",
    "        embedding_accuracy = np.mean(embedding_correct[type_indices])\n",
    "        rnn_accuracy = np.mean(rnn_correct[type_indices])\n",
    "        \n",
    "        embedding_by_type.append(embedding_accuracy)\n",
    "        rnn_by_type.append(rnn_accuracy)\n",
    "        \n",
    "        print(f\"Question type '{q_type}':\")\n",
    "        print(f\"  Count: {np.sum(type_indices)}\")\n",
    "        print(f\"  Embedding Accuracy: {embedding_accuracy:.4f}\")\n",
    "        print(f\"  RNN Accuracy: {rnn_accuracy:.4f}\")\n",
    "        print(f\"  Difference: {abs(embedding_accuracy - rnn_accuracy):.4f} in favor of \" \n",
    "              f\"{'Embedding' if embedding_accuracy > rnn_accuracy else 'RNN'} model\")\n",
    "\n",
    "# Visualize performance by question type\n",
    "plt.figure(figsize=(12, 6))\n",
    "x = np.arange(len(unique_types))\n",
    "width = 0.35\n",
    "\n",
    "plt.bar(x - width/2, embedding_by_type, width, label='Embedding Model')\n",
    "plt.bar(x + width/2, rnn_by_type, width, label='RNN Model')\n",
    "\n",
    "plt.xlabel('Question Type')\n",
    "plt.ylabel('Accuracy')\n",
    "plt.title('Model Performance by Question Type')\n",
    "plt.xticks(x, unique_types)\n",
    "plt.ylim(0, 1.0)\n",
    "plt.legend()\n",
    "plt.grid(axis='y', linestyle='--', alpha=0.7)\n",
    "\n",
    "plt.tight_layout()\n",
    "plt.savefig('performance_by_question_type.png')\n",
    "plt.show()"
   ]
  },
  {
   "cell_type": "markdown",
   "metadata": {},
   "source": [
    "### Summary and Ensemble Potential\n",
    "\n",
    "Our final analysis explores the potential benefits of combining models:\n",
    "\n",
    "- **Overall comparison**: Summarizes key findings about model performance\n",
    "- **Complementarity assessment**: Quantifies how often models have complementary strengths\n",
    "- **Ensemble ceiling**: Calculates the theoretical maximum performance for a perfect ensemble\n",
    "\n",
    "This summary helps determine whether ensemble methods would be worth pursuing. When models show high complementarity (frequently succeeding on different examples), an ensemble approach could significantly outperform either individual model. The analysis provides an upper bound on potential ensemble performance."
   ]
  },
  {
   "cell_type": "code",
   "execution_count": 60,
   "metadata": {},
   "outputs": [
    {
     "name": "stdout",
     "output_type": "stream",
     "text": [
      "\n",
      "===== ENSEMBLE POTENTIAL =====\n",
      "Simple Ensemble Accuracy: 0.2326\n",
      "Embedding Model Accuracy: 0.2326\n",
      "RNN Model Accuracy: 0.2277\n",
      "\n",
      "Complementarity Analysis:\n",
      "Examples where exactly one model is correct: 332 (27.19%)\n",
      "This represents the maximum potential improvement from an ideal ensemble approach.\n"
     ]
    }
   ],
   "source": [
    "# Calculate potential ensemble performance\n",
    "# Using a simple majority voting approach\n",
    "print(\"\\n===== ENSEMBLE POTENTIAL =====\")\n",
    "\n",
    "# Basic voting ensemble (choose prediction from better-performing model in case of disagreement)\n",
    "better_model = \"embedding\" if embedding_metrics['accuracy'] > rnn_metrics['accuracy'] else \"rnn\"\n",
    "\n",
    "ensemble_predictions = []\n",
    "for i in range(len(embedding_predictions)):\n",
    "    if embedding_predictions[i] == rnn_predictions[i]:\n",
    "        ensemble_predictions.append(embedding_predictions[i])\n",
    "    else:\n",
    "        # In case of disagreement, trust the better overall model\n",
    "        if better_model == \"embedding\":\n",
    "            ensemble_predictions.append(embedding_predictions[i])\n",
    "        else:\n",
    "            ensemble_predictions.append(rnn_predictions[i])\n",
    "\n",
    "ensemble_correct = np.sum(np.array(ensemble_predictions) == np.array(embedding_labels)) / len(embedding_labels)\n",
    "\n",
    "print(f\"Simple Ensemble Accuracy: {ensemble_correct:.4f}\")\n",
    "print(f\"Embedding Model Accuracy: {embedding_metrics['accuracy']:.4f}\")\n",
    "print(f\"RNN Model Accuracy: {rnn_metrics['accuracy']:.4f}\")\n",
    "\n",
    "print(\"\\nComplementarity Analysis:\")\n",
    "complementary_idx = np.where(only_embedding_correct | only_rnn_correct)[0]\n",
    "complementary_percent = len(complementary_idx) / len(embedding_predictions) * 100\n",
    "print(f\"Examples where exactly one model is correct: {len(complementary_idx)} ({complementary_percent:.2f}%)\")\n",
    "print(f\"This represents the maximum potential improvement from an ideal ensemble approach.\")\n",
    "\n",
    "# Save summary to file\n",
    "with open(\"model_evaluation_summary.txt\", \"w\") as f:\n",
    "    f.write(\"===== COMMONSENSE QA MODEL EVALUATION SUMMARY =====\\n\\n\")\n",
    "    f.write(f\"Embedding Model Accuracy: {embedding_metrics['accuracy']:.4f}\\n\")\n",
    "    f.write(f\"RNN Model Accuracy: {rnn_metrics['accuracy']:.4f}\\n\")\n",
    "    f.write(f\"Model Agreement: {agreement_percentage:.2f}%\\n\")\n",
    "    f.write(f\"Examples where models complement each other: {complementary_percent:.2f}%\\n\\n\")\n",
    "    f.write(\"Key Findings:\\n\")\n",
    "    f.write(f\"1. The {'Embedding' if embedding_metrics['accuracy'] > rnn_metrics['accuracy'] else 'RNN'} model performed better overall\\n\")\n",
    "    f.write(f\"2. The models disagree on {len(disagreement_indices)/len(embedding_predictions)*100:.2f}% of examples\\n\")\n",
    "    f.write(f\"3. A perfect ensemble could potentially achieve up to {both_correct.sum()/len(embedding_predictions)*100 + complementary_percent:.2f}% accuracy\\n\")"
   ]
  },
  {
   "cell_type": "markdown",
   "metadata": {},
   "source": [
    "# Conclusion"
   ]
  },
  {
   "cell_type": "markdown",
   "metadata": {},
   "source": [
    "## Tools and Resources Used\n",
    "\n",
    "This project was implemented using the following tools and resources:\n",
    "\n",
    "1. **Libraries and Frameworks**:\n",
    "   - PyTorch for neural network implementation and training\n",
    "   - Hugging Face Datasets for data loading and preprocessing\n",
    "   - NLTK for tokenization and text processing\n",
    "   - Gensim for working with word embeddings\n",
    "   - Pandas and NumPy for data manipulation\n",
    "   - Matplotlib and Seaborn for visualization\n",
    "   - Scikit-learn for evaluation metrics\n",
    "\n",
    "2. **Pre-trained Resources**:\n",
    "   - FastText word embeddings (Common Crawl, 2M word vectors)\n",
    "   - NLTK's pre-trained tokenizer\n",
    "\n",
    "3. **Experiment Tracking**:\n",
    "   - Weights & Biases for logging metrics and visualizing training progress\n",
    "\n",
    "4. **Development Environment**:\n",
    "   - Jupyter Notebook for interactive development\n",
    "   - Google Colab for GPU-accelerated training\n",
    "\n",
    "5. **AI Tools**:\n",
    "   - Claude 3.5 Sonnet for help with debugging and optimizing code\n",
    "   - GitHub Copilot for code suggestions and documentation\n",
    "\n",
    "This toolkit provided the necessary components for building, training, and evaluating models for the CommonsenseQA task while enabling detailed analysis and documentation of the project workflow."
   ]
  },
  {
   "cell_type": "markdown",
   "metadata": {},
   "source": []
  }
 ],
 "metadata": {
  "kernelspec": {
   "display_name": "nlp_env",
   "language": "python",
   "name": "python3"
  },
  "language_info": {
   "codemirror_mode": {
    "name": "ipython",
    "version": 3
   },
   "file_extension": ".py",
   "mimetype": "text/x-python",
   "name": "python",
   "nbconvert_exporter": "python",
   "pygments_lexer": "ipython3",
   "version": "3.10.16"
  }
 },
 "nbformat": 4,
 "nbformat_minor": 2
}
