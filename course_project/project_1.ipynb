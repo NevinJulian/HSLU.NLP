{
 "cells": [
  {
   "cell_type": "markdown",
   "metadata": {},
   "source": [
    "# NLP.F2501 Course Project 1 (Word embeddings and RNNs)\n",
    "\n",
    "Nevin Helfenstein"
   ]
  },
  {
   "cell_type": "markdown",
   "metadata": {},
   "source": [
    "# Introduction\n",
    "\n",
    "In this notebook, I present my solution to the CommonsenseQA task. I'll train a model using word embeddings, RNNs, and other NLP techniques to achieve the best possible performance.\n",
    "\n",
    "## Dataset Description\n",
    "\n",
    "The CommonsenseQA dataset [(Talmor et al., 2019)](https://aclanthology.org/N19-1421/) contains 12,247 multiple-choice questions specifically designed to test commonsense reasoning. Unlike standard QA tasks, these questions require prior knowledge about how concepts relate in the real world.\n",
    "\n",
    "Questions were created by extracting related concepts from ConceptNet and having crowd-workers author questions that require distinguishing between them. This methodology produced challenging questions that often cannot be answered through simple pattern matching.\n",
    "\n",
    "The best baseline in the original paper (BERT-large) achieved only 56% accuracy compared to human performance of 89%, shwoing the difficulty of encoding human-like commonsense reasoning."
   ]
  },
  {
   "cell_type": "markdown",
   "metadata": {},
   "source": [
    "# Setup\n",
    "\n",
    "First we import all the needed libraries"
   ]
  },
  {
   "cell_type": "code",
   "execution_count": 1,
   "metadata": {},
   "outputs": [
    {
     "name": "stderr",
     "output_type": "stream",
     "text": [
      "/home/nevin/miniconda3/envs/nlp_env/lib/python3.10/site-packages/tqdm/auto.py:21: TqdmWarning: IProgress not found. Please update jupyter and ipywidgets. See https://ipywidgets.readthedocs.io/en/stable/user_install.html\n",
      "  from .autonotebook import tqdm as notebook_tqdm\n"
     ]
    }
   ],
   "source": [
    "import torch\n",
    "import nltk\n",
    "import wandb\n",
    "import logging\n",
    "import re\n",
    "\n",
    "import gensim\n",
    "\n",
    "import pandas as pd\n",
    "import seaborn as sns\n",
    "from wordcloud import WordCloud\n",
    "\n",
    "import torch.nn as nn\n",
    "import numpy as np\n",
    "\n",
    "import matplotlib.pyplot as plt\n",
    "from nltk.tokenize import word_tokenize\n",
    "from nltk import pos_tag\n",
    "from torch.utils.data import Dataset, DataLoader\n",
    "from matplotlib_venn import venn2\n",
    "\n",
    "\n",
    "from datasets import load_dataset\n",
    "from huggingface_hub import hf_hub_download\n",
    "\n",
    "from collections import Counter, defaultdict\n",
    "from datetime import datetime\n",
    "\n",
    "import functools\n",
    "import pickle\n",
    "import os\n",
    "from tqdm import tqdm\n",
    "from sklearn.feature_extraction.text import TfidfVectorizer\n",
    "\n",
    "import torch.nn.functional as F\n",
    "import time\n",
    "import math\n",
    "\n",
    "from torch.nn.utils.rnn import pad_sequence, pack_padded_sequence, pad_packed_sequence\n"
   ]
  },
  {
   "cell_type": "markdown",
   "metadata": {},
   "source": [
    "### Fixed variables\n",
    "\n",
    "We set the random seed for all the necessary configurations  to ensure reproducibility"
   ]
  },
  {
   "cell_type": "code",
   "execution_count": 2,
   "metadata": {},
   "outputs": [],
   "source": [
    "SEED = 42\n",
    "\n",
    "np.random.seed(SEED)\n",
    "torch.manual_seed(SEED)\n",
    "torch.cuda.manual_seed(SEED)\n",
    "torch.backends.cudnn.deterministic = True"
   ]
  },
  {
   "cell_type": "markdown",
   "metadata": {},
   "source": [
    "### Tokenizer and embedding model\n",
    "\n",
    "I've selected FastText embeddings with the common crawl model (crawl-3dd-2m-subword) for this project for the following reasons:\n",
    "\n",
    "* **Subword modeling** - handles unknown words & typos\n",
    "* **Morphologically aware** - recognizes word relationships \n",
    "* **Massive training corpus** - 600B tokens from Common Crawl\n",
    "* **Rich embeddings** - 300 dimensions, 2M word vectors\n",
    "* **Proven performance** - excels in commonsense reasoning tasks\n",
    "* **Well Documented** - is known in the NLP community and is very well documented"
   ]
  },
  {
   "cell_type": "markdown",
   "metadata": {},
   "source": [
    "Download tokenizer files"
   ]
  },
  {
   "cell_type": "code",
   "execution_count": 3,
   "metadata": {},
   "outputs": [
    {
     "name": "stderr",
     "output_type": "stream",
     "text": [
      "[nltk_data] Downloading package punkt_tab to /home/nevin/nltk_data...\n",
      "[nltk_data]   Package punkt_tab is already up-to-date!\n",
      "[nltk_data] Downloading package averaged_perceptron_tagger to\n",
      "[nltk_data]     /home/nevin/nltk_data...\n",
      "[nltk_data]   Package averaged_perceptron_tagger is already up-to-\n",
      "[nltk_data]       date!\n"
     ]
    },
    {
     "data": {
      "text/plain": [
       "True"
      ]
     },
     "execution_count": 3,
     "metadata": {},
     "output_type": "execute_result"
    }
   ],
   "source": [
    "nltk.download('punkt_tab')\n",
    "nltk.download('averaged_perceptron_tagger')"
   ]
  },
  {
   "cell_type": "markdown",
   "metadata": {},
   "source": [
    "Download the FastText model from Hugging Face (Facebook's common crawl model)"
   ]
  },
  {
   "cell_type": "code",
   "execution_count": 4,
   "metadata": {},
   "outputs": [],
   "source": [
    "model_path = hf_hub_download(repo_id=\"facebook/fasttext-en-vectors\", filename=\"model.bin\")"
   ]
  },
  {
   "cell_type": "markdown",
   "metadata": {},
   "source": [
    "Load the model"
   ]
  },
  {
   "cell_type": "code",
   "execution_count": 5,
   "metadata": {},
   "outputs": [],
   "source": [
    "ft_model = gensim.models.fasttext.load_facebook_model(model_path)\n",
    "wv = ft_model.wv"
   ]
  },
  {
   "cell_type": "markdown",
   "metadata": {},
   "source": [
    "Create a function to get embeddings for words (retruns word vector)"
   ]
  },
  {
   "cell_type": "code",
   "execution_count": 6,
   "metadata": {},
   "outputs": [],
   "source": [
    "def get_fasttext_embedding(word):\n",
    "    try:\n",
    "        return ft_model[word]\n",
    "    except KeyError:\n",
    "        return np.zeros(300)"
   ]
  },
  {
   "cell_type": "markdown",
   "metadata": {},
   "source": [
    "### Data Splits\n",
    "\n",
    "The data is available on Hugging Face: [Data](https://huggingface.co/datasets/tau/commonsense_qa).\n",
    "Only the train and validation splits have an answer key, because of that we will use our own dataset splits.\n",
    "We use all of the datasamples as the train set except for the last 1000 which we set as the validation set. The original validation set is set as the test set."
   ]
  },
  {
   "cell_type": "code",
   "execution_count": 7,
   "metadata": {},
   "outputs": [
    {
     "name": "stdout",
     "output_type": "stream",
     "text": [
      "8741 1000 1221\n"
     ]
    }
   ],
   "source": [
    "train = load_dataset(\"tau/commonsense_qa\", split=\"train[:-1000]\")\n",
    "valid = load_dataset(\"tau/commonsense_qa\", split=\"train[-1000:]\")\n",
    "test = load_dataset(\"tau/commonsense_qa\", split=\"validation\")\n",
    "\n",
    "print(len(train), len(valid), len(test))"
   ]
  },
  {
   "cell_type": "markdown",
   "metadata": {},
   "source": [
    "## Data exploration"
   ]
  },
  {
   "cell_type": "markdown",
   "metadata": {},
   "source": [
    "We convert to DataFrames for easier analysis"
   ]
  },
  {
   "cell_type": "code",
   "execution_count": 8,
   "metadata": {},
   "outputs": [],
   "source": [
    "train_df = pd.DataFrame(train)\n",
    "valid_df = pd.DataFrame(valid)\n",
    "test_df = pd.DataFrame(test)\n",
    "\n",
    "datasets = {\n",
    "    \"Training\": train_df,\n",
    "    \"Validation\": valid_df,\n",
    "    \"Test\": test_df\n",
    "}"
   ]
  },
  {
   "cell_type": "markdown",
   "metadata": {},
   "source": [
    "We check basic statistics such as average question and choice lenght for each DataFrame"
   ]
  },
  {
   "cell_type": "code",
   "execution_count": 9,
   "metadata": {},
   "outputs": [
    {
     "name": "stdout",
     "output_type": "stream",
     "text": [
      "=== Training Set Statistics ===\n",
      "Number of examples: 8741\n",
      "Example 'choices' structure: {'label': ['A', 'B', 'C', 'D', 'E'], 'text': ['ignore', 'enforce', 'authoritarian', 'yell at', 'avoid']}\n",
      "Average question length: 14.90 tokens\n",
      "Average answer choice length: 0.00 tokens\n",
      "Min/Max question length: 4/67 tokens\n",
      "=== Validation Set Statistics ===\n",
      "Number of examples: 1000\n",
      "Example 'choices' structure: {'label': ['A', 'B', 'C', 'D', 'E'], 'text': ['eat cake', 'getting drunk', 'having sex', 'cleaning rooms', 'drink too much']}\n",
      "Average question length: 15.03 tokens\n",
      "Average answer choice length: 0.00 tokens\n",
      "Min/Max question length: 5/48 tokens\n",
      "=== Test Set Statistics ===\n",
      "Number of examples: 1221\n",
      "Example 'choices' structure: {'label': ['A', 'B', 'C', 'D', 'E'], 'text': ['bank', 'library', 'department store', 'mall', 'new york']}\n",
      "Average question length: 14.73 tokens\n",
      "Average answer choice length: 0.00 tokens\n",
      "Min/Max question length: 4/60 tokens\n"
     ]
    }
   ],
   "source": [
    "def analyze_dataset(df, name):\n",
    "    \"\"\"Analyze basic statistics of a dataset split without modifying the dataframe\"\"\"\n",
    "    print(f\"=== {name} Set Statistics ===\")\n",
    "    print(f\"Number of examples: {len(df)}\")\n",
    "\n",
    "    question_lengths = [len(word_tokenize(q)) for q in df['question']]\n",
    "    \n",
    "    print(f\"Example 'choices' structure: {df['choices'].iloc[0]}\")\n",
    "    \n",
    "    choice_lengths = []\n",
    "    for choices_row in df['choices']:\n",
    "        if isinstance(choices_row, list):\n",
    "            try:\n",
    "                row_lengths = [len(word_tokenize(choice['text'])) for choice in choices_row]\n",
    "            except TypeError:\n",
    "                row_lengths = [len(word_tokenize(choice)) for choice in choices_row]\n",
    "        elif isinstance(choices_row, str):\n",
    "            row_lengths = [len(word_tokenize(choices_row))]\n",
    "        else:\n",
    "            row_lengths = [0]\n",
    "        \n",
    "        choice_lengths.append(row_lengths)\n",
    "    \n",
    "    avg_choice_lengths = [np.mean(lengths) if lengths else 0 for lengths in choice_lengths]\n",
    "    \n",
    "    print(f\"Average question length: {np.mean(question_lengths):.2f} tokens\")\n",
    "    print(f\"Average answer choice length: {np.mean(avg_choice_lengths):.2f} tokens\")\n",
    "    print(f\"Min/Max question length: {min(question_lengths)}/{max(question_lengths)} tokens\")\n",
    "    \n",
    "    if 'answerKey' in df.columns:\n",
    "        correct_positions = []\n",
    "        for _, row in df.iterrows():\n",
    "            try:\n",
    "                correct_idx = next((i for i, choice in enumerate(row['choices']) \n",
    "                                if choice['label'] == row['answerKey']), -1)\n",
    "            except (TypeError, KeyError):\n",
    "                correct_idx = -1\n",
    "            correct_positions.append(correct_idx)\n",
    "        \n",
    "        valid_positions = [p for p in correct_positions if p >= 0]\n",
    "        if valid_positions:\n",
    "            position_counts = np.bincount(valid_positions)\n",
    "            print(f\"Distribution of correct answers: {position_counts}\")\n",
    "    \n",
    "    return df\n",
    "\n",
    "train_df = analyze_dataset(train_df, \"Training\")\n",
    "valid_df = analyze_dataset(valid_df, \"Validation\")\n",
    "test_df = analyze_dataset(test_df, \"Test\")"
   ]
  },
  {
   "cell_type": "markdown",
   "metadata": {},
   "source": [
    "We plot the question lenght distribution"
   ]
  },
  {
   "cell_type": "code",
   "execution_count": 10,
   "metadata": {},
   "outputs": [
    {
     "data": {
      "image/png": "[encoded data removed]",
      "text/plain": [
       "<Figure size 1200x600 with 1 Axes>"
      ]
     },
     "metadata": {},
     "output_type": "display_data"
    }
   ],
   "source": [
    "train_df['question_length'] = train_df['question'].apply(lambda x: len(word_tokenize(x)))\n",
    "valid_df['question_length'] = valid_df['question'].apply(lambda x: len(word_tokenize(x)))\n",
    "test_df['question_length'] = test_df['question'].apply(lambda x: len(word_tokenize(x)))\n",
    "\n",
    "plt.figure(figsize=(12, 6))\n",
    "\n",
    "sns.histplot(data=train_df, x='question_length', kde=True, label='Train', alpha=0.6)\n",
    "sns.histplot(data=valid_df, x='question_length', kde=True, label='Validation', alpha=0.6)\n",
    "sns.histplot(data=test_df, x='question_length', kde=True, label='Test', alpha=0.6)\n",
    "\n",
    "plt.title('Distribution of Question Lengths')\n",
    "plt.xlabel('Number of tokens in question')\n",
    "plt.ylabel('Count')\n",
    "plt.legend()\n",
    "plt.savefig('viz/question_length_distribution.png')\n",
    "plt.show()\n",
    "plt.close()"
   ]
  },
  {
   "cell_type": "markdown",
   "metadata": {},
   "source": [
    "We plot the answer key distribution"
   ]
  },
  {
   "cell_type": "code",
   "execution_count": 11,
   "metadata": {},
   "outputs": [
    {
     "data": {
      "image/png": "[encoded data removed]",
      "text/plain": [
       "<Figure size 1800x600 with 3 Axes>"
      ]
     },
     "metadata": {},
     "output_type": "display_data"
    }
   ],
   "source": [
    "plt.figure(figsize=(18, 6))\n",
    "\n",
    "for i, (split, df) in enumerate(datasets.items(), 1):\n",
    "    answer_counts = Counter(df['answerKey'])\n",
    "    \n",
    "    plt.subplot(1, 3, i)\n",
    "    plt.bar(answer_counts.keys(), answer_counts.values())\n",
    "    plt.xlabel(\"Answer Labels\")\n",
    "    plt.ylabel(\"Absolute Frequency\")\n",
    "    plt.title(f\"{split} Answer Key Distribution\")\n",
    "    \n",
    "    for label, count in answer_counts.items():\n",
    "        plt.text(label, count + 5, str(count), ha='center')\n",
    "\n",
    "plt.savefig('viz/answer_key_distribution.png')\n",
    "plt.show()"
   ]
  },
  {
   "cell_type": "markdown",
   "metadata": {},
   "source": [
    "Analyze question types (what, how, why, etc.)"
   ]
  },
  {
   "cell_type": "code",
   "execution_count": 12,
   "metadata": {},
   "outputs": [],
   "source": [
    "def get_question_type(question):\n",
    "    \"\"\"Extract the question word from a question\"\"\"\n",
    "    question = question.lower().strip()\n",
    "    question_words = ['what', 'which', 'who', 'how', 'why', 'when', 'where']\n",
    "    \n",
    "    for word in question_words:\n",
    "        if question.startswith(word) or f\" {word} \" in question:\n",
    "            return word\n",
    "    \n",
    "    return 'other'\n",
    "\n",
    "train_df['question_type'] = train_df['question'].apply(get_question_type)\n",
    "valid_df['question_type'] = valid_df['question'].apply(get_question_type)\n",
    "test_df['question_type'] = test_df['question'].apply(get_question_type)"
   ]
  },
  {
   "cell_type": "code",
   "execution_count": 13,
   "metadata": {},
   "outputs": [
    {
     "name": "stdout",
     "output_type": "stream",
     "text": [
      "Columns in Training dataset: ['id', 'question', 'question_concept', 'choices', 'answerKey', 'question_length', 'question_type']\n",
      "Columns in Validation dataset: ['id', 'question', 'question_concept', 'choices', 'answerKey', 'question_length', 'question_type']\n",
      "Columns in Test dataset: ['id', 'question', 'question_concept', 'choices', 'answerKey', 'question_length', 'question_type']\n"
     ]
    },
    {
     "data": {
      "image/png": "[encoded data removed]",
      "text/plain": [
       "<Figure size 1800x600 with 3 Axes>"
      ]
     },
     "metadata": {},
     "output_type": "display_data"
    }
   ],
   "source": [
    "plt.figure(figsize=(18, 6))\n",
    "\n",
    "for split, df in datasets.items():\n",
    "    print(f\"Columns in {split} dataset:\", df.columns.tolist())\n",
    "\n",
    "for i, (split, df) in enumerate(datasets.items(), 1):\n",
    "\n",
    "    question_type_counts = Counter(df['question_type'])\n",
    "\n",
    "    sorted_types = sorted(question_type_counts.keys())\n",
    "    sorted_counts = [question_type_counts[t] for t in sorted_types]\n",
    "\n",
    "    ax = plt.subplot(1, 3, i)\n",
    "    bars = plt.bar(sorted_types, sorted_counts)\n",
    "    plt.xlabel(\"Question Type\")\n",
    "    plt.ylabel(\"Absolute Frequency\")\n",
    "    plt.title(f\"{split} Question Type Distribution\")\n",
    "\n",
    "    for j, (q_type, count) in enumerate(zip(sorted_types, sorted_counts)):\n",
    "        plt.text(j, count + 5, str(count), ha='center')\n",
    "    \n",
    "    plt.grid(axis='y', linestyle='--', alpha=0.3)\n",
    "    plt.xticks(rotation=45)\n",
    "\n",
    "plt.tight_layout()\n",
    "plt.savefig('viz/question_type_distribution.png', dpi=300)\n",
    "plt.show()"
   ]
  },
  {
   "cell_type": "markdown",
   "metadata": {},
   "source": [
    "Count question types and convert it to percentage"
   ]
  },
  {
   "cell_type": "code",
   "execution_count": 14,
   "metadata": {},
   "outputs": [
    {
     "data": {
      "image/png": "[encoded data removed]",
      "text/plain": [
       "<Figure size 1800x600 with 3 Axes>"
      ]
     },
     "metadata": {},
     "output_type": "display_data"
    }
   ],
   "source": [
    "plt.figure(figsize=(18, 6))\n",
    "\n",
    "train_type_counts = Counter(train_df['question_type'])\n",
    "valid_type_counts = Counter(valid_df['question_type'])\n",
    "test_type_counts = Counter(test_df['question_type'])\n",
    "\n",
    "train_type_percent = {k: v/len(train_df)*100 for k, v in train_type_counts.items()}\n",
    "valid_type_percent = {k: v/len(valid_df)*100 for k, v in valid_type_counts.items()}\n",
    "test_type_percent = {k: v/len(test_df)*100 for k, v in test_type_counts.items()}\n",
    "\n",
    "datasets = {\n",
    "    \"Training\": train_type_percent,\n",
    "    \"Validation\": valid_type_percent,\n",
    "    \"Test\": test_type_percent\n",
    "}\n",
    "\n",
    "\n",
    "for i, (split, percent_dict) in enumerate(datasets.items(), 1):\n",
    "\n",
    "    sorted_types = sorted(percent_dict.keys())\n",
    "    sorted_percents = [percent_dict[t] for t in sorted_types]\n",
    "    \n",
    "    ax = plt.subplot(1, 3, i)\n",
    "    bars = plt.bar(sorted_types, sorted_percents)\n",
    "    plt.xlabel(\"Question Type\")\n",
    "    plt.ylabel(\"Percentage (%)\")\n",
    "    plt.title(f\"{split} Question Type Distribution (%)\")\n",
    "    \n",
    "    for j, (q_type, percent) in enumerate(zip(sorted_types, sorted_percents)):\n",
    "        plt.text(j, percent + 0.5, f\"{percent:.1f}%\", ha='center')\n",
    "    \n",
    "\n",
    "    plt.grid(axis='y', linestyle='--', alpha=0.3)\n",
    "    plt.xticks(rotation=45)\n",
    "    \n",
    "    plt.ylim(0, max(max(train_type_percent.values()), \n",
    "                   max(valid_type_percent.values()),\n",
    "                   max(test_type_percent.values())) + 5)\n",
    "\n",
    "plt.tight_layout()\n",
    "plt.savefig('viz/question_type_percentage_distribution.png', dpi=300)\n",
    "plt.show()"
   ]
  },
  {
   "cell_type": "markdown",
   "metadata": {},
   "source": [
    "POS (Part-of-Speach) Tag analysis for questions"
   ]
  },
  {
   "cell_type": "code",
   "execution_count": 15,
   "metadata": {},
   "outputs": [
    {
     "data": {
      "image/png": "[encoded data removed]",
      "text/plain": [
       "<Figure size 1200x600 with 1 Axes>"
      ]
     },
     "metadata": {},
     "output_type": "display_data"
    }
   ],
   "source": [
    "def analyze_pos_tags(texts, n=10):\n",
    "    \"\"\"Analyze the most common POS tags in a list of texts\"\"\"\n",
    "    all_pos = []\n",
    "    for text in texts:\n",
    "        tokens = word_tokenize(text)\n",
    "        tags = pos_tag(tokens)\n",
    "        all_pos.extend([tag for _, tag in tags])\n",
    "    \n",
    "    return Counter(all_pos).most_common(n)\n",
    "\n",
    "train_pos = analyze_pos_tags(train_df['question'].tolist())\n",
    "\n",
    "plt.figure(figsize=(12, 6))\n",
    "pos_df = pd.DataFrame(train_pos, columns=['POS Tag', 'Count'])\n",
    "sns.barplot(x='POS Tag', y='Count', data=pos_df)\n",
    "plt.title('Most Common POS Tags in Training Questions')\n",
    "plt.xticks(rotation=45)\n",
    "plt.tight_layout()\n",
    "plt.savefig('viz/pos_tag_distribution.png')\n",
    "plt.show()\n",
    "plt.close()"
   ]
  },
  {
   "cell_type": "markdown",
   "metadata": {},
   "source": [
    "Analyze vocabulary overlap between train and test"
   ]
  },
  {
   "cell_type": "code",
   "execution_count": 16,
   "metadata": {},
   "outputs": [],
   "source": [
    "def get_vocab(texts):\n",
    "    \"\"\"Get vocabulary from a list of texts\"\"\"\n",
    "    vocab = set()\n",
    "    for text in texts:\n",
    "        tokens = word_tokenize(text.lower())\n",
    "        vocab.update(tokens)\n",
    "    return vocab\n",
    "\n",
    "train_vocab = get_vocab(train_df['question'].tolist())\n",
    "test_vocab = get_vocab(test_df['question'].tolist())"
   ]
  },
  {
   "cell_type": "markdown",
   "metadata": {},
   "source": [
    "Calculate overlap and plot venn diagramm"
   ]
  },
  {
   "cell_type": "code",
   "execution_count": 17,
   "metadata": {},
   "outputs": [
    {
     "data": {
      "image/png": "[encoded data removed]",
      "text/plain": [
       "<Figure size 1000x600 with 1 Axes>"
      ]
     },
     "metadata": {},
     "output_type": "display_data"
    },
    {
     "name": "stdout",
     "output_type": "stream",
     "text": [
      "Train vocabulary size: 7768\n",
      "Test vocabulary size: 2791\n",
      "Vocabulary overlap: 2313 words (29.78% of train vocab)\n"
     ]
    }
   ],
   "source": [
    "overlap = len(train_vocab.intersection(test_vocab))\n",
    "train_only = len(train_vocab - test_vocab)\n",
    "test_only = len(test_vocab - train_vocab)\n",
    "\n",
    "plt.figure(figsize=(10, 6))\n",
    "\n",
    "venn2(subsets=(train_only, test_only, overlap), \n",
    "      set_labels=('Train Vocabulary', 'Test Vocabulary'))\n",
    "plt.title('Vocabulary Overlap Between Train and Test Sets')\n",
    "plt.savefig('viz/vocab_overlap.png')\n",
    "plt.show()\n",
    "plt.close()\n",
    "\n",
    "print(f\"Train vocabulary size: {len(train_vocab)}\")\n",
    "print(f\"Test vocabulary size: {len(test_vocab)}\")\n",
    "print(f\"Vocabulary overlap: {overlap} words ({overlap/len(train_vocab)*100:.2f}% of train vocab)\")"
   ]
  },
  {
   "cell_type": "markdown",
   "metadata": {},
   "source": [
    "# Preprocessing"
   ]
  },
  {
   "cell_type": "markdown",
   "metadata": {},
   "source": [
    "As per the project requirements we need correct and justified decisions on: \n",
    "- Tokenization \n",
    "- Lowercasing, stemming, lemmatizing, stopword/punctuation removal \n",
    "- Removal of unknown/other words \n",
    "- Format cleaning (e.g. html-extracted text) \n",
    "- Truncation \n",
    "- Feature selection \n",
    "- Input format: how is data passed to the model? \n",
    "- Label format: what should the model predict? \n",
    "- Batching, padding \n",
    "- Vocabulary, embedding\n",
    "\n",
    "We choose minimal preprocessing:\n",
    "- We tokenize using NLTK's word tokenizer\n",
    "- We preserve case, stopwords, and punctuation as they contain valuable information\n",
    "- We skip stemming/lemmatization since our model (fasttext) handles word variations effectively\n",
    "- No unknown word removal needed as fasttext creates vectors from character substrings\n",
    "- No truncation required since all questions are under 400 characters\n",
    "- No format cleaning needed as the dataset is already clean"
   ]
  },
  {
   "cell_type": "markdown",
   "metadata": {},
   "source": [
    "To mention some examples, my preprocess function just performs simple tokenization preserving case, punctuation and all words including stopwords. I choose this approach because:\n",
    "  - Case preservation: Words like 'I' or 'US' retain their semantic meaning\n",
    "  - Stopword retention: Function words provide grammatical context important for question answering\n",
    "  - Punctuation preservation: Punctuation can carry meaningful information\n",
    "  - No stemming/lemmatization: Fasttext can handle morphological variations through subword embeddings\n",
    "  - No unknown word removal: Fasttext creates vectors from character n-grams, allowing it to handle OOV words and misspellings"
   ]
  },
  {
   "cell_type": "code",
   "execution_count": 18,
   "metadata": {},
   "outputs": [],
   "source": [
    "def preprocess_text(text):\n",
    "    if not isinstance(text, str):\n",
    "        raise TypeError(\"Input must be a string, got {0} instead\".format(type(text).__name__))\n",
    "    \n",
    "    if not text or text.isspace():\n",
    "        raise ValueError(\"Input text cannot be empty or whitespace only\")\n",
    "\n",
    "    try:\n",
    "        nltk.data.find('tokenizers/punkt')\n",
    "    except LookupError:\n",
    "        try:\n",
    "            nltk.download('punkt')\n",
    "        except Exception as e:\n",
    "            raise RuntimeError(f\"Failed to download NLTK punkt tokenizer: {str(e)}\")\n",
    "\n",
    "    try:\n",
    "        tokens = word_tokenize(text)\n",
    "        \n",
    "        if len(tokens) == 0 and len(text.strip()) > 0:\n",
    "            raise RuntimeError(\"Tokenization produced no tokens for non-empty input\")\n",
    "            \n",
    "        return tokens\n",
    "        \n",
    "    except Exception as e:\n",
    "        raise RuntimeError(f\"Tokenization failed: {str(e)}\")"
   ]
  },
  {
   "cell_type": "markdown",
   "metadata": {},
   "source": [
    "To get a better understanding we check how the loaded embeddings look and how big the vocabulary is."
   ]
  },
  {
   "cell_type": "code",
   "execution_count": 19,
   "metadata": {},
   "outputs": [
    {
     "name": "stdout",
     "output_type": "stream",
     "text": [
      "Word embeddings vector size: 300\n",
      "Word embeddings vocab size: 2000000\n",
      "\n",
      "First 10 words in vocabulary:\n",
      "[',', 'the', '.', 'and', 'to', 'of', 'a', '</s>', 'in', 'is']\n",
      "\n",
      "Last 5 words in vocabulary:\n",
      "['ldapmodify', 'sponde', 'hvm', 'GorceyBearTerritory.netSaturday', 'Zwicke']\n"
     ]
    }
   ],
   "source": [
    "print(f\"Word embeddings vector size: {wv.vector_size}\")\n",
    "print(f\"Word embeddings vocab size: {len(wv.index_to_key)}\")\n",
    "\n",
    "print(\"\\nFirst 10 words in vocabulary:\")\n",
    "print(wv.index_to_key[:10])\n",
    "\n",
    "print(\"\\nLast 5 words in vocabulary:\")\n",
    "print(wv.index_to_key[-5:])"
   ]
  },
  {
   "cell_type": "markdown",
   "metadata": {},
   "source": [
    "Further we analyse how the vectors of different words look like"
   ]
  },
  {
   "cell_type": "markdown",
   "metadata": {},
   "source": []
  },
  {
   "cell_type": "code",
   "execution_count": 20,
   "metadata": {},
   "outputs": [
    {
     "name": "stdout",
     "output_type": "stream",
     "text": [
      "[ 7.05022831e-03 -2.72363335e-01  3.08294799e-02 -6.69213533e-02\n",
      " -2.38569006e-01 -6.97940290e-02 -1.78919464e-01 -1.30932003e-01\n",
      "  1.95379898e-01 -1.02779709e-01  1.13138333e-01 -8.10120851e-02\n",
      " -2.31069531e-02  8.10398385e-02  4.11642976e-02  2.13612169e-01\n",
      "  2.07227275e-01 -1.44993244e-02 -1.49006667e-02  3.30467045e-01\n",
      " -8.75898227e-02  2.77748536e-02  1.65837809e-01 -2.82677233e-01\n",
      " -2.31202438e-01 -6.97928965e-02 -9.50594172e-02  1.27312019e-01\n",
      "  8.41282010e-02  3.78092974e-01  8.13675299e-02 -4.12413254e-02\n",
      "  3.80182602e-02 -8.93339440e-02 -6.99183196e-02  1.94707839e-03\n",
      "  2.10201159e-01 -1.43054217e-01 -5.38324825e-02  5.93089908e-02\n",
      " -3.86625379e-02  6.96267113e-02 -2.00814441e-01  5.09383306e-02\n",
      "  1.98449627e-01 -3.92922424e-02  5.64378798e-02  3.31560552e-01\n",
      "  7.08746612e-02 -3.91262211e-02 -8.44963491e-02 -3.65556516e-02\n",
      "  9.49307606e-02 -2.95668654e-02 -7.00519904e-02 -2.10410550e-01\n",
      " -1.39795244e-01  1.62995517e-01 -1.53789535e-01 -8.67058709e-02\n",
      " -7.03049498e-03 -2.27405466e-02  1.44581301e-02 -1.33640334e-01\n",
      " -2.25813717e-01 -7.81053528e-02 -4.05733250e-02 -8.75697657e-02\n",
      " -4.95565170e-03 -9.03920382e-02 -1.69426844e-01  2.27120779e-02\n",
      "  4.20575365e-02 -6.56478107e-02  1.52438775e-01 -8.19535032e-02\n",
      "  7.19848797e-02  1.68619603e-01 -4.21918221e-02 -6.75620809e-02\n",
      "  8.79978538e-02  5.85604645e-02 -5.17636500e-02  1.75872475e-01\n",
      " -3.17142069e-01 -8.90906621e-03  7.38999322e-02  2.12619752e-01\n",
      "  5.98389015e-04  9.20452327e-02 -1.02351315e-01 -2.63595790e-01\n",
      "  5.06478965e-01 -2.12026816e-02  2.91172028e-01 -9.36649591e-02\n",
      "  4.79419669e-03  2.74970144e-01  1.58808872e-01 -1.22888289e-01\n",
      " -3.00131124e-02  1.77485794e-01  1.51706323e-01 -4.64394152e-01\n",
      " -2.45825052e-02  7.09482133e-02  2.97894492e-03  1.82574540e-01\n",
      " -1.46579474e-01  2.44822472e-01  1.54644325e-01 -2.13488981e-01\n",
      " -4.98909801e-02  4.63303834e-01 -5.43784276e-02 -1.18706353e-01\n",
      " -1.82039201e-01  2.96827909e-02  6.64017946e-02  2.77966144e-03\n",
      " -2.44649164e-02  8.82646476e-04  1.57317519e-01 -5.68870120e-02\n",
      "  1.99487031e-01 -1.60753913e-02  4.29950170e-02 -3.45848948e-02\n",
      " -1.42626330e-01  3.42199914e-02  5.98671585e-02 -1.29025459e-01\n",
      "  1.98525637e-01 -2.23828644e-01  8.13265145e-02 -5.10543548e-02\n",
      " -4.25724894e-01  4.68679331e-02  2.63595916e-02  2.63221651e-01\n",
      " -2.68831309e-02 -6.77992254e-02  8.35635290e-02  7.87136033e-02\n",
      "  1.46461368e-01  1.27801433e-01 -7.34706461e-01  5.41431643e-02\n",
      " -1.17738701e-01 -8.84151384e-02 -1.94592863e-01 -6.40626764e-03\n",
      "  5.05158789e-02  1.65497571e-01  1.26097545e-01 -9.16199237e-02\n",
      "  2.45801240e-01  2.98852652e-01 -7.50585124e-02  2.08749101e-02\n",
      "  6.51354566e-02  1.33050829e-01  1.12570450e-01 -3.98621187e-02\n",
      "  1.11183703e-01 -1.83927611e-01 -3.72835249e-02 -2.83157468e-01\n",
      " -1.73210472e-01  1.74186558e-01  1.46887556e-01 -6.60460964e-02\n",
      "  5.15335836e-02 -8.16279799e-02 -8.92949477e-02 -1.21421136e-01\n",
      " -1.56102590e-02 -1.83339953e-01 -1.01853544e-02 -1.40302375e-01\n",
      " -2.23759580e-02  3.91353637e-01  1.36491373e-01  2.07601994e-01\n",
      "  1.32689968e-01  1.36558399e-01  2.23787934e-01  8.05590749e-02\n",
      "  1.09213993e-01 -1.36512980e-01 -1.15793705e-01  9.82198715e-02\n",
      "  9.35018212e-02 -2.78542697e-01  1.26637876e-01  2.64695615e-01\n",
      "  2.10998535e-01  6.65761232e-02  1.66615304e-02  1.17732443e-01\n",
      " -1.04405522e-01  2.36761168e-01 -9.26435739e-02 -2.85238206e-01\n",
      "  9.79660377e-02  5.43511361e-02 -8.90553370e-02  1.83211360e-02\n",
      "  3.16772722e-02 -1.54195547e-01  1.67604819e-01 -7.84517601e-02\n",
      " -4.76090282e-01 -2.76540243e-03  3.00564498e-01 -5.10827340e-02\n",
      "  8.28842148e-02  9.04728845e-02  1.29208446e-01 -1.23539805e-01\n",
      " -8.35583657e-02  6.28178120e-02  1.15531936e-01  1.16025597e-01\n",
      " -2.77618736e-01 -2.58085549e-01  1.38853550e-01 -2.29244903e-02\n",
      " -1.39271513e-01 -1.15039237e-01 -5.36435656e-02  6.36853725e-02\n",
      "  1.60144165e-01 -1.30487204e-01 -2.52539739e-02 -3.97975534e-01\n",
      " -4.31332812e-02  9.87921059e-02  9.11643282e-02  3.56581318e-03\n",
      "  3.29274535e-02  4.07894664e-02  6.31371066e-02 -2.21967652e-01\n",
      "  1.19033992e+00 -7.09841028e-02 -2.58658677e-01  8.79970267e-02\n",
      " -4.05197367e-02  2.97450453e-01  3.49547595e-01 -2.26055399e-01\n",
      "  2.80170087e-02 -6.66928515e-02 -5.64148910e-02  3.93232852e-02\n",
      " -1.04016572e-01 -8.03431645e-02  1.01528808e-01  1.35052368e-01\n",
      " -4.56661507e-02 -7.33661465e-03 -7.62624368e-02  2.09034070e-01\n",
      " -2.53487118e-02  4.68939170e-02  6.05532043e-02  2.13019904e-02\n",
      " -5.77259921e-02 -4.99795765e-01 -1.46239772e-01 -2.98138648e-01\n",
      " -3.98184396e-02  1.05196424e-02  1.20564319e-01  5.41814193e-02\n",
      " -8.15708712e-02 -6.57801107e-02  1.55048251e-01  5.91435134e-02\n",
      " -2.39083335e-01  1.47725657e-01 -8.67489517e-01 -1.28792122e-01\n",
      " -1.19854361e-01 -1.80708081e-01 -2.66017057e-02 -2.15302274e-01\n",
      " -5.57137951e-02  1.12283388e-02  2.67371479e-02  7.18017071e-02\n",
      " -4.74443406e-01 -1.09696694e-01 -3.84479873e-02  9.12563950e-02\n",
      "  3.25771987e-01  4.64135140e-01 -3.73389833e-02 -1.65298834e-01]\n",
      "[ 7.03424308e-03 -1.09738496e-03 -1.40321190e-02  4.16012667e-02\n",
      " -9.74763464e-03 -2.68655997e-02 -3.01062665e-03  1.57314129e-02\n",
      "  1.55544393e-02 -1.10164974e-02  4.06668708e-02 -1.21267922e-02\n",
      " -1.88235361e-02  4.84025571e-03 -3.78172137e-02 -6.44748658e-02\n",
      "  4.33938131e-02  1.62889231e-02  2.23150142e-02  3.95134874e-02\n",
      "  2.55176565e-03  5.15420921e-03 -7.73015572e-03 -2.87019685e-02\n",
      "  3.63233685e-02  2.56890245e-02 -1.13582499e-02  8.60622525e-03\n",
      "  1.04165273e-02  4.41087559e-02  4.90604015e-03 -3.79764638e-03\n",
      " -2.05511618e-02  1.66840274e-02  2.51192655e-02 -9.00571584e-04\n",
      "  3.22169103e-02  3.55118476e-02 -2.74601486e-02  1.34697100e-02\n",
      " -1.08514922e-02 -2.39663059e-03 -2.54664756e-02  2.15313900e-02\n",
      " -3.27991731e-02  3.86520177e-02 -1.25501743e-02  5.48692979e-03\n",
      "  8.47534649e-03  1.81661900e-02 -1.30840868e-03 -4.02786024e-03\n",
      "  6.48063654e-03 -1.98443104e-02  4.77195438e-03  1.09505542e-02\n",
      "  5.59545867e-03 -1.31429937e-02 -1.65649652e-02 -8.57323641e-04\n",
      " -1.08293202e-02  2.51862332e-02 -1.54944705e-02  4.21977080e-02\n",
      "  1.45250447e-02  9.26128682e-03  1.06581794e-02 -6.66486286e-03\n",
      " -3.20883356e-02 -1.31873130e-05  2.76137367e-02 -1.02078915e-02\n",
      " -1.62117695e-03  7.61571852e-03 -3.75164812e-03  1.39894448e-02\n",
      "  9.19594709e-03  4.20165015e-03 -2.55665556e-02 -4.33006277e-03\n",
      "  7.09963311e-03 -4.62383311e-03 -2.27802321e-02  2.85526598e-03\n",
      "  1.14807468e-02  8.98884330e-03 -1.66697837e-02 -2.03676317e-02\n",
      " -6.61417516e-03  1.47545629e-03  2.30195554e-04 -5.74394222e-03\n",
      " -1.21274749e-02  1.99933560e-03  4.81065288e-02  2.81915907e-03\n",
      "  4.31482568e-02  1.06993457e-02 -8.56780820e-03 -9.96846333e-03\n",
      "  9.94685479e-03 -9.08050803e-04 -1.63595341e-02 -2.74696830e-03\n",
      " -1.84577946e-02  1.72967575e-02  2.88974475e-02  1.82923600e-02\n",
      " -2.15537734e-02 -4.06349031e-03 -3.68699208e-02 -3.77966370e-03\n",
      "  6.52058749e-03 -8.39205645e-03  1.24948725e-04  2.83985119e-02\n",
      " -2.83126198e-02 -3.36432904e-02 -2.06438731e-02 -5.93564124e-04\n",
      " -2.40383074e-02 -5.29864104e-03  2.35977583e-02  4.53632660e-02\n",
      " -2.78780852e-02  4.23667282e-02 -7.26259593e-03 -1.03876572e-02\n",
      "  7.19477655e-04 -2.12356783e-02  1.75468866e-02 -2.23385282e-02\n",
      "  1.80800371e-02 -3.38354590e-03  3.19156125e-02  1.29250837e-02\n",
      " -2.23792866e-02 -4.45658900e-02 -7.17220875e-03  2.40595150e-03\n",
      "  8.06344673e-03 -2.74953563e-02  2.34453473e-02  3.92279588e-03\n",
      " -8.92618764e-03 -2.64332891e-02 -1.96366906e-02  1.94428843e-02\n",
      "  6.20168773e-03 -2.49693228e-04 -2.54201032e-02 -1.34998728e-02\n",
      "  1.86660923e-02 -1.16547709e-02  5.38757257e-03 -2.11557560e-02\n",
      " -7.36562088e-02  2.82806847e-02 -1.28607510e-03 -1.75154500e-03\n",
      "  5.30337507e-04  3.18833976e-03 -2.16835346e-02  3.40847224e-02\n",
      "  1.94020588e-02 -3.25610600e-02  1.81759726e-02 -1.68151408e-02\n",
      "  8.99612159e-03  1.31889526e-02  1.13215549e-02 -9.76260472e-03\n",
      "  3.40560414e-02  1.91725064e-02 -8.23683012e-03 -5.65035152e-04\n",
      "  1.48232083e-03 -4.28344775e-03 -1.49569828e-02 -3.34116854e-02\n",
      "  3.46015161e-03  1.78316738e-02 -6.75624236e-04  3.28205787e-02\n",
      "  2.23501981e-03 -1.93850957e-02 -2.38304632e-03  1.49126295e-02\n",
      "  4.62097628e-03 -1.51129663e-02  2.50395332e-02 -1.71905141e-02\n",
      "  1.17406202e-02  1.20761544e-02  2.24979017e-02  1.02068298e-02\n",
      " -8.70153960e-03  2.84685865e-02  1.04373805e-02  3.91079187e-02\n",
      " -1.62893981e-02  2.69512050e-02 -1.15802325e-02  1.20359221e-02\n",
      " -1.46859186e-02 -5.59697067e-03  1.11612547e-02  2.48753149e-02\n",
      " -2.54909396e-02  4.13941452e-03 -2.47469381e-03 -2.63241846e-02\n",
      " -1.41306305e-02 -5.08882338e-03 -1.27957752e-02 -4.62327478e-03\n",
      " -8.16719886e-03 -2.93521537e-03 -4.06440144e-04  1.50035601e-02\n",
      "  7.10163498e-03 -3.53069999e-03 -2.98397727e-02  3.00022997e-02\n",
      "  1.95965301e-02 -4.92294086e-03 -7.84216635e-03  1.99781707e-03\n",
      "  1.60594907e-04  1.66744757e-02  2.64790189e-02 -3.32360016e-03\n",
      "  1.61785316e-02  5.65442443e-03  3.31717208e-02  9.50180367e-03\n",
      " -3.33925174e-03  1.56865511e-02 -1.31494105e-02  5.37548028e-03\n",
      "  5.20920055e-03 -1.80172548e-02  3.35942358e-02 -1.96993947e-02\n",
      "  4.43213396e-02 -3.01082544e-02 -2.24439063e-04 -8.35745363e-04\n",
      "  9.41725564e-04 -3.84131707e-02  3.07748504e-02 -9.49306972e-03\n",
      "  1.02643454e-02  2.14219000e-02  1.24543672e-03 -1.65516958e-02\n",
      " -1.43507114e-02  1.42289503e-02  8.09154846e-03 -2.71629114e-02\n",
      "  1.37678580e-02 -4.11168160e-03 -5.29765263e-02 -1.88570737e-03\n",
      " -1.95211191e-02 -1.58123039e-02 -4.21199165e-02 -1.73040815e-02\n",
      "  8.35847016e-03  5.81102222e-02 -1.00419018e-02  1.05927475e-02\n",
      " -2.29289811e-02 -4.91704904e-02 -2.54031061e-03  1.62465149e-03\n",
      " -2.99293897e-03 -2.94179507e-02  1.14228120e-02  1.07087456e-02\n",
      " -2.69809226e-03 -1.51207335e-02 -2.20928900e-02  1.26085011e-03\n",
      " -3.78989684e-03 -2.53033210e-02  4.32702713e-03 -4.12921160e-02\n",
      "  3.58557538e-03  3.80818499e-03  2.17265524e-02 -1.01757562e-02\n",
      " -4.64819856e-02 -2.88726091e-02  5.40403835e-03  1.60750318e-02\n",
      "  3.22287418e-02  3.64511125e-02  2.51999367e-02 -2.15459783e-02]\n"
     ]
    }
   ],
   "source": [
    "#print vector of word that should exist\n",
    "print(wv[\"if\"])\n",
    "\n",
    "#print vector of word that should not exist\n",
    "print(wv[\"apdnbajknbäaperoanböajnbäpad\"])"
   ]
  },
  {
   "cell_type": "markdown",
   "metadata": {},
   "source": [
    "## Torch Dataloader and Dataset"
   ]
  },
  {
   "cell_type": "markdown",
   "metadata": {},
   "source": [
    "## PyTorch Dataset and DataLoader with TF-IDF Weighting\n",
    "\n",
    "For my CommonsenseQA model, I've created a custom PyTorch dataset that converts text into tensor representations using TF-IDF weighting. My dataset returns:\n",
    "\n",
    "1. **Question Tensor**: Shape `(embedding_dim)` encoding the question semantics\n",
    "2. **Choices Tensor**: Shape `(5, embedding_dim)` containing embeddings for each answer option\n",
    "3. **Answer Index**: A tensor with the correct answer's index (0-4), converted from \"A\"-\"E\"\n",
    "\n",
    "### TF-IDF Enhanced Embeddings\n",
    "\n",
    "I've improved standard word averaging by using TF-IDF weighting which:\n",
    "1. Gives higher importance to informative, distinctive words\n",
    "2. Reduces the influence of common words\n",
    "3. Creates more semantically meaningful representations\n",
    "\n",
    "My implementation includes dual-level caching (in-memory LRU and disk persistence) for efficient processing of the large dataset while maintaining reasonable memory usage."
   ]
  },
  {
   "cell_type": "code",
   "execution_count": 21,
   "metadata": {},
   "outputs": [],
   "source": [
    "class CommonsenseQAEmbeddingDataset(Dataset):\n",
    "    \"\"\"Dataset for CommonsenseQA with TF-IDF weighted embeddings and caching capabilities\"\"\"\n",
    "    def __init__(self, hf_dataset, word_vectors, embedding_dim=300, cache_path=None, use_tfidf=True):\n",
    "        self.data = hf_dataset\n",
    "        self.wv = word_vectors\n",
    "        \n",
    "        # Set embedding dimension directly or derive it from a vector\n",
    "        if embedding_dim is not None:\n",
    "            self.embedding_dim = embedding_dim\n",
    "        else:\n",
    "            # Try to infer embedding dimension from a sample vector\n",
    "            # For a dictionary-like structure\n",
    "            if isinstance(word_vectors, dict):\n",
    "                sample_word = next(iter(word_vectors))\n",
    "                self.embedding_dim = len(word_vectors[sample_word])\n",
    "            # For direct numpy arrays\n",
    "            elif hasattr(word_vectors, 'shape') and len(word_vectors.shape) == 2:\n",
    "                self.embedding_dim = word_vectors.shape[1]\n",
    "            else:\n",
    "                raise ValueError(\"Could not determine embedding dimension. Please provide embedding_dim parameter.\")\n",
    "        \n",
    "        self.cache = {}\n",
    "        self.use_tfidf = use_tfidf\n",
    "        self.idf_scores = {}\n",
    "        \n",
    "        # Load cache if provided and exists\n",
    "        if cache_path and os.path.exists(cache_path):\n",
    "            try:\n",
    "                with open(cache_path, 'rb') as f:\n",
    "                    self.cache = pickle.load(f)\n",
    "                print(f\"Loaded {len(self.cache)} cached embeddings\")\n",
    "            except Exception as e:\n",
    "                print(f\"Failed to load cache: {e}\")\n",
    "                self.cache = {}\n",
    "        \n",
    "        # Configure cache_path for saving if provided\n",
    "        self.cache_path = cache_path\n",
    "        \n",
    "        # Calculate IDF scores if using TF-IDF\n",
    "        if use_tfidf:\n",
    "            self._calculate_idf_scores()\n",
    "    \n",
    "    def __len__(self):\n",
    "        return len(self.data)\n",
    "    \n",
    "    def _calculate_idf_scores(self):\n",
    "        \"\"\"Calculate IDF scores for all words in the dataset\"\"\"\n",
    "        print(\"Calculating IDF scores...\")\n",
    "        \n",
    "        # Collect all texts\n",
    "        all_texts = []\n",
    "        for example in tqdm(self.data, desc=\"Collecting texts\"):\n",
    "            all_texts.append(example[\"question\"])\n",
    "            all_texts.extend(example[\"choices\"][\"text\"])\n",
    "        \n",
    "        # Create document-term matrix\n",
    "        doc_term_counts = defaultdict(Counter)\n",
    "        doc_count = len(all_texts)\n",
    "        \n",
    "        for doc_id, text in enumerate(tqdm(all_texts, desc=\"Counting terms\")):\n",
    "            tokens = preprocess_text(text)\n",
    "            # Count each token only once per document\n",
    "            for token in set(tokens):\n",
    "                if token in self.wv:\n",
    "                    doc_term_counts[token][doc_id] += 1\n",
    "        \n",
    "        # Calculate IDF scores: log(N/df) where N is total docs and df is doc frequency\n",
    "        self.idf_scores = {\n",
    "            term: np.log(doc_count / (len(doc_ids) + 1))\n",
    "            for term, doc_ids in doc_term_counts.items()\n",
    "        }\n",
    "        \n",
    "        print(f\"Calculated IDF scores for {len(self.idf_scores)} terms\")\n",
    "    \n",
    "    @functools.lru_cache(maxsize=1024)\n",
    "    def get_embedding(self, text):\n",
    "        \"\"\"Get embedding for text with TF-IDF weighting and caching for efficiency\"\"\"\n",
    "        # Check if already in cache\n",
    "        if text in self.cache:\n",
    "            return self.cache[text]\n",
    "        \n",
    "        # If not in cache, compute embedding\n",
    "        try:\n",
    "            tokens = preprocess_text(text)\n",
    "            # Filter tokens to only those in vocabulary\n",
    "            valid_tokens = [word for word in tokens if word in self.wv]\n",
    "            \n",
    "            if not valid_tokens:\n",
    "                # Return zeros if no valid tokens\n",
    "                embedding = np.zeros(self.embedding_dim)\n",
    "            else:\n",
    "                if self.use_tfidf:\n",
    "                    # Calculate term frequencies for this text\n",
    "                    term_counts = Counter(valid_tokens)\n",
    "                    # Get TF-IDF weights\n",
    "                    weights = np.array([\n",
    "                        term_counts[term] * self.idf_scores.get(term, 0.0) \n",
    "                        for term in valid_tokens\n",
    "                    ])\n",
    "                    # Normalize weights to prevent numerical issues\n",
    "                    sum_weights = weights.sum()\n",
    "                    if sum_weights > 0:\n",
    "                        weights = weights / sum_weights\n",
    "                    \n",
    "                    # Calculate weighted average of word vectors\n",
    "                    word_vectors = np.array([self.wv[word] for word in valid_tokens])\n",
    "                    embedding = np.sum(word_vectors * weights[:, np.newaxis], axis=0)\n",
    "                else:\n",
    "                    # Use simple mean if not using TF-IDF\n",
    "                    word_vectors = [self.wv[word] for word in valid_tokens]\n",
    "                    embedding = np.mean(word_vectors, axis=0)\n",
    "            \n",
    "            # Store in cache\n",
    "            self.cache[text] = embedding\n",
    "            return embedding\n",
    "            \n",
    "        except Exception as e:\n",
    "            print(f\"Error embedding text '{text[:30]}...': {e}\")\n",
    "            # Return zeros on error\n",
    "            return np.zeros(self.embedding_dim)\n",
    "\n",
    "    def __getitem__(self, idx):\n",
    "        example = self.data[idx]\n",
    "        \n",
    "        # Get question embedding\n",
    "        question_embedding = self.get_embedding(example[\"question\"])\n",
    "        \n",
    "        # Get choice embeddings\n",
    "        choice_embeddings = [self.get_embedding(choice) for choice in example[\"choices\"][\"text\"]]\n",
    "        \n",
    "        # Convert answer key to index (A->0, B->1, etc.)\n",
    "        answer_index = ord(example[\"answerKey\"]) - ord(\"A\")\n",
    "        \n",
    "        # Convert to PyTorch tensors\n",
    "        question_tensor = torch.tensor(question_embedding).float()\n",
    "        choices_tensor = torch.tensor(choice_embeddings).float()\n",
    "        answer_tensor = torch.tensor(answer_index).long()\n",
    "        \n",
    "        return question_tensor, choices_tensor, answer_tensor\n",
    "    \n",
    "    def save_cache(self):\n",
    "        \"\"\"Save embedding cache to disk if cache_path is set\"\"\"\n",
    "        if self.cache_path:\n",
    "            with open(self.cache_path, 'wb') as f:\n",
    "                pickle.dump(self.cache, f)\n",
    "            print(f\"Saved {len(self.cache)} embeddings to cache\")"
   ]
  },
  {
   "cell_type": "code",
   "execution_count": 22,
   "metadata": {},
   "outputs": [],
   "source": [
    "class NormalizedEmbeddingDataset(torch.utils.data.Dataset):\n",
    "    def __init__(self, base_dataset):\n",
    "        self.base_dataset = base_dataset\n",
    "    \n",
    "    def __len__(self):\n",
    "        return len(self.base_dataset)\n",
    "    \n",
    "    def __getitem__(self, idx):\n",
    "        question, choices, answer = self.base_dataset[idx]\n",
    "        \n",
    "        # L2 normalize question embedding\n",
    "        question_norm = torch.norm(question, p=2)\n",
    "        if question_norm > 0:\n",
    "            question = question / question_norm\n",
    "        \n",
    "        # L2 normalize each choice embedding\n",
    "        normalized_choices = choices.clone()\n",
    "        for i in range(choices.size(0)):\n",
    "            choice_norm = torch.norm(choices[i], p=2)\n",
    "            if choice_norm > 0:\n",
    "                normalized_choices[i] = choices[i] / choice_norm\n",
    "        \n",
    "        return question, normalized_choices, answer"
   ]
  },
  {
   "cell_type": "markdown",
   "metadata": {},
   "source": [
    "### Creating Dataset and DataLoader Instances\n",
    "\n",
    "I initialize my dataset objects with TF-IDF weighting enabled for both training and validation sets. Each dataset uses disk-based caching to preserve computed embeddings between runs.\n",
    "\n",
    "For efficient batch processing during training, I configure DataLoaders with:\n",
    "\n",
    "- Batch size of 128 examples\n",
    "- Shuffling enabled for training (disabled for validation)\n",
    "- 4 worker processes for parallel data loading\n",
    "- GPU memory pinning for faster data transfer"
   ]
  },
  {
   "cell_type": "code",
   "execution_count": 23,
   "metadata": {},
   "outputs": [],
   "source": [
    "import random\n",
    "\n",
    "train_dataset = CommonsenseQAEmbeddingDataset(\n",
    "    train, \n",
    "    wv,\n",
    "    embedding_dim=300,\n",
    "    cache_path='train_tfidf_embeddings.pkl',\n",
    "    use_tfidf=False\n",
    ")\n",
    "\n",
    "valid_dataset = CommonsenseQAEmbeddingDataset(\n",
    "    valid, \n",
    "    wv,\n",
    "    embedding_dim=300,\n",
    "    cache_path='valid_tfidf_embeddings.pkl',\n",
    "    use_tfidf=False\n",
    ")\n",
    "\n",
    "class AugmentedEmbeddingDataset(torch.utils.data.Dataset):\n",
    "    def __init__(self, base_dataset, noise_scale=0.01):\n",
    "        self.base_dataset = base_dataset\n",
    "        self.noise_scale = noise_scale\n",
    "    \n",
    "    def __len__(self):\n",
    "        return len(self.base_dataset)\n",
    "    \n",
    "    def __getitem__(self, idx):\n",
    "        question, choices, answer = self.base_dataset[idx]\n",
    "        \n",
    "        # Add small Gaussian noise (20% of the time)\n",
    "        if random.random() < 0.2:\n",
    "            question = question + torch.randn_like(question) * self.noise_scale\n",
    "            choices = choices + torch.randn_like(choices) * self.noise_scale\n",
    "        \n",
    "        return question, choices, answer\n",
    "\n",
    "normalized_train_dataset = NormalizedEmbeddingDataset(train_dataset)\n",
    "normalized_valid_dataset = NormalizedEmbeddingDataset(valid_dataset)\n",
    "\n",
    "# Wrap your training dataset with augmentation\n",
    "augmented_train_dataset = AugmentedEmbeddingDataset(normalized_train_dataset, noise_scale=0.01)\n",
    "\n",
    "# Create DataLoaders with appropriate batch sizes\n",
    "train_loader = DataLoader(\n",
    "    augmented_train_dataset,\n",
    "    batch_size=512,  # Smaller batch size\n",
    "    shuffle=True,\n",
    "    num_workers=4,\n",
    "    pin_memory=True\n",
    ")\n",
    "\n",
    "valid_loader = DataLoader(\n",
    "    normalized_valid_dataset,\n",
    "    batch_size=1024,  # Can be larger for validation\n",
    "    shuffle=False,\n",
    "    num_workers=4,\n",
    "    pin_memory=True\n",
    ")"
   ]
  },
  {
   "cell_type": "markdown",
   "metadata": {},
   "source": [
    "## RNN"
   ]
  },
  {
   "cell_type": "code",
   "execution_count": 24,
   "metadata": {},
   "outputs": [],
   "source": [
    "class CommonsenseQARNNDataset(Dataset):\n",
    "    \"\"\"Dataset for CommonsenseQA with RNN processing capabilities\"\"\"\n",
    "    def __init__(self, hf_dataset, word_vectors, embedding_dim=300, max_seq_length=50, cache_path=None):\n",
    "        self.data = hf_dataset\n",
    "        self.wv = word_vectors\n",
    "        self.embedding_dim = embedding_dim\n",
    "        self.max_seq_length = max_seq_length\n",
    "        self.cache = {}\n",
    "        \n",
    "        # Special tokens\n",
    "        self.PAD_TOKEN = \"<PAD>\"\n",
    "        self.UNK_TOKEN = \"<UNK>\"\n",
    "        self.SEP_TOKEN = \"<SEP>\"\n",
    "        \n",
    "        # Load cache if provided and exists\n",
    "        if cache_path and os.path.exists(cache_path):\n",
    "            try:\n",
    "                with open(cache_path, 'rb') as f:\n",
    "                    cache_data = pickle.load(f)\n",
    "                    self.cache = cache_data.get('sequences', {})\n",
    "                    self.word_to_idx = cache_data.get('vocab', {})\n",
    "                    if not self.word_to_idx:\n",
    "                        self.word_to_idx = self._build_vocab()\n",
    "                print(f\"Loaded {len(self.cache)} cached sequences\")\n",
    "            except Exception as e:\n",
    "                print(f\"Failed to load cache: {e}\")\n",
    "                self.cache = {}\n",
    "                self.word_to_idx = self._build_vocab()\n",
    "        else:\n",
    "            # Build vocabulary\n",
    "            self.word_to_idx = self._build_vocab()\n",
    "        \n",
    "        # Configure cache_path for saving if provided\n",
    "        self.cache_path = cache_path\n",
    "        print(f\"Built vocabulary with {len(self.word_to_idx)} words\")\n",
    "    \n",
    "    def _build_vocab(self):\n",
    "        \"\"\"Build a simplified vocabulary with special tokens and common words\"\"\"\n",
    "        word_to_idx = {\n",
    "            self.PAD_TOKEN: 0,\n",
    "            self.UNK_TOKEN: 1,\n",
    "            self.SEP_TOKEN: 2\n",
    "        }\n",
    "        \n",
    "        # Get words directly from dataset to ensure vocabulary coverage\n",
    "        print(\"Building vocabulary from dataset...\")\n",
    "        all_words = set()\n",
    "        \n",
    "        # Sample from dataset to build vocabulary\n",
    "        for idx in tqdm(range(len(self.data))):\n",
    "            example = self.data[idx]\n",
    "            \n",
    "            # Add question words\n",
    "            question_tokens = preprocess_text(example[\"question\"])\n",
    "            all_words.update(question_tokens)\n",
    "            \n",
    "            # Add choice words\n",
    "            for choice in example[\"choices\"][\"text\"]:\n",
    "                choice_tokens = preprocess_text(choice)\n",
    "                all_words.update(choice_tokens)\n",
    "            \n",
    "            # Limit vocabulary size for efficiency\n",
    "            if len(all_words) > 50000:\n",
    "                break\n",
    "        \n",
    "        # Add words to vocabulary\n",
    "        idx = 3\n",
    "        for word in all_words:\n",
    "            if word not in word_to_idx and word in self.wv:\n",
    "                word_to_idx[word] = idx\n",
    "                idx += 1\n",
    "        \n",
    "        print(f\"Created vocabulary with {len(word_to_idx)} words\")\n",
    "        return word_to_idx\n",
    "    \n",
    "    def __len__(self):\n",
    "        return len(self.data)\n",
    "    \n",
    "    def _get_word_idx(self, word):\n",
    "        \"\"\"Get vocabulary index for a word, using UNK for OOV words\"\"\"\n",
    "        return self.word_to_idx.get(word, self.word_to_idx[self.UNK_TOKEN])\n",
    "    \n",
    "    def prepare_sequence(self, question, choice):\n",
    "        \"\"\"Tokenize and prepare a question-choice sequence\"\"\"\n",
    "        # Create cache key\n",
    "        cache_key = f\"{question}:{choice}\"\n",
    "        \n",
    "        # Check if already in cache\n",
    "        if cache_key in self.cache:\n",
    "            return self.cache[cache_key]\n",
    "        \n",
    "        # Tokenize using your existing preprocess_text function\n",
    "        question_tokens = preprocess_text(question)\n",
    "        choice_tokens = preprocess_text(choice)\n",
    "        \n",
    "        # Combine question and choice with separator\n",
    "        combined_tokens = question_tokens + [self.SEP_TOKEN] + choice_tokens\n",
    "        \n",
    "        # Truncate if too long\n",
    "        if len(combined_tokens) > self.max_seq_length:\n",
    "            combined_tokens = combined_tokens[:self.max_seq_length]\n",
    "        \n",
    "        # Convert to vocabulary indices\n",
    "        token_ids = [self._get_word_idx(token) for token in combined_tokens]\n",
    "        \n",
    "        # Store in cache\n",
    "        self.cache[cache_key] = token_ids\n",
    "        \n",
    "        return token_ids\n",
    "    \n",
    "    def __getitem__(self, idx):\n",
    "        example = self.data[idx]\n",
    "        \n",
    "        # Get question\n",
    "        question = example[\"question\"]\n",
    "        \n",
    "        # Get choices\n",
    "        choices = example[\"choices\"][\"text\"]\n",
    "        \n",
    "        # Prepare sequences for each question-choice pair\n",
    "        sequences = []\n",
    "        sequence_lengths = []\n",
    "        \n",
    "        for choice in choices:\n",
    "            seq = self.prepare_sequence(question, choice)\n",
    "            sequences.append(torch.tensor(seq, dtype=torch.long))\n",
    "            sequence_lengths.append(len(seq))\n",
    "        \n",
    "        # Convert answer key to index (A->0, B->1, etc.)\n",
    "        answer_index = ord(example[\"answerKey\"]) - ord(\"A\")\n",
    "        answer = torch.tensor(answer_index, dtype=torch.long)\n",
    "        \n",
    "        return sequences, sequence_lengths, answer\n",
    "    \n",
    "    def save_cache(self):\n",
    "        \"\"\"Save sequences cache and vocabulary to disk if cache_path is set\"\"\"\n",
    "        if self.cache_path:\n",
    "            cache_data = {\n",
    "                'sequences': self.cache,\n",
    "                'vocab': self.word_to_idx\n",
    "            }\n",
    "            with open(self.cache_path, 'wb') as f:\n",
    "                pickle.dump(cache_data, f)\n",
    "            print(f\"Saved {len(self.cache)} sequences with vocabulary of {len(self.word_to_idx)} words to cache\")\n",
    "    \n",
    "    def get_embedding_matrix(self):\n",
    "        \"\"\"Create an embedding matrix for initializing the embedding layer\"\"\"\n",
    "        vocab_size = len(self.word_to_idx)\n",
    "        embedding_matrix = torch.zeros(vocab_size, self.embedding_dim)\n",
    "        \n",
    "        # Fill known words with pretrained vectors\n",
    "        for word, idx in self.word_to_idx.items():\n",
    "            if word == self.PAD_TOKEN:\n",
    "                # Zero vector for padding\n",
    "                pass\n",
    "            elif word == self.UNK_TOKEN or word == self.SEP_TOKEN:\n",
    "                # Random initialization for special tokens\n",
    "                embedding_matrix[idx] = torch.randn(self.embedding_dim) * 0.1\n",
    "            else:\n",
    "                try:\n",
    "                    # Get vector from word vectors\n",
    "                    embedding_matrix[idx] = torch.tensor(self.wv[word])\n",
    "                except (KeyError, ValueError):\n",
    "                    # If word isn't found, use random initialization\n",
    "                    embedding_matrix[idx] = torch.randn(self.embedding_dim) * 0.1\n",
    "                \n",
    "        return embedding_matrix"
   ]
  },
  {
   "cell_type": "code",
   "execution_count": 25,
   "metadata": {},
   "outputs": [],
   "source": [
    "def collate_rnn_batch(batch):\n",
    "    \"\"\"Collate function for RNN batches\"\"\"\n",
    "    # Unpack batch\n",
    "    all_sequences = []\n",
    "    all_lengths = []\n",
    "    all_answers = []\n",
    "    \n",
    "    for sequences, lengths, answer in batch:\n",
    "        all_sequences.append(sequences)\n",
    "        all_lengths.append(lengths)\n",
    "        all_answers.append(answer)\n",
    "    \n",
    "    # Stack answers\n",
    "    answers_tensor = torch.stack(all_answers)\n",
    "    \n",
    "    return all_sequences, all_lengths, answers_tensor"
   ]
  },
  {
   "cell_type": "code",
   "execution_count": 26,
   "metadata": {},
   "outputs": [
    {
     "name": "stdout",
     "output_type": "stream",
     "text": [
      "Building vocabulary from dataset...\n"
     ]
    },
    {
     "name": "stderr",
     "output_type": "stream",
     "text": [
      "100%|██████████| 8741/8741 [00:05<00:00, 1708.43it/s]\n"
     ]
    },
    {
     "name": "stdout",
     "output_type": "stream",
     "text": [
      "Created vocabulary with 12018 words\n",
      "Built vocabulary with 12018 words\n",
      "Building vocabulary from dataset...\n"
     ]
    },
    {
     "name": "stderr",
     "output_type": "stream",
     "text": [
      "100%|██████████| 1000/1000 [00:00<00:00, 4105.61it/s]"
     ]
    },
    {
     "name": "stdout",
     "output_type": "stream",
     "text": [
      "Created vocabulary with 4349 words\n",
      "Built vocabulary with 4349 words\n",
      "Sample question has 5 choices\n",
      "Choice 1: 26 tokens\n",
      "Choice 2: 26 tokens\n",
      "Choice 3: 26 tokens\n",
      "Choice 4: 27 tokens\n",
      "Choice 5: 26 tokens\n",
      "Correct answer: 0\n"
     ]
    },
    {
     "name": "stderr",
     "output_type": "stream",
     "text": [
      "\n"
     ]
    }
   ],
   "source": [
    "train_rnn_dataset = CommonsenseQARNNDataset(\n",
    "    train, \n",
    "    wv,\n",
    "    embedding_dim=300,\n",
    "    max_seq_length=50,\n",
    "    cache_path='train_rnn_cache.pkl'\n",
    ")\n",
    "\n",
    "valid_rnn_dataset = CommonsenseQARNNDataset(\n",
    "    valid, \n",
    "    wv,\n",
    "    embedding_dim=300,\n",
    "    max_seq_length=50,\n",
    "    cache_path='valid_rnn_cache.pkl'\n",
    ")\n",
    "\n",
    "# Check dataset sample\n",
    "sample_idx = 0\n",
    "sequences, lengths, answer = train_rnn_dataset[sample_idx]\n",
    "print(f\"Sample question has {len(sequences)} choices\")\n",
    "for i, (seq, length) in enumerate(zip(sequences, lengths)):\n",
    "    print(f\"Choice {i+1}: {length} tokens\")\n",
    "print(f\"Correct answer: {answer.item()}\")\n"
   ]
  },
  {
   "cell_type": "code",
   "execution_count": 27,
   "metadata": {},
   "outputs": [
    {
     "name": "stdout",
     "output_type": "stream",
     "text": [
      "Created train loader with 274 batches\n",
      "Created validation loader with 32 batches\n"
     ]
    }
   ],
   "source": [
    "train_rnn_loader = DataLoader(\n",
    "    train_rnn_dataset,\n",
    "    batch_size=32,  # Smaller batch size for this approach\n",
    "    shuffle=True,\n",
    "    collate_fn=collate_rnn_batch,\n",
    "    num_workers=2,\n",
    "    pin_memory=True\n",
    ")\n",
    "\n",
    "valid_rnn_loader = DataLoader(\n",
    "    valid_rnn_dataset,\n",
    "    batch_size=32,  # Smaller batch size for this approach\n",
    "    shuffle=False,\n",
    "    collate_fn=collate_rnn_batch,\n",
    "    num_workers=2,\n",
    "    pin_memory=True\n",
    ")\n",
    "\n",
    "print(f\"Created train loader with {len(train_rnn_loader)} batches\")\n",
    "print(f\"Created validation loader with {len(valid_rnn_loader)} batches\")"
   ]
  },
  {
   "cell_type": "markdown",
   "metadata": {},
   "source": [
    "# Model"
   ]
  },
  {
   "cell_type": "markdown",
   "metadata": {},
   "source": [
    "## Embedding Model with Attention for CommonsenseQA\n",
    "\n",
    "I've implemented a QA classifier model that uses an attention mechanism to better capture the relationship between questions and answer choices.\n",
    "\n",
    "My model architecture takes the following approach:\n",
    "\n",
    "1. I first project questions and choices into a common hidden space using separate linear layers\n",
    "2. I implement an attention mechanism that helps the model focus on relevant parts of each choice based on the question\n",
    "3. I include multiple regularization techniques like dropout and layer normalization to prevent overfitting\n",
    "4. I use concatenation of question and choice representations after they've been properly aligned in the same semantic space\n",
    "\n",
    "The model processes inputs by:\n",
    "1. Projecting the question embedding into a hidden representation\n",
    "2. Projecting each of the five choice embeddings into the same hidden space\n",
    "3. Computing attention weights between the question and each choice\n",
    "4. Applying these weights to emphasize important aspects of the choices\n",
    "5. Concatenating question and weighted choice representations\n",
    "6. Making the final prediction through fully-connected layers\n",
    "\n",
    "I've chosen to use AdamW as my optimizer with a learning rate scheduler to automatically adjust the learning rate during training. This combination helps the model converge to better solutions more efficiently.\n",
    "\n",
    "For the activation functions, I use ReLU in the projection layers and LeakyReLU in the classification layers to help with smoother gradient flow throughout the network."
   ]
  },
  {
   "cell_type": "code",
   "execution_count": 28,
   "metadata": {},
   "outputs": [],
   "source": [
    "class QASimpleClassifier(nn.Module):\n",
    "    def __init__(self, embedding_dim, hidden_dim=256, dropout_rate=0.2):\n",
    "        super(QASimpleClassifier, self).__init__()\n",
    "        \n",
    "        self.embedding_dim = embedding_dim\n",
    "        self.hidden_dim = hidden_dim\n",
    "        \n",
    "        # Improved projection layers with intermediate sizes\n",
    "        self.question_projection = nn.Sequential(\n",
    "            nn.Linear(embedding_dim, hidden_dim),\n",
    "            nn.BatchNorm1d(hidden_dim),\n",
    "            nn.ReLU(),\n",
    "            nn.Dropout(dropout_rate)\n",
    "        )\n",
    "        \n",
    "        self.choice_projection = nn.Sequential(\n",
    "            nn.Linear(embedding_dim, hidden_dim),\n",
    "            nn.BatchNorm1d(hidden_dim),\n",
    "            nn.ReLU(),\n",
    "            nn.Dropout(dropout_rate)\n",
    "        )\n",
    "        \n",
    "        # Maintain 2-layer architecture with better feature interaction\n",
    "        self.fc1 = nn.Linear(2 * hidden_dim, hidden_dim)\n",
    "        self.bn_fc1 = nn.BatchNorm1d(hidden_dim)\n",
    "        self.fc2 = nn.Linear(hidden_dim, 1)\n",
    "        \n",
    "        # Moderate dropout\n",
    "        self.dropout = nn.Dropout(dropout_rate)\n",
    "        self.activation = nn.ReLU()\n",
    "        \n",
    "        # Initialize with better scale\n",
    "        self._initialize_weights()\n",
    "    \n",
    "    def _initialize_weights(self):\n",
    "        for m in self.modules():\n",
    "            if isinstance(m, nn.Linear):\n",
    "                nn.init.kaiming_uniform_(m.weight, a=0, mode='fan_in', nonlinearity='relu')\n",
    "                if m.bias is not None:\n",
    "                    nn.init.constant_(m.bias, 0)\n",
    "    \n",
    "    def forward(self, question, choices):\n",
    "        batch_size, num_choices, _ = choices.size()\n",
    "        \n",
    "        # Process question\n",
    "        projected_question = self.question_projection[0](question)  # Linear\n",
    "        projected_question = self.question_projection[1](projected_question)  # BatchNorm\n",
    "        projected_question = self.question_projection[2](projected_question)  # ReLU\n",
    "        projected_question = self.question_projection[3](projected_question)  # Dropout\n",
    "        \n",
    "        # Process choices\n",
    "        choices_flat = choices.view(batch_size * num_choices, -1)\n",
    "        projected_choices = self.choice_projection[0](choices_flat)  # Linear\n",
    "        projected_choices = self.choice_projection[1](projected_choices)  # BatchNorm\n",
    "        projected_choices = self.choice_projection[2](projected_choices)  # ReLU\n",
    "        projected_choices = self.choice_projection[3](projected_choices)  # Dropout\n",
    "        \n",
    "        # Reshape choices back\n",
    "        projected_choices = projected_choices.view(batch_size, num_choices, -1)\n",
    "        \n",
    "        # Expand question to match choices dimension\n",
    "        question_expanded = projected_question.unsqueeze(1).expand(-1, num_choices, -1)\n",
    "        \n",
    "        # Concatenate\n",
    "        combined = torch.cat((question_expanded, projected_choices), dim=2)\n",
    "        \n",
    "        # First layer\n",
    "        x = self.fc1(combined)\n",
    "        x_flat = x.view(batch_size * num_choices, -1)\n",
    "        x_flat = self.bn_fc1(x_flat)\n",
    "        x_flat = self.activation(x_flat)\n",
    "        x_flat = self.dropout(x_flat)\n",
    "        x = x_flat.view(batch_size, num_choices, -1)\n",
    "        \n",
    "        # Output layer\n",
    "        x = self.fc2(x)\n",
    "        \n",
    "        return x.squeeze(-1)"
   ]
  },
  {
   "cell_type": "code",
   "execution_count": 29,
   "metadata": {},
   "outputs": [
    {
     "name": "stdout",
     "output_type": "stream",
     "text": [
      "Using device: cuda\n",
      "QASimpleClassifier(\n",
      "  (question_projection): Sequential(\n",
      "    (0): Linear(in_features=300, out_features=64, bias=True)\n",
      "    (1): BatchNorm1d(64, eps=1e-05, momentum=0.1, affine=True, track_running_stats=True)\n",
      "    (2): ReLU()\n",
      "    (3): Dropout(p=0.2, inplace=False)\n",
      "  )\n",
      "  (choice_projection): Sequential(\n",
      "    (0): Linear(in_features=300, out_features=64, bias=True)\n",
      "    (1): BatchNorm1d(64, eps=1e-05, momentum=0.1, affine=True, track_running_stats=True)\n",
      "    (2): ReLU()\n",
      "    (3): Dropout(p=0.2, inplace=False)\n",
      "  )\n",
      "  (fc1): Linear(in_features=128, out_features=64, bias=True)\n",
      "  (bn_fc1): BatchNorm1d(64, eps=1e-05, momentum=0.1, affine=True, track_running_stats=True)\n",
      "  (fc2): Linear(in_features=64, out_features=1, bias=True)\n",
      "  (dropout): Dropout(p=0.2, inplace=False)\n",
      "  (activation): ReLU()\n",
      ")\n"
     ]
    }
   ],
   "source": [
    "# Instantiate the model with improved parameters\n",
    "embedding_dim = 300\n",
    "hidden_dim = 64  # Start with a reasonable size\n",
    "dropout_rate = 0.2  # Moderate dropout\n",
    "\n",
    "# Create model\n",
    "qa_model = QASimpleClassifier(\n",
    "    embedding_dim=embedding_dim,\n",
    "    hidden_dim=hidden_dim,\n",
    "    dropout_rate=dropout_rate\n",
    ")\n",
    "\n",
    "# Move model to device\n",
    "device = torch.device(\"cuda\" if torch.cuda.is_available() else \"cpu\")\n",
    "print(f\"Using device: {device}\")\n",
    "qa_model = qa_model.to(device)\n",
    "\n",
    "print(qa_model)"
   ]
  },
  {
   "cell_type": "markdown",
   "metadata": {},
   "source": [
    "## RNN"
   ]
  },
  {
   "cell_type": "code",
   "execution_count": 30,
   "metadata": {},
   "outputs": [],
   "source": [
    "class QARNNModel(nn.Module):\n",
    "    \"\"\"RNN model for CommonsenseQA with 2-layer LSTM and 2-layer classifier\"\"\"\n",
    "    def __init__(self, vocab_size, embedding_dim, hidden_dim, dropout_rate=0.3):\n",
    "        super(QARNNModel, self).__init__()\n",
    "        \n",
    "        self.embedding_dim = embedding_dim\n",
    "        self.hidden_dim = hidden_dim\n",
    "        \n",
    "        # Embedding layer\n",
    "        self.embedding = nn.Embedding(vocab_size, embedding_dim, padding_idx=0)\n",
    "        \n",
    "        # 2-layer bidirectional LSTM\n",
    "        self.lstm = nn.LSTM(\n",
    "            input_size=embedding_dim,\n",
    "            hidden_size=hidden_dim,\n",
    "            num_layers=2,  # Fixed as per requirement\n",
    "            batch_first=True,\n",
    "            dropout=dropout_rate,\n",
    "            bidirectional=True\n",
    "        )\n",
    "        \n",
    "        # 2-layer classifier with ReLU activation\n",
    "        lstm_output_dim = hidden_dim * 2  # bidirectional = *2\n",
    "        self.fc1 = nn.Linear(lstm_output_dim, hidden_dim)\n",
    "        self.relu = nn.ReLU()\n",
    "        self.dropout = nn.Dropout(dropout_rate)\n",
    "        self.fc2 = nn.Linear(hidden_dim, 1)\n",
    "    \n",
    "    def process_sequence(self, sequence):\n",
    "        \"\"\"Process a single sequence (no batch dimension)\"\"\"\n",
    "        # Handle empty sequences\n",
    "        if sequence.numel() == 0:\n",
    "            return torch.zeros(1, device=sequence.device)\n",
    "        \n",
    "        # Add batch dimension of 1\n",
    "        sequence = sequence.unsqueeze(0)\n",
    "    \n",
    "        # Embed the sequence\n",
    "        embedded = self.embedding(sequence)\n",
    "    \n",
    "        # Process through LSTM (we don't need to pack since it's a single sequence)\n",
    "        try:\n",
    "            _, (hidden, _) = self.lstm(embedded)\n",
    "        \n",
    "            # Get final hidden state from both directions\n",
    "            # Check dimensions to avoid concatenation errors\n",
    "            if hidden.dim() == 3 and hidden.size(1) > 0:\n",
    "                # Normal case - concatenate the forward and backward directions\n",
    "                final_hidden = torch.cat([hidden[-2, 0], hidden[-1, 0]], dim=0)\n",
    "            else:\n",
    "                # Handle edge case - create a zero vector of appropriate size\n",
    "                final_hidden = torch.zeros(self.hidden_dim * 2, device=sequence.device)\n",
    "        except Exception as e:\n",
    "            # Fallback for any LSTM errors - use a zero vector\n",
    "            print(f\"Error in LSTM processing: {e}\")\n",
    "            final_hidden = torch.zeros(self.hidden_dim * 2, device=sequence.device)\n",
    "    \n",
    "        # First layer of classifier\n",
    "        x = self.fc1(final_hidden)\n",
    "        x = self.relu(x)\n",
    "        x = self.dropout(x)\n",
    "    \n",
    "        # Second layer to output\n",
    "        logit = self.fc2(x)\n",
    "    \n",
    "        return logit\n",
    "    \n",
    "    def forward(self, batch_sequences, batch_lengths):\n",
    "        \"\"\"\n",
    "        Process batch by processing each example separately\n",
    "    \n",
    "        Args:\n",
    "            batch_sequences: List of lists of tensor sequences\n",
    "            batch_lengths: List of lists of sequence lengths\n",
    "    \n",
    "        Returns:\n",
    "            Tensor of logits [batch_size, num_choices]\n",
    "        \"\"\"\n",
    "        batch_size = len(batch_sequences)\n",
    "        num_choices = len(batch_sequences[0])\n",
    "    \n",
    "        # Store results\n",
    "        all_logits = []\n",
    "    \n",
    "        # Process each example in the batch\n",
    "        for i in range(batch_size):\n",
    "            example_sequences = batch_sequences[i]\n",
    "            example_logits = []\n",
    "        \n",
    "            # Process each choice for this example\n",
    "            for j in range(num_choices):\n",
    "                sequence = example_sequences[j].to(device)  # Move to device here\n",
    "            \n",
    "                # Ensure sequence is long tensor (fix for the error)\n",
    "                if sequence.dtype != torch.long:\n",
    "                    sequence = sequence.long()\n",
    "                \n",
    "                logit = self.process_sequence(sequence)\n",
    "                example_logits.append(logit)\n",
    "        \n",
    "            # Combine logits for all choices for this example\n",
    "            example_logits = torch.cat(example_logits)\n",
    "            all_logits.append(example_logits)\n",
    "    \n",
    "        # Stack all example logits into a batch\n",
    "        logits_tensor = torch.stack(all_logits)\n",
    "    \n",
    "        return logits_tensor"
   ]
  },
  {
   "cell_type": "markdown",
   "metadata": {},
   "source": [
    "# Training"
   ]
  },
  {
   "cell_type": "markdown",
   "metadata": {},
   "source": [
    "Initialize Weights & Biases experiment tracking"
   ]
  },
  {
   "cell_type": "code",
   "execution_count": 31,
   "metadata": {},
   "outputs": [
    {
     "name": "stderr",
     "output_type": "stream",
     "text": [
      "\u001b[34m\u001b[1mwandb\u001b[0m: Using wandb-core as the SDK backend.  Please refer to https://wandb.me/wandb-core for more information.\n",
      "\u001b[34m\u001b[1mwandb\u001b[0m: Currently logged in as: \u001b[33mnevin-helfenstein\u001b[0m (\u001b[33mnevinhelfenstein-hslu-nlp-fs25\u001b[0m) to \u001b[32mhttps://api.wandb.ai\u001b[0m. Use \u001b[1m`wandb login --relogin`\u001b[0m to force relogin\n"
     ]
    },
    {
     "data": {
      "text/plain": [
       "True"
      ]
     },
     "execution_count": 31,
     "metadata": {},
     "output_type": "execute_result"
    }
   ],
   "source": [
    "wandb.login()"
   ]
  },
  {
   "cell_type": "code",
   "execution_count": 32,
   "metadata": {},
   "outputs": [
    {
     "data": {
      "text/html": [
       "Tracking run with wandb version 0.19.8"
      ],
      "text/plain": [
       "<IPython.core.display.HTML object>"
      ]
     },
     "metadata": {},
     "output_type": "display_data"
    },
    {
     "data": {
      "text/html": [
       "Run data is saved locally in <code>/home/nevin/projects/HSLU.NLP/course_project/wandb/run-20250331_212708-irx2pu3q</code>"
      ],
      "text/plain": [
       "<IPython.core.display.HTML object>"
      ]
     },
     "metadata": {},
     "output_type": "display_data"
    },
    {
     "data": {
      "text/html": [
       "Syncing run <strong><a href='https://wandb.ai/nevinhelfenstein-hslu-nlp-fs25/hslu-fs25-nlp-embedding-qa/runs/irx2pu3q' target=\"_blank\">optimized-qa-classifier-2025-03-31T21:27:08</a></strong> to <a href='https://wandb.ai/nevinhelfenstein-hslu-nlp-fs25/hslu-fs25-nlp-embedding-qa' target=\"_blank\">Weights & Biases</a> (<a href='https://wandb.me/developer-guide' target=\"_blank\">docs</a>)<br>"
      ],
      "text/plain": [
       "<IPython.core.display.HTML object>"
      ]
     },
     "metadata": {},
     "output_type": "display_data"
    },
    {
     "data": {
      "text/html": [
       " View project at <a href='https://wandb.ai/nevinhelfenstein-hslu-nlp-fs25/hslu-fs25-nlp-embedding-qa' target=\"_blank\">https://wandb.ai/nevinhelfenstein-hslu-nlp-fs25/hslu-fs25-nlp-embedding-qa</a>"
      ],
      "text/plain": [
       "<IPython.core.display.HTML object>"
      ]
     },
     "metadata": {},
     "output_type": "display_data"
    },
    {
     "data": {
      "text/html": [
       " View run at <a href='https://wandb.ai/nevinhelfenstein-hslu-nlp-fs25/hslu-fs25-nlp-embedding-qa/runs/irx2pu3q' target=\"_blank\">https://wandb.ai/nevinhelfenstein-hslu-nlp-fs25/hslu-fs25-nlp-embedding-qa/runs/irx2pu3q</a>"
      ],
      "text/plain": [
       "<IPython.core.display.HTML object>"
      ]
     },
     "metadata": {},
     "output_type": "display_data"
    }
   ],
   "source": [
    "embedding_run = wandb.init(\n",
    "  project=\"hslu-fs25-nlp-embedding-qa\",\n",
    "  entity=\"nevinhelfenstein-hslu-nlp-fs25\",\n",
    "  name=f\"optimized-qa-classifier-{datetime.now().strftime('%Y-%m-%dT%H:%M:%S')}\",\n",
    "  config={\n",
    "    \"model\": \"qa_simple_classifier\",\n",
    "    \"embedding_dim\": embedding_dim,\n",
    "    \"hidden_dim\": hidden_dim,\n",
    "    \"batch_size\": 256,  # Smaller batch size\n",
    "    \"epochs\": 60,\n",
    "    \"dropout_rate\": dropout_rate,\n",
    "    \"weight_decay\": 1e-5,  # Very light weight decay\n",
    "    \"label_smoothing\": 0.0,  # No label smoothing initially\n",
    "    \"gradient_clipping\": 1.0,\n",
    "    \"max_lr\": 0.001,\n",
    "  },\n",
    "  reinit=True,\n",
    ")"
   ]
  },
  {
   "cell_type": "code",
   "execution_count": 33,
   "metadata": {},
   "outputs": [],
   "source": [
    "wandb.watch(qa_model, log=\"all\")"
   ]
  },
  {
   "cell_type": "markdown",
   "metadata": {},
   "source": [
    "## Training the QA Model with Attention\n",
    "\n",
    "For training my CommonsenseQA model, I've implemented a comprehensive training pipeline with performance tracking and checkpoint saving. My approach focuses on optimizing learning rate dynamics and preventing overfitting through appropriate regularization.\n",
    "\n",
    "### Setting Up Training Components\n",
    "I first define the loss function, optimizer, and learning rate scheduler:\n"
   ]
  },
  {
   "cell_type": "code",
   "execution_count": 34,
   "metadata": {},
   "outputs": [],
   "source": [
    "# Loss function - standard cross entropy\n",
    "criterion = nn.CrossEntropyLoss()\n",
    "\n",
    "from torch.optim.lr_scheduler import CosineAnnealingWarmRestarts\n",
    "\n",
    "# Use Adam with slightly higher initial learning rate\n",
    "optimizer = torch.optim.Adam(\n",
    "    qa_model.parameters(),\n",
    "    lr=1e-3,\n",
    "    weight_decay=1e-6\n",
    ")\n",
    "\n",
    "scheduler = CosineAnnealingWarmRestarts(\n",
    "    optimizer,\n",
    "    T_0=50,      # First restart after 50 epochs\n",
    "    T_mult=2,    # Double period after each restart\n",
    "    eta_min=1e-5 # Minimum LR\n",
    ")"
   ]
  },
  {
   "cell_type": "markdown",
   "metadata": {},
   "source": [
    "I chose AdamW as my optimizer because it performs well with its integrated weight decay mechanism. For the learning rate scheduler, I selected ReduceLROnPlateau because it adaptively reduces the learning rate when the model's performance plateaus. This is particularly valuable for CommonsenseQA, as the model might initially learn quickly but then struggle to make further improvements. "
   ]
  },
  {
   "cell_type": "markdown",
   "metadata": {},
   "source": [
    "**Checkpoint Management**\n",
    "\n",
    "To ensure I don't lose progress during long training runs, I've implemented checkpoint saving:"
   ]
  },
  {
   "cell_type": "code",
   "execution_count": 35,
   "metadata": {},
   "outputs": [],
   "source": [
    "checkpoints_path  = \"./checkpoints/qa_model\"\n",
    "os.makedirs(checkpoints_path, exist_ok=True)\n",
    "\n",
    "def save_checkpoint(model, optimizer, epoch, scheduler, path, name, val_accuracy=None):\n",
    "    \"\"\"Save model checkpoint with additional metadata\"\"\"\n",
    "    checkpoint_path = os.path.join(path, f\"{name}.pt\")\n",
    "    torch.save({\n",
    "        \"epoch\": epoch,\n",
    "        \"model_state_dict\": model.state_dict(),\n",
    "        \"optimizer_state_dict\": optimizer.state_dict(),\n",
    "        \"scheduler_state_dict\": scheduler.state_dict(),\n",
    "        \"val_accuracy\": val_accuracy,\n",
    "        \"timestamp\": datetime.now().strftime('%Y-%m-%d %H:%M:%S')\n",
    "    }, checkpoint_path)\n",
    "    print(f\"Checkpoint saved: {checkpoint_path}\")"
   ]
  },
  {
   "cell_type": "markdown",
   "metadata": {},
   "source": [
    "**Training Loop Implementation**\n",
    "\n",
    "My training function tracks both training and validation metrics for each epoch. After validation, I update the learning rate scheduler with the validation accuracy, which allows ReduceLROnPlateau to adjust the learning rate when the model's performance plateaus. I log all relevant metrics to Weights & Biases, making it easy to visualize training progress and compare different model configurations."
   ]
  },
  {
   "cell_type": "code",
   "execution_count": 36,
   "metadata": {},
   "outputs": [],
   "source": [
    "def train_qa_model(model, criterion, optimizer, scheduler, train_loader, valid_loader, epochs, \n",
    "                  log_wandb=True, gradient_clip_val=1.0):\n",
    "    best_val_accuracy = 0.0\n",
    "    training_start_time = time.time()\n",
    "    \n",
    "    for epoch in range(epochs):\n",
    "        print(f\"\\nEpoch {epoch+1}/{epochs}\")\n",
    "        \n",
    "        # Training phase\n",
    "        model.train()\n",
    "        train_loss = 0.0\n",
    "        train_correct = 0\n",
    "        train_total = 0\n",
    "        \n",
    "        with tqdm(train_loader, desc=\"Training\") as progress_bar:\n",
    "            for question_batch, choices_batch, answer_batch in progress_bar:\n",
    "                # Move to device\n",
    "                question_batch = question_batch.to(device)\n",
    "                choices_batch = choices_batch.to(device)\n",
    "                answer_batch = answer_batch.to(device)\n",
    "                \n",
    "                # Forward pass\n",
    "                optimizer.zero_grad()\n",
    "                outputs = model(question_batch, choices_batch)\n",
    "                loss = criterion(outputs, answer_batch)\n",
    "                \n",
    "                # Backward pass\n",
    "                loss.backward()\n",
    "                if gradient_clip_val > 0:\n",
    "                    nn.utils.clip_grad_norm_(model.parameters(), gradient_clip_val)\n",
    "                optimizer.step()\n",
    "                scheduler.step()\n",
    "                \n",
    "                # Statistics\n",
    "                train_loss += loss.item()\n",
    "                _, predicted = torch.max(outputs, 1)\n",
    "                train_total += answer_batch.size(0)\n",
    "                train_correct += (predicted == answer_batch).sum().item()\n",
    "                \n",
    "                # Update progress bar\n",
    "                progress_bar.set_postfix({\n",
    "                    'loss': f\"{loss.item():.4f}\",\n",
    "                    'acc': f\"{train_correct/train_total:.4f}\"\n",
    "                })\n",
    "        \n",
    "        train_accuracy = train_correct / train_total\n",
    "        avg_train_loss = train_loss / len(train_loader)\n",
    "        \n",
    "        # Validation phase\n",
    "        model.eval()\n",
    "        val_loss = 0.0\n",
    "        val_correct = 0\n",
    "        val_total = 0\n",
    "        \n",
    "        with torch.no_grad():\n",
    "            for question_batch, choices_batch, answer_batch in tqdm(valid_loader, desc=\"Validation\"):\n",
    "                # Move to device\n",
    "                question_batch = question_batch.to(device)\n",
    "                choices_batch = choices_batch.to(device)\n",
    "                answer_batch = answer_batch.to(device)\n",
    "                \n",
    "                # Forward pass\n",
    "                outputs = model(question_batch, choices_batch)\n",
    "                loss = criterion(outputs, answer_batch)\n",
    "                \n",
    "                # Statistics\n",
    "                val_loss += loss.item()\n",
    "                _, predicted = torch.max(outputs, 1)\n",
    "                val_total += answer_batch.size(0)\n",
    "                val_correct += (predicted == answer_batch).sum().item()\n",
    "        \n",
    "        val_accuracy = val_correct / val_total\n",
    "        avg_val_loss = val_loss / len(valid_loader)\n",
    "        \n",
    "        # Save best model\n",
    "        if val_accuracy > best_val_accuracy:\n",
    "            print(f\"Validation accuracy improved from {best_val_accuracy:.4f} to {val_accuracy:.4f}\")\n",
    "            best_val_accuracy = val_accuracy\n",
    "            save_checkpoint(model, optimizer, epoch, scheduler, \n",
    "                          checkpoints_path, \"best_model\", val_accuracy)\n",
    "        \n",
    "        # Print metrics\n",
    "        print(f\"Train Loss: {avg_train_loss:.4f}, Train Acc: {train_accuracy:.4f}\")\n",
    "        print(f\"Val Loss: {avg_val_loss:.4f}, Val Acc: {val_accuracy:.4f}\")\n",
    "        \n",
    "        # Log to wandb\n",
    "        if log_wandb:\n",
    "            wandb.log({\n",
    "                \"epoch\": epoch,\n",
    "                \"train_loss\": avg_train_loss,\n",
    "                \"train_accuracy\": train_accuracy,\n",
    "                \"val_loss\": avg_val_loss,\n",
    "                \"val_accuracy\": val_accuracy,\n",
    "                \"learning_rate\": optimizer.param_groups[0]['lr']\n",
    "            })\n",
    "    \n",
    "    print(f\"Training completed in {(time.time() - training_start_time)/60:.2f} minutes\")\n",
    "    print(f\"Best validation accuracy: {best_val_accuracy:.4f}\")\n",
    "    \n",
    "    # Final metrics for wandb\n",
    "    if log_wandb:\n",
    "        wandb.run.summary[\"best_val_accuracy\"] = best_val_accuracy\n",
    "        wandb.finish()\n",
    "    \n",
    "    return model, best_val_accuracy"
   ]
  },
  {
   "cell_type": "code",
   "execution_count": 37,
   "metadata": {},
   "outputs": [
    {
     "name": "stdout",
     "output_type": "stream",
     "text": [
      "Performing basic checks...\n"
     ]
    },
    {
     "name": "stderr",
     "output_type": "stream",
     "text": [
      "/tmp/ipykernel_51911/3859152948.py:136: UserWarning: Creating a tensor from a list of numpy.ndarrays is extremely slow. Please consider converting the list to a single numpy.ndarray with numpy.array() before converting to a tensor. (Triggered internally at /pytorch/torch/csrc/utils/tensor_new.cpp:254.)\n",
      "  choices_tensor = torch.tensor(choice_embeddings).float()\n"
     ]
    },
    {
     "name": "stdout",
     "output_type": "stream",
     "text": [
      "Class distribution (first 1000 samples): [198, 199, 233, 200, 170]\n",
      "Average question embedding norm: 0.9680\n",
      "Model output shape: torch.Size([1, 5])\n",
      "Sample logits: tensor([-0.1141, -0.0870, -0.0926, -0.3318, -0.1333], device='cuda:0')\n",
      "Checks complete.\n"
     ]
    }
   ],
   "source": [
    "def check_model_and_data():\n",
    "    print(\"Performing basic checks...\")\n",
    "    \n",
    "    # 1. Check if the dataset has balanced classes\n",
    "    class_counts = [0] * 5  # A through E\n",
    "    for i in range(min(1000, len(train_dataset))):  # Check a subsample\n",
    "        _, _, answer = train_dataset[i]\n",
    "        class_counts[answer.item()] += 1\n",
    "    \n",
    "    print(f\"Class distribution (first 1000 samples): {class_counts}\")\n",
    "    \n",
    "    # 2. Check if embeddings have reasonable norms\n",
    "    embedding_norms = []\n",
    "    for i in range(10):  # Check first 10 samples\n",
    "        question, choices, _ = train_dataset[i]\n",
    "        embedding_norms.append(torch.norm(question).item())\n",
    "    \n",
    "    print(f\"Average question embedding norm: {np.mean(embedding_norms):.4f}\")\n",
    "    \n",
    "    # 3. Do a single forward pass to check output shape\n",
    "    model = qa_model.to(device)\n",
    "    model.eval()\n",
    "    with torch.no_grad():\n",
    "        question, choices, _ = train_dataset[0]\n",
    "        question = question.unsqueeze(0).to(device)  # Add batch dimension\n",
    "        choices = choices.unsqueeze(0).to(device)  # Add batch dimension\n",
    "        \n",
    "        output = model(question, choices)\n",
    "        print(f\"Model output shape: {output.shape}\")\n",
    "        print(f\"Sample logits: {output[0]}\")\n",
    "    \n",
    "    print(\"Checks complete.\")\n",
    "\n",
    "# Run the checks\n",
    "check_model_and_data()"
   ]
  },
  {
   "cell_type": "code",
   "execution_count": 38,
   "metadata": {},
   "outputs": [
    {
     "name": "stdout",
     "output_type": "stream",
     "text": [
      "Starting training...\n",
      "\n",
      "Epoch 1/60\n"
     ]
    },
    {
     "name": "stderr",
     "output_type": "stream",
     "text": [
      "Training: 100%|██████████| 18/18 [00:01<00:00, 12.65it/s, loss=1.7206, acc=0.2048]\n",
      "Validation: 100%|██████████| 1/1 [00:00<00:00,  1.31it/s]\n"
     ]
    },
    {
     "name": "stdout",
     "output_type": "stream",
     "text": [
      "Validation accuracy improved from 0.0000 to 0.1920\n",
      "Checkpoint saved: ./checkpoints/qa_model/best_model.pt\n",
      "Train Loss: 1.7747, Train Acc: 0.2048\n",
      "Val Loss: 1.6116, Val Acc: 0.1920\n",
      "\n",
      "Epoch 2/60\n"
     ]
    },
    {
     "name": "stderr",
     "output_type": "stream",
     "text": [
      "Training: 100%|██████████| 18/18 [00:01<00:00, 13.29it/s, loss=1.8288, acc=0.2186]\n",
      "Validation: 100%|██████████| 1/1 [00:00<00:00,  1.29it/s]\n"
     ]
    },
    {
     "name": "stdout",
     "output_type": "stream",
     "text": [
      "Validation accuracy improved from 0.1920 to 0.1970\n",
      "Checkpoint saved: ./checkpoints/qa_model/best_model.pt\n",
      "Train Loss: 1.7121, Train Acc: 0.2186\n",
      "Val Loss: 1.6156, Val Acc: 0.1970\n",
      "\n",
      "Epoch 3/60\n"
     ]
    },
    {
     "name": "stderr",
     "output_type": "stream",
     "text": [
      "Training: 100%|██████████| 18/18 [00:01<00:00, 13.35it/s, loss=1.6980, acc=0.2162]\n",
      "Validation: 100%|██████████| 1/1 [00:00<00:00,  1.30it/s]\n"
     ]
    },
    {
     "name": "stdout",
     "output_type": "stream",
     "text": [
      "Validation accuracy improved from 0.1970 to 0.2080\n",
      "Checkpoint saved: ./checkpoints/qa_model/best_model.pt\n",
      "Train Loss: 1.6947, Train Acc: 0.2162\n",
      "Val Loss: 1.6225, Val Acc: 0.2080\n",
      "\n",
      "Epoch 4/60\n"
     ]
    },
    {
     "name": "stderr",
     "output_type": "stream",
     "text": [
      "Training: 100%|██████████| 18/18 [00:01<00:00, 13.58it/s, loss=1.5051, acc=0.2201]\n",
      "Validation: 100%|██████████| 1/1 [00:00<00:00,  1.34it/s]\n"
     ]
    },
    {
     "name": "stdout",
     "output_type": "stream",
     "text": [
      "Train Loss: 1.6735, Train Acc: 0.2201\n",
      "Val Loss: 1.6264, Val Acc: 0.1940\n",
      "\n",
      "Epoch 5/60\n"
     ]
    },
    {
     "name": "stderr",
     "output_type": "stream",
     "text": [
      "Training: 100%|██████████| 18/18 [00:01<00:00, 13.51it/s, loss=1.6438, acc=0.2337]\n",
      "Validation: 100%|██████████| 1/1 [00:00<00:00,  1.33it/s]\n"
     ]
    },
    {
     "name": "stdout",
     "output_type": "stream",
     "text": [
      "Train Loss: 1.6519, Train Acc: 0.2337\n",
      "Val Loss: 1.6270, Val Acc: 0.2030\n",
      "\n",
      "Epoch 6/60\n"
     ]
    },
    {
     "name": "stderr",
     "output_type": "stream",
     "text": [
      "Training: 100%|██████████| 18/18 [00:01<00:00, 13.51it/s, loss=1.6867, acc=0.2385]\n",
      "Validation: 100%|██████████| 1/1 [00:00<00:00,  1.35it/s]\n"
     ]
    },
    {
     "name": "stdout",
     "output_type": "stream",
     "text": [
      "Train Loss: 1.6392, Train Acc: 0.2385\n",
      "Val Loss: 1.6245, Val Acc: 0.2040\n",
      "\n",
      "Epoch 7/60\n"
     ]
    },
    {
     "name": "stderr",
     "output_type": "stream",
     "text": [
      "Training: 100%|██████████| 18/18 [00:01<00:00, 13.29it/s, loss=1.7931, acc=0.2352]\n",
      "Validation: 100%|██████████| 1/1 [00:00<00:00,  1.34it/s]\n"
     ]
    },
    {
     "name": "stdout",
     "output_type": "stream",
     "text": [
      "Train Loss: 1.6362, Train Acc: 0.2352\n",
      "Val Loss: 1.6234, Val Acc: 0.2060\n",
      "\n",
      "Epoch 8/60\n"
     ]
    },
    {
     "name": "stderr",
     "output_type": "stream",
     "text": [
      "Training: 100%|██████████| 18/18 [00:01<00:00, 13.41it/s, loss=1.7871, acc=0.2409]\n",
      "Validation: 100%|██████████| 1/1 [00:00<00:00,  1.33it/s]\n"
     ]
    },
    {
     "name": "stdout",
     "output_type": "stream",
     "text": [
      "Train Loss: 1.6297, Train Acc: 0.2409\n",
      "Val Loss: 1.6228, Val Acc: 0.2000\n",
      "\n",
      "Epoch 9/60\n"
     ]
    },
    {
     "name": "stderr",
     "output_type": "stream",
     "text": [
      "Training: 100%|██████████| 18/18 [00:01<00:00, 13.63it/s, loss=1.6448, acc=0.2440]\n",
      "Validation: 100%|██████████| 1/1 [00:00<00:00,  1.34it/s]\n"
     ]
    },
    {
     "name": "stdout",
     "output_type": "stream",
     "text": [
      "Train Loss: 1.6242, Train Acc: 0.2440\n",
      "Val Loss: 1.6194, Val Acc: 0.2030\n",
      "\n",
      "Epoch 10/60\n"
     ]
    },
    {
     "name": "stderr",
     "output_type": "stream",
     "text": [
      "Training: 100%|██████████| 18/18 [00:01<00:00, 13.34it/s, loss=1.5590, acc=0.2571]\n",
      "Validation: 100%|██████████| 1/1 [00:00<00:00,  1.33it/s]\n"
     ]
    },
    {
     "name": "stdout",
     "output_type": "stream",
     "text": [
      "Validation accuracy improved from 0.2080 to 0.2140\n",
      "Checkpoint saved: ./checkpoints/qa_model/best_model.pt\n",
      "Train Loss: 1.6036, Train Acc: 0.2571\n",
      "Val Loss: 1.6161, Val Acc: 0.2140\n",
      "\n",
      "Epoch 11/60\n"
     ]
    },
    {
     "name": "stderr",
     "output_type": "stream",
     "text": [
      "Training: 100%|██████████| 18/18 [00:01<00:00, 13.71it/s, loss=1.5460, acc=0.2543]\n",
      "Validation: 100%|██████████| 1/1 [00:00<00:00,  1.34it/s]\n"
     ]
    },
    {
     "name": "stdout",
     "output_type": "stream",
     "text": [
      "Train Loss: 1.5974, Train Acc: 0.2543\n",
      "Val Loss: 1.6140, Val Acc: 0.2110\n",
      "\n",
      "Epoch 12/60\n"
     ]
    },
    {
     "name": "stderr",
     "output_type": "stream",
     "text": [
      "Training: 100%|██████████| 18/18 [00:01<00:00, 12.97it/s, loss=1.6284, acc=0.2624]\n",
      "Validation: 100%|██████████| 1/1 [00:00<00:00,  1.26it/s]\n"
     ]
    },
    {
     "name": "stdout",
     "output_type": "stream",
     "text": [
      "Train Loss: 1.5950, Train Acc: 0.2624\n",
      "Val Loss: 1.6118, Val Acc: 0.2110\n",
      "\n",
      "Epoch 13/60\n"
     ]
    },
    {
     "name": "stderr",
     "output_type": "stream",
     "text": [
      "Training: 100%|██████████| 18/18 [00:01<00:00, 13.02it/s, loss=1.5863, acc=0.2668]\n",
      "Validation: 100%|██████████| 1/1 [00:00<00:00,  1.30it/s]\n"
     ]
    },
    {
     "name": "stdout",
     "output_type": "stream",
     "text": [
      "Train Loss: 1.5819, Train Acc: 0.2668\n",
      "Val Loss: 1.6099, Val Acc: 0.2120\n",
      "\n",
      "Epoch 14/60\n"
     ]
    },
    {
     "name": "stderr",
     "output_type": "stream",
     "text": [
      "Training: 100%|██████████| 18/18 [00:04<00:00,  4.16it/s, loss=1.5955, acc=0.2676]\n",
      "Validation: 100%|██████████| 1/1 [00:00<00:00,  1.33it/s]\n"
     ]
    },
    {
     "name": "stdout",
     "output_type": "stream",
     "text": [
      "Validation accuracy improved from 0.2140 to 0.2220\n",
      "Checkpoint saved: ./checkpoints/qa_model/best_model.pt\n",
      "Train Loss: 1.5832, Train Acc: 0.2676\n",
      "Val Loss: 1.6096, Val Acc: 0.2220\n",
      "\n",
      "Epoch 15/60\n"
     ]
    },
    {
     "name": "stderr",
     "output_type": "stream",
     "text": [
      "Training: 100%|██████████| 18/18 [00:01<00:00, 13.38it/s, loss=1.4384, acc=0.2737]\n",
      "Validation: 100%|██████████| 1/1 [00:00<00:00,  1.33it/s]\n"
     ]
    },
    {
     "name": "stdout",
     "output_type": "stream",
     "text": [
      "Train Loss: 1.5663, Train Acc: 0.2737\n",
      "Val Loss: 1.6094, Val Acc: 0.2160\n",
      "\n",
      "Epoch 16/60\n"
     ]
    },
    {
     "name": "stderr",
     "output_type": "stream",
     "text": [
      "Training: 100%|██████████| 18/18 [00:01<00:00, 12.68it/s, loss=1.6073, acc=0.2771]\n",
      "Validation: 100%|██████████| 1/1 [00:00<00:00,  1.33it/s]\n"
     ]
    },
    {
     "name": "stdout",
     "output_type": "stream",
     "text": [
      "Train Loss: 1.5687, Train Acc: 0.2771\n",
      "Val Loss: 1.6091, Val Acc: 0.2090\n",
      "\n",
      "Epoch 17/60\n"
     ]
    },
    {
     "name": "stderr",
     "output_type": "stream",
     "text": [
      "Training: 100%|██████████| 18/18 [00:01<00:00, 12.99it/s, loss=1.6304, acc=0.2801]\n",
      "Validation: 100%|██████████| 1/1 [00:00<00:00,  1.30it/s]\n"
     ]
    },
    {
     "name": "stdout",
     "output_type": "stream",
     "text": [
      "Train Loss: 1.5634, Train Acc: 0.2801\n",
      "Val Loss: 1.6086, Val Acc: 0.2150\n",
      "\n",
      "Epoch 18/60\n"
     ]
    },
    {
     "name": "stderr",
     "output_type": "stream",
     "text": [
      "Training: 100%|██████████| 18/18 [00:01<00:00, 12.63it/s, loss=1.5463, acc=0.2785]\n",
      "Validation: 100%|██████████| 1/1 [00:00<00:00,  1.28it/s]\n"
     ]
    },
    {
     "name": "stdout",
     "output_type": "stream",
     "text": [
      "Train Loss: 1.5692, Train Acc: 0.2785\n",
      "Val Loss: 1.6085, Val Acc: 0.2140\n",
      "\n",
      "Epoch 19/60\n"
     ]
    },
    {
     "name": "stderr",
     "output_type": "stream",
     "text": [
      "Training: 100%|██████████| 18/18 [00:01<00:00, 12.84it/s, loss=1.6536, acc=0.2786]\n",
      "Validation: 100%|██████████| 1/1 [00:00<00:00,  1.32it/s]\n"
     ]
    },
    {
     "name": "stdout",
     "output_type": "stream",
     "text": [
      "Train Loss: 1.5664, Train Acc: 0.2786\n",
      "Val Loss: 1.6087, Val Acc: 0.2140\n",
      "\n",
      "Epoch 20/60\n"
     ]
    },
    {
     "name": "stderr",
     "output_type": "stream",
     "text": [
      "Training: 100%|██████████| 18/18 [00:01<00:00, 13.31it/s, loss=1.6059, acc=0.2773]\n",
      "Validation: 100%|██████████| 1/1 [00:00<00:00,  1.33it/s]\n"
     ]
    },
    {
     "name": "stdout",
     "output_type": "stream",
     "text": [
      "Train Loss: 1.5673, Train Acc: 0.2773\n",
      "Val Loss: 1.6068, Val Acc: 0.2180\n",
      "\n",
      "Epoch 21/60\n"
     ]
    },
    {
     "name": "stderr",
     "output_type": "stream",
     "text": [
      "Training: 100%|██████████| 18/18 [00:01<00:00, 13.52it/s, loss=1.5940, acc=0.2815]\n",
      "Validation: 100%|██████████| 1/1 [00:00<00:00,  1.30it/s]\n"
     ]
    },
    {
     "name": "stdout",
     "output_type": "stream",
     "text": [
      "Validation accuracy improved from 0.2220 to 0.2360\n",
      "Checkpoint saved: ./checkpoints/qa_model/best_model.pt\n",
      "Train Loss: 1.5593, Train Acc: 0.2815\n",
      "Val Loss: 1.6011, Val Acc: 0.2360\n",
      "\n",
      "Epoch 22/60\n"
     ]
    },
    {
     "name": "stderr",
     "output_type": "stream",
     "text": [
      "Training: 100%|██████████| 18/18 [00:01<00:00, 13.66it/s, loss=1.5643, acc=0.2913]\n",
      "Validation: 100%|██████████| 1/1 [00:00<00:00,  1.32it/s]\n"
     ]
    },
    {
     "name": "stdout",
     "output_type": "stream",
     "text": [
      "Train Loss: 1.5543, Train Acc: 0.2913\n",
      "Val Loss: 1.6003, Val Acc: 0.2250\n",
      "\n",
      "Epoch 23/60\n"
     ]
    },
    {
     "name": "stderr",
     "output_type": "stream",
     "text": [
      "Training: 100%|██████████| 18/18 [00:01<00:00, 13.17it/s, loss=1.5633, acc=0.2928]\n",
      "Validation: 100%|██████████| 1/1 [00:00<00:00,  1.32it/s]\n"
     ]
    },
    {
     "name": "stdout",
     "output_type": "stream",
     "text": [
      "Train Loss: 1.5492, Train Acc: 0.2928\n",
      "Val Loss: 1.6027, Val Acc: 0.2160\n",
      "\n",
      "Epoch 24/60\n"
     ]
    },
    {
     "name": "stderr",
     "output_type": "stream",
     "text": [
      "Training: 100%|██████████| 18/18 [00:01<00:00, 13.41it/s, loss=1.5445, acc=0.3026]\n",
      "Validation: 100%|██████████| 1/1 [00:00<00:00,  1.32it/s]\n"
     ]
    },
    {
     "name": "stdout",
     "output_type": "stream",
     "text": [
      "Train Loss: 1.5429, Train Acc: 0.3026\n",
      "Val Loss: 1.6024, Val Acc: 0.2140\n",
      "\n",
      "Epoch 25/60\n"
     ]
    },
    {
     "name": "stderr",
     "output_type": "stream",
     "text": [
      "Training: 100%|██████████| 18/18 [00:01<00:00, 13.48it/s, loss=1.5320, acc=0.3028]\n",
      "Validation: 100%|██████████| 1/1 [00:00<00:00,  1.34it/s]\n"
     ]
    },
    {
     "name": "stdout",
     "output_type": "stream",
     "text": [
      "Train Loss: 1.5384, Train Acc: 0.3028\n",
      "Val Loss: 1.6009, Val Acc: 0.2210\n",
      "\n",
      "Epoch 26/60\n"
     ]
    },
    {
     "name": "stderr",
     "output_type": "stream",
     "text": [
      "Training: 100%|██████████| 18/18 [00:01<00:00, 13.49it/s, loss=1.6299, acc=0.3099]\n",
      "Validation: 100%|██████████| 1/1 [00:00<00:00,  1.33it/s]\n"
     ]
    },
    {
     "name": "stdout",
     "output_type": "stream",
     "text": [
      "Train Loss: 1.5347, Train Acc: 0.3099\n",
      "Val Loss: 1.6011, Val Acc: 0.2240\n",
      "\n",
      "Epoch 27/60\n"
     ]
    },
    {
     "name": "stderr",
     "output_type": "stream",
     "text": [
      "Training: 100%|██████████| 18/18 [00:01<00:00, 13.46it/s, loss=1.5633, acc=0.3106]\n",
      "Validation: 100%|██████████| 1/1 [00:00<00:00,  1.32it/s]\n"
     ]
    },
    {
     "name": "stdout",
     "output_type": "stream",
     "text": [
      "Train Loss: 1.5308, Train Acc: 0.3106\n",
      "Val Loss: 1.6029, Val Acc: 0.2200\n",
      "\n",
      "Epoch 28/60\n"
     ]
    },
    {
     "name": "stderr",
     "output_type": "stream",
     "text": [
      "Training: 100%|██████████| 18/18 [00:01<00:00, 13.45it/s, loss=1.5317, acc=0.3154]\n",
      "Validation: 100%|██████████| 1/1 [00:00<00:00,  1.33it/s]\n"
     ]
    },
    {
     "name": "stdout",
     "output_type": "stream",
     "text": [
      "Train Loss: 1.5214, Train Acc: 0.3154\n",
      "Val Loss: 1.6001, Val Acc: 0.2260\n",
      "\n",
      "Epoch 29/60\n"
     ]
    },
    {
     "name": "stderr",
     "output_type": "stream",
     "text": [
      "Training: 100%|██████████| 18/18 [00:04<00:00,  4.11it/s, loss=1.4838, acc=0.3132]\n",
      "Validation: 100%|██████████| 1/1 [00:00<00:00,  1.33it/s]\n"
     ]
    },
    {
     "name": "stdout",
     "output_type": "stream",
     "text": [
      "Train Loss: 1.5146, Train Acc: 0.3132\n",
      "Val Loss: 1.5996, Val Acc: 0.2320\n",
      "\n",
      "Epoch 30/60\n"
     ]
    },
    {
     "name": "stderr",
     "output_type": "stream",
     "text": [
      "Training: 100%|██████████| 18/18 [00:01<00:00, 13.50it/s, loss=1.5944, acc=0.3209]\n",
      "Validation: 100%|██████████| 1/1 [00:00<00:00,  1.30it/s]\n"
     ]
    },
    {
     "name": "stdout",
     "output_type": "stream",
     "text": [
      "Train Loss: 1.5193, Train Acc: 0.3209\n",
      "Val Loss: 1.6003, Val Acc: 0.2310\n",
      "\n",
      "Epoch 31/60\n"
     ]
    },
    {
     "name": "stderr",
     "output_type": "stream",
     "text": [
      "Training: 100%|██████████| 18/18 [00:01<00:00, 13.50it/s, loss=1.4239, acc=0.3293]\n",
      "Validation: 100%|██████████| 1/1 [00:00<00:00,  1.29it/s]\n"
     ]
    },
    {
     "name": "stdout",
     "output_type": "stream",
     "text": [
      "Train Loss: 1.4995, Train Acc: 0.3293\n",
      "Val Loss: 1.5986, Val Acc: 0.2350\n",
      "\n",
      "Epoch 32/60\n"
     ]
    },
    {
     "name": "stderr",
     "output_type": "stream",
     "text": [
      "Training: 100%|██████████| 18/18 [00:01<00:00, 13.03it/s, loss=1.4606, acc=0.3306]\n",
      "Validation: 100%|██████████| 1/1 [00:00<00:00,  1.35it/s]\n"
     ]
    },
    {
     "name": "stdout",
     "output_type": "stream",
     "text": [
      "Train Loss: 1.4985, Train Acc: 0.3306\n",
      "Val Loss: 1.5999, Val Acc: 0.2360\n",
      "\n",
      "Epoch 33/60\n"
     ]
    },
    {
     "name": "stderr",
     "output_type": "stream",
     "text": [
      "Training: 100%|██████████| 18/18 [00:01<00:00, 13.37it/s, loss=1.5019, acc=0.3274]\n",
      "Validation: 100%|██████████| 1/1 [00:00<00:00,  1.31it/s]\n"
     ]
    },
    {
     "name": "stdout",
     "output_type": "stream",
     "text": [
      "Train Loss: 1.5036, Train Acc: 0.3274\n",
      "Val Loss: 1.6013, Val Acc: 0.2340\n",
      "\n",
      "Epoch 34/60\n"
     ]
    },
    {
     "name": "stderr",
     "output_type": "stream",
     "text": [
      "Training: 100%|██████████| 18/18 [00:01<00:00, 13.61it/s, loss=1.5486, acc=0.3310]\n",
      "Validation: 100%|██████████| 1/1 [00:00<00:00,  1.33it/s]\n"
     ]
    },
    {
     "name": "stdout",
     "output_type": "stream",
     "text": [
      "Train Loss: 1.4972, Train Acc: 0.3310\n",
      "Val Loss: 1.6009, Val Acc: 0.2300\n",
      "\n",
      "Epoch 35/60\n"
     ]
    },
    {
     "name": "stderr",
     "output_type": "stream",
     "text": [
      "Training: 100%|██████████| 18/18 [00:01<00:00, 13.75it/s, loss=1.4531, acc=0.3334]\n",
      "Validation: 100%|██████████| 1/1 [00:00<00:00,  1.35it/s]\n"
     ]
    },
    {
     "name": "stdout",
     "output_type": "stream",
     "text": [
      "Train Loss: 1.4915, Train Acc: 0.3334\n",
      "Val Loss: 1.6011, Val Acc: 0.2280\n",
      "\n",
      "Epoch 36/60\n"
     ]
    },
    {
     "name": "stderr",
     "output_type": "stream",
     "text": [
      "Training: 100%|██████████| 18/18 [00:01<00:00, 13.77it/s, loss=1.5388, acc=0.3354]\n",
      "Validation: 100%|██████████| 1/1 [00:00<00:00,  1.32it/s]\n"
     ]
    },
    {
     "name": "stdout",
     "output_type": "stream",
     "text": [
      "Train Loss: 1.4988, Train Acc: 0.3354\n",
      "Val Loss: 1.6012, Val Acc: 0.2290\n",
      "\n",
      "Epoch 37/60\n"
     ]
    },
    {
     "name": "stderr",
     "output_type": "stream",
     "text": [
      "Training: 100%|██████████| 18/18 [00:01<00:00, 13.60it/s, loss=1.4885, acc=0.3404]\n",
      "Validation: 100%|██████████| 1/1 [00:00<00:00,  1.34it/s]\n"
     ]
    },
    {
     "name": "stdout",
     "output_type": "stream",
     "text": [
      "Train Loss: 1.4915, Train Acc: 0.3404\n",
      "Val Loss: 1.6011, Val Acc: 0.2240\n",
      "\n",
      "Epoch 38/60\n"
     ]
    },
    {
     "name": "stderr",
     "output_type": "stream",
     "text": [
      "Training: 100%|██████████| 18/18 [00:01<00:00, 13.61it/s, loss=1.5418, acc=0.3387]\n",
      "Validation: 100%|██████████| 1/1 [00:00<00:00,  1.33it/s]\n"
     ]
    },
    {
     "name": "stdout",
     "output_type": "stream",
     "text": [
      "Train Loss: 1.4919, Train Acc: 0.3387\n",
      "Val Loss: 1.6019, Val Acc: 0.2260\n",
      "\n",
      "Epoch 39/60\n"
     ]
    },
    {
     "name": "stderr",
     "output_type": "stream",
     "text": [
      "Training: 100%|██████████| 18/18 [00:01<00:00, 13.36it/s, loss=1.6407, acc=0.3370]\n",
      "Validation: 100%|██████████| 1/1 [00:00<00:00,  1.31it/s]\n"
     ]
    },
    {
     "name": "stdout",
     "output_type": "stream",
     "text": [
      "Train Loss: 1.5011, Train Acc: 0.3370\n",
      "Val Loss: 1.6018, Val Acc: 0.2220\n",
      "\n",
      "Epoch 40/60\n"
     ]
    },
    {
     "name": "stderr",
     "output_type": "stream",
     "text": [
      "Training: 100%|██████████| 18/18 [00:01<00:00, 13.48it/s, loss=1.6353, acc=0.3278]\n",
      "Validation: 100%|██████████| 1/1 [00:00<00:00,  1.32it/s]\n"
     ]
    },
    {
     "name": "stdout",
     "output_type": "stream",
     "text": [
      "Train Loss: 1.5013, Train Acc: 0.3278\n",
      "Val Loss: 1.6019, Val Acc: 0.2230\n",
      "\n",
      "Epoch 41/60\n"
     ]
    },
    {
     "name": "stderr",
     "output_type": "stream",
     "text": [
      "Training: 100%|██████████| 18/18 [00:01<00:00, 13.58it/s, loss=1.5195, acc=0.3444]\n",
      "Validation: 100%|██████████| 1/1 [00:00<00:00,  1.31it/s]\n"
     ]
    },
    {
     "name": "stdout",
     "output_type": "stream",
     "text": [
      "Train Loss: 1.4907, Train Acc: 0.3444\n",
      "Val Loss: 1.6023, Val Acc: 0.2300\n",
      "\n",
      "Epoch 42/60\n"
     ]
    },
    {
     "name": "stderr",
     "output_type": "stream",
     "text": [
      "Training: 100%|██████████| 18/18 [00:01<00:00, 13.42it/s, loss=1.4912, acc=0.3430]\n",
      "Validation: 100%|██████████| 1/1 [00:00<00:00,  1.32it/s]\n"
     ]
    },
    {
     "name": "stdout",
     "output_type": "stream",
     "text": [
      "Train Loss: 1.4905, Train Acc: 0.3430\n",
      "Val Loss: 1.6023, Val Acc: 0.2240\n",
      "\n",
      "Epoch 43/60\n"
     ]
    },
    {
     "name": "stderr",
     "output_type": "stream",
     "text": [
      "Training: 100%|██████████| 18/18 [00:01<00:00, 13.68it/s, loss=1.4577, acc=0.3354]\n",
      "Validation: 100%|██████████| 1/1 [00:00<00:00,  1.33it/s]\n"
     ]
    },
    {
     "name": "stdout",
     "output_type": "stream",
     "text": [
      "Validation accuracy improved from 0.2360 to 0.2390\n",
      "Checkpoint saved: ./checkpoints/qa_model/best_model.pt\n",
      "Train Loss: 1.4911, Train Acc: 0.3354\n",
      "Val Loss: 1.6014, Val Acc: 0.2390\n",
      "\n",
      "Epoch 44/60\n"
     ]
    },
    {
     "name": "stderr",
     "output_type": "stream",
     "text": [
      "Training: 100%|██████████| 18/18 [00:01<00:00, 13.24it/s, loss=1.4462, acc=0.3374]\n",
      "Validation: 100%|██████████| 1/1 [00:03<00:00,  3.78s/it]\n"
     ]
    },
    {
     "name": "stdout",
     "output_type": "stream",
     "text": [
      "Validation accuracy improved from 0.2390 to 0.2460\n",
      "Checkpoint saved: ./checkpoints/qa_model/best_model.pt\n",
      "Train Loss: 1.4843, Train Acc: 0.3374\n",
      "Val Loss: 1.5975, Val Acc: 0.2460\n",
      "\n",
      "Epoch 45/60\n"
     ]
    },
    {
     "name": "stderr",
     "output_type": "stream",
     "text": [
      "Training: 100%|██████████| 18/18 [00:01<00:00, 13.72it/s, loss=1.4573, acc=0.3485]\n",
      "Validation: 100%|██████████| 1/1 [00:00<00:00,  1.32it/s]\n"
     ]
    },
    {
     "name": "stdout",
     "output_type": "stream",
     "text": [
      "Train Loss: 1.4776, Train Acc: 0.3485\n",
      "Val Loss: 1.5995, Val Acc: 0.2270\n",
      "\n",
      "Epoch 46/60\n"
     ]
    },
    {
     "name": "stderr",
     "output_type": "stream",
     "text": [
      "Training: 100%|██████████| 18/18 [00:01<00:00, 13.69it/s, loss=1.4113, acc=0.3542]\n",
      "Validation: 100%|██████████| 1/1 [00:00<00:00,  1.31it/s]\n"
     ]
    },
    {
     "name": "stdout",
     "output_type": "stream",
     "text": [
      "Train Loss: 1.4656, Train Acc: 0.3542\n",
      "Val Loss: 1.6038, Val Acc: 0.2370\n",
      "\n",
      "Epoch 47/60\n"
     ]
    },
    {
     "name": "stderr",
     "output_type": "stream",
     "text": [
      "Training: 100%|██████████| 18/18 [00:01<00:00, 13.45it/s, loss=1.4633, acc=0.3614]\n",
      "Validation: 100%|██████████| 1/1 [00:00<00:00,  1.32it/s]\n"
     ]
    },
    {
     "name": "stdout",
     "output_type": "stream",
     "text": [
      "Train Loss: 1.4633, Train Acc: 0.3614\n",
      "Val Loss: 1.6061, Val Acc: 0.2400\n",
      "\n",
      "Epoch 48/60\n"
     ]
    },
    {
     "name": "stderr",
     "output_type": "stream",
     "text": [
      "Training: 100%|██████████| 18/18 [00:01<00:00, 13.55it/s, loss=1.4328, acc=0.3588]\n",
      "Validation: 100%|██████████| 1/1 [00:00<00:00,  1.32it/s]\n"
     ]
    },
    {
     "name": "stdout",
     "output_type": "stream",
     "text": [
      "Train Loss: 1.4538, Train Acc: 0.3588\n",
      "Val Loss: 1.6031, Val Acc: 0.2360\n",
      "\n",
      "Epoch 49/60\n"
     ]
    },
    {
     "name": "stderr",
     "output_type": "stream",
     "text": [
      "Training: 100%|██████████| 18/18 [00:01<00:00, 13.23it/s, loss=1.3391, acc=0.3693]\n",
      "Validation: 100%|██████████| 1/1 [00:00<00:00,  1.32it/s]\n"
     ]
    },
    {
     "name": "stdout",
     "output_type": "stream",
     "text": [
      "Train Loss: 1.4467, Train Acc: 0.3693\n",
      "Val Loss: 1.6049, Val Acc: 0.2410\n",
      "\n",
      "Epoch 50/60\n"
     ]
    },
    {
     "name": "stderr",
     "output_type": "stream",
     "text": [
      "Training: 100%|██████████| 18/18 [00:01<00:00, 13.37it/s, loss=1.4424, acc=0.3741]\n",
      "Validation: 100%|██████████| 1/1 [00:00<00:00,  1.31it/s]\n"
     ]
    },
    {
     "name": "stdout",
     "output_type": "stream",
     "text": [
      "Train Loss: 1.4375, Train Acc: 0.3741\n",
      "Val Loss: 1.6067, Val Acc: 0.2440\n",
      "\n",
      "Epoch 51/60\n"
     ]
    },
    {
     "name": "stderr",
     "output_type": "stream",
     "text": [
      "Training: 100%|██████████| 18/18 [00:01<00:00, 13.45it/s, loss=1.4471, acc=0.3752]\n",
      "Validation: 100%|██████████| 1/1 [00:00<00:00,  1.32it/s]\n"
     ]
    },
    {
     "name": "stdout",
     "output_type": "stream",
     "text": [
      "Train Loss: 1.4362, Train Acc: 0.3752\n",
      "Val Loss: 1.6129, Val Acc: 0.2420\n",
      "\n",
      "Epoch 52/60\n"
     ]
    },
    {
     "name": "stderr",
     "output_type": "stream",
     "text": [
      "Training: 100%|██████████| 18/18 [00:01<00:00, 13.54it/s, loss=1.3808, acc=0.3752]\n",
      "Validation: 100%|██████████| 1/1 [00:00<00:00,  1.35it/s]\n"
     ]
    },
    {
     "name": "stdout",
     "output_type": "stream",
     "text": [
      "Train Loss: 1.4269, Train Acc: 0.3752\n",
      "Val Loss: 1.6108, Val Acc: 0.2430\n",
      "\n",
      "Epoch 53/60\n"
     ]
    },
    {
     "name": "stderr",
     "output_type": "stream",
     "text": [
      "Training: 100%|██████████| 18/18 [00:01<00:00, 13.72it/s, loss=1.3149, acc=0.3849]\n",
      "Validation: 100%|██████████| 1/1 [00:00<00:00,  1.33it/s]\n"
     ]
    },
    {
     "name": "stdout",
     "output_type": "stream",
     "text": [
      "Train Loss: 1.4170, Train Acc: 0.3849\n",
      "Val Loss: 1.6116, Val Acc: 0.2390\n",
      "\n",
      "Epoch 54/60\n"
     ]
    },
    {
     "name": "stderr",
     "output_type": "stream",
     "text": [
      "Training: 100%|██████████| 18/18 [00:01<00:00, 13.46it/s, loss=1.4750, acc=0.3883]\n",
      "Validation: 100%|██████████| 1/1 [00:00<00:00,  1.33it/s]\n"
     ]
    },
    {
     "name": "stdout",
     "output_type": "stream",
     "text": [
      "Train Loss: 1.4264, Train Acc: 0.3883\n",
      "Val Loss: 1.6112, Val Acc: 0.2340\n",
      "\n",
      "Epoch 55/60\n"
     ]
    },
    {
     "name": "stderr",
     "output_type": "stream",
     "text": [
      "Training: 100%|██████████| 18/18 [00:01<00:00, 13.72it/s, loss=1.3787, acc=0.3849]\n",
      "Validation: 100%|██████████| 1/1 [00:00<00:00,  1.32it/s]\n"
     ]
    },
    {
     "name": "stdout",
     "output_type": "stream",
     "text": [
      "Train Loss: 1.4115, Train Acc: 0.3849\n",
      "Val Loss: 1.6145, Val Acc: 0.2450\n",
      "\n",
      "Epoch 56/60\n"
     ]
    },
    {
     "name": "stderr",
     "output_type": "stream",
     "text": [
      "Training: 100%|██████████| 18/18 [00:01<00:00, 13.48it/s, loss=1.3180, acc=0.4025]\n",
      "Validation: 100%|██████████| 1/1 [00:00<00:00,  1.32it/s]\n"
     ]
    },
    {
     "name": "stdout",
     "output_type": "stream",
     "text": [
      "Train Loss: 1.4018, Train Acc: 0.4025\n",
      "Val Loss: 1.6205, Val Acc: 0.2460\n",
      "\n",
      "Epoch 57/60\n"
     ]
    },
    {
     "name": "stderr",
     "output_type": "stream",
     "text": [
      "Training: 100%|██████████| 18/18 [00:01<00:00, 13.73it/s, loss=1.3396, acc=0.4046]\n",
      "Validation: 100%|██████████| 1/1 [00:00<00:00,  1.30it/s]\n"
     ]
    },
    {
     "name": "stdout",
     "output_type": "stream",
     "text": [
      "Validation accuracy improved from 0.2460 to 0.2480\n",
      "Checkpoint saved: ./checkpoints/qa_model/best_model.pt\n",
      "Train Loss: 1.3951, Train Acc: 0.4046\n",
      "Val Loss: 1.6215, Val Acc: 0.2480\n",
      "\n",
      "Epoch 58/60\n"
     ]
    },
    {
     "name": "stderr",
     "output_type": "stream",
     "text": [
      "Training: 100%|██████████| 18/18 [00:01<00:00, 13.45it/s, loss=1.3993, acc=0.4041]\n",
      "Validation: 100%|██████████| 1/1 [00:00<00:00,  1.33it/s]\n"
     ]
    },
    {
     "name": "stdout",
     "output_type": "stream",
     "text": [
      "Train Loss: 1.3906, Train Acc: 0.4041\n",
      "Val Loss: 1.6300, Val Acc: 0.2410\n",
      "\n",
      "Epoch 59/60\n"
     ]
    },
    {
     "name": "stderr",
     "output_type": "stream",
     "text": [
      "Training: 100%|██████████| 18/18 [00:01<00:00, 13.54it/s, loss=1.3315, acc=0.4028]\n",
      "Validation: 100%|██████████| 1/1 [00:00<00:00,  1.32it/s]\n"
     ]
    },
    {
     "name": "stdout",
     "output_type": "stream",
     "text": [
      "Train Loss: 1.3832, Train Acc: 0.4028\n",
      "Val Loss: 1.6321, Val Acc: 0.2370\n",
      "\n",
      "Epoch 60/60\n"
     ]
    },
    {
     "name": "stderr",
     "output_type": "stream",
     "text": [
      "Training: 100%|██████████| 18/18 [00:04<00:00,  4.12it/s, loss=1.3257, acc=0.4068]\n",
      "Validation: 100%|██████████| 1/1 [00:00<00:00,  1.32it/s]"
     ]
    },
    {
     "name": "stdout",
     "output_type": "stream",
     "text": [
      "Train Loss: 1.3815, Train Acc: 0.4068\n",
      "Val Loss: 1.6323, Val Acc: 0.2340\n",
      "Training completed in 2.31 minutes\n",
      "Best validation accuracy: 0.2480\n"
     ]
    },
    {
     "name": "stderr",
     "output_type": "stream",
     "text": [
      "\n"
     ]
    },
    {
     "data": {
      "text/html": [],
      "text/plain": [
       "<IPython.core.display.HTML object>"
      ]
     },
     "metadata": {},
     "output_type": "display_data"
    },
    {
     "data": {
      "text/html": [
       "<br>    <style><br>        .wandb-row {<br>            display: flex;<br>            flex-direction: row;<br>            flex-wrap: wrap;<br>            justify-content: flex-start;<br>            width: 100%;<br>        }<br>        .wandb-col {<br>            display: flex;<br>            flex-direction: column;<br>            flex-basis: 100%;<br>            flex: 1;<br>            padding: 10px;<br>        }<br>    </style><br><div class=\"wandb-row\"><div class=\"wandb-col\"><h3>Run history:</h3><br/><table class=\"wandb\"><tr><td>epoch</td><td>▁▁▁▁▂▂▂▂▂▃▃▃▃▃▄▄▄▄▄▄▅▅▅▅▅▆▆▆▆▆▆▇▇▇▇▇▇███</td></tr><tr><td>learning_rate</td><td>▆▂█▇▄█▆▅▄▃▁▁███▇▆▆▅▄▃▃▂▂▂▁▁▁█████▇▇▇▇▇▆▆</td></tr><tr><td>train_accuracy</td><td>▁▁▁▂▂▂▂▂▃▃▄▄▄▄▄▅▅▅▅▅▅▅▆▆▆▆▆▆▆▆▆▆▇▇▇▇████</td></tr><tr><td>train_loss</td><td>█▇▇▆▆▆▅▅▅▅▄▄▄▄▄▄▄▄▄▄▃▃▃▃▃▃▃▃▃▃▃▂▂▂▂▂▂▂▁▁</td></tr><tr><td>val_accuracy</td><td>▁▂▃▁▂▂▂▃▃▃▄▃▄▄▄▇▄▅▅▆▇▆▆▆▅▅▅▅▇█▇▇▇█▇▇██▇▆</td></tr><tr><td>val_loss</td><td>▄▄▆▇▇▆▆▅▅▄▃▃▃▃▃▂▂▁▁▁▁▁▁▁▂▂▂▁▁▂▂▂▃▄▃▄▄▅▆█</td></tr></table><br/></div><div class=\"wandb-col\"><h3>Run summary:</h3><br/><table class=\"wandb\"><tr><td>best_val_accuracy</td><td>0.248</td></tr><tr><td>epoch</td><td>59</td></tr><tr><td>learning_rate</td><td>0.00064</td></tr><tr><td>train_accuracy</td><td>0.40682</td></tr><tr><td>train_loss</td><td>1.38154</td></tr><tr><td>val_accuracy</td><td>0.234</td></tr><tr><td>val_loss</td><td>1.6323</td></tr></table><br/></div></div>"
      ],
      "text/plain": [
       "<IPython.core.display.HTML object>"
      ]
     },
     "metadata": {},
     "output_type": "display_data"
    },
    {
     "data": {
      "text/html": [
       " View run <strong style=\"color:#cdcd00\">optimized-qa-classifier-2025-03-31T21:27:08</strong> at: <a href='https://wandb.ai/nevinhelfenstein-hslu-nlp-fs25/hslu-fs25-nlp-embedding-qa/runs/irx2pu3q' target=\"_blank\">https://wandb.ai/nevinhelfenstein-hslu-nlp-fs25/hslu-fs25-nlp-embedding-qa/runs/irx2pu3q</a><br> View project at: <a href='https://wandb.ai/nevinhelfenstein-hslu-nlp-fs25/hslu-fs25-nlp-embedding-qa' target=\"_blank\">https://wandb.ai/nevinhelfenstein-hslu-nlp-fs25/hslu-fs25-nlp-embedding-qa</a><br>Synced 5 W&B file(s), 0 media file(s), 0 artifact file(s) and 0 other file(s)"
      ],
      "text/plain": [
       "<IPython.core.display.HTML object>"
      ]
     },
     "metadata": {},
     "output_type": "display_data"
    },
    {
     "data": {
      "text/html": [
       "Find logs at: <code>./wandb/run-20250331_212708-irx2pu3q/logs</code>"
      ],
      "text/plain": [
       "<IPython.core.display.HTML object>"
      ]
     },
     "metadata": {},
     "output_type": "display_data"
    },
    {
     "name": "stdout",
     "output_type": "stream",
     "text": [
      "Training complete! Best validation accuracy: 0.2480\n"
     ]
    }
   ],
   "source": [
    "print(\"Starting training...\")\n",
    "num_epochs = embedding_run.config.epochs\n",
    "trained_model, best_accuracy = train_qa_model(\n",
    "    qa_model, \n",
    "    criterion, \n",
    "    optimizer, \n",
    "    scheduler, \n",
    "    train_loader, \n",
    "    valid_loader, \n",
    "    num_epochs,\n",
    "    gradient_clip_val=embedding_run.config.gradient_clipping\n",
    ")\n",
    "\n",
    "print(f\"Training complete! Best validation accuracy: {best_accuracy:.4f}\")"
   ]
  },
  {
   "cell_type": "markdown",
   "metadata": {},
   "source": [
    "## RNN"
   ]
  },
  {
   "cell_type": "code",
   "execution_count": 39,
   "metadata": {},
   "outputs": [
    {
     "name": "stdout",
     "output_type": "stream",
     "text": [
      "Using device: cuda\n",
      "QARNNModel(\n",
      "  (embedding): Embedding(12018, 300, padding_idx=0)\n",
      "  (lstm): LSTM(300, 128, num_layers=2, batch_first=True, dropout=0.2, bidirectional=True)\n",
      "  (fc1): Linear(in_features=256, out_features=128, bias=True)\n",
      "  (relu): ReLU()\n",
      "  (dropout): Dropout(p=0.2, inplace=False)\n",
      "  (fc2): Linear(in_features=128, out_features=1, bias=True)\n",
      ")\n"
     ]
    }
   ],
   "source": [
    "embedding_dim = 300  # Same as word vectors\n",
    "hidden_dim = 128     # Hidden dimension for LSTM\n",
    "\n",
    "# Create the RNN model\n",
    "rnn_model = QARNNModel(  # Updated name\n",
    "    vocab_size=len(train_rnn_dataset.word_to_idx),\n",
    "    embedding_dim=embedding_dim,\n",
    "    hidden_dim=hidden_dim,\n",
    "    dropout_rate=0.2\n",
    ")\n",
    "\n",
    "# Initialize embedding layer with pretrained word vectors\n",
    "embedding_matrix = train_rnn_dataset.get_embedding_matrix()\n",
    "rnn_model.embedding.weight.data.copy_(embedding_matrix)\n",
    "\n",
    "# Move model to device\n",
    "device = torch.device(\"cuda\" if torch.cuda.is_available() else \"cpu\")\n",
    "print(f\"Using device: {device}\")\n",
    "rnn_model = rnn_model.to(device)\n",
    "\n",
    "# Print model summary\n",
    "print(rnn_model)\n"
   ]
  },
  {
   "cell_type": "code",
   "execution_count": 40,
   "metadata": {},
   "outputs": [
    {
     "data": {
      "text/html": [
       "Tracking run with wandb version 0.19.8"
      ],
      "text/plain": [
       "<IPython.core.display.HTML object>"
      ]
     },
     "metadata": {},
     "output_type": "display_data"
    },
    {
     "data": {
      "text/html": [
       "Run data is saved locally in <code>/home/nevin/projects/HSLU.NLP/course_project/wandb/run-20250331_212930-pdfghcl6</code>"
      ],
      "text/plain": [
       "<IPython.core.display.HTML object>"
      ]
     },
     "metadata": {},
     "output_type": "display_data"
    },
    {
     "data": {
      "text/html": [
       "Syncing run <strong><a href='https://wandb.ai/nevinhelfenstein-hslu-nlp-fs25/hslu-fs25-nlp-rnn-qa/runs/pdfghcl6' target=\"_blank\">rnn-qa-model-2025-03-31T21:29:30</a></strong> to <a href='https://wandb.ai/nevinhelfenstein-hslu-nlp-fs25/hslu-fs25-nlp-rnn-qa' target=\"_blank\">Weights & Biases</a> (<a href='https://wandb.me/developer-guide' target=\"_blank\">docs</a>)<br>"
      ],
      "text/plain": [
       "<IPython.core.display.HTML object>"
      ]
     },
     "metadata": {},
     "output_type": "display_data"
    },
    {
     "data": {
      "text/html": [
       " View project at <a href='https://wandb.ai/nevinhelfenstein-hslu-nlp-fs25/hslu-fs25-nlp-rnn-qa' target=\"_blank\">https://wandb.ai/nevinhelfenstein-hslu-nlp-fs25/hslu-fs25-nlp-rnn-qa</a>"
      ],
      "text/plain": [
       "<IPython.core.display.HTML object>"
      ]
     },
     "metadata": {},
     "output_type": "display_data"
    },
    {
     "data": {
      "text/html": [
       " View run at <a href='https://wandb.ai/nevinhelfenstein-hslu-nlp-fs25/hslu-fs25-nlp-rnn-qa/runs/pdfghcl6' target=\"_blank\">https://wandb.ai/nevinhelfenstein-hslu-nlp-fs25/hslu-fs25-nlp-rnn-qa/runs/pdfghcl6</a>"
      ],
      "text/plain": [
       "<IPython.core.display.HTML object>"
      ]
     },
     "metadata": {},
     "output_type": "display_data"
    }
   ],
   "source": [
    "rnn_run = wandb.init(\n",
    "  project=\"hslu-fs25-nlp-rnn-qa\",\n",
    "  entity=\"nevinhelfenstein-hslu-nlp-fs25\",\n",
    "  name=f\"rnn-qa-model-{datetime.now().strftime('%Y-%m-%dT%H:%M:%S')}\",\n",
    "  config={\n",
    "    \"model\": \"qa_rnn_model\",  # Updated name\n",
    "    \"embedding_dim\": embedding_dim,\n",
    "    \"hidden_dim\": hidden_dim,\n",
    "    \"batch_size\": 32,\n",
    "    \"epochs\": 50,\n",
    "    \"dropout_rate\": 0.2,\n",
    "    \"weight_decay\": 1e-6,\n",
    "    \"learning_rate\": 1e-3,\n",
    "  },\n",
    "  reinit=True,\n",
    ")"
   ]
  },
  {
   "cell_type": "code",
   "execution_count": 41,
   "metadata": {},
   "outputs": [],
   "source": [
    "# Loss function - standard cross entropy\n",
    "criterion = nn.CrossEntropyLoss()\n",
    "\n",
    "# Use the same optimizer setup as your embedding model\n",
    "optimizer = torch.optim.Adam(\n",
    "    rnn_model.parameters(),\n",
    "    lr=1e-3,\n",
    "    weight_decay=1e-6\n",
    ")\n",
    "\n",
    "# Use OneCycleLR as in your embedding model\n",
    "from torch.optim.lr_scheduler import OneCycleLR\n",
    "\n",
    "total_steps = rnn_run.config.epochs * len(train_rnn_loader)\n",
    "scheduler = OneCycleLR(\n",
    "    optimizer,\n",
    "    max_lr=1e-3,\n",
    "    total_steps=total_steps,\n",
    "    pct_start=0.2,  # 20% warmup\n",
    "    div_factor=25,\n",
    "    final_div_factor=1000,\n",
    "    anneal_strategy='cos'\n",
    ")"
   ]
  },
  {
   "cell_type": "code",
   "execution_count": 42,
   "metadata": {},
   "outputs": [],
   "source": [
    "checkpoints_path = \"./checkpoints/rnn_model\"\n",
    "os.makedirs(checkpoints_path, exist_ok=True)"
   ]
  },
  {
   "cell_type": "code",
   "execution_count": 43,
   "metadata": {},
   "outputs": [],
   "source": [
    "def train_rnn_model(model, criterion, optimizer, scheduler, train_loader, valid_loader, \n",
    "                     epochs, device, checkpoints_path, log_wandb=True):\n",
    "    best_val_accuracy = 0.0\n",
    "    training_start_time = time.time()\n",
    "    \n",
    "    for epoch in range(epochs):\n",
    "        print(f\"\\nEpoch {epoch+1}/{epochs}\")\n",
    "        \n",
    "        # Training phase\n",
    "        model.train()\n",
    "        train_loss = 0.0\n",
    "        train_correct = 0\n",
    "        train_total = 0\n",
    "        \n",
    "        with tqdm(train_loader, desc=\"Training\") as progress_bar:\n",
    "            for batch_sequences, batch_lengths, answers in progress_bar:\n",
    "                # Move answers to device\n",
    "                answers = answers.to(device)\n",
    "                \n",
    "                # Forward pass\n",
    "                optimizer.zero_grad()\n",
    "                outputs = model(batch_sequences, batch_lengths)\n",
    "                loss = criterion(outputs, answers)\n",
    "                \n",
    "                # Backward pass\n",
    "                loss.backward()\n",
    "                torch.nn.utils.clip_grad_norm_(model.parameters(), 1.0)  # Gradient clipping\n",
    "                optimizer.step()\n",
    "                \n",
    "                # Statistics\n",
    "                train_loss += loss.item()\n",
    "                _, predicted = torch.max(outputs, 1)\n",
    "                train_total += answers.size(0)\n",
    "                train_correct += (predicted == answers).sum().item()\n",
    "                \n",
    "                # Update progress bar\n",
    "                progress_bar.set_postfix({\n",
    "                    'loss': f\"{loss.item():.4f}\",\n",
    "                    'acc': f\"{train_correct/train_total:.4f}\"\n",
    "                })\n",
    "        \n",
    "        train_accuracy = train_correct / train_total\n",
    "        avg_train_loss = train_loss / len(train_loader)\n",
    "        \n",
    "        # Validation phase\n",
    "        model.eval()\n",
    "        val_loss = 0.0\n",
    "        val_correct = 0\n",
    "        val_total = 0\n",
    "        \n",
    "        with torch.no_grad():\n",
    "            for batch_sequences, batch_lengths, answers in tqdm(valid_loader, desc=\"Validation\"):\n",
    "                # Move answers to device\n",
    "                answers = answers.to(device)\n",
    "                \n",
    "                # Forward pass\n",
    "                outputs = model(batch_sequences, batch_lengths)\n",
    "                loss = criterion(outputs, answers)\n",
    "                \n",
    "                # Statistics\n",
    "                val_loss += loss.item()\n",
    "                _, predicted = torch.max(outputs, 1)\n",
    "                val_total += answers.size(0)\n",
    "                val_correct += (predicted == answers).sum().item()\n",
    "        \n",
    "        val_accuracy = val_correct / val_total\n",
    "        avg_val_loss = val_loss / len(valid_loader)\n",
    "        \n",
    "        # Update scheduler\n",
    "        scheduler.step(val_accuracy)\n",
    "        \n",
    "        # Save best model\n",
    "        if val_accuracy > best_val_accuracy:\n",
    "            print(f\"Validation accuracy improved from {best_val_accuracy:.4f} to {val_accuracy:.4f}\")\n",
    "            best_val_accuracy = val_accuracy\n",
    "            torch.save({\n",
    "                \"epoch\": epoch,\n",
    "                \"model_state_dict\": model.state_dict(),\n",
    "                \"optimizer_state_dict\": optimizer.state_dict(),\n",
    "                \"val_accuracy\": val_accuracy,\n",
    "                \"timestamp\": datetime.now().strftime('%Y-%m-%d %H:%M:%S')\n",
    "            }, os.path.join(checkpoints_path, \"best_rnn_model.pt\"))\n",
    "        \n",
    "        # Print metrics\n",
    "        print(f\"Train Loss: {avg_train_loss:.4f}, Train Acc: {train_accuracy:.4f}\")\n",
    "        print(f\"Val Loss: {avg_val_loss:.4f}, Val Acc: {val_accuracy:.4f}\")\n",
    "        \n",
    "        # Log to wandb\n",
    "        if log_wandb:\n",
    "            wandb.log({\n",
    "                \"epoch\": epoch,\n",
    "                \"train_loss\": avg_train_loss,\n",
    "                \"train_accuracy\": train_accuracy,\n",
    "                \"val_loss\": avg_val_loss,\n",
    "                \"val_accuracy\": val_accuracy,\n",
    "                \"learning_rate\": optimizer.param_groups[0]['lr']\n",
    "            })\n",
    "    \n",
    "    print(f\"Training completed in {(time.time() - training_start_time)/60:.2f} minutes\")\n",
    "    print(f\"Best validation accuracy: {best_val_accuracy:.4f}\")\n",
    "    \n",
    "    # Final metrics for wandb\n",
    "    if log_wandb:\n",
    "        wandb.run.summary[\"best_val_accuracy\"] = best_val_accuracy\n",
    "        wandb.finish()\n",
    "    \n",
    "    return model, best_val_accuracy"
   ]
  },
  {
   "cell_type": "code",
   "execution_count": 44,
   "metadata": {},
   "outputs": [
    {
     "name": "stdout",
     "output_type": "stream",
     "text": [
      "Performing basic checks...\n",
      "Class distribution (first 1000 samples): [198, 199, 233, 200, 170]\n",
      "Logits shape for single example: torch.Size([5])\n",
      "Predicted: 1, Actual: 0\n",
      "Batch logits shape: torch.Size([512, 300])\n",
      "Batch accuracy: 0.1621\n",
      "Checks complete.\n",
      "Basic checks passed!\n"
     ]
    }
   ],
   "source": [
    "def check_rnn_model():\n",
    "    print(\"Performing basic checks...\")\n",
    "    \n",
    "    # 1. Check dataset balance\n",
    "    class_counts = [0] * 5  # A through E\n",
    "    for i in range(min(1000, len(train_rnn_dataset))):  # Check subsample\n",
    "        _, _, answer = train_rnn_dataset[i]\n",
    "        class_counts[answer.item()] += 1\n",
    "    \n",
    "    print(f\"Class distribution (first 1000 samples): {class_counts}\")\n",
    "    \n",
    "    # 2. Verify processing a single example\n",
    "    model = rnn_model.eval()\n",
    "    with torch.no_grad():\n",
    "        # Get a single example\n",
    "        sequences, lengths, answer = train_rnn_dataset[0]\n",
    "        \n",
    "        # Process each sequence individually\n",
    "        example_logits = []\n",
    "        for sequence in sequences:\n",
    "            sequence = sequence.to(device)\n",
    "            logit = model.process_sequence(sequence)\n",
    "            example_logits.append(logit)\n",
    "        \n",
    "        # Combine logits\n",
    "        logits = torch.cat(example_logits)\n",
    "        print(f\"Logits shape for single example: {logits.shape}\")\n",
    "        \n",
    "        # Check prediction\n",
    "        _, predicted = torch.max(logits, 0)\n",
    "        print(f\"Predicted: {predicted.item()}, Actual: {answer.item()}\")\n",
    "    \n",
    "    # 3. Verify batch processing\n",
    "    with torch.no_grad():\n",
    "        # Get a mini-batch\n",
    "        batch = next(iter(train_loader))\n",
    "        batch_sequences, batch_lengths, batch_answers = batch\n",
    "        \n",
    "        # Forward pass\n",
    "        batch_logits = model(batch_sequences, batch_lengths)\n",
    "        print(f\"Batch logits shape: {batch_logits.shape}\")\n",
    "        \n",
    "        # Check batch predictions\n",
    "        _, batch_predicted = torch.max(batch_logits, 1)\n",
    "        batch_answers = batch_answers.to(device)\n",
    "        batch_accuracy = (batch_predicted == batch_answers).float().mean()\n",
    "        print(f\"Batch accuracy: {batch_accuracy.item():.4f}\")\n",
    "    \n",
    "    print(\"Checks complete.\")\n",
    "\n",
    "# Run the checks\n",
    "try:\n",
    "    check_rnn_model()\n",
    "    print(\"Basic checks passed!\")\n",
    "except Exception as e:\n",
    "    print(f\"Error during basic checks: {e}\")"
   ]
  },
  {
   "cell_type": "code",
   "execution_count": 45,
   "metadata": {},
   "outputs": [
    {
     "name": "stdout",
     "output_type": "stream",
     "text": [
      "Starting RNN model training...\n",
      "\n",
      "Epoch 1/50\n"
     ]
    },
    {
     "name": "stderr",
     "output_type": "stream",
     "text": [
      "Training:  33%|███▎      | 6/18 [10:16<20:33, 102.76s/it, loss=5.7040, acc=0.0023]\n"
     ]
    },
    {
     "ename": "KeyboardInterrupt",
     "evalue": "",
     "output_type": "error",
     "traceback": [
      "\u001b[0;31m---------------------------------------------------------------------------\u001b[0m",
      "\u001b[0;31mKeyboardInterrupt\u001b[0m                         Traceback (most recent call last)",
      "Cell \u001b[0;32mIn[45], line 3\u001b[0m\n\u001b[1;32m      1\u001b[0m \u001b[38;5;28mprint\u001b[39m(\u001b[38;5;124m\"\u001b[39m\u001b[38;5;124mStarting RNN model training...\u001b[39m\u001b[38;5;124m\"\u001b[39m)\n\u001b[1;32m      2\u001b[0m num_epochs \u001b[38;5;241m=\u001b[39m rnn_run\u001b[38;5;241m.\u001b[39mconfig\u001b[38;5;241m.\u001b[39mepochs\n\u001b[0;32m----> 3\u001b[0m trained_rnn_model, best_rnn_accuracy \u001b[38;5;241m=\u001b[39m \u001b[43mtrain_rnn_model\u001b[49m\u001b[43m(\u001b[49m\u001b[43m  \u001b[49m\u001b[38;5;66;43;03m# Updated name\u001b[39;49;00m\n\u001b[1;32m      4\u001b[0m \u001b[43m    \u001b[49m\u001b[43mrnn_model\u001b[49m\u001b[43m,\u001b[49m\u001b[43m \u001b[49m\n\u001b[1;32m      5\u001b[0m \u001b[43m    \u001b[49m\u001b[43mcriterion\u001b[49m\u001b[43m,\u001b[49m\u001b[43m \u001b[49m\n\u001b[1;32m      6\u001b[0m \u001b[43m    \u001b[49m\u001b[43moptimizer\u001b[49m\u001b[43m,\u001b[49m\u001b[43m \u001b[49m\n\u001b[1;32m      7\u001b[0m \u001b[43m    \u001b[49m\u001b[43mscheduler\u001b[49m\u001b[43m,\u001b[49m\u001b[43m \u001b[49m\n\u001b[1;32m      8\u001b[0m \u001b[43m    \u001b[49m\u001b[43mtrain_loader\u001b[49m\u001b[43m,\u001b[49m\u001b[43m \u001b[49m\n\u001b[1;32m      9\u001b[0m \u001b[43m    \u001b[49m\u001b[43mvalid_loader\u001b[49m\u001b[43m,\u001b[49m\u001b[43m \u001b[49m\n\u001b[1;32m     10\u001b[0m \u001b[43m    \u001b[49m\u001b[43mnum_epochs\u001b[49m\u001b[43m,\u001b[49m\n\u001b[1;32m     11\u001b[0m \u001b[43m    \u001b[49m\u001b[43mdevice\u001b[49m\u001b[43m,\u001b[49m\n\u001b[1;32m     12\u001b[0m \u001b[43m    \u001b[49m\u001b[43mcheckpoints_path\u001b[49m\n\u001b[1;32m     13\u001b[0m \u001b[43m)\u001b[49m\n\u001b[1;32m     15\u001b[0m \u001b[38;5;28mprint\u001b[39m(\u001b[38;5;124mf\u001b[39m\u001b[38;5;124m\"\u001b[39m\u001b[38;5;124mRNN Training complete! Best validation accuracy: \u001b[39m\u001b[38;5;132;01m{\u001b[39;00mbest_rnn_accuracy\u001b[38;5;132;01m:\u001b[39;00m\u001b[38;5;124m.4f\u001b[39m\u001b[38;5;132;01m}\u001b[39;00m\u001b[38;5;124m\"\u001b[39m)\n",
      "Cell \u001b[0;32mIn[43], line 26\u001b[0m, in \u001b[0;36mtrain_rnn_model\u001b[0;34m(model, criterion, optimizer, scheduler, train_loader, valid_loader, epochs, device, checkpoints_path, log_wandb)\u001b[0m\n\u001b[1;32m     23\u001b[0m loss \u001b[38;5;241m=\u001b[39m criterion(outputs, answers)\n\u001b[1;32m     25\u001b[0m \u001b[38;5;66;03m# Backward pass\u001b[39;00m\n\u001b[0;32m---> 26\u001b[0m \u001b[43mloss\u001b[49m\u001b[38;5;241;43m.\u001b[39;49m\u001b[43mbackward\u001b[49m\u001b[43m(\u001b[49m\u001b[43m)\u001b[49m\n\u001b[1;32m     27\u001b[0m torch\u001b[38;5;241m.\u001b[39mnn\u001b[38;5;241m.\u001b[39mutils\u001b[38;5;241m.\u001b[39mclip_grad_norm_(model\u001b[38;5;241m.\u001b[39mparameters(), \u001b[38;5;241m1.0\u001b[39m)  \u001b[38;5;66;03m# Gradient clipping\u001b[39;00m\n\u001b[1;32m     28\u001b[0m optimizer\u001b[38;5;241m.\u001b[39mstep()\n",
      "File \u001b[0;32m~/miniconda3/envs/nlp_env/lib/python3.10/site-packages/torch/_tensor.py:626\u001b[0m, in \u001b[0;36mTensor.backward\u001b[0;34m(self, gradient, retain_graph, create_graph, inputs)\u001b[0m\n\u001b[1;32m    616\u001b[0m \u001b[38;5;28;01mif\u001b[39;00m has_torch_function_unary(\u001b[38;5;28mself\u001b[39m):\n\u001b[1;32m    617\u001b[0m     \u001b[38;5;28;01mreturn\u001b[39;00m handle_torch_function(\n\u001b[1;32m    618\u001b[0m         Tensor\u001b[38;5;241m.\u001b[39mbackward,\n\u001b[1;32m    619\u001b[0m         (\u001b[38;5;28mself\u001b[39m,),\n\u001b[0;32m   (...)\u001b[0m\n\u001b[1;32m    624\u001b[0m         inputs\u001b[38;5;241m=\u001b[39minputs,\n\u001b[1;32m    625\u001b[0m     )\n\u001b[0;32m--> 626\u001b[0m \u001b[43mtorch\u001b[49m\u001b[38;5;241;43m.\u001b[39;49m\u001b[43mautograd\u001b[49m\u001b[38;5;241;43m.\u001b[39;49m\u001b[43mbackward\u001b[49m\u001b[43m(\u001b[49m\n\u001b[1;32m    627\u001b[0m \u001b[43m    \u001b[49m\u001b[38;5;28;43mself\u001b[39;49m\u001b[43m,\u001b[49m\u001b[43m \u001b[49m\u001b[43mgradient\u001b[49m\u001b[43m,\u001b[49m\u001b[43m \u001b[49m\u001b[43mretain_graph\u001b[49m\u001b[43m,\u001b[49m\u001b[43m \u001b[49m\u001b[43mcreate_graph\u001b[49m\u001b[43m,\u001b[49m\u001b[43m \u001b[49m\u001b[43minputs\u001b[49m\u001b[38;5;241;43m=\u001b[39;49m\u001b[43minputs\u001b[49m\n\u001b[1;32m    628\u001b[0m \u001b[43m\u001b[49m\u001b[43m)\u001b[49m\n",
      "File \u001b[0;32m~/miniconda3/envs/nlp_env/lib/python3.10/site-packages/torch/autograd/__init__.py:347\u001b[0m, in \u001b[0;36mbackward\u001b[0;34m(tensors, grad_tensors, retain_graph, create_graph, grad_variables, inputs)\u001b[0m\n\u001b[1;32m    342\u001b[0m     retain_graph \u001b[38;5;241m=\u001b[39m create_graph\n\u001b[1;32m    344\u001b[0m \u001b[38;5;66;03m# The reason we repeat the same comment below is that\u001b[39;00m\n\u001b[1;32m    345\u001b[0m \u001b[38;5;66;03m# some Python versions print out the first line of a multi-line function\u001b[39;00m\n\u001b[1;32m    346\u001b[0m \u001b[38;5;66;03m# calls in the traceback and some print out the last line\u001b[39;00m\n\u001b[0;32m--> 347\u001b[0m \u001b[43m_engine_run_backward\u001b[49m\u001b[43m(\u001b[49m\n\u001b[1;32m    348\u001b[0m \u001b[43m    \u001b[49m\u001b[43mtensors\u001b[49m\u001b[43m,\u001b[49m\n\u001b[1;32m    349\u001b[0m \u001b[43m    \u001b[49m\u001b[43mgrad_tensors_\u001b[49m\u001b[43m,\u001b[49m\n\u001b[1;32m    350\u001b[0m \u001b[43m    \u001b[49m\u001b[43mretain_graph\u001b[49m\u001b[43m,\u001b[49m\n\u001b[1;32m    351\u001b[0m \u001b[43m    \u001b[49m\u001b[43mcreate_graph\u001b[49m\u001b[43m,\u001b[49m\n\u001b[1;32m    352\u001b[0m \u001b[43m    \u001b[49m\u001b[43minputs\u001b[49m\u001b[43m,\u001b[49m\n\u001b[1;32m    353\u001b[0m \u001b[43m    \u001b[49m\u001b[43mallow_unreachable\u001b[49m\u001b[38;5;241;43m=\u001b[39;49m\u001b[38;5;28;43;01mTrue\u001b[39;49;00m\u001b[43m,\u001b[49m\n\u001b[1;32m    354\u001b[0m \u001b[43m    \u001b[49m\u001b[43maccumulate_grad\u001b[49m\u001b[38;5;241;43m=\u001b[39;49m\u001b[38;5;28;43;01mTrue\u001b[39;49;00m\u001b[43m,\u001b[49m\n\u001b[1;32m    355\u001b[0m \u001b[43m\u001b[49m\u001b[43m)\u001b[49m\n",
      "File \u001b[0;32m~/miniconda3/envs/nlp_env/lib/python3.10/site-packages/torch/autograd/graph.py:823\u001b[0m, in \u001b[0;36m_engine_run_backward\u001b[0;34m(t_outputs, *args, **kwargs)\u001b[0m\n\u001b[1;32m    821\u001b[0m     unregister_hooks \u001b[38;5;241m=\u001b[39m _register_logging_hooks_on_whole_graph(t_outputs)\n\u001b[1;32m    822\u001b[0m \u001b[38;5;28;01mtry\u001b[39;00m:\n\u001b[0;32m--> 823\u001b[0m     \u001b[38;5;28;01mreturn\u001b[39;00m \u001b[43mVariable\u001b[49m\u001b[38;5;241;43m.\u001b[39;49m\u001b[43m_execution_engine\u001b[49m\u001b[38;5;241;43m.\u001b[39;49m\u001b[43mrun_backward\u001b[49m\u001b[43m(\u001b[49m\u001b[43m  \u001b[49m\u001b[38;5;66;43;03m# Calls into the C++ engine to run the backward pass\u001b[39;49;00m\n\u001b[1;32m    824\u001b[0m \u001b[43m        \u001b[49m\u001b[43mt_outputs\u001b[49m\u001b[43m,\u001b[49m\u001b[43m \u001b[49m\u001b[38;5;241;43m*\u001b[39;49m\u001b[43margs\u001b[49m\u001b[43m,\u001b[49m\u001b[43m \u001b[49m\u001b[38;5;241;43m*\u001b[39;49m\u001b[38;5;241;43m*\u001b[39;49m\u001b[43mkwargs\u001b[49m\n\u001b[1;32m    825\u001b[0m \u001b[43m    \u001b[49m\u001b[43m)\u001b[49m  \u001b[38;5;66;03m# Calls into the C++ engine to run the backward pass\u001b[39;00m\n\u001b[1;32m    826\u001b[0m \u001b[38;5;28;01mfinally\u001b[39;00m:\n\u001b[1;32m    827\u001b[0m     \u001b[38;5;28;01mif\u001b[39;00m attach_logging_hooks:\n",
      "\u001b[0;31mKeyboardInterrupt\u001b[0m: "
     ]
    },
    {
     "name": "stdout",
     "output_type": "stream",
     "text": [
      "Error in callback <bound method _WandbInit._pause_backend of <wandb.sdk.wandb_init._WandbInit object at 0x7f576e3779a0>> (for post_run_cell), with arguments args (<ExecutionResult object at 7f576d231c00, execution_count=45 error_before_exec=None error_in_exec= info=<ExecutionInfo object at 7f576d232230, raw_cell=\"print(\"Starting RNN model training...\")\n",
      "num_epochs..\" store_history=True silent=False shell_futures=True cell_id=vscode-notebook-cell://wsl%2Bubuntu/home/nevin/projects/HSLU.NLP/course_project/project_1.ipynb#Y156sdnNjb2RlLXJlbW90ZQ%3D%3D> result=None>,),kwargs {}:\n"
     ]
    },
    {
     "ename": "BrokenPipeError",
     "evalue": "[Errno 32] Broken pipe",
     "output_type": "error",
     "traceback": [
      "\u001b[0;31m---------------------------------------------------------------------------\u001b[0m",
      "\u001b[0;31mBrokenPipeError\u001b[0m                           Traceback (most recent call last)",
      "File \u001b[0;32m~/miniconda3/envs/nlp_env/lib/python3.10/site-packages/wandb/sdk/wandb_init.py:565\u001b[0m, in \u001b[0;36m_WandbInit._pause_backend\u001b[0;34m(self, *args, **kwargs)\u001b[0m\n\u001b[1;32m    563\u001b[0m \u001b[38;5;28;01mif\u001b[39;00m \u001b[38;5;28mself\u001b[39m\u001b[38;5;241m.\u001b[39mbackend\u001b[38;5;241m.\u001b[39minterface \u001b[38;5;129;01mis\u001b[39;00m \u001b[38;5;129;01mnot\u001b[39;00m \u001b[38;5;28;01mNone\u001b[39;00m:\n\u001b[1;32m    564\u001b[0m     \u001b[38;5;28mself\u001b[39m\u001b[38;5;241m.\u001b[39m_logger\u001b[38;5;241m.\u001b[39minfo(\u001b[38;5;124m\"\u001b[39m\u001b[38;5;124mpausing backend\u001b[39m\u001b[38;5;124m\"\u001b[39m)  \u001b[38;5;66;03m# type: ignore\u001b[39;00m\n\u001b[0;32m--> 565\u001b[0m     \u001b[38;5;28;43mself\u001b[39;49m\u001b[38;5;241;43m.\u001b[39;49m\u001b[43mbackend\u001b[49m\u001b[38;5;241;43m.\u001b[39;49m\u001b[43minterface\u001b[49m\u001b[38;5;241;43m.\u001b[39;49m\u001b[43mpublish_pause\u001b[49m\u001b[43m(\u001b[49m\u001b[43m)\u001b[49m\n",
      "File \u001b[0;32m~/miniconda3/envs/nlp_env/lib/python3.10/site-packages/wandb/sdk/interface/interface.py:769\u001b[0m, in \u001b[0;36mInterfaceBase.publish_pause\u001b[0;34m(self)\u001b[0m\n\u001b[1;32m    767\u001b[0m \u001b[38;5;28;01mdef\u001b[39;00m\u001b[38;5;250m \u001b[39m\u001b[38;5;21mpublish_pause\u001b[39m(\u001b[38;5;28mself\u001b[39m) \u001b[38;5;241m-\u001b[39m\u001b[38;5;241m>\u001b[39m \u001b[38;5;28;01mNone\u001b[39;00m:\n\u001b[1;32m    768\u001b[0m     pause \u001b[38;5;241m=\u001b[39m pb\u001b[38;5;241m.\u001b[39mPauseRequest()\n\u001b[0;32m--> 769\u001b[0m     \u001b[38;5;28;43mself\u001b[39;49m\u001b[38;5;241;43m.\u001b[39;49m\u001b[43m_publish_pause\u001b[49m\u001b[43m(\u001b[49m\u001b[43mpause\u001b[49m\u001b[43m)\u001b[49m\n",
      "File \u001b[0;32m~/miniconda3/envs/nlp_env/lib/python3.10/site-packages/wandb/sdk/interface/interface_shared.py:289\u001b[0m, in \u001b[0;36mInterfaceShared._publish_pause\u001b[0;34m(self, pause)\u001b[0m\n\u001b[1;32m    287\u001b[0m \u001b[38;5;28;01mdef\u001b[39;00m\u001b[38;5;250m \u001b[39m\u001b[38;5;21m_publish_pause\u001b[39m(\u001b[38;5;28mself\u001b[39m, pause: pb\u001b[38;5;241m.\u001b[39mPauseRequest) \u001b[38;5;241m-\u001b[39m\u001b[38;5;241m>\u001b[39m \u001b[38;5;28;01mNone\u001b[39;00m:\n\u001b[1;32m    288\u001b[0m     rec \u001b[38;5;241m=\u001b[39m \u001b[38;5;28mself\u001b[39m\u001b[38;5;241m.\u001b[39m_make_request(pause\u001b[38;5;241m=\u001b[39mpause)\n\u001b[0;32m--> 289\u001b[0m     \u001b[38;5;28;43mself\u001b[39;49m\u001b[38;5;241;43m.\u001b[39;49m\u001b[43m_publish\u001b[49m\u001b[43m(\u001b[49m\u001b[43mrec\u001b[49m\u001b[43m)\u001b[49m\n",
      "File \u001b[0;32m~/miniconda3/envs/nlp_env/lib/python3.10/site-packages/wandb/sdk/interface/interface_sock.py:39\u001b[0m, in \u001b[0;36mInterfaceSock._publish\u001b[0;34m(self, record, local)\u001b[0m\n\u001b[1;32m     37\u001b[0m \u001b[38;5;28;01mdef\u001b[39;00m\u001b[38;5;250m \u001b[39m\u001b[38;5;21m_publish\u001b[39m(\u001b[38;5;28mself\u001b[39m, record: \u001b[38;5;124m\"\u001b[39m\u001b[38;5;124mpb.Record\u001b[39m\u001b[38;5;124m\"\u001b[39m, local: Optional[\u001b[38;5;28mbool\u001b[39m] \u001b[38;5;241m=\u001b[39m \u001b[38;5;28;01mNone\u001b[39;00m) \u001b[38;5;241m-\u001b[39m\u001b[38;5;241m>\u001b[39m \u001b[38;5;28;01mNone\u001b[39;00m:\n\u001b[1;32m     38\u001b[0m     \u001b[38;5;28mself\u001b[39m\u001b[38;5;241m.\u001b[39m_assign(record)\n\u001b[0;32m---> 39\u001b[0m     \u001b[38;5;28;43mself\u001b[39;49m\u001b[38;5;241;43m.\u001b[39;49m\u001b[43m_sock_client\u001b[49m\u001b[38;5;241;43m.\u001b[39;49m\u001b[43msend_record_publish\u001b[49m\u001b[43m(\u001b[49m\u001b[43mrecord\u001b[49m\u001b[43m)\u001b[49m\n",
      "File \u001b[0;32m~/miniconda3/envs/nlp_env/lib/python3.10/site-packages/wandb/sdk/lib/sock_client.py:174\u001b[0m, in \u001b[0;36mSockClient.send_record_publish\u001b[0;34m(self, record)\u001b[0m\n\u001b[1;32m    172\u001b[0m server_req\u001b[38;5;241m.\u001b[39mrequest_id \u001b[38;5;241m=\u001b[39m record\u001b[38;5;241m.\u001b[39mcontrol\u001b[38;5;241m.\u001b[39mmailbox_slot\n\u001b[1;32m    173\u001b[0m server_req\u001b[38;5;241m.\u001b[39mrecord_publish\u001b[38;5;241m.\u001b[39mCopyFrom(record)\n\u001b[0;32m--> 174\u001b[0m \u001b[38;5;28;43mself\u001b[39;49m\u001b[38;5;241;43m.\u001b[39;49m\u001b[43msend_server_request\u001b[49m\u001b[43m(\u001b[49m\u001b[43mserver_req\u001b[49m\u001b[43m)\u001b[49m\n",
      "File \u001b[0;32m~/miniconda3/envs/nlp_env/lib/python3.10/site-packages/wandb/sdk/lib/sock_client.py:154\u001b[0m, in \u001b[0;36mSockClient.send_server_request\u001b[0;34m(self, msg)\u001b[0m\n\u001b[1;32m    153\u001b[0m \u001b[38;5;28;01mdef\u001b[39;00m\u001b[38;5;250m \u001b[39m\u001b[38;5;21msend_server_request\u001b[39m(\u001b[38;5;28mself\u001b[39m, msg: spb\u001b[38;5;241m.\u001b[39mServerRequest) \u001b[38;5;241m-\u001b[39m\u001b[38;5;241m>\u001b[39m \u001b[38;5;28;01mNone\u001b[39;00m:\n\u001b[0;32m--> 154\u001b[0m     \u001b[38;5;28;43mself\u001b[39;49m\u001b[38;5;241;43m.\u001b[39;49m\u001b[43m_send_message\u001b[49m\u001b[43m(\u001b[49m\u001b[43mmsg\u001b[49m\u001b[43m)\u001b[49m\n",
      "File \u001b[0;32m~/miniconda3/envs/nlp_env/lib/python3.10/site-packages/wandb/sdk/lib/sock_client.py:151\u001b[0m, in \u001b[0;36mSockClient._send_message\u001b[0;34m(self, msg)\u001b[0m\n\u001b[1;32m    149\u001b[0m header \u001b[38;5;241m=\u001b[39m struct\u001b[38;5;241m.\u001b[39mpack(\u001b[38;5;124m\"\u001b[39m\u001b[38;5;124m<BI\u001b[39m\u001b[38;5;124m\"\u001b[39m, \u001b[38;5;28mord\u001b[39m(\u001b[38;5;124m\"\u001b[39m\u001b[38;5;124mW\u001b[39m\u001b[38;5;124m\"\u001b[39m), raw_size)\n\u001b[1;32m    150\u001b[0m \u001b[38;5;28;01mwith\u001b[39;00m \u001b[38;5;28mself\u001b[39m\u001b[38;5;241m.\u001b[39m_lock:\n\u001b[0;32m--> 151\u001b[0m     \u001b[38;5;28;43mself\u001b[39;49m\u001b[38;5;241;43m.\u001b[39;49m\u001b[43m_sendall_with_error_handle\u001b[49m\u001b[43m(\u001b[49m\u001b[43mheader\u001b[49m\u001b[43m \u001b[49m\u001b[38;5;241;43m+\u001b[39;49m\u001b[43m \u001b[49m\u001b[43mdata\u001b[49m\u001b[43m)\u001b[49m\n",
      "File \u001b[0;32m~/miniconda3/envs/nlp_env/lib/python3.10/site-packages/wandb/sdk/lib/sock_client.py:130\u001b[0m, in \u001b[0;36mSockClient._sendall_with_error_handle\u001b[0;34m(self, data)\u001b[0m\n\u001b[1;32m    128\u001b[0m start_time \u001b[38;5;241m=\u001b[39m time\u001b[38;5;241m.\u001b[39mmonotonic()\n\u001b[1;32m    129\u001b[0m \u001b[38;5;28;01mtry\u001b[39;00m:\n\u001b[0;32m--> 130\u001b[0m     sent \u001b[38;5;241m=\u001b[39m \u001b[38;5;28;43mself\u001b[39;49m\u001b[38;5;241;43m.\u001b[39;49m\u001b[43m_sock\u001b[49m\u001b[38;5;241;43m.\u001b[39;49m\u001b[43msend\u001b[49m\u001b[43m(\u001b[49m\u001b[43mdata\u001b[49m\u001b[43m)\u001b[49m\n\u001b[1;32m    131\u001b[0m     \u001b[38;5;66;03m# sent equal to 0 indicates a closed socket\u001b[39;00m\n\u001b[1;32m    132\u001b[0m     \u001b[38;5;28;01mif\u001b[39;00m sent \u001b[38;5;241m==\u001b[39m \u001b[38;5;241m0\u001b[39m:\n",
      "\u001b[0;31mBrokenPipeError\u001b[0m: [Errno 32] Broken pipe"
     ]
    }
   ],
   "source": [
    "print(\"Starting RNN model training...\")\n",
    "num_epochs = rnn_run.config.epochs\n",
    "trained_rnn_model, best_rnn_accuracy = train_rnn_model(  # Updated name\n",
    "    rnn_model, \n",
    "    criterion, \n",
    "    optimizer, \n",
    "    scheduler, \n",
    "    train_loader, \n",
    "    valid_loader, \n",
    "    num_epochs,\n",
    "    device,\n",
    "    checkpoints_path\n",
    ")\n",
    "\n",
    "print(f\"RNN Training complete! Best validation accuracy: {best_rnn_accuracy:.4f}\")"
   ]
  },
  {
   "cell_type": "markdown",
   "metadata": {},
   "source": [
    "# Evaluation"
   ]
  },
  {
   "cell_type": "markdown",
   "metadata": {},
   "source": [
    "# Interpretation"
   ]
  },
  {
   "cell_type": "markdown",
   "metadata": {},
   "source": []
  }
 ],
 "metadata": {
  "kernelspec": {
   "display_name": "nlp_env",
   "language": "python",
   "name": "python3"
  },
  "language_info": {
   "codemirror_mode": {
    "name": "ipython",
    "version": 3
   },
   "file_extension": ".py",
   "mimetype": "text/x-python",
   "name": "python",
   "nbconvert_exporter": "python",
   "pygments_lexer": "ipython3",
   "version": "3.10.16"
  }
 },
 "nbformat": 4,
 "nbformat_minor": 2
}
