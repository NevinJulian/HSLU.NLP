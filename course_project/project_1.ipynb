{
 "cells": [
  {
   "cell_type": "markdown",
   "metadata": {},
   "source": [
    "# NLP.F2501 Course Project 1 (Word embeddings and RNNs)\n",
    "\n",
    "Nevin Helfenstein"
   ]
  },
  {
   "cell_type": "markdown",
   "metadata": {},
   "source": [
    "# Introduction\n",
    "\n",
    "In this notebook, I present my solution to the CommonsenseQA task. I'll train a model using word embeddings, RNNs, and other NLP techniques to achieve the best possible performance.\n",
    "\n",
    "## Dataset Description\n",
    "\n",
    "The CommonsenseQA dataset [(Talmor et al., 2019)](https://aclanthology.org/N19-1421/) contains 12,247 multiple-choice questions specifically designed to test commonsense reasoning. Unlike standard QA tasks, these questions require prior knowledge about how concepts relate in the real world.\n",
    "\n",
    "Questions were created by extracting related concepts from ConceptNet and having crowd-workers author questions that require distinguishing between them. This methodology produced challenging questions that often cannot be answered through simple pattern matching.\n",
    "\n",
    "The best baseline in the original paper (BERT-large) achieved only 56% accuracy compared to human performance of 89%, shwoing the difficulty of encoding human-like commonsense reasoning.\n",
    "\n",
    "## Reports on Weights and Biases\n",
    "\n",
    "I used Weights and Biases as an experiment tracking tool. In my project I created multiple reports:\n",
    "- [Embedding Model (Runs under 60 Epochs)](https://wandb.ai/nevinhelfenstein-hslu-nlp-fs25/hslu-fs25-nlp-embedding-qa/reports/Selected-Model-Runs-Under-60-Epochs--VmlldzoxMjE3NDkwMw)\n",
    "- [Embedding Model (Runs under 60 Epochs)](https://wandb.ai/nevinhelfenstein-hslu-nlp-fs25/hslu-fs25-nlp-embedding-qa/reports/Selected-Model-Runs-over-60-Epochs--VmlldzoxMjE3NTAzNQ)\n",
    "- [RNN Model](https://wandb.ai/nevinhelfenstein-hslu-nlp-fs25/hslu-fs25-nlp-rnn-qa/reports/Selected-Model-Runs--VmlldzoxMjE3NTA2Nw)"
   ]
  },
  {
   "cell_type": "markdown",
   "metadata": {},
   "source": [
    "# Setup\n",
    "\n",
    "First we import all the needed libraries"
   ]
  },
  {
   "cell_type": "code",
   "execution_count": 1,
   "metadata": {},
   "outputs": [
    {
     "name": "stderr",
     "output_type": "stream",
     "text": [
      "/home/nevin/miniconda3/envs/nlp_env/lib/python3.10/site-packages/tqdm/auto.py:21: TqdmWarning: IProgress not found. Please update jupyter and ipywidgets. See https://ipywidgets.readthedocs.io/en/stable/user_install.html\n",
      "  from .autonotebook import tqdm as notebook_tqdm\n"
     ]
    }
   ],
   "source": [
    "import torch\n",
    "import nltk\n",
    "import wandb\n",
    "\n",
    "import gensim\n",
    "import pandas as pd\n",
    "import seaborn as sns\n",
    "import torch.nn as nn\n",
    "import numpy as np\n",
    "\n",
    "import matplotlib.pyplot as plt\n",
    "from nltk.tokenize import word_tokenize\n",
    "from nltk import pos_tag\n",
    "from torch.utils.data import Dataset, DataLoader\n",
    "from matplotlib_venn import venn2\n",
    "\n",
    "\n",
    "from datasets import load_dataset\n",
    "from huggingface_hub import hf_hub_download\n",
    "\n",
    "from collections import Counter, defaultdict\n",
    "from datetime import datetime\n",
    "\n",
    "import functools\n",
    "import pickle\n",
    "import os\n",
    "from tqdm import tqdm\n",
    "from sklearn.feature_extraction.text import TfidfVectorizer\n",
    "\n",
    "import torch.nn.functional as F\n",
    "import time\n",
    "\n",
    "from torch.nn.utils.rnn import pad_sequence, pack_padded_sequence, pad_packed_sequence\n",
    "import os\n"
   ]
  },
  {
   "cell_type": "markdown",
   "metadata": {},
   "source": [
    "### Fixed variables\n",
    "\n",
    "We set the random seed for all the necessary configurations  to ensure reproducibility"
   ]
  },
  {
   "cell_type": "code",
   "execution_count": 2,
   "metadata": {},
   "outputs": [],
   "source": [
    "SEED = 42\n",
    "\n",
    "np.random.seed(SEED)\n",
    "torch.manual_seed(SEED)\n",
    "torch.cuda.manual_seed(SEED)\n",
    "torch.backends.cudnn.deterministic = True"
   ]
  },
  {
   "cell_type": "markdown",
   "metadata": {},
   "source": [
    "### Tokenizer and embedding model\n",
    "\n",
    "I've selected FastText embeddings with the facebook common crawl model for this project for the following reasons:\n",
    "\n",
    "* **Subword modeling** - handles unknown words & typos\n",
    "* **Morphologically aware** - recognizes word relationships \n",
    "* **Massive training corpus** - 600B tokens from Common Crawl\n",
    "* **Rich embeddings** - 300 dimensions, 2M word vectors\n",
    "* **Proven performance** - excels in commonsense reasoning tasks\n",
    "* **Well Documented** - is known in the NLP community and is very well documented"
   ]
  },
  {
   "cell_type": "markdown",
   "metadata": {},
   "source": [
    "Download tokenizer files"
   ]
  },
  {
   "cell_type": "code",
   "execution_count": 3,
   "metadata": {},
   "outputs": [
    {
     "name": "stderr",
     "output_type": "stream",
     "text": [
      "[nltk_data] Downloading package punkt_tab to /home/nevin/nltk_data...\n",
      "[nltk_data]   Package punkt_tab is already up-to-date!\n",
      "[nltk_data] Downloading package averaged_perceptron_tagger to\n",
      "[nltk_data]     /home/nevin/nltk_data...\n",
      "[nltk_data]   Package averaged_perceptron_tagger is already up-to-\n",
      "[nltk_data]       date!\n"
     ]
    },
    {
     "data": {
      "text/plain": [
       "True"
      ]
     },
     "execution_count": 3,
     "metadata": {},
     "output_type": "execute_result"
    }
   ],
   "source": [
    "nltk.download('punkt_tab')\n",
    "nltk.download('averaged_perceptron_tagger')"
   ]
  },
  {
   "cell_type": "markdown",
   "metadata": {},
   "source": [
    "Download the FastText model from Hugging Face (Facebook's common crawl model)"
   ]
  },
  {
   "cell_type": "code",
   "execution_count": 4,
   "metadata": {},
   "outputs": [],
   "source": [
    "model_path = hf_hub_download(repo_id=\"facebook/fasttext-en-vectors\", filename=\"model.bin\")"
   ]
  },
  {
   "cell_type": "markdown",
   "metadata": {},
   "source": [
    "Load the model"
   ]
  },
  {
   "cell_type": "code",
   "execution_count": 5,
   "metadata": {},
   "outputs": [],
   "source": [
    "ft_model = gensim.models.fasttext.load_facebook_model(model_path)\n",
    "wv = ft_model.wv"
   ]
  },
  {
   "cell_type": "markdown",
   "metadata": {},
   "source": [
    "### Data Splits\n",
    "\n",
    "The data is available on Hugging Face: [Data](https://huggingface.co/datasets/tau/commonsense_qa).\n",
    "Only the train and validation splits have an answer key, because of that we will use our own dataset splits.\n",
    "We use all of the datasamples as the train set except for the last 1000 which we set as the validation set. The original validation set is set as the test set."
   ]
  },
  {
   "cell_type": "code",
   "execution_count": 6,
   "metadata": {},
   "outputs": [
    {
     "name": "stdout",
     "output_type": "stream",
     "text": [
      "8741 1000 1221\n"
     ]
    }
   ],
   "source": [
    "train = load_dataset(\"tau/commonsense_qa\", split=\"train[:-1000]\")\n",
    "valid = load_dataset(\"tau/commonsense_qa\", split=\"train[-1000:]\")\n",
    "test = load_dataset(\"tau/commonsense_qa\", split=\"validation\")\n",
    "\n",
    "print(len(train), len(valid), len(test))"
   ]
  },
  {
   "cell_type": "markdown",
   "metadata": {},
   "source": [
    "## Exploring the dataset\n",
    "\n",
    "To understand the CommonsenseQA dataset better, I'll analyze its structure and compute basic statistics. I'm converting the dataset splits to Pandas DataFrames for easier manipulation and exploration.\n",
    "\n",
    "Key aspects I want to analyze:\n",
    "- Question and answer distribution\n",
    "- Question lengths and complexity \n",
    "- Answer choice patterns\n",
    "- Question types and formats\n",
    "\n",
    "Understanding these characteristics will help me with model design decisions, preprocessing strategies, and potential challenges in the task."
   ]
  },
  {
   "cell_type": "code",
   "execution_count": 7,
   "metadata": {},
   "outputs": [],
   "source": [
    "train_df = pd.DataFrame(train)\n",
    "valid_df = pd.DataFrame(valid)\n",
    "test_df = pd.DataFrame(test)\n",
    "\n",
    "datasets = {\n",
    "    \"Training\": train_df,\n",
    "    \"Validation\": valid_df,\n",
    "    \"Test\": test_df\n",
    "}"
   ]
  },
  {
   "cell_type": "markdown",
   "metadata": {},
   "source": [
    "We check basic statistics such as average question and choice lenght for each DataFrame"
   ]
  },
  {
   "cell_type": "code",
   "execution_count": 8,
   "metadata": {},
   "outputs": [
    {
     "name": "stdout",
     "output_type": "stream",
     "text": [
      "=== Training Set Statistics ===\n",
      "Number of examples: 8741\n",
      "Example 'choices' structure: {'label': ['A', 'B', 'C', 'D', 'E'], 'text': ['ignore', 'enforce', 'authoritarian', 'yell at', 'avoid']}\n",
      "Average question length: 14.90 tokens\n",
      "Average answer choice length: 0.00 tokens\n",
      "Min/Max question length: 4/67 tokens\n",
      "=== Validation Set Statistics ===\n",
      "Number of examples: 1000\n",
      "Example 'choices' structure: {'label': ['A', 'B', 'C', 'D', 'E'], 'text': ['eat cake', 'getting drunk', 'having sex', 'cleaning rooms', 'drink too much']}\n",
      "Average question length: 15.03 tokens\n",
      "Average answer choice length: 0.00 tokens\n",
      "Min/Max question length: 5/48 tokens\n",
      "=== Test Set Statistics ===\n",
      "Number of examples: 1221\n",
      "Example 'choices' structure: {'label': ['A', 'B', 'C', 'D', 'E'], 'text': ['bank', 'library', 'department store', 'mall', 'new york']}\n",
      "Average question length: 14.73 tokens\n",
      "Average answer choice length: 0.00 tokens\n",
      "Min/Max question length: 4/60 tokens\n"
     ]
    }
   ],
   "source": [
    "def analyze_dataset(df, name):\n",
    "    \"\"\"Analyze basic statistics of a dataset split without modifying the dataframe\"\"\"\n",
    "    print(f\"=== {name} Set Statistics ===\")\n",
    "    print(f\"Number of examples: {len(df)}\")\n",
    "\n",
    "    question_lengths = [len(word_tokenize(q)) for q in df['question']]\n",
    "    \n",
    "    print(f\"Example 'choices' structure: {df['choices'].iloc[0]}\")\n",
    "    \n",
    "    choice_lengths = []\n",
    "    for choices_row in df['choices']:\n",
    "        if isinstance(choices_row, list):\n",
    "            try:\n",
    "                row_lengths = [len(word_tokenize(choice['text'])) for choice in choices_row]\n",
    "            except TypeError:\n",
    "                row_lengths = [len(word_tokenize(choice)) for choice in choices_row]\n",
    "        elif isinstance(choices_row, str):\n",
    "            row_lengths = [len(word_tokenize(choices_row))]\n",
    "        else:\n",
    "            row_lengths = [0]\n",
    "        \n",
    "        choice_lengths.append(row_lengths)\n",
    "    \n",
    "    avg_choice_lengths = [np.mean(lengths) if lengths else 0 for lengths in choice_lengths]\n",
    "    \n",
    "    print(f\"Average question length: {np.mean(question_lengths):.2f} tokens\")\n",
    "    print(f\"Average answer choice length: {np.mean(avg_choice_lengths):.2f} tokens\")\n",
    "    print(f\"Min/Max question length: {min(question_lengths)}/{max(question_lengths)} tokens\")\n",
    "    \n",
    "    if 'answerKey' in df.columns:\n",
    "        correct_positions = []\n",
    "        for _, row in df.iterrows():\n",
    "            try:\n",
    "                correct_idx = next((i for i, choice in enumerate(row['choices']) \n",
    "                                if choice['label'] == row['answerKey']), -1)\n",
    "            except (TypeError, KeyError):\n",
    "                correct_idx = -1\n",
    "            correct_positions.append(correct_idx)\n",
    "        \n",
    "        valid_positions = [p for p in correct_positions if p >= 0]\n",
    "        if valid_positions:\n",
    "            position_counts = np.bincount(valid_positions)\n",
    "            print(f\"Distribution of correct answers: {position_counts}\")\n",
    "    \n",
    "    return df\n",
    "\n",
    "train_df = analyze_dataset(train_df, \"Training\")\n",
    "valid_df = analyze_dataset(valid_df, \"Validation\")\n",
    "test_df = analyze_dataset(test_df, \"Test\")"
   ]
  },
  {
   "cell_type": "markdown",
   "metadata": {},
   "source": [
    "## Question Length Analysis\n",
    "\n",
    "To better understand the input sequences for my models, I'm analyzing the distribution of question lengths across different dataset splits. This analysis will help me:\n",
    "\n",
    "1. **Set appropriate sequence length limits**: Determine if truncation is needed and what maximum length to use\n",
    "2. **Assess computational requirements**: Longer sequences require more memory and computation time\n",
    "3. **Detect potential distribution shifts**: Check if validation and test sets have similar length distributions to the training set\n",
    "4. **Identify potential outliers**: Extremely long or short questions might need special handling\n",
    "\n",
    "From this visualization, I can see that most questions are between 8-20 tokens long, with very few exceeding 30 tokens. I can also see that the maximum sequence length is 50 tokens which should be sufficient for most examples without losing to much information."
   ]
  },
  {
   "cell_type": "code",
   "execution_count": 9,
   "metadata": {},
   "outputs": [
    {
     "data": {
      "image/png": "[encoded data removed]",
      "text/plain": [
       "<Figure size 1200x600 with 1 Axes>"
      ]
     },
     "metadata": {},
     "output_type": "display_data"
    }
   ],
   "source": [
    "train_df['question_length'] = train_df['question'].apply(lambda x: len(word_tokenize(x)))\n",
    "valid_df['question_length'] = valid_df['question'].apply(lambda x: len(word_tokenize(x)))\n",
    "test_df['question_length'] = test_df['question'].apply(lambda x: len(word_tokenize(x)))\n",
    "\n",
    "plt.figure(figsize=(12, 6))\n",
    "\n",
    "sns.histplot(data=train_df, x='question_length', kde=True, label='Train', alpha=0.6)\n",
    "sns.histplot(data=valid_df, x='question_length', kde=True, label='Validation', alpha=0.6)\n",
    "sns.histplot(data=test_df, x='question_length', kde=True, label='Test', alpha=0.6)\n",
    "\n",
    "plt.title('Distribution of Question Lengths')\n",
    "plt.xlabel('Number of tokens in question')\n",
    "plt.ylabel('Count')\n",
    "plt.legend()\n",
    "plt.savefig('viz/question_length_distribution.png')\n",
    "plt.show()\n",
    "plt.close()"
   ]
  },
  {
   "cell_type": "markdown",
   "metadata": {},
   "source": [
    "## Answer Distribution Analysis\n",
    "\n",
    "I'm analyzing the distribution of correct answers (labels A-E) across dataset splits to:\n",
    "\n",
    "1. **Check for label balance**: Imbalanced datasets can bias models toward over-represented classes\n",
    "2. **Ensure consistent distributions**: Training, validation, and test sets should have similar distributions\n",
    "\n",
    "The visualization shows that answers are relatively well-balanced across all five options, with slight variations between dataset splits. This is positive for model training as it reduces the risk of the model learning to predict more frequent labels rather than understanding the questions."
   ]
  },
  {
   "cell_type": "code",
   "execution_count": 10,
   "metadata": {},
   "outputs": [
    {
     "data": {
      "image/png": "[encoded data removed]",
      "text/plain": [
       "<Figure size 1800x600 with 3 Axes>"
      ]
     },
     "metadata": {},
     "output_type": "display_data"
    }
   ],
   "source": [
    "plt.figure(figsize=(18, 6))\n",
    "\n",
    "for i, (split, df) in enumerate(datasets.items(), 1):\n",
    "    answer_counts = Counter(df['answerKey'])\n",
    "    \n",
    "    plt.subplot(1, 3, i)\n",
    "    plt.bar(answer_counts.keys(), answer_counts.values())\n",
    "    plt.xlabel(\"Answer Labels\")\n",
    "    plt.ylabel(\"Absolute Frequency\")\n",
    "    plt.title(f\"{split} Answer Key Distribution\")\n",
    "    \n",
    "    for label, count in answer_counts.items():\n",
    "        plt.text(label, count + 5, str(count), ha='center')\n",
    "\n",
    "plt.savefig('viz/answer_key_distribution.png')\n",
    "plt.show()"
   ]
  },
  {
   "cell_type": "markdown",
   "metadata": {},
   "source": [
    "## Question Type Analysis\n",
    "\n",
    "Understanding the types of questions in the dataset provides insight into the reasoning patterns required. I'm categorizing questions based on their first word (what, which, who, etc.) to:\n",
    "\n",
    "1. **Identify reasoning patterns**: Different question types require different reasoning approaches\n",
    "2. **Detect potential biases**: If certain question types are more prevalent, models might overfit to those patterns\n",
    "3. **Guide model design**: Some architectures might be better suited for particular question types\n",
    "\n",
    "I see that \"what\" questions dominate (~45%), followed by \"where\" questions (~25%). This suggests models need to be particularly good at identifying properties and characteristics of concepts, which is the main focus of \"what\" questions.\n",
    "\n",
    "Other question types (who, how, why, when, which) appear less frequently but may require more complex reasoning. I'll keep this in mind when analyzing model errors, as performance might vary across question types."
   ]
  },
  {
   "cell_type": "code",
   "execution_count": 11,
   "metadata": {},
   "outputs": [
    {
     "data": {
      "image/png": "[encoded data removed]",
      "text/plain": [
       "<Figure size 1500x500 with 3 Axes>"
      ]
     },
     "metadata": {},
     "output_type": "display_data"
    }
   ],
   "source": [
    "def get_question_type(question):\n",
    "    \"\"\"Extract the question type based on first word or common question words\"\"\"\n",
    "    question = question.lower().strip()\n",
    "    question_words = ['what', 'which', 'who', 'how', 'why', 'when', 'where']\n",
    "    \n",
    "    for word in question_words:\n",
    "        if question.startswith(word) or f\" {word} \" in question:\n",
    "            return word\n",
    "    \n",
    "    return 'other'\n",
    "\n",
    "train_df['question_type'] = train_df['question'].apply(get_question_type)\n",
    "valid_df['question_type'] = valid_df['question'].apply(get_question_type)\n",
    "test_df['question_type'] = test_df['question'].apply(get_question_type)\n",
    "\n",
    "plt.figure(figsize=(15, 5))\n",
    "\n",
    "for i, (split, df) in enumerate(datasets.items(), 1):\n",
    "    question_type_counts = Counter(df['question_type'])\n",
    "    sorted_types = sorted(question_type_counts.keys())\n",
    "    \n",
    "    plt.subplot(1, 3, i)\n",
    "    plt.bar(sorted_types, [question_type_counts[t] for t in sorted_types])\n",
    "    plt.title(f\"{split} Question Type Distribution\")\n",
    "    plt.xlabel(\"Question Type\")\n",
    "    plt.ylabel(\"Frequency\")\n",
    "    plt.xticks(rotation=45)\n",
    "\n",
    "plt.tight_layout()\n",
    "plt.show()"
   ]
  },
  {
   "cell_type": "markdown",
   "metadata": {},
   "source": [
    "To see the same Graph of Question types with a better overview, I convert it to percentages and plot it with an according label. \n",
    "Now we can see that our guess from before was very accurate:\n",
    "- 43.3% are \"what\" questions\n",
    "- 26% are \"where\" questions"
   ]
  },
  {
   "cell_type": "code",
   "execution_count": 12,
   "metadata": {},
   "outputs": [
    {
     "data": {
      "image/png": "[encoded data removed]",
      "text/plain": [
       "<Figure size 1800x600 with 3 Axes>"
      ]
     },
     "metadata": {},
     "output_type": "display_data"
    }
   ],
   "source": [
    "plt.figure(figsize=(18, 6))\n",
    "\n",
    "train_type_counts = Counter(train_df['question_type'])\n",
    "valid_type_counts = Counter(valid_df['question_type'])\n",
    "test_type_counts = Counter(test_df['question_type'])\n",
    "\n",
    "train_type_percent = {k: v/len(train_df)*100 for k, v in train_type_counts.items()}\n",
    "valid_type_percent = {k: v/len(valid_df)*100 for k, v in valid_type_counts.items()}\n",
    "test_type_percent = {k: v/len(test_df)*100 for k, v in test_type_counts.items()}\n",
    "\n",
    "datasets = {\n",
    "    \"Training\": train_type_percent,\n",
    "    \"Validation\": valid_type_percent,\n",
    "    \"Test\": test_type_percent\n",
    "}\n",
    "\n",
    "\n",
    "for i, (split, percent_dict) in enumerate(datasets.items(), 1):\n",
    "\n",
    "    sorted_types = sorted(percent_dict.keys())\n",
    "    sorted_percents = [percent_dict[t] for t in sorted_types]\n",
    "    \n",
    "    ax = plt.subplot(1, 3, i)\n",
    "    bars = plt.bar(sorted_types, sorted_percents)\n",
    "    plt.xlabel(\"Question Type\")\n",
    "    plt.ylabel(\"Percentage (%)\")\n",
    "    plt.title(f\"{split} Question Type Distribution (%)\")\n",
    "    \n",
    "    for j, (q_type, percent) in enumerate(zip(sorted_types, sorted_percents)):\n",
    "        plt.text(j, percent + 0.5, f\"{percent:.1f}%\", ha='center')\n",
    "    \n",
    "\n",
    "    plt.grid(axis='y', linestyle='--', alpha=0.3)\n",
    "    plt.xticks(rotation=45)\n",
    "    \n",
    "    plt.ylim(0, max(max(train_type_percent.values()), \n",
    "                   max(valid_type_percent.values()),\n",
    "                   max(test_type_percent.values())) + 5)\n",
    "\n",
    "plt.tight_layout()\n",
    "plt.savefig('viz/question_type_percentage_distribution.png', dpi=300)\n",
    "plt.show()"
   ]
  },
  {
   "cell_type": "markdown",
   "metadata": {},
   "source": [
    "## POS Tag Distribution Analysis\n",
    "\n",
    "I did a POS Tag analysis to understand the linguistic structure of the training questions by identifying the most frequent Part-of-Speech (POS) tags."
   ]
  },
  {
   "cell_type": "code",
   "execution_count": 13,
   "metadata": {},
   "outputs": [
    {
     "data": {
      "image/png": "[encoded data removed]",
      "text/plain": [
       "<Figure size 1200x600 with 1 Axes>"
      ]
     },
     "metadata": {},
     "output_type": "display_data"
    }
   ],
   "source": [
    "def analyze_pos_tags(texts, n=10):\n",
    "    \"\"\"Analyze the most common POS tags in a list of texts\"\"\"\n",
    "    all_pos = []\n",
    "    for text in texts:\n",
    "        tokens = word_tokenize(text)\n",
    "        tags = pos_tag(tokens)\n",
    "        all_pos.extend([tag for _, tag in tags])\n",
    "    \n",
    "    return Counter(all_pos).most_common(n)\n",
    "\n",
    "train_pos = analyze_pos_tags(train_df['question'].tolist())\n",
    "\n",
    "plt.figure(figsize=(12, 6))\n",
    "pos_df = pd.DataFrame(train_pos, columns=['POS Tag', 'Count'])\n",
    "sns.barplot(x='POS Tag', y='Count', data=pos_df)\n",
    "plt.title('Most Common POS Tags in Training Questions')\n",
    "plt.xticks(rotation=45)\n",
    "plt.tight_layout()\n",
    "plt.savefig('viz/pos_tag_distribution.png')\n",
    "plt.show()\n",
    "plt.close()"
   ]
  },
  {
   "cell_type": "markdown",
   "metadata": {},
   "source": [
    "## Vocabulary Analysis and Overlap\n",
    "\n",
    "Analyzing vocabulary overlap between train and test sets is crucial for understanding:\n",
    "\n",
    "1. **Out-of-vocabulary challenges**: Words appearing only in the test set might cause difficulties\n",
    "2. **Model generalization requirements**: Higher vocabulary overlap suggests easier generalization\n",
    "3. **Embedding coverage needs**: The percentage of vocabulary covered by pre-trained embeddings\n",
    "\n",
    "I'm creating Venn diagrams to visualize this overlap and calculating specific statistics.\n",
    "\n",
    "Results show approximately 60-70% vocabulary overlap between train and test sets, which is reasonable but indicates potential challenges with unseen words. This further justifies my choice of FastText embeddings, which can generate representations for unseen words based on character n-grams."
   ]
  },
  {
   "cell_type": "code",
   "execution_count": 14,
   "metadata": {},
   "outputs": [
    {
     "data": {
      "image/png": "[encoded data removed]",
      "text/plain": [
       "<Figure size 800x600 with 1 Axes>"
      ]
     },
     "metadata": {},
     "output_type": "display_data"
    },
    {
     "name": "stdout",
     "output_type": "stream",
     "text": [
      "Train vocabulary size: 7768\n",
      "Test vocabulary size: 2791\n",
      "Vocabulary overlap: 2313 words (29.78% of train vocabulary)\n"
     ]
    }
   ],
   "source": [
    "def get_vocabulary(texts):\n",
    "    \"\"\"Extract unique vocabulary from a list of texts\"\"\"\n",
    "    vocab = set()\n",
    "    for text in texts:\n",
    "        tokens = word_tokenize(text.lower())\n",
    "        vocab.update(tokens)\n",
    "    return vocab\n",
    "\n",
    "train_vocab = get_vocabulary(train_df['question'].tolist())\n",
    "test_vocab = get_vocabulary(test_df['question'].tolist())\n",
    "\n",
    "overlap = len(train_vocab.intersection(test_vocab))\n",
    "train_only = len(train_vocab - test_vocab)\n",
    "test_only = len(test_vocab - train_vocab)\n",
    "\n",
    "plt.figure(figsize=(8, 6))\n",
    "venn2(subsets=(train_only, test_only, overlap), \n",
    "      set_labels=('Train Vocabulary', 'Test Vocabulary'))\n",
    "plt.title('Vocabulary Overlap Between Train and Test Sets')\n",
    "plt.show()\n",
    "\n",
    "print(f\"Train vocabulary size: {len(train_vocab)}\")\n",
    "print(f\"Test vocabulary size: {len(test_vocab)}\")\n",
    "print(f\"Vocabulary overlap: {overlap} words ({overlap/len(train_vocab)*100:.2f}% of train vocabulary)\")"
   ]
  },
  {
   "cell_type": "markdown",
   "metadata": {},
   "source": [
    "# Hyperparameter Search Spaces\n",
    "\n",
    "The sweep configurations explore a wide range of hyperparameters for both models:\n",
    "\n",
    "## Embedding Model Parameters\n",
    "- **Learning Rate Parameters**: Initial and maximum learning rates\n",
    "- **Regularization**: Weight decay and dropout rate values\n",
    "- **Training Dynamics**: Batch sizes, gradient clipping strength\n",
    "- **Architecture Parameters**: Hidden dimension sizes (from 128 to 1536)\n",
    "- **Scheduler Options**: One-cycle LR and cosine annealing with warmup\n",
    "\n",
    "## RNN Model Parameters\n",
    "- Similar learning rate and regularization parameters\n",
    "- **RNN-specific Parameters**: RNN hidden dimension, classifier hidden dimension\n",
    "- **Architecture Choices**: Bidirectional vs. unidirectional LSTM\n",
    "- **Smaller Batch Sizes**: Optimized for sequential processing (32-256)\n",
    "\n",
    "I choose these parameter ranges to explore the full potential of each architecture while considering their unique characteristics.\n",
    "\n",
    "### Hyperparameter Optimization Strategy\n",
    "\n",
    "- I originally wanted to use a hyperparameter sweep (like `wandb sweep`) to test different combinations automatically.\n",
    "- However, I ran into some connection issues that I couldn’t fix in time, so the sweep setup didn’t work.\n",
    "- As a workaround, I wrote a **separate script** where I manually loop through different hyperparameter values to see what works best.\n",
    "- I didn’t include this directly in the main training script because it would have made it too long and messy.\n",
    "- Keeping it in a separate file made things more organized and easier to run different tests without breaking the main flow."
   ]
  },
  {
   "cell_type": "markdown",
   "metadata": {},
   "source": [
    "# Preprocessing"
   ]
  },
  {
   "cell_type": "markdown",
   "metadata": {},
   "source": [
    "As per the project requirements we need correct and justified decisions on: \n",
    "- Tokenization \n",
    "- Lowercasing, stemming, lemmatizing, stopword/punctuation removal \n",
    "- Removal of unknown/other words \n",
    "- Format cleaning (e.g. html-extracted text) \n",
    "- Truncation \n",
    "- Feature selection \n",
    "- Input format: how is data passed to the model? \n",
    "- Label format: what should the model predict? \n",
    "- Batching, padding \n",
    "- Vocabulary, embedding\n",
    "\n",
    "Based on my dataset analysis and the requirements of the task, I've made the following preprocessing decisions:\n",
    "\n",
    "1. **Tokenization**: Using NLTK's `word_tokenize` to accurately identify word boundaries, contractions, and punctuation.\n",
    "2. **Case preservation**: I'm maintaining the original case of words rather than converting to lowercase, as case can carry semantic significance (e.g., proper nouns, acronyms).\n",
    "3. **Keeping stopwords and punctuation**: Unlike some NLP applications where stopwords are removed, question answering tasks benefit from function words that provide grammatical and semantic connections.\n",
    "4. **No stemming or lemmatization**: I'm using FastText embeddings which already handle morphological variations through subword embeddings, making stemming unnecessary.\n",
    "5. **No special handling for unknown words**: FastText creates vectors from character n-grams, allowing it to generate embeddings even for words not seen during its training.\n",
    "\n",
    "These decisions aim to preserve as much information as possible from the original text while preparing it for neural network processing. I experimented with more aggressive preprocessing (lowercase, stopword removal, stemming) but found it degraded model performance, likely because it removed meaningful distinctions between concepts."
   ]
  },
  {
   "cell_type": "markdown",
   "metadata": {},
   "source": [
    "I'm implementing a minimal preprocessing function that focuses on tokenization while preserving most of the original text features. The function:\n",
    "\n",
    "1. Performs error checking to handle edge cases (non-string inputs, empty texts)\n",
    "2. Uses NLTK's word_tokenize for effective tokenization\n",
    "3. Returns the raw tokens without additional transformations\n",
    "\n",
    "This approach maintains maximum information in the text while converting it to a format suitable for our models. "
   ]
  },
  {
   "cell_type": "code",
   "execution_count": 15,
   "metadata": {},
   "outputs": [],
   "source": [
    "def preprocess_text(text):\n",
    "    if not isinstance(text, str):\n",
    "        raise TypeError(\"Input must be a string, got {0} instead\".format(type(text).__name__))\n",
    "    \n",
    "    if not text or text.isspace():\n",
    "        raise ValueError(\"Input text cannot be empty or whitespace only\")\n",
    "\n",
    "    try:\n",
    "        nltk.data.find('tokenizers/punkt')\n",
    "    except LookupError:\n",
    "        try:\n",
    "            nltk.download('punkt')\n",
    "        except Exception as e:\n",
    "            raise RuntimeError(f\"Failed to download NLTK punkt tokenizer: {str(e)}\")\n",
    "\n",
    "    try:\n",
    "        tokens = word_tokenize(text)\n",
    "        \n",
    "        if len(tokens) == 0 and len(text.strip()) > 0:\n",
    "            raise RuntimeError(\"Tokenization produced no tokens for non-empty input\")\n",
    "            \n",
    "        return tokens\n",
    "        \n",
    "    except Exception as e:\n",
    "        raise RuntimeError(f\"Tokenization failed: {str(e)}\")"
   ]
  },
  {
   "cell_type": "markdown",
   "metadata": {},
   "source": [
    "To get a better understanding we check how the loaded embeddings look and how big the vocabulary is."
   ]
  },
  {
   "cell_type": "code",
   "execution_count": 16,
   "metadata": {},
   "outputs": [
    {
     "name": "stdout",
     "output_type": "stream",
     "text": [
      "Word embeddings vector size: 300\n",
      "Word embeddings vocab size: 2000000\n",
      "\n",
      "First 10 words in vocabulary:\n",
      "[',', 'the', '.', 'and', 'to', 'of', 'a', '</s>', 'in', 'is']\n",
      "\n",
      "Last 5 words in vocabulary:\n",
      "['ldapmodify', 'sponde', 'hvm', 'GorceyBearTerritory.netSaturday', 'Zwicke']\n"
     ]
    }
   ],
   "source": [
    "print(f\"Word embeddings vector size: {wv.vector_size}\")\n",
    "print(f\"Word embeddings vocab size: {len(wv.index_to_key)}\")\n",
    "\n",
    "print(\"\\nFirst 10 words in vocabulary:\")\n",
    "print(wv.index_to_key[:10])\n",
    "\n",
    "print(\"\\nLast 5 words in vocabulary:\")\n",
    "print(wv.index_to_key[-5:])"
   ]
  },
  {
   "cell_type": "markdown",
   "metadata": {},
   "source": [
    "Further we analyse how the vectors of different words look like"
   ]
  },
  {
   "cell_type": "code",
   "execution_count": 17,
   "metadata": {},
   "outputs": [
    {
     "name": "stdout",
     "output_type": "stream",
     "text": [
      "[-0.05839472  0.04371722  0.06219977  0.18735817 -0.21267682 -0.0794763\n",
      "  0.00980998  0.02369141  0.11108213 -0.04520448  0.02685633  0.02099164\n",
      " -0.07433487  0.04326691  0.04621021 -0.08906526  0.05008215  0.00637632\n",
      " -0.01573752  0.00520328 -0.02282326  0.01329975  0.04670737  0.11761289\n",
      " -0.03470872 -0.0943002  -0.02404566  0.01220346  0.04535092  0.03828794\n",
      " -0.05609755 -0.09194041 -0.06514058  0.12630986 -0.09922465  0.0712056\n",
      "  0.02726297 -0.12253197 -0.0678526  -0.07074117  0.05053676  0.02671238\n",
      "  0.00641346  0.0232771   0.13126893 -0.1168374   0.0079289  -0.25149128\n",
      "  0.06081886  0.01329591 -0.19424686 -0.11781697  0.08017847 -0.04635143\n",
      "  0.05415681 -0.12514375 -0.08841306 -0.19237062 -0.15428355  0.00813668\n",
      "  0.02424758 -0.01489974 -0.09650132 -0.18782179 -0.01056206 -0.0583976\n",
      " -0.01570914 -0.02230186  0.0213385   0.04289232 -0.05483451  0.01114321\n",
      "  0.08568181  0.12629454  0.06828852  0.00583942 -0.05235412  0.02732877\n",
      " -0.13322058 -0.0641413  -0.0133247   0.05696197 -0.07479951  0.01722365\n",
      " -0.08176035 -0.04938206 -0.10644846 -0.03285195 -0.0121126  -0.01239035\n",
      " -0.03651199  0.02328154  0.08078732 -0.05419602  0.01731667  0.11478948\n",
      "  0.04843646  0.03759265 -0.01022367 -0.077741    0.02489422 -0.0257282\n",
      "  0.04276226 -0.21206573 -0.04359698 -0.01043902  0.05160093 -0.08763581\n",
      "  0.00757143  0.06819192 -0.00299421 -0.07638466  0.08671901 -0.07650225\n",
      " -0.09246036 -0.04271806 -0.08610407  0.0403576   0.00270165 -0.00133758\n",
      "  0.02067369  0.00629747 -0.06191941 -0.04728938  0.07857576  0.00626723\n",
      "  0.04393215  0.00424185 -0.01294211  0.0866462   0.00839153 -0.04051308\n",
      " -0.13303679  0.125257   -0.01424648 -0.04244071 -0.20931488  0.078394\n",
      " -0.09865652  0.11410943  0.00155849  0.04220414 -0.04364584  0.02575931\n",
      "  0.03765943  0.02184505 -0.4196422  -0.00616739  0.00396871 -0.06343539\n",
      " -0.11952174  0.04333752  0.10921084 -0.00385763  0.01651935  0.03373389\n",
      "  0.142942   -0.01338296  0.00961067 -0.02664781 -0.08350543 -0.0341381\n",
      " -0.25336638 -0.00649915 -0.01479329  0.02657183 -0.07236683  0.08575544\n",
      "  0.12042248  0.00324189 -0.0471219  -0.05541268  0.04275945 -0.0618511\n",
      "  0.02985391 -0.02176442 -0.05873029 -0.00632439 -0.04842599 -0.15536073\n",
      " -0.03402855  0.21798864 -0.01071099  0.03126634  0.09826801 -0.04075822\n",
      "  0.00930433 -0.09003654 -0.03509144 -0.00402354 -0.01098319 -0.09706853\n",
      " -0.12605165  0.06774943  0.04848202  0.03262448  0.02954543  0.03158851\n",
      "  0.03425068 -0.02219467 -0.11009163  0.06518686 -0.05960275 -0.01947789\n",
      " -0.03723688 -0.00873459 -0.04647228  0.04372308 -0.10007893  0.03718629\n",
      "  0.11986736 -0.02735468 -0.00819531  0.06920372  0.11165749 -0.01832373\n",
      " -0.07779426 -0.04627027  0.02788918 -0.11929928  0.02319074  0.03206676\n",
      "  0.042225    0.17031652 -0.15485775  0.21193093  0.09291686  0.01915555\n",
      "  0.16887383  0.01068137 -0.00286085 -0.0740616   0.25607708  0.1466796\n",
      "  0.01090746  0.01983061  0.0178544  -0.05599144 -0.04452726  0.01374633\n",
      " -0.00244324 -0.12267551 -0.05867084 -0.20445761  0.54927796  0.02518198\n",
      "  0.11311834 -0.08226494 -0.01419761  0.02772545  0.02622903  0.10677075\n",
      "  0.0334355  -0.1012712  -0.00763096  0.02588007 -0.11284745 -0.13733292\n",
      "  0.13690454 -0.05849638  0.06311336  0.32191765  0.00473075  0.03114868\n",
      " -0.14292946  0.03092865 -0.01978137  0.04784525  0.13259533 -0.00838979\n",
      "  0.05355494 -0.07483637 -0.14038245  0.1610674   0.08420029 -0.0016176\n",
      "  0.04419178  0.10963672 -0.23608443 -0.05233292 -0.14292735 -0.04650024\n",
      " -0.3964382  -0.03819409 -0.11232702 -0.00585157  0.06236378 -0.12537906\n",
      "  0.01193753 -0.07810357 -0.0185266  -0.03578495 -0.05186088 -0.10255744\n",
      " -0.03425758  0.03602401  0.11525302 -0.07192115 -0.04399983  0.04084595]\n",
      "[ 7.03424308e-03 -1.09738496e-03 -1.40321190e-02  4.16012667e-02\n",
      " -9.74763464e-03 -2.68655997e-02 -3.01062665e-03  1.57314129e-02\n",
      "  1.55544393e-02 -1.10164974e-02  4.06668708e-02 -1.21267922e-02\n",
      " -1.88235361e-02  4.84025571e-03 -3.78172137e-02 -6.44748658e-02\n",
      "  4.33938131e-02  1.62889231e-02  2.23150142e-02  3.95134874e-02\n",
      "  2.55176565e-03  5.15420921e-03 -7.73015572e-03 -2.87019685e-02\n",
      "  3.63233685e-02  2.56890245e-02 -1.13582499e-02  8.60622525e-03\n",
      "  1.04165273e-02  4.41087559e-02  4.90604015e-03 -3.79764638e-03\n",
      " -2.05511618e-02  1.66840274e-02  2.51192655e-02 -9.00571584e-04\n",
      "  3.22169103e-02  3.55118476e-02 -2.74601486e-02  1.34697100e-02\n",
      " -1.08514922e-02 -2.39663059e-03 -2.54664756e-02  2.15313900e-02\n",
      " -3.27991731e-02  3.86520177e-02 -1.25501743e-02  5.48692979e-03\n",
      "  8.47534649e-03  1.81661900e-02 -1.30840868e-03 -4.02786024e-03\n",
      "  6.48063654e-03 -1.98443104e-02  4.77195438e-03  1.09505542e-02\n",
      "  5.59545867e-03 -1.31429937e-02 -1.65649652e-02 -8.57323641e-04\n",
      " -1.08293202e-02  2.51862332e-02 -1.54944705e-02  4.21977080e-02\n",
      "  1.45250447e-02  9.26128682e-03  1.06581794e-02 -6.66486286e-03\n",
      " -3.20883356e-02 -1.31873130e-05  2.76137367e-02 -1.02078915e-02\n",
      " -1.62117695e-03  7.61571852e-03 -3.75164812e-03  1.39894448e-02\n",
      "  9.19594709e-03  4.20165015e-03 -2.55665556e-02 -4.33006277e-03\n",
      "  7.09963311e-03 -4.62383311e-03 -2.27802321e-02  2.85526598e-03\n",
      "  1.14807468e-02  8.98884330e-03 -1.66697837e-02 -2.03676317e-02\n",
      " -6.61417516e-03  1.47545629e-03  2.30195554e-04 -5.74394222e-03\n",
      " -1.21274749e-02  1.99933560e-03  4.81065288e-02  2.81915907e-03\n",
      "  4.31482568e-02  1.06993457e-02 -8.56780820e-03 -9.96846333e-03\n",
      "  9.94685479e-03 -9.08050803e-04 -1.63595341e-02 -2.74696830e-03\n",
      " -1.84577946e-02  1.72967575e-02  2.88974475e-02  1.82923600e-02\n",
      " -2.15537734e-02 -4.06349031e-03 -3.68699208e-02 -3.77966370e-03\n",
      "  6.52058749e-03 -8.39205645e-03  1.24948725e-04  2.83985119e-02\n",
      " -2.83126198e-02 -3.36432904e-02 -2.06438731e-02 -5.93564124e-04\n",
      " -2.40383074e-02 -5.29864104e-03  2.35977583e-02  4.53632660e-02\n",
      " -2.78780852e-02  4.23667282e-02 -7.26259593e-03 -1.03876572e-02\n",
      "  7.19477655e-04 -2.12356783e-02  1.75468866e-02 -2.23385282e-02\n",
      "  1.80800371e-02 -3.38354590e-03  3.19156125e-02  1.29250837e-02\n",
      " -2.23792866e-02 -4.45658900e-02 -7.17220875e-03  2.40595150e-03\n",
      "  8.06344673e-03 -2.74953563e-02  2.34453473e-02  3.92279588e-03\n",
      " -8.92618764e-03 -2.64332891e-02 -1.96366906e-02  1.94428843e-02\n",
      "  6.20168773e-03 -2.49693228e-04 -2.54201032e-02 -1.34998728e-02\n",
      "  1.86660923e-02 -1.16547709e-02  5.38757257e-03 -2.11557560e-02\n",
      " -7.36562088e-02  2.82806847e-02 -1.28607510e-03 -1.75154500e-03\n",
      "  5.30337507e-04  3.18833976e-03 -2.16835346e-02  3.40847224e-02\n",
      "  1.94020588e-02 -3.25610600e-02  1.81759726e-02 -1.68151408e-02\n",
      "  8.99612159e-03  1.31889526e-02  1.13215549e-02 -9.76260472e-03\n",
      "  3.40560414e-02  1.91725064e-02 -8.23683012e-03 -5.65035152e-04\n",
      "  1.48232083e-03 -4.28344775e-03 -1.49569828e-02 -3.34116854e-02\n",
      "  3.46015161e-03  1.78316738e-02 -6.75624236e-04  3.28205787e-02\n",
      "  2.23501981e-03 -1.93850957e-02 -2.38304632e-03  1.49126295e-02\n",
      "  4.62097628e-03 -1.51129663e-02  2.50395332e-02 -1.71905141e-02\n",
      "  1.17406202e-02  1.20761544e-02  2.24979017e-02  1.02068298e-02\n",
      " -8.70153960e-03  2.84685865e-02  1.04373805e-02  3.91079187e-02\n",
      " -1.62893981e-02  2.69512050e-02 -1.15802325e-02  1.20359221e-02\n",
      " -1.46859186e-02 -5.59697067e-03  1.11612547e-02  2.48753149e-02\n",
      " -2.54909396e-02  4.13941452e-03 -2.47469381e-03 -2.63241846e-02\n",
      " -1.41306305e-02 -5.08882338e-03 -1.27957752e-02 -4.62327478e-03\n",
      " -8.16719886e-03 -2.93521537e-03 -4.06440144e-04  1.50035601e-02\n",
      "  7.10163498e-03 -3.53069999e-03 -2.98397727e-02  3.00022997e-02\n",
      "  1.95965301e-02 -4.92294086e-03 -7.84216635e-03  1.99781707e-03\n",
      "  1.60594907e-04  1.66744757e-02  2.64790189e-02 -3.32360016e-03\n",
      "  1.61785316e-02  5.65442443e-03  3.31717208e-02  9.50180367e-03\n",
      " -3.33925174e-03  1.56865511e-02 -1.31494105e-02  5.37548028e-03\n",
      "  5.20920055e-03 -1.80172548e-02  3.35942358e-02 -1.96993947e-02\n",
      "  4.43213396e-02 -3.01082544e-02 -2.24439063e-04 -8.35745363e-04\n",
      "  9.41725564e-04 -3.84131707e-02  3.07748504e-02 -9.49306972e-03\n",
      "  1.02643454e-02  2.14219000e-02  1.24543672e-03 -1.65516958e-02\n",
      " -1.43507114e-02  1.42289503e-02  8.09154846e-03 -2.71629114e-02\n",
      "  1.37678580e-02 -4.11168160e-03 -5.29765263e-02 -1.88570737e-03\n",
      " -1.95211191e-02 -1.58123039e-02 -4.21199165e-02 -1.73040815e-02\n",
      "  8.35847016e-03  5.81102222e-02 -1.00419018e-02  1.05927475e-02\n",
      " -2.29289811e-02 -4.91704904e-02 -2.54031061e-03  1.62465149e-03\n",
      " -2.99293897e-03 -2.94179507e-02  1.14228120e-02  1.07087456e-02\n",
      " -2.69809226e-03 -1.51207335e-02 -2.20928900e-02  1.26085011e-03\n",
      " -3.78989684e-03 -2.53033210e-02  4.32702713e-03 -4.12921160e-02\n",
      "  3.58557538e-03  3.80818499e-03  2.17265524e-02 -1.01757562e-02\n",
      " -4.64819856e-02 -2.88726091e-02  5.40403835e-03  1.60750318e-02\n",
      "  3.22287418e-02  3.64511125e-02  2.51999367e-02 -2.15459783e-02]\n"
     ]
    }
   ],
   "source": [
    "print(wv[\"are\"])\n",
    "\n",
    "print(wv[\"apdnbajknbäaperoanböajnbäpad\"])"
   ]
  },
  {
   "cell_type": "markdown",
   "metadata": {},
   "source": [
    "## Torch Dataloader and Dataset"
   ]
  },
  {
   "cell_type": "markdown",
   "metadata": {},
   "source": [
    "## Embedding-Based Dataset Implementation\n",
    "\n",
    "For the embedding-based approach, I created a custom PyTorch `Dataset` that does the following:\n",
    "\n",
    "1. **Converts text to embeddings**: It turns questions and answer choices into fixed-size vectors using FastText.\n",
    "2. **Supports TF-IDF weighting**: I added the option to use TF-IDF to weight the word embeddings, but in the end I noticed that simple averaging worked just as well — it made no real difference in model performance.\n",
    "3. **Efficient caching**: Embeddings are cached both in memory and optionally on disk, which saves a lot of time when running multiple experiments or training runs.\n",
    "4. **Handles edge cases**: It deals properly with unknown words, empty inputs, and other potential issues.\n",
    "5. **Returns well-formatted tensors**: The `__getitem__` method returns a tuple with the question embedding, the choice embeddings, and the answer index as PyTorch tensors.\n",
    "6. **Optional normalization**: I also wrapped the dataset with a normalization layer that performs **L2 normalization** on both question and choice embeddings. This helps to reduce the impact of different embedding magnitudes.\n",
    "\n",
    "The caching system really improved speed during development, and having normalization as a separate wrapper kept things modular and clean.\n"
   ]
  },
  {
   "cell_type": "code",
   "execution_count": 18,
   "metadata": {},
   "outputs": [],
   "source": [
    "class CommonsenseQAEmbeddingDataset(Dataset):\n",
    "    \"\"\"Dataset for CommonsenseQA with TF-IDF weighted embeddings and caching capabilities\"\"\"\n",
    "    def __init__(self, hf_dataset, word_vectors, embedding_dim=300, cache_path=None, use_tfidf=True):\n",
    "        self.data = hf_dataset\n",
    "        self.wv = word_vectors\n",
    "        \n",
    "        if embedding_dim is not None:\n",
    "            self.embedding_dim = embedding_dim\n",
    "        else:\n",
    "            if isinstance(word_vectors, dict):\n",
    "                sample_word = next(iter(word_vectors))\n",
    "                self.embedding_dim = len(word_vectors[sample_word])\n",
    "            elif hasattr(word_vectors, 'shape') and len(word_vectors.shape) == 2:\n",
    "                self.embedding_dim = word_vectors.shape[1]\n",
    "            else:\n",
    "                raise ValueError(\"Could not determine embedding dimension. Please provide embedding_dim parameter.\")\n",
    "        \n",
    "        self.cache = {}\n",
    "        self.use_tfidf = use_tfidf\n",
    "        self.idf_scores = {}\n",
    "        \n",
    "        if cache_path and os.path.exists(cache_path):\n",
    "            try:\n",
    "                with open(cache_path, 'rb') as f:\n",
    "                    self.cache = pickle.load(f)\n",
    "                print(f\"Loaded {len(self.cache)} cached embeddings\")\n",
    "            except Exception as e:\n",
    "                print(f\"Failed to load cache: {e}\")\n",
    "                self.cache = {}\n",
    "        \n",
    "        self.cache_path = cache_path\n",
    "\n",
    "        if use_tfidf:\n",
    "            self._calculate_idf_scores()\n",
    "    \n",
    "    def __len__(self):\n",
    "        return len(self.data)\n",
    "    \n",
    "    def _calculate_idf_scores(self):\n",
    "        \"\"\"Calculate IDF scores for all words in the dataset\"\"\"\n",
    "        print(\"Calculating IDF scores...\")\n",
    "        \n",
    "        all_texts = []\n",
    "        for example in tqdm(self.data, desc=\"Collecting texts\"):\n",
    "            all_texts.append(example[\"question\"])\n",
    "            all_texts.extend(example[\"choices\"][\"text\"])\n",
    "\n",
    "        doc_term_counts = defaultdict(Counter)\n",
    "        doc_count = len(all_texts)\n",
    "        \n",
    "        for doc_id, text in enumerate(tqdm(all_texts, desc=\"Counting terms\")):\n",
    "            tokens = preprocess_text(text)\n",
    "            for token in set(tokens):\n",
    "                if token in self.wv:\n",
    "                    doc_term_counts[token][doc_id] += 1\n",
    "\n",
    "        self.idf_scores = {\n",
    "            term: np.log(doc_count / (len(doc_ids) + 1))\n",
    "            for term, doc_ids in doc_term_counts.items()\n",
    "        }\n",
    "        \n",
    "        print(f\"Calculated IDF scores for {len(self.idf_scores)} terms\")\n",
    "    \n",
    "    @functools.lru_cache(maxsize=1024)\n",
    "    def get_embedding(self, text):\n",
    "        \"\"\"Get embedding for text with TF-IDF weighting and caching for efficiency\"\"\"\n",
    "        if text in self.cache:\n",
    "            return self.cache[text]\n",
    "\n",
    "        try:\n",
    "            tokens = preprocess_text(text)\n",
    "            valid_tokens = [word for word in tokens if word in self.wv]\n",
    "            \n",
    "            if not valid_tokens:\n",
    "                embedding = np.zeros(self.embedding_dim)\n",
    "            else:\n",
    "                if self.use_tfidf:\n",
    "                    term_counts = Counter(valid_tokens)\n",
    "                    weights = np.array([\n",
    "                        term_counts[term] * self.idf_scores.get(term, 0.0) \n",
    "                        for term in valid_tokens\n",
    "                    ])\n",
    "                    \n",
    "                    sum_weights = weights.sum()\n",
    "                    if sum_weights > 0:\n",
    "                        weights = weights / sum_weights\n",
    "\n",
    "                    word_vectors = np.array([self.wv[word] for word in valid_tokens])\n",
    "                    embedding = np.sum(word_vectors * weights[:, np.newaxis], axis=0)\n",
    "                else:\n",
    "                    word_vectors = [self.wv[word] for word in valid_tokens]\n",
    "                    embedding = np.mean(word_vectors, axis=0)\n",
    "\n",
    "            self.cache[text] = embedding\n",
    "            return embedding\n",
    "            \n",
    "        except Exception as e:\n",
    "            print(f\"Error embedding text '{text[:30]}...': {e}\")\n",
    "            return np.zeros(self.embedding_dim)\n",
    "\n",
    "    def __getitem__(self, idx):\n",
    "        example = self.data[idx]\n",
    "\n",
    "        question_embedding = self.get_embedding(example[\"question\"])\n",
    "        choice_embeddings = [self.get_embedding(choice) for choice in example[\"choices\"][\"text\"]]\n",
    "        answer_index = ord(example[\"answerKey\"]) - ord(\"A\")\n",
    "\n",
    "        question_tensor = torch.tensor(question_embedding).float()\n",
    "        choices_tensor = torch.tensor(choice_embeddings).float()\n",
    "        answer_tensor = torch.tensor(answer_index).long()\n",
    "        \n",
    "        return question_tensor, choices_tensor, answer_tensor\n",
    "    \n",
    "    def save_cache(self):\n",
    "        \"\"\"Save embedding cache to disk if cache_path is set\"\"\"\n",
    "        if self.cache_path:\n",
    "            with open(self.cache_path, 'wb') as f:\n",
    "                pickle.dump(self.cache, f)\n",
    "            print(f\"Saved {len(self.cache)} embeddings to cache\")"
   ]
  },
  {
   "cell_type": "code",
   "execution_count": 19,
   "metadata": {},
   "outputs": [],
   "source": [
    "class NormalizedEmbeddingDataset(torch.utils.data.Dataset):\n",
    "    def __init__(self, base_dataset):\n",
    "        self.base_dataset = base_dataset\n",
    "    \n",
    "    def __len__(self):\n",
    "        return len(self.base_dataset)\n",
    "    \n",
    "    def __getitem__(self, idx):\n",
    "        question, choices, answer = self.base_dataset[idx]\n",
    "        \n",
    "        question_norm = torch.norm(question, p=2)\n",
    "        if question_norm > 0:\n",
    "            question = question / question_norm\n",
    "\n",
    "        normalized_choices = choices.clone()\n",
    "        for i in range(choices.size(0)):\n",
    "            choice_norm = torch.norm(choices[i], p=2)\n",
    "            if choice_norm > 0:\n",
    "                normalized_choices[i] = choices[i] / choice_norm\n",
    "        \n",
    "        return question, normalized_choices, answer"
   ]
  },
  {
   "cell_type": "markdown",
   "metadata": {},
   "source": [
    "## Creating Data Loaders\n",
    "\n",
    "To feed data into the model efficiently, I set up custom PyTorch `DataLoader`s with a few optimizations and extra tricks:\n",
    "\n",
    "1. **Batch size choice**:\n",
    "   - I’m using a batch size of **512** for training, which turned out to be a good middle ground between speed and memory usage.\n",
    "   - For validation, I go a bit bigger with **1024**, since gradients aren’t being calculated there and memory isn’t as tight.\n",
    "\n",
    "2. **Normalization**:\n",
    "   - Before training, I normalize all embeddings using **L2 normalization**. This helps keep everything on the same scale and can make training a bit more stable.\n",
    "\n",
    "3. **Data augmentation**:\n",
    "   - I added a small **augmentation layer** that randomly adds Gaussian noise to some of the embeddings (with a 20% chance). It’s a tiny change (scale = 0.01), but it helps the model generalize a bit better.\n",
    "\n",
    "4. **Data loading tweaks**:\n",
    "   - **Shuffling** is enabled during training to avoid the model picking up patterns based on data order.\n",
    "   - **Multiple workers** (`num_workers=4`) are used for loading data in parallel, which speeds things up a lot.\n",
    "   - **pin_memory=True** helps with faster data transfer from CPU to GPU.\n",
    "\n",
    "I experimented with different batch sizes — smaller ones (like 32–64) were too slow and didn’t help much with learning, and larger ones (like 1024) just used more memory without improving performance. So this setup feels like a solid balance.\n"
   ]
  },
  {
   "cell_type": "code",
   "execution_count": 20,
   "metadata": {},
   "outputs": [
    {
     "name": "stdout",
     "output_type": "stream",
     "text": [
      "Calculating IDF scores...\n"
     ]
    },
    {
     "name": "stderr",
     "output_type": "stream",
     "text": [
      "Collecting texts:   0%|          | 0/8741 [00:00<?, ?it/s]"
     ]
    },
    {
     "name": "stderr",
     "output_type": "stream",
     "text": [
      "Collecting texts: 100%|██████████| 8741/8741 [00:00<00:00, 37147.26it/s]\n",
      "Counting terms: 100%|██████████| 52446/52446 [00:04<00:00, 12625.89it/s]\n"
     ]
    },
    {
     "name": "stdout",
     "output_type": "stream",
     "text": [
      "Calculated IDF scores for 12015 terms\n",
      "Calculating IDF scores...\n"
     ]
    },
    {
     "name": "stderr",
     "output_type": "stream",
     "text": [
      "Collecting texts: 100%|██████████| 1000/1000 [00:00<00:00, 37006.39it/s]\n",
      "Counting terms: 100%|██████████| 6000/6000 [00:00<00:00, 27918.57it/s]"
     ]
    },
    {
     "name": "stdout",
     "output_type": "stream",
     "text": [
      "Calculated IDF scores for 4346 terms\n"
     ]
    },
    {
     "name": "stderr",
     "output_type": "stream",
     "text": [
      "\n"
     ]
    }
   ],
   "source": [
    "import random\n",
    "\n",
    "train_dataset = CommonsenseQAEmbeddingDataset(\n",
    "    train, \n",
    "    wv,\n",
    "    embedding_dim=300,\n",
    "    cache_path='train_tfidf_embeddings.pkl',\n",
    "    use_tfidf=True\n",
    ")\n",
    "\n",
    "valid_dataset = CommonsenseQAEmbeddingDataset(\n",
    "    valid, \n",
    "    wv,\n",
    "    embedding_dim=300,\n",
    "    cache_path='valid_tfidf_embeddings.pkl',\n",
    "    use_tfidf=True\n",
    ")\n",
    "\n",
    "class AugmentedEmbeddingDataset(torch.utils.data.Dataset):\n",
    "    def __init__(self, base_dataset, noise_scale=0.01):\n",
    "        self.base_dataset = base_dataset\n",
    "        self.noise_scale = noise_scale\n",
    "    \n",
    "    def __len__(self):\n",
    "        return len(self.base_dataset)\n",
    "    \n",
    "    def __getitem__(self, idx):\n",
    "        question, choices, answer = self.base_dataset[idx]\n",
    "        \n",
    "        if random.random() < 0.2:\n",
    "            question = question + torch.randn_like(question) * self.noise_scale\n",
    "            choices = choices + torch.randn_like(choices) * self.noise_scale\n",
    "        \n",
    "        return question, choices, answer\n",
    "\n",
    "normalized_train_dataset = NormalizedEmbeddingDataset(train_dataset)\n",
    "normalized_valid_dataset = NormalizedEmbeddingDataset(valid_dataset)\n",
    "\n",
    "augmented_train_dataset = AugmentedEmbeddingDataset(normalized_train_dataset, noise_scale=0.01)\n",
    "\n",
    "train_loader = DataLoader(\n",
    "    augmented_train_dataset,\n",
    "    batch_size=512,\n",
    "    shuffle=True,\n",
    "    num_workers=4,\n",
    "    pin_memory=True\n",
    ")\n",
    "\n",
    "valid_loader = DataLoader(\n",
    "    normalized_valid_dataset,\n",
    "    batch_size=1024,\n",
    "    shuffle=False,\n",
    "    num_workers=4,\n",
    "    pin_memory=True\n",
    ")"
   ]
  },
  {
   "cell_type": "markdown",
   "metadata": {},
   "source": [
    "## RNN Dataset Implementation\n",
    "\n",
    "For the RNN model, I created a custom dataset class that keeps the full token sequences and builds question-choice pairs for sequence modeling:\n",
    "\n",
    "1. **Sequence-based input**:\n",
    "   - Instead of converting everything to fixed-length embeddings, I keep the full token sequences so the RNN can process word-by-word information.\n",
    "\n",
    "2. **Question + choice pairing**:\n",
    "   - For every question, I pair it with each of the 5 answer choices.\n",
    "   - I add a special `<SEP>` token between the question and the choice so the model knows where the question ends and the choice begins.\n",
    "\n",
    "3. **Token-to-embedding conversion**:\n",
    "   - Each token is mapped to its corresponding FastText vector.\n",
    "   - If a token isn't in the vocabulary, I just assign it a small random vector (same goes for the `<SEP>` token).\n",
    "   - This is done on-the-fly and the output is a sequence of embedding vectors for each pair.\n",
    "\n",
    "4. **Sequence truncation and length tracking**:\n",
    "   - If a sequence gets too long, I truncate it to a max length (50 tokens was my default).\n",
    "   - I also keep track of the original lengths, which is useful later in the RNN for packing padded sequences.\n",
    "\n",
    "5. **Multiple sequences per example**:\n",
    "   - Each dataset example returns 5 sequences (one per answer choice), their lengths, and the correct answer index.\n",
    "\n",
    "This setup is a bit more complex than the embedding-based version, but it allows the model to learn from word order and context. I also tried separating the question and choice as two inputs instead of merging them, but this setup (merged with a separator) gave the best results for this kind of classification task.\n"
   ]
  },
  {
   "cell_type": "code",
   "execution_count": 21,
   "metadata": {},
   "outputs": [],
   "source": [
    "class CommonsenseQARNNDataset(Dataset):\n",
    "    \"\"\"RNN dataset that precomputes all embeddings\"\"\"\n",
    "    def __init__(self, hf_dataset, word_vectors, embedding_dim=300):\n",
    "        self.data = hf_dataset\n",
    "        self.wv = word_vectors\n",
    "        self.embedding_dim = embedding_dim\n",
    "        \n",
    "        # Special tokens (as simple identifier strings)\n",
    "        self.SEP_TOKEN = \"<SEP>\"\n",
    "        \n",
    "    def __len__(self):\n",
    "        return len(self.data)\n",
    "    \n",
    "    def __getitem__(self, idx):\n",
    "        example = self.data[idx]\n",
    "        \n",
    "        question_tokens = preprocess_text(example[\"question\"])\n",
    "        choice_tokens = [preprocess_text(choice) for choice in example[\"choices\"][\"text\"]]\n",
    "\n",
    "        sequences = []\n",
    "        for choice_idx, choice in enumerate(choice_tokens):\n",
    "            sequence = question_tokens + [self.SEP_TOKEN] + choice\n",
    "\n",
    "            embeddings = []\n",
    "            for token in sequence:\n",
    "                if token == self.SEP_TOKEN:\n",
    "                    embeddings.append(torch.randn(self.embedding_dim) * 0.1)\n",
    "                else:\n",
    "                    try:\n",
    "                        embeddings.append(torch.tensor(self.wv[token]))\n",
    "                    except KeyError:\n",
    "                        embeddings.append(torch.randn(self.embedding_dim) * 0.1)\n",
    "\n",
    "            sequence_tensor = torch.stack(embeddings)\n",
    "            sequences.append(sequence_tensor)\n",
    "\n",
    "        answer_index = ord(example[\"answerKey\"]) - ord(\"A\")\n",
    "        answer = torch.tensor(answer_index, dtype=torch.long)\n",
    "        \n",
    "        return sequences, torch.tensor([len(seq) for seq in sequences]), answer"
   ]
  },
  {
   "cell_type": "markdown",
   "metadata": {},
   "source": [
    "## RNN Batch Collation\n",
    "\n",
    "Since the RNN model works with variable-length sequences, I had to write a custom collate function for the DataLoader. The default PyTorch collation would just pad everything to the same length, which isn’t ideal when each example has five different sequences (one for each answer choice).\n",
    "\n",
    "My collate function does the following:\n",
    "\n",
    "1. **Keeps all sequences**:\n",
    "   - It flattens all sequences from each example into a single list so they can be sorted and processed together.\n",
    "\n",
    "2. **Preserves lengths**:\n",
    "   - It keeps track of the original lengths for each sequence, which is needed later when using `pack_padded_sequence` in the RNN.\n",
    "\n",
    "3. **Sorts by length**:\n",
    "   - To make RNN processing more efficient, it sorts all sequences by length (longest first), which is recommended for packed sequences in PyTorch.\n",
    "\n",
    "4. **Handles re-indexing**:\n",
    "   - Since I flatten the sequences, I also calculate the new indices so I can later rearrange the outputs and group the sequences back into their original examples (with their 5 choices).\n",
    "\n",
    "5. **Pads sequences**:\n",
    "   - I use `pad_sequence` to pad the sorted sequences, but only just before feeding them to the model, so the padding is minimal.\n",
    "\n",
    "6. **Returns everything the model needs**:\n",
    "   - At the end, it returns the padded sequence tensor, the lengths, the indices for reordering, and the correct answers.\n",
    "\n",
    "I tried simpler versions where I just padded all sequences the same way without sorting, but that ended up being slower and more memory-heavy. This setup gives me more control and works better for the RNN model that expects grouped choice sequences per question.\n"
   ]
  },
  {
   "cell_type": "code",
   "execution_count": 22,
   "metadata": {},
   "outputs": [],
   "source": [
    "def rnn_collate_batch(batch):\n",
    "    \"\"\"Collate function that handles processing all choices together\"\"\"\n",
    "    all_sequences = []\n",
    "    all_lengths = []\n",
    "    all_answers = []\n",
    "    \n",
    "    for sequences, lengths, answer in batch:\n",
    "        all_sequences.extend(sequences)\n",
    "        all_lengths.append(lengths)\n",
    "        all_answers.append(answer)\n",
    "\n",
    "    sorted_indices = torch.argsort(torch.cat(all_lengths), descending=True)\n",
    "    sorted_sequences = [all_sequences[i] for i in sorted_indices]\n",
    "\n",
    "    batch_size = len(batch)\n",
    "    num_choices = len(batch[0][0])\n",
    "    original_indices = torch.arange(len(sorted_indices)).view(batch_size, num_choices)\n",
    "    new_indices = torch.zeros_like(original_indices)\n",
    "    \n",
    "    for i, idx in enumerate(sorted_indices):\n",
    "        batch_idx = idx // num_choices\n",
    "        choice_idx = idx % num_choices\n",
    "        new_indices[batch_idx, choice_idx] = i\n",
    "\n",
    "    padded_sequences = pad_sequence(sorted_sequences, batch_first=True)\n",
    "    sorted_lengths = torch.tensor([len(seq) for seq in sorted_sequences])\n",
    "    answers_tensor = torch.stack(all_answers)\n",
    "    \n",
    "    return padded_sequences, sorted_lengths, new_indices, answers_tensor"
   ]
  },
  {
   "cell_type": "markdown",
   "metadata": {},
   "source": [
    "## RNN Data Loader Configuration\n",
    "\n",
    "For the RNN setup, I configured the data loaders to handle sequences properly and avoid memory issues:\n",
    "\n",
    "1. **Batch size**:\n",
    "   - I'm using a batch size of 128 for training and 256 for validation.\n",
    "   - RNNs are more memory-hungry than standard models because they track hidden states across time steps.\n",
    "   - Padding sequences also adds extra memory overhead.\n",
    "   - I originally tried smaller batches (like 64), but I found that 128 works fine on my GPU and trains faster.\n",
    "\n",
    "2. **Performance settings**:\n",
    "   - `num_workers=4` helps speed up data loading by using multiple CPU threads.\n",
    "   - `pin_memory=True` improves performance when moving data from CPU to GPU.\n",
    "\n",
    "I added a quick check to print out one sample from the dataset to make sure everything’s working — like confirming each question has 5 answer choices and seeing how long each sequence is. This helped debug things early on and made sure the preprocessing is consistent.\n",
    "\n",
    "Overall, this setup gave me a good balance between training speed and memory usage.\n"
   ]
  },
  {
   "cell_type": "code",
   "execution_count": 23,
   "metadata": {},
   "outputs": [
    {
     "name": "stdout",
     "output_type": "stream",
     "text": [
      "Sample question has 5 choices\n",
      "Choice 1: 26 tokens\n",
      "Choice 2: 26 tokens\n",
      "Choice 3: 26 tokens\n",
      "Choice 4: 27 tokens\n",
      "Choice 5: 26 tokens\n",
      "Correct answer: 0\n"
     ]
    }
   ],
   "source": [
    "train_rnn_dataset = CommonsenseQARNNDataset(\n",
    "    train, \n",
    "    wv,\n",
    "    embedding_dim=300\n",
    ")\n",
    "\n",
    "valid_rnn_dataset = CommonsenseQARNNDataset(\n",
    "    valid, \n",
    "    wv,\n",
    "    embedding_dim=300\n",
    ")\n",
    "\n",
    "sample_idx = 0\n",
    "sequences, lengths, answer = train_rnn_dataset[sample_idx]\n",
    "print(f\"Sample question has {len(sequences)} choices\")\n",
    "for i, (seq, length) in enumerate(zip(sequences, lengths)):\n",
    "    print(f\"Choice {i+1}: {length} tokens\")\n",
    "print(f\"Correct answer: {answer.item()}\")\n"
   ]
  },
  {
   "cell_type": "code",
   "execution_count": 24,
   "metadata": {},
   "outputs": [
    {
     "name": "stdout",
     "output_type": "stream",
     "text": [
      "Created train loader with 69 batches\n",
      "Created validation loader with 4 batches\n"
     ]
    }
   ],
   "source": [
    "train_rnn_loader = DataLoader(\n",
    "    train_rnn_dataset,\n",
    "    batch_size=128,\n",
    "    shuffle=True,\n",
    "    collate_fn=rnn_collate_batch,\n",
    "    num_workers=4,\n",
    "    pin_memory=True\n",
    ")\n",
    "\n",
    "valid_rnn_loader = DataLoader(\n",
    "    valid_rnn_dataset,\n",
    "    batch_size=256,\n",
    "    shuffle=False,\n",
    "    collate_fn=rnn_collate_batch,\n",
    "    num_workers=4,\n",
    "    pin_memory=True\n",
    ")\n",
    "\n",
    "print(f\"Created train loader with {len(train_rnn_loader)} batches\")\n",
    "print(f\"Created validation loader with {len(valid_rnn_loader)} batches\")"
   ]
  },
  {
   "cell_type": "markdown",
   "metadata": {},
   "source": [
    "# Model"
   ]
  },
  {
   "cell_type": "markdown",
   "metadata": {},
   "source": [
    "## Embedding Model for CommonsenseQA\n",
    "\n",
    "My classifier uses projected embeddings and an attention-inspired setup to compare questions with their answer choices.\n",
    "\n",
    "1. **Model structure:**\n",
    "    - **Projection layers**: Both the question and each of the five choices are projected into a shared hidden space using `Linear + BatchNorm + ReLU + Dropout`.\n",
    "    - **Pairwise comparison**: The model expands the question vector and concatenates it with each projected choice.\n",
    "    - **Classification layers**: The combined representations go through two fully-connected layers to produce logits for each choice.\n",
    "\n",
    "2. **Key design choices:**\n",
    "    - I use **ReLU** in the projection layers and **LeakyReLU** in the classification layers to keep gradients flowing well.\n",
    "    - **Dropout** and **BatchNorm** are added to prevent overfitting and help with training stability.\n",
    "    - The weights are initialized using Kaiming initialization for better convergence from the start.\n",
    "\n",
    "3. **Optimization:**\n",
    "    - The model uses **AdamW** for optimization, paired with a **learning rate scheduler** to handle gradual adjustment during training.\n",
    "    - I experimented with different hidden dimensions — starting at 256 and eventually going with a smaller `hidden_dim=64`, which worked well for this task without overloading the GPU.\n",
    "\n",
    "After setup, I move the model to the appropriate device and check that everything is in place before training."
   ]
  },
  {
   "cell_type": "code",
   "execution_count": 25,
   "metadata": {},
   "outputs": [],
   "source": [
    "class QASimpleClassifier(nn.Module):\n",
    "    def __init__(self, embedding_dim, hidden_dim=256, dropout_rate=0.2):\n",
    "        super(QASimpleClassifier, self).__init__()\n",
    "        \n",
    "        self.embedding_dim = embedding_dim\n",
    "        self.hidden_dim = hidden_dim\n",
    "\n",
    "        self.question_projection = nn.Sequential(\n",
    "            nn.Linear(embedding_dim, hidden_dim),\n",
    "            nn.BatchNorm1d(hidden_dim),\n",
    "            nn.ReLU(),\n",
    "            nn.Dropout(dropout_rate)\n",
    "        )\n",
    "        \n",
    "        self.choice_projection = nn.Sequential(\n",
    "            nn.Linear(embedding_dim, hidden_dim),\n",
    "            nn.BatchNorm1d(hidden_dim),\n",
    "            nn.ReLU(),\n",
    "            nn.Dropout(dropout_rate)\n",
    "        )\n",
    "\n",
    "        self.fc1 = nn.Linear(2 * hidden_dim, hidden_dim)\n",
    "        self.bn_fc1 = nn.BatchNorm1d(hidden_dim)\n",
    "        self.fc2 = nn.Linear(hidden_dim, 1)\n",
    "\n",
    "        self.dropout = nn.Dropout(dropout_rate)\n",
    "        self.activation = nn.ReLU()\n",
    "        \n",
    "        self._initialize_weights()\n",
    "    \n",
    "    def _initialize_weights(self):\n",
    "        for m in self.modules():\n",
    "            if isinstance(m, nn.Linear):\n",
    "                nn.init.kaiming_uniform_(m.weight, a=0, mode='fan_in', nonlinearity='relu')\n",
    "                if m.bias is not None:\n",
    "                    nn.init.constant_(m.bias, 0)\n",
    "    \n",
    "    def forward(self, question, choices):\n",
    "        batch_size, num_choices, _ = choices.size()\n",
    "        \n",
    "        # Process question\n",
    "        projected_question = self.question_projection[0](question)  # Linear\n",
    "        projected_question = self.question_projection[1](projected_question)  # BatchNorm\n",
    "        projected_question = self.question_projection[2](projected_question)  # ReLU\n",
    "        projected_question = self.question_projection[3](projected_question)  # Dropout\n",
    "        \n",
    "        # Process choices\n",
    "        choices_flat = choices.view(batch_size * num_choices, -1)\n",
    "        projected_choices = self.choice_projection[0](choices_flat)  # Linear\n",
    "        projected_choices = self.choice_projection[1](projected_choices)  # BatchNorm\n",
    "        projected_choices = self.choice_projection[2](projected_choices)  # ReLU\n",
    "        projected_choices = self.choice_projection[3](projected_choices)  # Dropout\n",
    "        projected_choices = projected_choices.view(batch_size, num_choices, -1)\n",
    "        question_expanded = projected_question.unsqueeze(1).expand(-1, num_choices, -1)\n",
    "    \n",
    "        combined = torch.cat((question_expanded, projected_choices), dim=2)\n",
    "        \n",
    "        x = self.fc1(combined)\n",
    "        x_flat = x.view(batch_size * num_choices, -1)\n",
    "        x_flat = self.bn_fc1(x_flat)\n",
    "        x_flat = self.activation(x_flat)\n",
    "        x_flat = self.dropout(x_flat)\n",
    "        x = x_flat.view(batch_size, num_choices, -1)\n",
    "        \n",
    "        x = self.fc2(x)\n",
    "        \n",
    "        return x.squeeze(-1)"
   ]
  },
  {
   "cell_type": "code",
   "execution_count": 26,
   "metadata": {},
   "outputs": [
    {
     "name": "stdout",
     "output_type": "stream",
     "text": [
      "Using device: cuda\n",
      "QASimpleClassifier(\n",
      "  (question_projection): Sequential(\n",
      "    (0): Linear(in_features=300, out_features=64, bias=True)\n",
      "    (1): BatchNorm1d(64, eps=1e-05, momentum=0.1, affine=True, track_running_stats=True)\n",
      "    (2): ReLU()\n",
      "    (3): Dropout(p=0.2, inplace=False)\n",
      "  )\n",
      "  (choice_projection): Sequential(\n",
      "    (0): Linear(in_features=300, out_features=64, bias=True)\n",
      "    (1): BatchNorm1d(64, eps=1e-05, momentum=0.1, affine=True, track_running_stats=True)\n",
      "    (2): ReLU()\n",
      "    (3): Dropout(p=0.2, inplace=False)\n",
      "  )\n",
      "  (fc1): Linear(in_features=128, out_features=64, bias=True)\n",
      "  (bn_fc1): BatchNorm1d(64, eps=1e-05, momentum=0.1, affine=True, track_running_stats=True)\n",
      "  (fc2): Linear(in_features=64, out_features=1, bias=True)\n",
      "  (dropout): Dropout(p=0.2, inplace=False)\n",
      "  (activation): ReLU()\n",
      ")\n"
     ]
    }
   ],
   "source": [
    "embedding_dim = 300\n",
    "hidden_dim = 64\n",
    "dropout_rate = 0.2\n",
    "\n",
    "qa_model = QASimpleClassifier(\n",
    "    embedding_dim=embedding_dim,\n",
    "    hidden_dim=hidden_dim,\n",
    "    dropout_rate=dropout_rate\n",
    ")\n",
    "\n",
    "device = torch.device(\"cuda\" if torch.cuda.is_available() else \"cpu\")\n",
    "print(f\"Using device: {device}\")\n",
    "qa_model = qa_model.to(device)\n",
    "\n",
    "print(qa_model)"
   ]
  },
  {
   "cell_type": "markdown",
   "metadata": {},
   "source": [
    "## RNN Model Architecture\n",
    "\n",
    "My classifier uses a bidirectional LSTM to process question and answer choice embeddings and score how well each choice fits the question.\n",
    "I'm using the predefined architecture from the project requirements (a 2-layer LSTM and 2-layer classifier).\n",
    "\n",
    "1. **Model structure:**\n",
    "   - **Input embeddings**: I use precomputed fast text embeddings to represent each token as a dense vector. Padding tokens are set to zero.\n",
    "   - **Bidirectional LSTM**: A 2-layer LSTM runs over the input in both directions to capture full context. I set the hidden size to 128 and use dropout between layers.\n",
    "   - **Classification head**: After the LSTM, I take the final hidden states from both directions, concatenate them, and feed them into a two-layer feedforward network with `ReLU`, `Dropout`, and a final `Linear` layer to get one logit per answer.\n",
    "\n",
    "2. **Key design choices:**\n",
    "   - I use **bidirectional LSTMs** to let the model look at both the past and future in the sentence, which helps for understanding questions.\n",
    "   - **Dropout** is used in both the LSTM and classifier to avoid overfitting.\n",
    "   - To handle different sequence lengths, I use `pack_padded_sequence` so padding doesn't affect the LSTM outputs.\n",
    "   - I sort and batch the answer choices together for efficiency, and then collect the final logits for each question using the original indices.\n",
    "\n",
    "I tested different LSTM configurations (varying layers, hidden dimensions, and unidirectional vs. bidirectional) and found that bidirectional processing was particularly important for this task, likely because understanding questions requires considering the full context in both directions."
   ]
  },
  {
   "cell_type": "code",
   "execution_count": 27,
   "metadata": {},
   "outputs": [],
   "source": [
    "class QARNNModel(nn.Module):\n",
    "    \"\"\"RNN model with direct embedding input\"\"\"\n",
    "    def __init__(self, embedding_dim, hidden_dim=128, num_choices=5, dropout_rate=0.2):\n",
    "        super(QARNNModel, self).__init__()\n",
    "        \n",
    "        self.embedding_dim = embedding_dim\n",
    "        self.hidden_dim = hidden_dim\n",
    "        self.num_choices = num_choices\n",
    "        \n",
    "        self.lstm = nn.LSTM(\n",
    "            input_size=embedding_dim,\n",
    "            hidden_size=hidden_dim,\n",
    "            num_layers=2,\n",
    "            batch_first=True,\n",
    "            dropout=dropout_rate,\n",
    "            bidirectional=True\n",
    "        )\n",
    "\n",
    "        lstm_output_dim = hidden_dim * 2\n",
    "        self.classifier = nn.Sequential(\n",
    "            nn.Linear(lstm_output_dim, hidden_dim),\n",
    "            nn.ReLU(),\n",
    "            nn.Dropout(dropout_rate),\n",
    "            nn.Linear(hidden_dim, 1)\n",
    "        )\n",
    "    \n",
    "    def forward(self, padded_sequences, sequence_lengths, indices):\n",
    "        \"\"\"Process all sequences together and then reshape for classification\"\"\"\n",
    "        batch_size = indices.size(0)\n",
    "\n",
    "        packed = pack_padded_sequence(\n",
    "            padded_sequences, \n",
    "            sequence_lengths.cpu(), \n",
    "            batch_first=True,\n",
    "            enforce_sorted=True\n",
    "        )\n",
    "        \n",
    "        _, (hidden, _) = self.lstm(packed)\n",
    "    \n",
    "        final_hidden = torch.cat([hidden[-2], hidden[-1]], dim=1)\n",
    "        logits = self.classifier(final_hidden).squeeze(-1)\n",
    "        \n",
    "        all_logits = torch.zeros(batch_size, self.num_choices, device=padded_sequences.device)\n",
    "        for batch_idx in range(batch_size):\n",
    "            for choice_idx in range(self.num_choices):\n",
    "                all_logits[batch_idx, choice_idx] = logits[indices[batch_idx, choice_idx]]\n",
    "        \n",
    "        return all_logits"
   ]
  },
  {
   "cell_type": "markdown",
   "metadata": {},
   "source": [
    "# Training"
   ]
  },
  {
   "cell_type": "markdown",
   "metadata": {},
   "source": [
    "Initialize Weights & Biases experiment tracking"
   ]
  },
  {
   "cell_type": "code",
   "execution_count": 28,
   "metadata": {},
   "outputs": [
    {
     "name": "stderr",
     "output_type": "stream",
     "text": [
      "\u001b[34m\u001b[1mwandb\u001b[0m: Using wandb-core as the SDK backend.  Please refer to https://wandb.me/wandb-core for more information.\n",
      "\u001b[34m\u001b[1mwandb\u001b[0m: Currently logged in as: \u001b[33mnevin-helfenstein\u001b[0m (\u001b[33mnevinhelfenstein-hslu-nlp-fs25\u001b[0m) to \u001b[32mhttps://api.wandb.ai\u001b[0m. Use \u001b[1m`wandb login --relogin`\u001b[0m to force relogin\n"
     ]
    },
    {
     "data": {
      "text/plain": [
       "True"
      ]
     },
     "execution_count": 28,
     "metadata": {},
     "output_type": "execute_result"
    }
   ],
   "source": [
    "wandb.login()"
   ]
  },
  {
   "cell_type": "markdown",
   "metadata": {},
   "source": [
    "## Training Setup for Embedding Model\n",
    "\n",
    "I use **Weights & Biases (wandb)** to manage training runs and keep track of all hyperparameters and results.\n",
    "\n",
    "- The training run is initialized with a clear name and all key settings logged in `wandb.config`.\n",
    "- I include settings like `embedding_dim`, `hidden_dim`, `dropout_rate`, `batch_size`, and learning rate parameters.\n",
    "- I also set `weight_decay`, `label_smoothing`, and `gradient_clipping` to help improve generalization and training stability.\n",
    "\n",
    "I found these hyperparameters using my external hyperparameter search script."
   ]
  },
  {
   "cell_type": "code",
   "execution_count": 29,
   "metadata": {},
   "outputs": [
    {
     "data": {
      "text/html": [
       "Tracking run with wandb version 0.19.8"
      ],
      "text/plain": [
       "<IPython.core.display.HTML object>"
      ]
     },
     "metadata": {},
     "output_type": "display_data"
    },
    {
     "data": {
      "text/html": [
       "Run data is saved locally in <code>/home/nevin/projects/HSLU.NLP/course_project/wandb/run-20250408_001114-s28xqn8z</code>"
      ],
      "text/plain": [
       "<IPython.core.display.HTML object>"
      ]
     },
     "metadata": {},
     "output_type": "display_data"
    },
    {
     "data": {
      "text/html": [
       "Syncing run <strong><a href='https://wandb.ai/nevinhelfenstein-hslu-nlp-fs25/hslu-fs25-nlp-embedding-qa/runs/s28xqn8z' target=\"_blank\">optimized-qa-classifier-2025-04-08T00:11:14</a></strong> to <a href='https://wandb.ai/nevinhelfenstein-hslu-nlp-fs25/hslu-fs25-nlp-embedding-qa' target=\"_blank\">Weights & Biases</a> (<a href='https://wandb.me/developer-guide' target=\"_blank\">docs</a>)<br>"
      ],
      "text/plain": [
       "<IPython.core.display.HTML object>"
      ]
     },
     "metadata": {},
     "output_type": "display_data"
    },
    {
     "data": {
      "text/html": [
       " View project at <a href='https://wandb.ai/nevinhelfenstein-hslu-nlp-fs25/hslu-fs25-nlp-embedding-qa' target=\"_blank\">https://wandb.ai/nevinhelfenstein-hslu-nlp-fs25/hslu-fs25-nlp-embedding-qa</a>"
      ],
      "text/plain": [
       "<IPython.core.display.HTML object>"
      ]
     },
     "metadata": {},
     "output_type": "display_data"
    },
    {
     "data": {
      "text/html": [
       " View run at <a href='https://wandb.ai/nevinhelfenstein-hslu-nlp-fs25/hslu-fs25-nlp-embedding-qa/runs/s28xqn8z' target=\"_blank\">https://wandb.ai/nevinhelfenstein-hslu-nlp-fs25/hslu-fs25-nlp-embedding-qa/runs/s28xqn8z</a>"
      ],
      "text/plain": [
       "<IPython.core.display.HTML object>"
      ]
     },
     "metadata": {},
     "output_type": "display_data"
    }
   ],
   "source": [
    "embedding_run = wandb.init(\n",
    "  project=\"hslu-fs25-nlp-embedding-qa\",\n",
    "  entity=\"nevinhelfenstein-hslu-nlp-fs25\",\n",
    "  name=f\"optimized-qa-classifier-{datetime.now().strftime('%Y-%m-%dT%H:%M:%S')}\",\n",
    "  config={\n",
    "    \"model\": \"qa_simple_classifier\",\n",
    "    \"embedding_dim\": embedding_dim,\n",
    "    \"hidden_dim\": hidden_dim,\n",
    "    \"batch_size\": 64,\n",
    "    \"epochs\": 30,\n",
    "    \"dropout_rate\": dropout_rate,\n",
    "    \"weight_decay\": 0.0001,\n",
    "    \"label_smoothing\": 0.0,\n",
    "    \"gradient_clipping\": 0.5,\n",
    "    \"max_lr\": 0.001,\n",
    "  },\n",
    "  reinit=True,\n",
    ")"
   ]
  },
  {
   "cell_type": "code",
   "execution_count": 30,
   "metadata": {},
   "outputs": [],
   "source": [
    "wandb.watch(qa_model, log=\"all\")"
   ]
  },
  {
   "cell_type": "markdown",
   "metadata": {},
   "source": [
    "## Embedding Model Training Procedure\n",
    "\n",
    "My training setup uses common best practices to help the model train smoothly and generalize well.\n",
    "\n",
    "1. **Optimizer**:\n",
    "   - I use **Adam** with a learning rate of `1e-3`, which worked better than lower or higher values I tested.\n",
    "   - A small weight decay (`1e-6`) is added for regularization.\n",
    "\n",
    "2. **Learning rate scheduler**:\n",
    "   - I use **CosineAnnealingWarmRestarts** to cycle the learning rate and avoid getting stuck in local minima.\n",
    "   - First restart is after 50 epochs, then the period doubles each time.\n",
    "   - The scheduler lowers the LR down to `1e-5` during restarts.\n",
    "\n",
    "3. **Other training tricks**:\n",
    "   - I use **dropout** in the model to reduce overfitting.\n",
    "   - **Gradient clipping** helps prevent exploding gradients.\n",
    "   - I removed my early stopping because it was always to agressive.\n",
    "\n",
    "4. **Model saving and tracking**:\n",
    "   - I save the model with the best validation accuracy during training.\n",
    "   - Training progress, metrics, and learning rate changes are all logged using **Weights & Biases** for easy tracking.\n",
    "\n",
    "I tried other schedulers like `ReduceLROnPlateau` and `OneCycleLR`, but cosine restarts gave the most consistent results for my model.\n"
   ]
  },
  {
   "cell_type": "code",
   "execution_count": 31,
   "metadata": {},
   "outputs": [],
   "source": [
    "criterion = nn.CrossEntropyLoss()\n",
    "\n",
    "from torch.optim.lr_scheduler import CosineAnnealingWarmRestarts\n",
    "\n",
    "optimizer = torch.optim.Adam(\n",
    "    qa_model.parameters(),\n",
    "    lr=1e-3,\n",
    "    weight_decay=1e-6\n",
    ")\n",
    "\n",
    "scheduler = CosineAnnealingWarmRestarts(\n",
    "    optimizer,\n",
    "    T_0=15,\n",
    "    T_mult=2,\n",
    "    eta_min=1e-5\n",
    ")"
   ]
  },
  {
   "cell_type": "markdown",
   "metadata": {},
   "source": [
    "**Checkpoint Management**\n",
    "\n",
    "To ensure I don't lose progress during long training runs, I've implemented checkpoint saving:"
   ]
  },
  {
   "cell_type": "code",
   "execution_count": 32,
   "metadata": {},
   "outputs": [],
   "source": [
    "checkpoints_path  = \"./checkpoints/qa_model\"\n",
    "os.makedirs(checkpoints_path, exist_ok=True)\n",
    "\n",
    "def save_checkpoint(model, optimizer, epoch, scheduler, path, name, val_accuracy=None):\n",
    "    \"\"\"Save model checkpoint with additional metadata\"\"\"\n",
    "    checkpoint_path = os.path.join(path, f\"{name}.pt\")\n",
    "    torch.save({\n",
    "        \"epoch\": epoch,\n",
    "        \"model_state_dict\": model.state_dict(),\n",
    "        \"optimizer_state_dict\": optimizer.state_dict(),\n",
    "        \"scheduler_state_dict\": scheduler.state_dict(),\n",
    "        \"val_accuracy\": val_accuracy,\n",
    "        \"timestamp\": datetime.now().strftime('%Y-%m-%d %H:%M:%S')\n",
    "    }, checkpoint_path)\n",
    "    print(f\"Checkpoint saved: {checkpoint_path}\")"
   ]
  },
  {
   "cell_type": "markdown",
   "metadata": {},
   "source": [
    "## Training Loop and Model Checks\n",
    "\n",
    "My training loop tracks both training and validation metrics per epoch. I log all results to **Weights & Biases** and update the scheduler each step. I save the best model based on validation accuracy.\n",
    "\n",
    "Before training, I run basic checks to:\n",
    "- Inspect class distribution in a data sample\n",
    "- Verify embedding norms\n",
    "- Do a forward pass to confirm output shape\n",
    "\n",
    "These checks help catch setup issues early and make sure the model is working as expected.\n"
   ]
  },
  {
   "cell_type": "code",
   "execution_count": 33,
   "metadata": {},
   "outputs": [],
   "source": [
    "def train_qa_model(model, criterion, optimizer, scheduler, train_loader, valid_loader, epochs, \n",
    "                  log_wandb=True, gradient_clip_val=1.0):\n",
    "    best_val_accuracy = 0.0\n",
    "    training_start_time = time.time()\n",
    "    \n",
    "    for epoch in range(epochs):\n",
    "        print(f\"\\nEpoch {epoch+1}/{epochs}\")\n",
    "        \n",
    "        model.train()\n",
    "        train_loss = 0.0\n",
    "        train_correct = 0\n",
    "        train_total = 0\n",
    "        \n",
    "        with tqdm(train_loader, desc=\"Training\") as progress_bar:\n",
    "            for question_batch, choices_batch, answer_batch in progress_bar:\n",
    "                question_batch = question_batch.to(device)\n",
    "                choices_batch = choices_batch.to(device)\n",
    "                answer_batch = answer_batch.to(device)\n",
    "                \n",
    "                optimizer.zero_grad()\n",
    "                outputs = model(question_batch, choices_batch)\n",
    "                loss = criterion(outputs, answer_batch)\n",
    "\n",
    "                loss.backward()\n",
    "                if gradient_clip_val > 0:\n",
    "                    nn.utils.clip_grad_norm_(model.parameters(), gradient_clip_val)\n",
    "                optimizer.step()\n",
    "                scheduler.step()\n",
    "\n",
    "                train_loss += loss.item()\n",
    "                _, predicted = torch.max(outputs, 1)\n",
    "                train_total += answer_batch.size(0)\n",
    "                train_correct += (predicted == answer_batch).sum().item()\n",
    "\n",
    "                progress_bar.set_postfix({\n",
    "                    'loss': f\"{loss.item():.4f}\",\n",
    "                    'acc': f\"{train_correct/train_total:.4f}\"\n",
    "                })\n",
    "        \n",
    "        train_accuracy = train_correct / train_total\n",
    "        avg_train_loss = train_loss / len(train_loader)\n",
    "\n",
    "        model.eval()\n",
    "        val_loss = 0.0\n",
    "        val_correct = 0\n",
    "        val_total = 0\n",
    "        \n",
    "        with torch.no_grad():\n",
    "            for question_batch, choices_batch, answer_batch in tqdm(valid_loader, desc=\"Validation\"):\n",
    "                question_batch = question_batch.to(device)\n",
    "                choices_batch = choices_batch.to(device)\n",
    "                answer_batch = answer_batch.to(device)\n",
    "                \n",
    "                outputs = model(question_batch, choices_batch)\n",
    "                loss = criterion(outputs, answer_batch)\n",
    "\n",
    "                val_loss += loss.item()\n",
    "                _, predicted = torch.max(outputs, 1)\n",
    "                val_total += answer_batch.size(0)\n",
    "                val_correct += (predicted == answer_batch).sum().item()\n",
    "        \n",
    "        val_accuracy = val_correct / val_total\n",
    "        avg_val_loss = val_loss / len(valid_loader)\n",
    "\n",
    "        if val_accuracy > best_val_accuracy:\n",
    "            print(f\"Validation accuracy improved from {best_val_accuracy:.4f} to {val_accuracy:.4f}\")\n",
    "            best_val_accuracy = val_accuracy\n",
    "            save_checkpoint(model, optimizer, epoch, scheduler, \n",
    "                          checkpoints_path, \"best_model\", val_accuracy)\n",
    "\n",
    "        print(f\"Train Loss: {avg_train_loss:.4f}, Train Acc: {train_accuracy:.4f}\")\n",
    "        print(f\"Val Loss: {avg_val_loss:.4f}, Val Acc: {val_accuracy:.4f}\")\n",
    "\n",
    "        if log_wandb:\n",
    "            wandb.log({\n",
    "                \"epoch\": epoch,\n",
    "                \"train_loss\": avg_train_loss,\n",
    "                \"train_accuracy\": train_accuracy,\n",
    "                \"val_loss\": avg_val_loss,\n",
    "                \"val_accuracy\": val_accuracy,\n",
    "                \"learning_rate\": optimizer.param_groups[0]['lr']\n",
    "            })\n",
    "    \n",
    "    print(f\"Training completed in {(time.time() - training_start_time)/60:.2f} minutes\")\n",
    "    print(f\"Best validation accuracy: {best_val_accuracy:.4f}\")\n",
    "\n",
    "    if log_wandb:\n",
    "        wandb.run.summary[\"best_val_accuracy\"] = best_val_accuracy\n",
    "        wandb.finish()\n",
    "    \n",
    "    return model, best_val_accuracy"
   ]
  },
  {
   "cell_type": "code",
   "execution_count": 34,
   "metadata": {},
   "outputs": [
    {
     "name": "stdout",
     "output_type": "stream",
     "text": [
      "Performing basic checks...\n"
     ]
    },
    {
     "name": "stderr",
     "output_type": "stream",
     "text": [
      "/tmp/ipykernel_122363/8943856.py:109: UserWarning: Creating a tensor from a list of numpy.ndarrays is extremely slow. Please consider converting the list to a single numpy.ndarray with numpy.array() before converting to a tensor. (Triggered internally at /pytorch/torch/csrc/utils/tensor_new.cpp:254.)\n",
      "  choices_tensor = torch.tensor(choice_embeddings).float()\n"
     ]
    },
    {
     "name": "stdout",
     "output_type": "stream",
     "text": [
      "Class distribution (first 1000 samples): [198, 199, 233, 200, 170]\n",
      "Average question embedding norm: 0.8497\n",
      "Model output shape: torch.Size([1, 5])\n",
      "Sample logits: tensor([ 0.0580,  0.0420,  0.0196, -0.0254,  0.0850], device='cuda:0')\n",
      "Checks complete.\n"
     ]
    }
   ],
   "source": [
    "def check_model_and_data():\n",
    "    print(\"Performing basic checks...\")\n",
    "\n",
    "    class_counts = [0] * 5\n",
    "    for i in range(min(1000, len(train_dataset))):\n",
    "        _, _, answer = train_dataset[i]\n",
    "        class_counts[answer.item()] += 1\n",
    "    \n",
    "    print(f\"Class distribution (first 1000 samples): {class_counts}\")\n",
    "\n",
    "    embedding_norms = []\n",
    "    for i in range(10):\n",
    "        question, choices, _ = train_dataset[i]\n",
    "        embedding_norms.append(torch.norm(question).item())\n",
    "    \n",
    "    print(f\"Average question embedding norm: {np.mean(embedding_norms):.4f}\")\n",
    "    \n",
    "    model = qa_model.to(device)\n",
    "    model.eval()\n",
    "    with torch.no_grad():\n",
    "        question, choices, _ = train_dataset[0]\n",
    "        question = question.unsqueeze(0).to(device)\n",
    "        choices = choices.unsqueeze(0).to(device)\n",
    "        \n",
    "        output = model(question, choices)\n",
    "        print(f\"Model output shape: {output.shape}\")\n",
    "        print(f\"Sample logits: {output[0]}\")\n",
    "    \n",
    "    print(\"Checks complete.\")\n",
    "\n",
    "check_model_and_data()"
   ]
  },
  {
   "cell_type": "markdown",
   "metadata": {},
   "source": [
    "## Training the Embedding Model\n",
    "\n",
    "With everything set up, I now train the model using the selected hyperparameters from earlier experiments.\n",
    "\n",
    "- The model runs for **30 epochs**, with all settings loaded from the `wandb` config.\n",
    "- I track training and validation accuracy, loss, and learning rate.\n",
    "- After training, I print out the **best validation accuracy** for evaluation.\n",
    "\n",
    "This step just puts all components together and starts the actual training process.\n"
   ]
  },
  {
   "cell_type": "code",
   "execution_count": 35,
   "metadata": {},
   "outputs": [
    {
     "name": "stdout",
     "output_type": "stream",
     "text": [
      "Starting training...\n",
      "\n",
      "Epoch 1/30\n"
     ]
    },
    {
     "name": "stderr",
     "output_type": "stream",
     "text": [
      "Training: 100%|██████████| 18/18 [00:01<00:00, 10.57it/s, loss=1.7091, acc=0.2009]\n",
      "Validation: 100%|██████████| 1/1 [00:00<00:00,  1.08it/s]\n"
     ]
    },
    {
     "name": "stdout",
     "output_type": "stream",
     "text": [
      "Validation accuracy improved from 0.0000 to 0.2180\n",
      "Checkpoint saved: ./checkpoints/qa_model/best_model.pt\n",
      "Train Loss: 1.7984, Train Acc: 0.2009\n",
      "Val Loss: 1.6106, Val Acc: 0.2180\n",
      "\n",
      "Epoch 2/30\n"
     ]
    },
    {
     "name": "stderr",
     "output_type": "stream",
     "text": [
      "Training: 100%|██████████| 18/18 [00:01<00:00, 11.18it/s, loss=1.7043, acc=0.2121]\n",
      "Validation: 100%|██████████| 1/1 [00:00<00:00,  1.11it/s]\n"
     ]
    },
    {
     "name": "stdout",
     "output_type": "stream",
     "text": [
      "Train Loss: 1.7161, Train Acc: 0.2121\n",
      "Val Loss: 1.6144, Val Acc: 0.2050\n",
      "\n",
      "Epoch 3/30\n"
     ]
    },
    {
     "name": "stderr",
     "output_type": "stream",
     "text": [
      "Training: 100%|██████████| 18/18 [00:01<00:00, 11.15it/s, loss=1.7797, acc=0.2136]\n",
      "Validation: 100%|██████████| 1/1 [00:00<00:00,  1.12it/s]\n"
     ]
    },
    {
     "name": "stdout",
     "output_type": "stream",
     "text": [
      "Validation accuracy improved from 0.2180 to 0.2220\n",
      "Checkpoint saved: ./checkpoints/qa_model/best_model.pt\n",
      "Train Loss: 1.7019, Train Acc: 0.2136\n",
      "Val Loss: 1.6198, Val Acc: 0.2220\n",
      "\n",
      "Epoch 4/30\n"
     ]
    },
    {
     "name": "stderr",
     "output_type": "stream",
     "text": [
      "Training: 100%|██████████| 18/18 [00:01<00:00, 11.41it/s, loss=1.7790, acc=0.2273]\n",
      "Validation: 100%|██████████| 1/1 [00:00<00:00,  1.09it/s]\n"
     ]
    },
    {
     "name": "stdout",
     "output_type": "stream",
     "text": [
      "Validation accuracy improved from 0.2220 to 0.2260\n",
      "Checkpoint saved: ./checkpoints/qa_model/best_model.pt\n",
      "Train Loss: 1.6621, Train Acc: 0.2273\n",
      "Val Loss: 1.6199, Val Acc: 0.2260\n",
      "\n",
      "Epoch 5/30\n"
     ]
    },
    {
     "name": "stderr",
     "output_type": "stream",
     "text": [
      "Training: 100%|██████████| 18/18 [00:01<00:00, 11.40it/s, loss=1.5561, acc=0.2350]\n",
      "Validation: 100%|██████████| 1/1 [00:00<00:00,  1.09it/s]\n"
     ]
    },
    {
     "name": "stdout",
     "output_type": "stream",
     "text": [
      "Train Loss: 1.6382, Train Acc: 0.2350\n",
      "Val Loss: 1.6188, Val Acc: 0.2200\n",
      "\n",
      "Epoch 6/30\n"
     ]
    },
    {
     "name": "stderr",
     "output_type": "stream",
     "text": [
      "Training: 100%|██████████| 18/18 [00:01<00:00, 11.27it/s, loss=1.6572, acc=0.2301]\n",
      "Validation: 100%|██████████| 1/1 [00:00<00:00,  1.12it/s]\n"
     ]
    },
    {
     "name": "stdout",
     "output_type": "stream",
     "text": [
      "Validation accuracy improved from 0.2260 to 0.2280\n",
      "Checkpoint saved: ./checkpoints/qa_model/best_model.pt\n",
      "Train Loss: 1.6458, Train Acc: 0.2301\n",
      "Val Loss: 1.6169, Val Acc: 0.2280\n",
      "\n",
      "Epoch 7/30\n"
     ]
    },
    {
     "name": "stderr",
     "output_type": "stream",
     "text": [
      "Training: 100%|██████████| 18/18 [00:01<00:00, 11.00it/s, loss=1.5254, acc=0.2369]\n",
      "Validation: 100%|██████████| 1/1 [00:00<00:00,  1.13it/s]\n"
     ]
    },
    {
     "name": "stdout",
     "output_type": "stream",
     "text": [
      "Train Loss: 1.6288, Train Acc: 0.2369\n",
      "Val Loss: 1.6122, Val Acc: 0.2250\n",
      "\n",
      "Epoch 8/30\n"
     ]
    },
    {
     "name": "stderr",
     "output_type": "stream",
     "text": [
      "Training: 100%|██████████| 18/18 [00:01<00:00, 11.27it/s, loss=1.5924, acc=0.2531]\n",
      "Validation: 100%|██████████| 1/1 [00:00<00:00,  1.10it/s]\n"
     ]
    },
    {
     "name": "stdout",
     "output_type": "stream",
     "text": [
      "Validation accuracy improved from 0.2280 to 0.2310\n",
      "Checkpoint saved: ./checkpoints/qa_model/best_model.pt\n",
      "Train Loss: 1.6044, Train Acc: 0.2531\n",
      "Val Loss: 1.6083, Val Acc: 0.2310\n",
      "\n",
      "Epoch 9/30\n"
     ]
    },
    {
     "name": "stderr",
     "output_type": "stream",
     "text": [
      "Training: 100%|██████████| 18/18 [00:01<00:00, 11.17it/s, loss=1.6058, acc=0.2552]\n",
      "Validation: 100%|██████████| 1/1 [00:00<00:00,  1.11it/s]\n"
     ]
    },
    {
     "name": "stdout",
     "output_type": "stream",
     "text": [
      "Train Loss: 1.6034, Train Acc: 0.2552\n",
      "Val Loss: 1.6067, Val Acc: 0.2300\n",
      "\n",
      "Epoch 10/30\n"
     ]
    },
    {
     "name": "stderr",
     "output_type": "stream",
     "text": [
      "Training: 100%|██████████| 18/18 [00:01<00:00, 11.28it/s, loss=1.6437, acc=0.2594]\n",
      "Validation: 100%|██████████| 1/1 [00:00<00:00,  1.12it/s]\n"
     ]
    },
    {
     "name": "stdout",
     "output_type": "stream",
     "text": [
      "Validation accuracy improved from 0.2310 to 0.2360\n",
      "Checkpoint saved: ./checkpoints/qa_model/best_model.pt\n",
      "Train Loss: 1.5947, Train Acc: 0.2594\n",
      "Val Loss: 1.6050, Val Acc: 0.2360\n",
      "\n",
      "Epoch 11/30\n"
     ]
    },
    {
     "name": "stderr",
     "output_type": "stream",
     "text": [
      "Training: 100%|██████████| 18/18 [00:01<00:00, 11.08it/s, loss=1.5847, acc=0.2642]\n",
      "Validation: 100%|██████████| 1/1 [00:03<00:00,  3.21s/it]\n"
     ]
    },
    {
     "name": "stdout",
     "output_type": "stream",
     "text": [
      "Train Loss: 1.5908, Train Acc: 0.2642\n",
      "Val Loss: 1.6045, Val Acc: 0.2340\n",
      "\n",
      "Epoch 12/30\n"
     ]
    },
    {
     "name": "stderr",
     "output_type": "stream",
     "text": [
      "Training: 100%|██████████| 18/18 [00:01<00:00, 11.15it/s, loss=1.6739, acc=0.2604]\n",
      "Validation: 100%|██████████| 1/1 [00:00<00:00,  1.10it/s]\n"
     ]
    },
    {
     "name": "stdout",
     "output_type": "stream",
     "text": [
      "Train Loss: 1.5912, Train Acc: 0.2604\n",
      "Val Loss: 1.6049, Val Acc: 0.2290\n",
      "\n",
      "Epoch 13/30\n"
     ]
    },
    {
     "name": "stderr",
     "output_type": "stream",
     "text": [
      "Training: 100%|██████████| 18/18 [00:01<00:00, 11.61it/s, loss=1.4607, acc=0.2679]\n",
      "Validation: 100%|██████████| 1/1 [00:00<00:00,  1.12it/s]\n"
     ]
    },
    {
     "name": "stdout",
     "output_type": "stream",
     "text": [
      "Train Loss: 1.5771, Train Acc: 0.2679\n",
      "Val Loss: 1.6046, Val Acc: 0.2360\n",
      "\n",
      "Epoch 14/30\n"
     ]
    },
    {
     "name": "stderr",
     "output_type": "stream",
     "text": [
      "Training: 100%|██████████| 18/18 [00:01<00:00, 11.43it/s, loss=1.6403, acc=0.2688]\n",
      "Validation: 100%|██████████| 1/1 [00:00<00:00,  1.13it/s]\n"
     ]
    },
    {
     "name": "stdout",
     "output_type": "stream",
     "text": [
      "Train Loss: 1.5855, Train Acc: 0.2688\n",
      "Val Loss: 1.6032, Val Acc: 0.2340\n",
      "\n",
      "Epoch 15/30\n"
     ]
    },
    {
     "name": "stderr",
     "output_type": "stream",
     "text": [
      "Training: 100%|██████████| 18/18 [00:01<00:00, 11.61it/s, loss=1.6403, acc=0.2775]\n",
      "Validation: 100%|██████████| 1/1 [00:00<00:00,  1.14it/s]\n"
     ]
    },
    {
     "name": "stdout",
     "output_type": "stream",
     "text": [
      "Validation accuracy improved from 0.2360 to 0.2440\n",
      "Checkpoint saved: ./checkpoints/qa_model/best_model.pt\n",
      "Train Loss: 1.5778, Train Acc: 0.2775\n",
      "Val Loss: 1.6022, Val Acc: 0.2440\n",
      "\n",
      "Epoch 16/30\n"
     ]
    },
    {
     "name": "stderr",
     "output_type": "stream",
     "text": [
      "Training: 100%|██████████| 18/18 [00:01<00:00, 11.58it/s, loss=1.5741, acc=0.2899]\n",
      "Validation: 100%|██████████| 1/1 [00:00<00:00,  1.14it/s]\n"
     ]
    },
    {
     "name": "stdout",
     "output_type": "stream",
     "text": [
      "Validation accuracy improved from 0.2440 to 0.2470\n",
      "Checkpoint saved: ./checkpoints/qa_model/best_model.pt\n",
      "Train Loss: 1.5636, Train Acc: 0.2899\n",
      "Val Loss: 1.6018, Val Acc: 0.2470\n",
      "\n",
      "Epoch 17/30\n"
     ]
    },
    {
     "name": "stderr",
     "output_type": "stream",
     "text": [
      "Training: 100%|██████████| 18/18 [00:01<00:00, 11.92it/s, loss=1.5617, acc=0.2926]\n",
      "Validation: 100%|██████████| 1/1 [00:00<00:00,  1.15it/s]\n"
     ]
    },
    {
     "name": "stdout",
     "output_type": "stream",
     "text": [
      "Train Loss: 1.5556, Train Acc: 0.2926\n",
      "Val Loss: 1.6008, Val Acc: 0.2420\n",
      "\n",
      "Epoch 18/30\n"
     ]
    },
    {
     "name": "stderr",
     "output_type": "stream",
     "text": [
      "Training: 100%|██████████| 18/18 [00:01<00:00, 11.96it/s, loss=1.5574, acc=0.2989]\n",
      "Validation: 100%|██████████| 1/1 [00:00<00:00,  1.15it/s]\n"
     ]
    },
    {
     "name": "stdout",
     "output_type": "stream",
     "text": [
      "Train Loss: 1.5520, Train Acc: 0.2989\n",
      "Val Loss: 1.6015, Val Acc: 0.2350\n",
      "\n",
      "Epoch 19/30\n"
     ]
    },
    {
     "name": "stderr",
     "output_type": "stream",
     "text": [
      "Training: 100%|██████████| 18/18 [00:01<00:00, 12.08it/s, loss=1.6141, acc=0.3009]\n",
      "Validation: 100%|██████████| 1/1 [00:00<00:00,  1.16it/s]\n"
     ]
    },
    {
     "name": "stdout",
     "output_type": "stream",
     "text": [
      "Train Loss: 1.5490, Train Acc: 0.3009\n",
      "Val Loss: 1.6018, Val Acc: 0.2330\n",
      "\n",
      "Epoch 20/30\n"
     ]
    },
    {
     "name": "stderr",
     "output_type": "stream",
     "text": [
      "Training: 100%|██████████| 18/18 [00:01<00:00, 11.94it/s, loss=1.4887, acc=0.3050]\n",
      "Validation: 100%|██████████| 1/1 [00:00<00:00,  1.14it/s]\n"
     ]
    },
    {
     "name": "stdout",
     "output_type": "stream",
     "text": [
      "Train Loss: 1.5333, Train Acc: 0.3050\n",
      "Val Loss: 1.6010, Val Acc: 0.2330\n",
      "\n",
      "Epoch 21/30\n"
     ]
    },
    {
     "name": "stderr",
     "output_type": "stream",
     "text": [
      "Training: 100%|██████████| 18/18 [00:01<00:00, 11.42it/s, loss=1.3980, acc=0.2986]\n",
      "Validation: 100%|██████████| 1/1 [00:00<00:00,  1.12it/s]\n"
     ]
    },
    {
     "name": "stdout",
     "output_type": "stream",
     "text": [
      "Train Loss: 1.5334, Train Acc: 0.2986\n",
      "Val Loss: 1.6005, Val Acc: 0.2370\n",
      "\n",
      "Epoch 22/30\n"
     ]
    },
    {
     "name": "stderr",
     "output_type": "stream",
     "text": [
      "Training: 100%|██████████| 18/18 [00:01<00:00, 11.43it/s, loss=1.5733, acc=0.3091]\n",
      "Validation: 100%|██████████| 1/1 [00:00<00:00,  1.12it/s]\n"
     ]
    },
    {
     "name": "stdout",
     "output_type": "stream",
     "text": [
      "Train Loss: 1.5319, Train Acc: 0.3091\n",
      "Val Loss: 1.6004, Val Acc: 0.2360\n",
      "\n",
      "Epoch 23/30\n"
     ]
    },
    {
     "name": "stderr",
     "output_type": "stream",
     "text": [
      "Training: 100%|██████████| 18/18 [00:01<00:00, 11.68it/s, loss=1.5829, acc=0.3124]\n",
      "Validation: 100%|██████████| 1/1 [00:00<00:00,  1.12it/s]\n"
     ]
    },
    {
     "name": "stdout",
     "output_type": "stream",
     "text": [
      "Train Loss: 1.5318, Train Acc: 0.3124\n",
      "Val Loss: 1.6001, Val Acc: 0.2400\n",
      "\n",
      "Epoch 24/30\n"
     ]
    },
    {
     "name": "stderr",
     "output_type": "stream",
     "text": [
      "Training: 100%|██████████| 18/18 [00:01<00:00, 11.52it/s, loss=1.5875, acc=0.3122]\n",
      "Validation: 100%|██████████| 1/1 [00:00<00:00,  1.12it/s]\n"
     ]
    },
    {
     "name": "stdout",
     "output_type": "stream",
     "text": [
      "Train Loss: 1.5331, Train Acc: 0.3122\n",
      "Val Loss: 1.6001, Val Acc: 0.2370\n",
      "\n",
      "Epoch 25/30\n"
     ]
    },
    {
     "name": "stderr",
     "output_type": "stream",
     "text": [
      "Training: 100%|██████████| 18/18 [00:04<00:00,  4.50it/s, loss=1.4849, acc=0.3116]\n",
      "Validation: 100%|██████████| 1/1 [00:00<00:00,  1.10it/s]\n"
     ]
    },
    {
     "name": "stdout",
     "output_type": "stream",
     "text": [
      "Train Loss: 1.5268, Train Acc: 0.3116\n",
      "Val Loss: 1.6004, Val Acc: 0.2370\n",
      "\n",
      "Epoch 26/30\n"
     ]
    },
    {
     "name": "stderr",
     "output_type": "stream",
     "text": [
      "Training: 100%|██████████| 18/18 [00:01<00:00, 11.13it/s, loss=1.5009, acc=0.3100]\n",
      "Validation: 100%|██████████| 1/1 [00:00<00:00,  1.12it/s]\n"
     ]
    },
    {
     "name": "stdout",
     "output_type": "stream",
     "text": [
      "Train Loss: 1.5300, Train Acc: 0.3100\n",
      "Val Loss: 1.6004, Val Acc: 0.2340\n",
      "\n",
      "Epoch 27/30\n"
     ]
    },
    {
     "name": "stderr",
     "output_type": "stream",
     "text": [
      "Training: 100%|██████████| 18/18 [00:01<00:00, 11.74it/s, loss=1.4522, acc=0.3091]\n",
      "Validation: 100%|██████████| 1/1 [00:00<00:00,  1.10it/s]\n"
     ]
    },
    {
     "name": "stdout",
     "output_type": "stream",
     "text": [
      "Train Loss: 1.5212, Train Acc: 0.3091\n",
      "Val Loss: 1.6001, Val Acc: 0.2440\n",
      "\n",
      "Epoch 28/30\n"
     ]
    },
    {
     "name": "stderr",
     "output_type": "stream",
     "text": [
      "Training: 100%|██████████| 18/18 [00:01<00:00, 11.38it/s, loss=1.4555, acc=0.3192]\n",
      "Validation: 100%|██████████| 1/1 [00:00<00:00,  1.09it/s]\n"
     ]
    },
    {
     "name": "stdout",
     "output_type": "stream",
     "text": [
      "Train Loss: 1.5136, Train Acc: 0.3192\n",
      "Val Loss: 1.6012, Val Acc: 0.2410\n",
      "\n",
      "Epoch 29/30\n"
     ]
    },
    {
     "name": "stderr",
     "output_type": "stream",
     "text": [
      "Training: 100%|██████████| 18/18 [00:01<00:00, 11.41it/s, loss=1.5597, acc=0.3241]\n",
      "Validation: 100%|██████████| 1/1 [00:00<00:00,  1.14it/s]\n"
     ]
    },
    {
     "name": "stdout",
     "output_type": "stream",
     "text": [
      "Train Loss: 1.5159, Train Acc: 0.3241\n",
      "Val Loss: 1.6041, Val Acc: 0.2450\n",
      "\n",
      "Epoch 30/30\n"
     ]
    },
    {
     "name": "stderr",
     "output_type": "stream",
     "text": [
      "Training: 100%|██████████| 18/18 [00:01<00:00, 11.80it/s, loss=1.4676, acc=0.3244]\n",
      "Validation: 100%|██████████| 1/1 [00:00<00:00,  1.17it/s]"
     ]
    },
    {
     "name": "stdout",
     "output_type": "stream",
     "text": [
      "Train Loss: 1.5097, Train Acc: 0.3244\n",
      "Val Loss: 1.6013, Val Acc: 0.2450\n",
      "Training completed in 1.32 minutes\n",
      "Best validation accuracy: 0.2470\n"
     ]
    },
    {
     "name": "stderr",
     "output_type": "stream",
     "text": [
      "\n"
     ]
    },
    {
     "data": {
      "text/html": [],
      "text/plain": [
       "<IPython.core.display.HTML object>"
      ]
     },
     "metadata": {},
     "output_type": "display_data"
    },
    {
     "data": {
      "text/html": [
       "<br>    <style><br>        .wandb-row {<br>            display: flex;<br>            flex-direction: row;<br>            flex-wrap: wrap;<br>            justify-content: flex-start;<br>            width: 100%;<br>        }<br>        .wandb-col {<br>            display: flex;<br>            flex-direction: column;<br>            flex-basis: 100%;<br>            flex: 1;<br>            padding: 10px;<br>        }<br>    </style><br><div class=\"wandb-row\"><div class=\"wandb-col\"><h3>Run history:</h3><br/><table class=\"wandb\"><tr><td>epoch</td><td>▁▁▁▂▂▂▂▃▃▃▃▄▄▄▄▅▅▅▅▆▆▆▆▇▇▇▇███</td></tr><tr><td>learning_rate</td><td>█▂█▅▂█▇▆▅▃▂▁██▇▇▆▅▅▄▃▂▂▁▁█████</td></tr><tr><td>train_accuracy</td><td>▁▂▂▂▃▃▃▄▄▄▅▄▅▅▅▆▆▇▇▇▇▇▇▇▇▇▇███</td></tr><tr><td>train_loss</td><td>█▆▆▅▄▄▄▃▃▃▃▃▃▃▃▂▂▂▂▂▂▂▂▂▁▁▁▁▁▁</td></tr><tr><td>val_accuracy</td><td>▃▁▄▅▄▅▄▅▅▆▆▅▆▆██▇▆▆▆▆▆▇▆▆▆█▇██</td></tr><tr><td>val_loss</td><td>▅▆███▇▅▄▃▃▃▃▃▂▂▂▁▁▂▁▁▁▁▁▁▁▁▁▂▁</td></tr></table><br/></div><div class=\"wandb-col\"><h3>Run summary:</h3><br/><table class=\"wandb\"><tr><td>best_val_accuracy</td><td>0.247</td></tr><tr><td>epoch</td><td>29</td></tr><tr><td>learning_rate</td><td>0.00094</td></tr><tr><td>train_accuracy</td><td>0.32445</td></tr><tr><td>train_loss</td><td>1.50972</td></tr><tr><td>val_accuracy</td><td>0.245</td></tr><tr><td>val_loss</td><td>1.6013</td></tr></table><br/></div></div>"
      ],
      "text/plain": [
       "<IPython.core.display.HTML object>"
      ]
     },
     "metadata": {},
     "output_type": "display_data"
    },
    {
     "data": {
      "text/html": [
       " View run <strong style=\"color:#cdcd00\">optimized-qa-classifier-2025-04-08T00:11:14</strong> at: <a href='https://wandb.ai/nevinhelfenstein-hslu-nlp-fs25/hslu-fs25-nlp-embedding-qa/runs/s28xqn8z' target=\"_blank\">https://wandb.ai/nevinhelfenstein-hslu-nlp-fs25/hslu-fs25-nlp-embedding-qa/runs/s28xqn8z</a><br> View project at: <a href='https://wandb.ai/nevinhelfenstein-hslu-nlp-fs25/hslu-fs25-nlp-embedding-qa' target=\"_blank\">https://wandb.ai/nevinhelfenstein-hslu-nlp-fs25/hslu-fs25-nlp-embedding-qa</a><br>Synced 5 W&B file(s), 0 media file(s), 0 artifact file(s) and 0 other file(s)"
      ],
      "text/plain": [
       "<IPython.core.display.HTML object>"
      ]
     },
     "metadata": {},
     "output_type": "display_data"
    },
    {
     "data": {
      "text/html": [
       "Find logs at: <code>./wandb/run-20250408_001114-s28xqn8z/logs</code>"
      ],
      "text/plain": [
       "<IPython.core.display.HTML object>"
      ]
     },
     "metadata": {},
     "output_type": "display_data"
    },
    {
     "name": "stdout",
     "output_type": "stream",
     "text": [
      "Training complete! Best validation accuracy: 0.2470\n"
     ]
    }
   ],
   "source": [
    "print(\"Starting training...\")\n",
    "num_epochs = embedding_run.config.epochs\n",
    "trained_model, best_accuracy = train_qa_model(\n",
    "    qa_model, \n",
    "    criterion, \n",
    "    optimizer, \n",
    "    scheduler, \n",
    "    train_loader, \n",
    "    valid_loader, \n",
    "    num_epochs,\n",
    "    gradient_clip_val=embedding_run.config.gradient_clipping\n",
    ")\n",
    "\n",
    "print(f\"Training complete! Best validation accuracy: {best_accuracy:.4f}\")"
   ]
  },
  {
   "cell_type": "markdown",
   "metadata": {},
   "source": [
    "## Initializing the RNN Model\n",
    "\n",
    "Before training, I set up the RNN model using the same 300-dimensional fast text embeddings.\n",
    "\n",
    "- The model uses `hidden_dim=128` and a `dropout_rate=0.2`, a bit different than the embedding model.\n",
    "- I move the model to GPU if available.\n",
    "- A quick model summary is printed to confirm everything is set up correctly.\n"
   ]
  },
  {
   "cell_type": "code",
   "execution_count": 36,
   "metadata": {},
   "outputs": [
    {
     "name": "stdout",
     "output_type": "stream",
     "text": [
      "Using device: cuda\n",
      "QARNNModel(\n",
      "  (lstm): LSTM(300, 128, num_layers=2, batch_first=True, dropout=0.2, bidirectional=True)\n",
      "  (classifier): Sequential(\n",
      "    (0): Linear(in_features=256, out_features=128, bias=True)\n",
      "    (1): ReLU()\n",
      "    (2): Dropout(p=0.2, inplace=False)\n",
      "    (3): Linear(in_features=128, out_features=1, bias=True)\n",
      "  )\n",
      ")\n"
     ]
    }
   ],
   "source": [
    "embedding_dim = 300\n",
    "hidden_dim = 128\n",
    "\n",
    "rnn_model = QARNNModel(\n",
    "    embedding_dim=embedding_dim,\n",
    "    hidden_dim=hidden_dim,\n",
    "    dropout_rate=0.2\n",
    ")\n",
    "\n",
    "device = torch.device(\"cuda\" if torch.cuda.is_available() else \"cpu\")\n",
    "print(f\"Using device: {device}\")\n",
    "rnn_model = rnn_model.to(device)\n",
    "\n",
    "print(rnn_model)\n"
   ]
  },
  {
   "cell_type": "markdown",
   "metadata": {},
   "source": [
    "## Training Setup for RNN Model\n",
    "\n",
    "I use **Weights & Biases (wandb)** to log training progress and track all key hyperparameters for the RNN model.\n",
    "\n",
    "- The run is named and initialized with values stored in `wandb.config`.\n",
    "- I log `embedding_dim`, `hidden_dim`, `dropout_rate`, `batch_size`, `weight_decay`, and `learning_rate`.\n",
    "- I also enable `wandb.watch()` to track gradients and model parameters during training.\n",
    "\n",
    "These hyperparameters were chosen based on earlier experiments and adjusted using my external hyperparameter tuning script.\n"
   ]
  },
  {
   "cell_type": "code",
   "execution_count": 37,
   "metadata": {},
   "outputs": [
    {
     "data": {
      "text/html": [
       "Tracking run with wandb version 0.19.8"
      ],
      "text/plain": [
       "<IPython.core.display.HTML object>"
      ]
     },
     "metadata": {},
     "output_type": "display_data"
    },
    {
     "data": {
      "text/html": [
       "Run data is saved locally in <code>/home/nevin/projects/HSLU.NLP/course_project/wandb/run-20250408_001236-l9efckpk</code>"
      ],
      "text/plain": [
       "<IPython.core.display.HTML object>"
      ]
     },
     "metadata": {},
     "output_type": "display_data"
    },
    {
     "data": {
      "text/html": [
       "Syncing run <strong><a href='https://wandb.ai/nevinhelfenstein-hslu-nlp-fs25/hslu-fs25-nlp-rnn-qa/runs/l9efckpk' target=\"_blank\">rnn-qa-model-2025-04-08T00:12:36</a></strong> to <a href='https://wandb.ai/nevinhelfenstein-hslu-nlp-fs25/hslu-fs25-nlp-rnn-qa' target=\"_blank\">Weights & Biases</a> (<a href='https://wandb.me/developer-guide' target=\"_blank\">docs</a>)<br>"
      ],
      "text/plain": [
       "<IPython.core.display.HTML object>"
      ]
     },
     "metadata": {},
     "output_type": "display_data"
    },
    {
     "data": {
      "text/html": [
       " View project at <a href='https://wandb.ai/nevinhelfenstein-hslu-nlp-fs25/hslu-fs25-nlp-rnn-qa' target=\"_blank\">https://wandb.ai/nevinhelfenstein-hslu-nlp-fs25/hslu-fs25-nlp-rnn-qa</a>"
      ],
      "text/plain": [
       "<IPython.core.display.HTML object>"
      ]
     },
     "metadata": {},
     "output_type": "display_data"
    },
    {
     "data": {
      "text/html": [
       " View run at <a href='https://wandb.ai/nevinhelfenstein-hslu-nlp-fs25/hslu-fs25-nlp-rnn-qa/runs/l9efckpk' target=\"_blank\">https://wandb.ai/nevinhelfenstein-hslu-nlp-fs25/hslu-fs25-nlp-rnn-qa/runs/l9efckpk</a>"
      ],
      "text/plain": [
       "<IPython.core.display.HTML object>"
      ]
     },
     "metadata": {},
     "output_type": "display_data"
    }
   ],
   "source": [
    "rnn_run = wandb.init(\n",
    "  project=\"hslu-fs25-nlp-rnn-qa\",\n",
    "  entity=\"nevinhelfenstein-hslu-nlp-fs25\",\n",
    "  name=f\"rnn-qa-model-{datetime.now().strftime('%Y-%m-%dT%H:%M:%S')}\",\n",
    "  config={\n",
    "    \"model\": \"qa_rnn_model\",\n",
    "    \"embedding_dim\": embedding_dim,\n",
    "    \"hidden_dim\": hidden_dim,\n",
    "    \"batch_size\": 32,\n",
    "    \"epochs\": 30,\n",
    "    \"dropout_rate\": 0.2,\n",
    "    \"weight_decay\": 1e-7,\n",
    "    \"learning_rate\": 0.01,\n",
    "  },\n",
    "  reinit=True,\n",
    ")\n",
    "\n",
    "wandb.watch(rnn_model, log=\"all\")"
   ]
  },
  {
   "cell_type": "markdown",
   "metadata": {},
   "source": [
    "## RNN Optimizer and Scheduler\n",
    "\n",
    "For training the RNN model, I use the **Adam** optimizer with:\n",
    "- `lr=1e-3` for fast convergence\n",
    "- `weight_decay=1e-6` to reduce overfitting\n",
    "\n",
    "The learning rate is scheduled using **OneCycleLR**, which:\n",
    "- Starts with a warmup phase (30% of training)\n",
    "- Gradually decays the learning rate using a cosine strategy\n",
    "- Helps improve convergence for sequence models\n",
    "\n",
    "This setup worked better for the RNN than other schedulers I tried.\n"
   ]
  },
  {
   "cell_type": "code",
   "execution_count": 38,
   "metadata": {},
   "outputs": [],
   "source": [
    "criterion = nn.CrossEntropyLoss()\n",
    "\n",
    "optimizer = torch.optim.Adam(\n",
    "    rnn_model.parameters(),\n",
    "    lr=1e-3,\n",
    "    weight_decay=1e-6\n",
    ")\n",
    "\n",
    "from torch.optim.lr_scheduler import OneCycleLR\n",
    "\n",
    "total_steps = rnn_run.config.epochs * len(train_rnn_loader)\n",
    "scheduler = OneCycleLR(\n",
    "    optimizer,\n",
    "    max_lr=1e-3,\n",
    "    total_steps=total_steps,\n",
    "    pct_start=0.3,\n",
    "    div_factor=25,\n",
    "    final_div_factor=1000,\n",
    "    anneal_strategy='cos'\n",
    ")"
   ]
  },
  {
   "cell_type": "code",
   "execution_count": 39,
   "metadata": {},
   "outputs": [],
   "source": [
    "checkpoints_path = \"./checkpoints/rnn_model\"\n",
    "os.makedirs(checkpoints_path, exist_ok=True)"
   ]
  },
  {
   "cell_type": "markdown",
   "metadata": {},
   "source": [
    "## RNN Training Loop and Model Checks\n",
    "\n",
    "The training loop logs loss and accuracy for each epoch and uses **OneCycleLR** to update the learning rate during training. The best model is saved based on validation accuracy.\n",
    "\n",
    "Before training, I run basic checks to:\n",
    "- Confirm class balance in the training set\n",
    "- Verify that individual and batched inputs work correctly\n",
    "- Check output shapes and logits\n",
    "\n",
    "These checks help ensure the model runs smoothly and catches any issues early.\n"
   ]
  },
  {
   "cell_type": "code",
   "execution_count": 40,
   "metadata": {},
   "outputs": [],
   "source": [
    "def train_rnn_model(model, criterion, optimizer, scheduler, train_loader, valid_loader, num_epochs, device, checkpoints_path=None, log_wandb=True, gradient_clip_val=1.0):\n",
    "    \"\"\"Training function for RNN model that matches the embedding model format\"\"\"\n",
    "    best_val_accuracy = 0.0\n",
    "    training_start_time = time.time()\n",
    "    \n",
    "    for epoch in range(num_epochs):\n",
    "        print(f\"\\nEpoch {epoch+1}/{num_epochs}\")\n",
    "        \n",
    "        model.train()\n",
    "        train_loss = 0.0\n",
    "        train_correct = 0\n",
    "        train_total = 0\n",
    "        \n",
    "        with tqdm(train_loader, desc=\"Training\") as progress_bar:\n",
    "            for batch_data in progress_bar:\n",
    "                padded_sequences, sequence_lengths, indices, answers = batch_data\n",
    "\n",
    "                padded_sequences = padded_sequences.to(device)\n",
    "                sequence_lengths = sequence_lengths.to(device)\n",
    "                indices = indices.to(device)\n",
    "                answers = answers.to(device)\n",
    "\n",
    "                optimizer.zero_grad()\n",
    "                outputs = model(padded_sequences, sequence_lengths, indices)\n",
    "                loss = criterion(outputs, answers)\n",
    " \n",
    "                loss.backward()\n",
    "                if gradient_clip_val > 0:\n",
    "                    nn.utils.clip_grad_norm_(model.parameters(), gradient_clip_val)\n",
    "                optimizer.step()\n",
    "                if scheduler is not None:\n",
    "                    scheduler.step()\n",
    "\n",
    "                train_loss += loss.item()\n",
    "                _, predicted = torch.max(outputs, 1)\n",
    "                train_total += answers.size(0)\n",
    "                train_correct += (predicted == answers).sum().item()\n",
    "\n",
    "                progress_bar.set_postfix({\n",
    "                    'loss': f\"{loss.item():.4f}\",\n",
    "                    'acc': f\"{train_correct/train_total:.4f}\"\n",
    "                })\n",
    "        \n",
    "        train_accuracy = train_correct / train_total\n",
    "        avg_train_loss = train_loss / len(train_loader)\n",
    "\n",
    "        model.eval()\n",
    "        val_loss = 0.0\n",
    "        val_correct = 0\n",
    "        val_total = 0\n",
    "        \n",
    "        with torch.no_grad():\n",
    "            for batch_data in tqdm(valid_loader, desc=\"Validation\"):\n",
    "                padded_sequences, sequence_lengths, indices, answers = batch_data\n",
    "\n",
    "                padded_sequences = padded_sequences.to(device)\n",
    "                sequence_lengths = sequence_lengths.to(device)\n",
    "                indices = indices.to(device)\n",
    "                answers = answers.to(device)\n",
    "\n",
    "                outputs = model(padded_sequences, sequence_lengths, indices)\n",
    "                loss = criterion(outputs, answers)\n",
    "\n",
    "                val_loss += loss.item()\n",
    "                _, predicted = torch.max(outputs, 1)\n",
    "                val_total += answers.size(0)\n",
    "                val_correct += (predicted == answers).sum().item()\n",
    "        \n",
    "        val_accuracy = val_correct / val_total\n",
    "        avg_val_loss = val_loss / len(valid_loader)\n",
    "\n",
    "        if val_accuracy > best_val_accuracy:\n",
    "            print(f\"Validation accuracy improved from {best_val_accuracy:.4f} to {val_accuracy:.4f}\")\n",
    "            best_val_accuracy = val_accuracy\n",
    "            save_checkpoint(model, optimizer, epoch, scheduler, \n",
    "                          checkpoints_path, \"best_rnn_model\", val_accuracy)\n",
    "\n",
    "        print(f\"Train Loss: {avg_train_loss:.4f}, Train Acc: {train_accuracy:.4f}\")\n",
    "        print(f\"Val Loss: {avg_val_loss:.4f}, Val Acc: {val_accuracy:.4f}\")\n",
    "\n",
    "        if log_wandb:\n",
    "            wandb.log({\n",
    "                \"epoch\": epoch,\n",
    "                \"train_loss\": avg_train_loss,\n",
    "                \"train_accuracy\": train_accuracy,\n",
    "                \"val_loss\": avg_val_loss,\n",
    "                \"val_accuracy\": val_accuracy,\n",
    "                \"learning_rate\": optimizer.param_groups[0]['lr']\n",
    "            })\n",
    "    \n",
    "    print(f\"Training completed in {(time.time() - training_start_time)/60:.2f} minutes\")\n",
    "    print(f\"Best validation accuracy: {best_val_accuracy:.4f}\")\n",
    "\n",
    "    if log_wandb:\n",
    "        wandb.run.summary[\"best_val_accuracy\"] = best_val_accuracy\n",
    "        wandb.finish()\n",
    "    \n",
    "    return model, best_val_accuracy"
   ]
  },
  {
   "cell_type": "code",
   "execution_count": 41,
   "metadata": {},
   "outputs": [
    {
     "name": "stdout",
     "output_type": "stream",
     "text": [
      "Performing basic checks...\n",
      "Class distribution (first 1000 samples): [198, 199, 233, 200, 170]\n",
      "Error during basic checks: 'QARNNModel' object has no attribute 'process_sequence'\n"
     ]
    }
   ],
   "source": [
    "def check_rnn_model():\n",
    "    print(\"Performing basic checks...\")\n",
    "\n",
    "    class_counts = [0] * 5\n",
    "    for i in range(min(1000, len(train_rnn_dataset))):\n",
    "        _, _, answer = train_rnn_dataset[i]\n",
    "        class_counts[answer.item()] += 1\n",
    "    \n",
    "    print(f\"Class distribution (first 1000 samples): {class_counts}\")\n",
    "\n",
    "    model = rnn_model.eval()\n",
    "    with torch.no_grad():\n",
    "        sequences, lengths, answer = train_rnn_dataset[0]\n",
    "\n",
    "        example_logits = []\n",
    "        for sequence in sequences:\n",
    "            sequence = sequence.to(device)\n",
    "            logit = model.process_sequence(sequence)\n",
    "            example_logits.append(logit)\n",
    "\n",
    "        logits = torch.cat(example_logits)\n",
    "        print(f\"Logits shape for single example: {logits.shape}\")\n",
    "\n",
    "        _, predicted = torch.max(logits, 0)\n",
    "        print(f\"Predicted: {predicted.item()}, Actual: {answer.item()}\")\n",
    "\n",
    "    with torch.no_grad():\n",
    "        batch = next(iter(train_loader))\n",
    "        batch_sequences, batch_lengths, batch_answers = batch\n",
    "\n",
    "        batch_logits = model(batch_sequences, batch_lengths)\n",
    "        print(f\"Batch logits shape: {batch_logits.shape}\")\n",
    "\n",
    "        _, batch_predicted = torch.max(batch_logits, 1)\n",
    "        batch_answers = batch_answers.to(device)\n",
    "        batch_accuracy = (batch_predicted == batch_answers).float().mean()\n",
    "        print(f\"Batch accuracy: {batch_accuracy.item():.4f}\")\n",
    "    \n",
    "    print(\"Checks complete.\")\n",
    "\n",
    "try:\n",
    "    check_rnn_model()\n",
    "    print(\"Basic checks passed!\")\n",
    "except Exception as e:\n",
    "    print(f\"Error during basic checks: {e}\")"
   ]
  },
  {
   "cell_type": "markdown",
   "metadata": {},
   "source": [
    "## Training the RNN Model\n",
    "\n",
    "I now start training the RNN model using the settings from earlier.\n",
    "\n",
    "- The model uses preloaded fast text embeddings and runs for **30 epochs**.\n",
    "- Training uses **OneCycleLR** for scheduling and **cross-entropy loss** for optimization.\n",
    "- I also apply **dropout** and **gradient clipping** to help with generalization.\n",
    "\n",
    "After training, I log the **best validation accuracy** for further evaluation.\n"
   ]
  },
  {
   "cell_type": "code",
   "execution_count": 42,
   "metadata": {},
   "outputs": [
    {
     "name": "stdout",
     "output_type": "stream",
     "text": [
      "Starting RNN model training...\n",
      "\n",
      "Epoch 1/30\n"
     ]
    },
    {
     "name": "stderr",
     "output_type": "stream",
     "text": [
      "Training: 100%|██████████| 69/69 [00:07<00:00,  8.75it/s, loss=1.6078, acc=0.2072]\n",
      "Validation: 100%|██████████| 4/4 [00:00<00:00,  4.12it/s]\n"
     ]
    },
    {
     "name": "stdout",
     "output_type": "stream",
     "text": [
      "Validation accuracy improved from 0.0000 to 0.2020\n",
      "Checkpoint saved: ./checkpoints/rnn_model/best_rnn_model.pt\n",
      "Train Loss: 1.6093, Train Acc: 0.2072\n",
      "Val Loss: 1.6094, Val Acc: 0.2020\n",
      "\n",
      "Epoch 2/30\n"
     ]
    },
    {
     "name": "stderr",
     "output_type": "stream",
     "text": [
      "Training: 100%|██████████| 69/69 [00:10<00:00,  6.86it/s, loss=1.6099, acc=0.2057]\n",
      "Validation: 100%|██████████| 4/4 [00:01<00:00,  3.86it/s]\n"
     ]
    },
    {
     "name": "stdout",
     "output_type": "stream",
     "text": [
      "Validation accuracy improved from 0.2020 to 0.2340\n",
      "Checkpoint saved: ./checkpoints/rnn_model/best_rnn_model.pt\n",
      "Train Loss: 1.6094, Train Acc: 0.2057\n",
      "Val Loss: 1.6093, Val Acc: 0.2340\n",
      "\n",
      "Epoch 3/30\n"
     ]
    },
    {
     "name": "stderr",
     "output_type": "stream",
     "text": [
      "Training: 100%|██████████| 69/69 [00:07<00:00,  9.33it/s, loss=1.6089, acc=0.2095]\n",
      "Validation: 100%|██████████| 4/4 [00:01<00:00,  3.87it/s]\n"
     ]
    },
    {
     "name": "stdout",
     "output_type": "stream",
     "text": [
      "Train Loss: 1.6090, Train Acc: 0.2095\n",
      "Val Loss: 1.6085, Val Acc: 0.2170\n",
      "\n",
      "Epoch 4/30\n"
     ]
    },
    {
     "name": "stderr",
     "output_type": "stream",
     "text": [
      "Training: 100%|██████████| 69/69 [00:07<00:00,  9.18it/s, loss=1.5869, acc=0.2118]\n",
      "Validation: 100%|██████████| 4/4 [00:00<00:00,  4.11it/s]\n"
     ]
    },
    {
     "name": "stdout",
     "output_type": "stream",
     "text": [
      "Train Loss: 1.6051, Train Acc: 0.2118\n",
      "Val Loss: 1.6008, Val Acc: 0.2230\n",
      "\n",
      "Epoch 5/30\n"
     ]
    },
    {
     "name": "stderr",
     "output_type": "stream",
     "text": [
      "Training: 100%|██████████| 69/69 [00:07<00:00,  8.70it/s, loss=1.6436, acc=0.2214]\n",
      "Validation: 100%|██████████| 4/4 [00:01<00:00,  3.91it/s]\n"
     ]
    },
    {
     "name": "stdout",
     "output_type": "stream",
     "text": [
      "Train Loss: 1.6009, Train Acc: 0.2214\n",
      "Val Loss: 1.5984, Val Acc: 0.2210\n",
      "\n",
      "Epoch 6/30\n"
     ]
    },
    {
     "name": "stderr",
     "output_type": "stream",
     "text": [
      "Training: 100%|██████████| 69/69 [00:09<00:00,  6.91it/s, loss=1.5669, acc=0.2253]\n",
      "Validation: 100%|██████████| 4/4 [00:00<00:00,  4.11it/s]\n"
     ]
    },
    {
     "name": "stdout",
     "output_type": "stream",
     "text": [
      "Train Loss: 1.5937, Train Acc: 0.2253\n",
      "Val Loss: 1.5962, Val Acc: 0.2080\n",
      "\n",
      "Epoch 7/30\n"
     ]
    },
    {
     "name": "stderr",
     "output_type": "stream",
     "text": [
      "Training: 100%|██████████| 69/69 [00:07<00:00,  9.31it/s, loss=1.5825, acc=0.2240]\n",
      "Validation: 100%|██████████| 4/4 [00:00<00:00,  4.18it/s]\n"
     ]
    },
    {
     "name": "stdout",
     "output_type": "stream",
     "text": [
      "Train Loss: 1.5899, Train Acc: 0.2240\n",
      "Val Loss: 1.5938, Val Acc: 0.2210\n",
      "\n",
      "Epoch 8/30\n"
     ]
    },
    {
     "name": "stderr",
     "output_type": "stream",
     "text": [
      "Training: 100%|██████████| 69/69 [00:07<00:00,  9.12it/s, loss=1.5765, acc=0.2290]\n",
      "Validation: 100%|██████████| 4/4 [00:01<00:00,  3.97it/s]\n"
     ]
    },
    {
     "name": "stdout",
     "output_type": "stream",
     "text": [
      "Train Loss: 1.5856, Train Acc: 0.2290\n",
      "Val Loss: 1.5900, Val Acc: 0.2140\n",
      "\n",
      "Epoch 9/30\n"
     ]
    },
    {
     "name": "stderr",
     "output_type": "stream",
     "text": [
      "Training: 100%|██████████| 69/69 [00:07<00:00,  9.10it/s, loss=1.6037, acc=0.2404]\n",
      "Validation: 100%|██████████| 4/4 [00:01<00:00,  3.82it/s]\n"
     ]
    },
    {
     "name": "stdout",
     "output_type": "stream",
     "text": [
      "Train Loss: 1.5821, Train Acc: 0.2404\n",
      "Val Loss: 1.5999, Val Acc: 0.2140\n",
      "\n",
      "Epoch 10/30\n"
     ]
    },
    {
     "name": "stderr",
     "output_type": "stream",
     "text": [
      "Training: 100%|██████████| 69/69 [00:09<00:00,  7.11it/s, loss=1.5704, acc=0.2397]\n",
      "Validation: 100%|██████████| 4/4 [00:01<00:00,  3.90it/s]\n"
     ]
    },
    {
     "name": "stdout",
     "output_type": "stream",
     "text": [
      "Train Loss: 1.5775, Train Acc: 0.2397\n",
      "Val Loss: 1.5979, Val Acc: 0.2100\n",
      "\n",
      "Epoch 11/30\n"
     ]
    },
    {
     "name": "stderr",
     "output_type": "stream",
     "text": [
      "Training: 100%|██████████| 69/69 [00:07<00:00,  9.31it/s, loss=1.6125, acc=0.2413]\n",
      "Validation: 100%|██████████| 4/4 [00:01<00:00,  3.82it/s]\n"
     ]
    },
    {
     "name": "stdout",
     "output_type": "stream",
     "text": [
      "Train Loss: 1.5753, Train Acc: 0.2413\n",
      "Val Loss: 1.6032, Val Acc: 0.2070\n",
      "\n",
      "Epoch 12/30\n"
     ]
    },
    {
     "name": "stderr",
     "output_type": "stream",
     "text": [
      "Training: 100%|██████████| 69/69 [00:07<00:00,  9.14it/s, loss=1.5738, acc=0.2407]\n",
      "Validation: 100%|██████████| 4/4 [00:01<00:00,  3.83it/s]\n"
     ]
    },
    {
     "name": "stdout",
     "output_type": "stream",
     "text": [
      "Train Loss: 1.5698, Train Acc: 0.2407\n",
      "Val Loss: 1.6084, Val Acc: 0.2080\n",
      "\n",
      "Epoch 13/30\n"
     ]
    },
    {
     "name": "stderr",
     "output_type": "stream",
     "text": [
      "Training: 100%|██████████| 69/69 [00:07<00:00,  9.10it/s, loss=1.6008, acc=0.2457]\n",
      "Validation: 100%|██████████| 4/4 [00:00<00:00,  4.10it/s]\n"
     ]
    },
    {
     "name": "stdout",
     "output_type": "stream",
     "text": [
      "Train Loss: 1.5648, Train Acc: 0.2457\n",
      "Val Loss: 1.6068, Val Acc: 0.2240\n",
      "\n",
      "Epoch 14/30\n"
     ]
    },
    {
     "name": "stderr",
     "output_type": "stream",
     "text": [
      "Training: 100%|██████████| 69/69 [00:09<00:00,  7.02it/s, loss=1.5251, acc=0.2571]\n",
      "Validation: 100%|██████████| 4/4 [00:00<00:00,  4.21it/s]\n"
     ]
    },
    {
     "name": "stdout",
     "output_type": "stream",
     "text": [
      "Train Loss: 1.5571, Train Acc: 0.2571\n",
      "Val Loss: 1.5988, Val Acc: 0.2090\n",
      "\n",
      "Epoch 15/30\n"
     ]
    },
    {
     "name": "stderr",
     "output_type": "stream",
     "text": [
      "Training: 100%|██████████| 69/69 [00:07<00:00,  9.04it/s, loss=1.5382, acc=0.2621]\n",
      "Validation: 100%|██████████| 4/4 [00:00<00:00,  4.09it/s]\n"
     ]
    },
    {
     "name": "stdout",
     "output_type": "stream",
     "text": [
      "Train Loss: 1.5497, Train Acc: 0.2621\n",
      "Val Loss: 1.6149, Val Acc: 0.2150\n",
      "\n",
      "Epoch 16/30\n"
     ]
    },
    {
     "name": "stderr",
     "output_type": "stream",
     "text": [
      "Training: 100%|██████████| 69/69 [00:07<00:00,  9.27it/s, loss=1.4673, acc=0.2729]\n",
      "Validation: 100%|██████████| 4/4 [00:00<00:00,  4.00it/s]\n"
     ]
    },
    {
     "name": "stdout",
     "output_type": "stream",
     "text": [
      "Train Loss: 1.5402, Train Acc: 0.2729\n",
      "Val Loss: 1.6328, Val Acc: 0.2120\n",
      "\n",
      "Epoch 17/30\n"
     ]
    },
    {
     "name": "stderr",
     "output_type": "stream",
     "text": [
      "Training: 100%|██████████| 69/69 [00:09<00:00,  7.12it/s, loss=1.5793, acc=0.2739]\n",
      "Validation: 100%|██████████| 4/4 [00:01<00:00,  3.98it/s]\n"
     ]
    },
    {
     "name": "stdout",
     "output_type": "stream",
     "text": [
      "Train Loss: 1.5333, Train Acc: 0.2739\n",
      "Val Loss: 1.6535, Val Acc: 0.2100\n",
      "\n",
      "Epoch 18/30\n"
     ]
    },
    {
     "name": "stderr",
     "output_type": "stream",
     "text": [
      "Training: 100%|██████████| 69/69 [00:07<00:00,  8.98it/s, loss=1.3897, acc=0.2891]\n",
      "Validation: 100%|██████████| 4/4 [00:00<00:00,  4.13it/s]\n"
     ]
    },
    {
     "name": "stdout",
     "output_type": "stream",
     "text": [
      "Train Loss: 1.5136, Train Acc: 0.2891\n",
      "Val Loss: 1.6603, Val Acc: 0.2050\n",
      "\n",
      "Epoch 19/30\n"
     ]
    },
    {
     "name": "stderr",
     "output_type": "stream",
     "text": [
      "Training: 100%|██████████| 69/69 [00:07<00:00,  9.31it/s, loss=1.4452, acc=0.2921]\n",
      "Validation: 100%|██████████| 4/4 [00:00<00:00,  4.08it/s]\n"
     ]
    },
    {
     "name": "stdout",
     "output_type": "stream",
     "text": [
      "Validation accuracy improved from 0.2340 to 0.2430\n",
      "Checkpoint saved: ./checkpoints/rnn_model/best_rnn_model.pt\n",
      "Train Loss: 1.5023, Train Acc: 0.2921\n",
      "Val Loss: 1.6914, Val Acc: 0.2430\n",
      "\n",
      "Epoch 20/30\n"
     ]
    },
    {
     "name": "stderr",
     "output_type": "stream",
     "text": [
      "Training: 100%|██████████| 69/69 [00:07<00:00,  9.16it/s, loss=1.3184, acc=0.3049]\n",
      "Validation: 100%|██████████| 4/4 [00:01<00:00,  3.96it/s]\n"
     ]
    },
    {
     "name": "stdout",
     "output_type": "stream",
     "text": [
      "Train Loss: 1.4861, Train Acc: 0.3049\n",
      "Val Loss: 1.6854, Val Acc: 0.2370\n",
      "\n",
      "Epoch 21/30\n"
     ]
    },
    {
     "name": "stderr",
     "output_type": "stream",
     "text": [
      "Training: 100%|██████████| 69/69 [00:09<00:00,  6.91it/s, loss=1.5057, acc=0.3119]\n",
      "Validation: 100%|██████████| 4/4 [00:00<00:00,  4.17it/s]\n"
     ]
    },
    {
     "name": "stdout",
     "output_type": "stream",
     "text": [
      "Train Loss: 1.4765, Train Acc: 0.3119\n",
      "Val Loss: 1.6937, Val Acc: 0.2350\n",
      "\n",
      "Epoch 22/30\n"
     ]
    },
    {
     "name": "stderr",
     "output_type": "stream",
     "text": [
      "Training: 100%|██████████| 69/69 [00:08<00:00,  8.00it/s, loss=1.4162, acc=0.3303]\n",
      "Validation: 100%|██████████| 4/4 [00:01<00:00,  3.56it/s]\n"
     ]
    },
    {
     "name": "stdout",
     "output_type": "stream",
     "text": [
      "Train Loss: 1.4610, Train Acc: 0.3303\n",
      "Val Loss: 1.6942, Val Acc: 0.2380\n",
      "\n",
      "Epoch 23/30\n"
     ]
    },
    {
     "name": "stderr",
     "output_type": "stream",
     "text": [
      "Training: 100%|██████████| 69/69 [00:07<00:00,  9.14it/s, loss=1.4851, acc=0.3306]\n",
      "Validation: 100%|██████████| 4/4 [00:01<00:00,  3.70it/s]\n"
     ]
    },
    {
     "name": "stdout",
     "output_type": "stream",
     "text": [
      "Train Loss: 1.4486, Train Acc: 0.3306\n",
      "Val Loss: 1.7316, Val Acc: 0.2370\n",
      "\n",
      "Epoch 24/30\n"
     ]
    },
    {
     "name": "stderr",
     "output_type": "stream",
     "text": [
      "Training: 100%|██████████| 69/69 [00:07<00:00,  9.23it/s, loss=1.4752, acc=0.3398]\n",
      "Validation: 100%|██████████| 4/4 [00:00<00:00,  4.01it/s]\n"
     ]
    },
    {
     "name": "stdout",
     "output_type": "stream",
     "text": [
      "Train Loss: 1.4382, Train Acc: 0.3398\n",
      "Val Loss: 1.7519, Val Acc: 0.2430\n",
      "\n",
      "Epoch 25/30\n"
     ]
    },
    {
     "name": "stderr",
     "output_type": "stream",
     "text": [
      "Training: 100%|██████████| 69/69 [00:10<00:00,  6.85it/s, loss=1.3805, acc=0.3486]\n",
      "Validation: 100%|██████████| 4/4 [00:01<00:00,  3.87it/s]\n"
     ]
    },
    {
     "name": "stdout",
     "output_type": "stream",
     "text": [
      "Train Loss: 1.4196, Train Acc: 0.3486\n",
      "Val Loss: 1.7639, Val Acc: 0.2350\n",
      "\n",
      "Epoch 26/30\n"
     ]
    },
    {
     "name": "stderr",
     "output_type": "stream",
     "text": [
      "Training: 100%|██████████| 69/69 [00:07<00:00,  9.11it/s, loss=1.4535, acc=0.3469]\n",
      "Validation: 100%|██████████| 4/4 [00:00<00:00,  4.09it/s]\n"
     ]
    },
    {
     "name": "stdout",
     "output_type": "stream",
     "text": [
      "Validation accuracy improved from 0.2430 to 0.2450\n",
      "Checkpoint saved: ./checkpoints/rnn_model/best_rnn_model.pt\n",
      "Train Loss: 1.4125, Train Acc: 0.3469\n",
      "Val Loss: 1.7722, Val Acc: 0.2450\n",
      "\n",
      "Epoch 27/30\n"
     ]
    },
    {
     "name": "stderr",
     "output_type": "stream",
     "text": [
      "Training: 100%|██████████| 69/69 [00:07<00:00,  8.90it/s, loss=1.4526, acc=0.3501]\n",
      "Validation: 100%|██████████| 4/4 [00:01<00:00,  3.79it/s]\n"
     ]
    },
    {
     "name": "stdout",
     "output_type": "stream",
     "text": [
      "Train Loss: 1.4091, Train Acc: 0.3501\n",
      "Val Loss: 1.8032, Val Acc: 0.2260\n",
      "\n",
      "Epoch 28/30\n"
     ]
    },
    {
     "name": "stderr",
     "output_type": "stream",
     "text": [
      "Training: 100%|██████████| 69/69 [00:07<00:00,  9.36it/s, loss=1.3359, acc=0.3575]\n",
      "Validation: 100%|██████████| 4/4 [00:03<00:00,  1.20it/s]\n"
     ]
    },
    {
     "name": "stdout",
     "output_type": "stream",
     "text": [
      "Train Loss: 1.3989, Train Acc: 0.3575\n",
      "Val Loss: 1.8002, Val Acc: 0.2430\n",
      "\n",
      "Epoch 29/30\n"
     ]
    },
    {
     "name": "stderr",
     "output_type": "stream",
     "text": [
      "Training: 100%|██████████| 69/69 [00:07<00:00,  9.12it/s, loss=1.3176, acc=0.3540]\n",
      "Validation: 100%|██████████| 4/4 [00:01<00:00,  4.00it/s]\n"
     ]
    },
    {
     "name": "stdout",
     "output_type": "stream",
     "text": [
      "Train Loss: 1.3974, Train Acc: 0.3540\n",
      "Val Loss: 1.8022, Val Acc: 0.2300\n",
      "\n",
      "Epoch 30/30\n"
     ]
    },
    {
     "name": "stderr",
     "output_type": "stream",
     "text": [
      "Training: 100%|██████████| 69/69 [00:07<00:00,  9.48it/s, loss=1.3401, acc=0.3616]\n",
      "Validation: 100%|██████████| 4/4 [00:01<00:00,  3.67it/s]"
     ]
    },
    {
     "name": "stdout",
     "output_type": "stream",
     "text": [
      "Train Loss: 1.3963, Train Acc: 0.3616\n",
      "Val Loss: 1.8023, Val Acc: 0.2340\n",
      "Training completed in 4.62 minutes\n",
      "Best validation accuracy: 0.2450\n"
     ]
    },
    {
     "name": "stderr",
     "output_type": "stream",
     "text": [
      "\n"
     ]
    },
    {
     "data": {
      "text/html": [],
      "text/plain": [
       "<IPython.core.display.HTML object>"
      ]
     },
     "metadata": {},
     "output_type": "display_data"
    },
    {
     "data": {
      "text/html": [
       "<br>    <style><br>        .wandb-row {<br>            display: flex;<br>            flex-direction: row;<br>            flex-wrap: wrap;<br>            justify-content: flex-start;<br>            width: 100%;<br>        }<br>        .wandb-col {<br>            display: flex;<br>            flex-direction: column;<br>            flex-basis: 100%;<br>            flex: 1;<br>            padding: 10px;<br>        }<br>    </style><br><div class=\"wandb-row\"><div class=\"wandb-col\"><h3>Run history:</h3><br/><table class=\"wandb\"><tr><td>epoch</td><td>▁▁▁▂▂▂▂▃▃▃▃▄▄▄▄▅▅▅▅▆▆▆▆▇▇▇▇███</td></tr><tr><td>learning_rate</td><td>▁▂▃▄▅▆▇█████▇▇▇▆▆▅▅▄▄▃▃▂▂▂▁▁▁▁</td></tr><tr><td>train_accuracy</td><td>▁▁▁▁▂▂▂▂▃▃▃▃▃▃▄▄▄▅▅▅▆▇▇▇▇▇▇███</td></tr><tr><td>train_loss</td><td>█████▇▇▇▇▇▇▇▇▆▆▆▆▅▄▄▄▃▃▂▂▂▁▁▁▁</td></tr><tr><td>val_accuracy</td><td>▁▆▃▄▄▂▄▃▃▂▂▂▅▂▃▃▂▁█▇▆▇▇█▆█▅█▆▆</td></tr><tr><td>val_loss</td><td>▂▂▂▁▁▁▁▁▁▁▁▂▂▁▂▂▃▃▄▄▄▄▆▆▇▇████</td></tr></table><br/></div><div class=\"wandb-col\"><h3>Run summary:</h3><br/><table class=\"wandb\"><tr><td>best_val_accuracy</td><td>0.245</td></tr><tr><td>epoch</td><td>29</td></tr><tr><td>learning_rate</td><td>0.0</td></tr><tr><td>train_accuracy</td><td>0.36163</td></tr><tr><td>train_loss</td><td>1.39626</td></tr><tr><td>val_accuracy</td><td>0.234</td></tr><tr><td>val_loss</td><td>1.80234</td></tr></table><br/></div></div>"
      ],
      "text/plain": [
       "<IPython.core.display.HTML object>"
      ]
     },
     "metadata": {},
     "output_type": "display_data"
    },
    {
     "data": {
      "text/html": [
       " View run <strong style=\"color:#cdcd00\">rnn-qa-model-2025-04-08T00:12:36</strong> at: <a href='https://wandb.ai/nevinhelfenstein-hslu-nlp-fs25/hslu-fs25-nlp-rnn-qa/runs/l9efckpk' target=\"_blank\">https://wandb.ai/nevinhelfenstein-hslu-nlp-fs25/hslu-fs25-nlp-rnn-qa/runs/l9efckpk</a><br> View project at: <a href='https://wandb.ai/nevinhelfenstein-hslu-nlp-fs25/hslu-fs25-nlp-rnn-qa' target=\"_blank\">https://wandb.ai/nevinhelfenstein-hslu-nlp-fs25/hslu-fs25-nlp-rnn-qa</a><br>Synced 5 W&B file(s), 0 media file(s), 0 artifact file(s) and 0 other file(s)"
      ],
      "text/plain": [
       "<IPython.core.display.HTML object>"
      ]
     },
     "metadata": {},
     "output_type": "display_data"
    },
    {
     "data": {
      "text/html": [
       "Find logs at: <code>./wandb/run-20250408_001236-l9efckpk/logs</code>"
      ],
      "text/plain": [
       "<IPython.core.display.HTML object>"
      ]
     },
     "metadata": {},
     "output_type": "display_data"
    },
    {
     "name": "stdout",
     "output_type": "stream",
     "text": [
      "RNN Training complete! Best validation accuracy: 0.2450\n"
     ]
    }
   ],
   "source": [
    "print(\"Starting RNN model training...\")\n",
    "num_epochs = rnn_run.config.epochs\n",
    "trained_rnn_model, best_rnn_accuracy = train_rnn_model(\n",
    "    rnn_model, \n",
    "    criterion, \n",
    "    optimizer, \n",
    "    scheduler, \n",
    "    train_rnn_loader, \n",
    "    valid_rnn_loader, \n",
    "    num_epochs,\n",
    "    device,\n",
    "    checkpoints_path,\n",
    "    gradient_clip_val=1.0 \n",
    ")\n",
    "\n",
    "print(f\"RNN Training complete! Best validation accuracy: {best_rnn_accuracy:.4f}\")"
   ]
  },
  {
   "cell_type": "markdown",
   "metadata": {},
   "source": [
    "# Evaluation"
   ]
  },
  {
   "cell_type": "markdown",
   "metadata": {},
   "source": [
    "## Model Checkpoint Loading\n",
    "\n",
    "Before evaluation, I load the best saved checkpoints for both models.\n",
    "\n",
    "- This ensures that I'm evaluating the best-performing versions from training.\n",
    "- Each model is re-initialized with the correct architecture and moved to eval mode.\n",
    "- I load the saved weights using a helper function that restores the state dict and reports the saved epoch.\n",
    "\n",
    "This step prepares both the embedding model and the RNN model for final evaluation.\n"
   ]
  },
  {
   "cell_type": "code",
   "execution_count": 43,
   "metadata": {},
   "outputs": [
    {
     "name": "stdout",
     "output_type": "stream",
     "text": [
      "Loaded embedding model checkpoint from epoch 15\n",
      "Loaded RNN model checkpoint from epoch 25\n"
     ]
    }
   ],
   "source": [
    "def load_checkpoint(model, checkpoint_path):\n",
    "    \"\"\"Load model checkpoint and return both model and training epoch\"\"\"\n",
    "    checkpoint = torch.load(checkpoint_path)\n",
    "    model.load_state_dict(checkpoint[\"model_state_dict\"])\n",
    "    return model, checkpoint[\"epoch\"]\n",
    "\n",
    "checkpoints_path_qa = \"./checkpoints/qa_model\"\n",
    "best_embedding_checkpoint_path = os.path.join(checkpoints_path_qa, \"best_model.pt\")\n",
    "embedding_model = QASimpleClassifier(\n",
    "    embedding_dim=300,\n",
    "    hidden_dim=64,\n",
    "    dropout_rate=0.2\n",
    ").to(device)\n",
    "embedding_model, best_embedding_epoch = load_checkpoint(embedding_model, best_embedding_checkpoint_path)\n",
    "embedding_model.eval()\n",
    "print(f\"Loaded embedding model checkpoint from epoch {best_embedding_epoch}\")\n",
    "\n",
    "checkpoints_path_rnn = \"./checkpoints/rnn_model\"\n",
    "best_rnn_checkpoint_path = os.path.join(checkpoints_path_rnn, \"best_rnn_model.pt\")\n",
    "rnn_model = QARNNModel(\n",
    "    embedding_dim=300,\n",
    "    hidden_dim=128,\n",
    "    dropout_rate=0.2\n",
    ").to(device)\n",
    "rnn_model, best_rnn_epoch = load_checkpoint(rnn_model, best_rnn_checkpoint_path)\n",
    "rnn_model.eval()\n",
    "print(f\"Loaded RNN model checkpoint from epoch {best_rnn_epoch}\")"
   ]
  },
  {
   "cell_type": "markdown",
   "metadata": {},
   "source": [
    "## Test Dataset Creation\n",
    "\n",
    "To fairly compare the models, I build separate test datasets using the same underlying examples.\n",
    "\n",
    "- The **embedding model** uses normalized vector inputs with TF-IDF weighting.\n",
    "- The **RNN model** processes raw token sequences using a custom `collate_fn`.\n",
    "\n",
    "Batch sizes are increased to speed up evaluation:\n",
    "- 1024 for the embedding model\n",
    "- 256 for the RNN model (due to sequence processing)\n",
    "\n",
    "This setup ensures both models evaluate on identical examples in formats they were trained on.\n"
   ]
  },
  {
   "cell_type": "code",
   "execution_count": 44,
   "metadata": {},
   "outputs": [
    {
     "name": "stdout",
     "output_type": "stream",
     "text": [
      "Calculating IDF scores...\n"
     ]
    },
    {
     "name": "stderr",
     "output_type": "stream",
     "text": [
      "Collecting texts: 100%|██████████| 1221/1221 [00:00<00:00, 36581.11it/s]\n",
      "Counting terms: 100%|██████████| 7326/7326 [00:00<00:00, 27466.46it/s]"
     ]
    },
    {
     "name": "stdout",
     "output_type": "stream",
     "text": [
      "Calculated IDF scores for 4790 terms\n",
      "Created test loaders - Embedding: 2 batches, RNN: 5 batches\n"
     ]
    },
    {
     "name": "stderr",
     "output_type": "stream",
     "text": [
      "\n"
     ]
    }
   ],
   "source": [
    "embedding_test_dataset = CommonsenseQAEmbeddingDataset(\n",
    "    test, \n",
    "    wv,\n",
    "    embedding_dim=300,\n",
    "    cache_path='test_embeddings.pkl',\n",
    "    use_tfidf=True\n",
    ")\n",
    "normalized_test_dataset = NormalizedEmbeddingDataset(embedding_test_dataset)\n",
    "\n",
    "embedding_test_loader = DataLoader(\n",
    "    normalized_test_dataset,\n",
    "    batch_size=1024,\n",
    "    shuffle=False,\n",
    "    num_workers=4,\n",
    "    pin_memory=True\n",
    ")\n",
    "\n",
    "rnn_test_dataset = CommonsenseQARNNDataset(\n",
    "    test, \n",
    "    wv,\n",
    "    embedding_dim=300\n",
    ")\n",
    "\n",
    "rnn_test_loader = DataLoader(\n",
    "    rnn_test_dataset,\n",
    "    batch_size=256,\n",
    "    shuffle=False,\n",
    "    collate_fn=rnn_collate_batch,\n",
    "    num_workers=4,\n",
    "    pin_memory=True\n",
    ")\n",
    "\n",
    "print(f\"Created test loaders - Embedding: {len(embedding_test_loader)} batches, RNN: {len(rnn_test_loader)} batches\")"
   ]
  },
  {
   "cell_type": "markdown",
   "metadata": {},
   "source": [
    "## Evaluation Function\n",
    "\n",
    "I use a shared evaluation function to compute performance metrics for both models.\n",
    "\n",
    "- It supports both **embedding** and **RNN** input formats.\n",
    "- Metrics include: **accuracy**, **precision**, **recall**, and **F1 score** (per class + macro average).\n",
    "- Predictions and outputs are stored for further analysis.\n",
    "- Batching is used to speed up evaluation and efficiently handle large test sets.\n",
    "\n",
    "Using multiple metrics helps to better understand each model’s strengths, especially when class distributions are not perfectly balanced.\n"
   ]
  },
  {
   "cell_type": "code",
   "execution_count": 45,
   "metadata": {},
   "outputs": [],
   "source": [
    "from sklearn.metrics import accuracy_score, precision_recall_fscore_support, classification_report\n",
    "\n",
    "def evaluate_model(model, test_loader, model_type=\"embedding\"):\n",
    "    \"\"\"Evaluate model performance using sklearn metrics\"\"\"\n",
    "    model.eval()\n",
    "    device = next(model.parameters()).device\n",
    "    \n",
    "    all_predictions = []\n",
    "    all_labels = []\n",
    "    all_outputs = []\n",
    "    \n",
    "    with torch.no_grad():\n",
    "        for batch in tqdm(test_loader, desc=f\"Evaluating {model_type} model\"):\n",
    "            if model_type == \"embedding\":\n",
    "                question_batch, choices_batch, answers = batch\n",
    "                question_batch = question_batch.to(device)\n",
    "                choices_batch = choices_batch.to(device)\n",
    "                answers = answers.to(device)\n",
    "                outputs = model(question_batch, choices_batch)\n",
    "            else:\n",
    "                padded_sequences, sequence_lengths, indices, answers = batch\n",
    "                padded_sequences = padded_sequences.to(device)\n",
    "                sequence_lengths = sequence_lengths.to(device)\n",
    "                indices = indices.to(device)\n",
    "                answers = answers.to(device)\n",
    "                outputs = model(padded_sequences, sequence_lengths, indices)\n",
    "\n",
    "            predictions = torch.argmax(outputs, dim=1)\n",
    "\n",
    "            all_predictions.extend(predictions.cpu().numpy())\n",
    "            all_labels.extend(answers.cpu().numpy())\n",
    "            all_outputs.append(outputs.cpu().detach())\n",
    "\n",
    "    accuracy = accuracy_score(all_labels, all_predictions)\n",
    "    precision, recall, f1, _ = precision_recall_fscore_support(\n",
    "        all_labels, all_predictions, average=None, zero_division=0\n",
    "    )\n",
    "    macro_precision, macro_recall, macro_f1, _ = precision_recall_fscore_support(\n",
    "        all_labels, all_predictions, average='macro', zero_division=0\n",
    "    )\n",
    "\n",
    "    metrics_dict = {\n",
    "        \"accuracy\": accuracy,\n",
    "        \"precision\": precision.tolist(),\n",
    "        \"recall\": recall.tolist(),\n",
    "        \"f1\": f1.tolist(),\n",
    "        \"macro_precision\": macro_precision,\n",
    "        \"macro_recall\": macro_recall,\n",
    "        \"macro_f1\": macro_f1\n",
    "    }\n",
    "    \n",
    "    return metrics_dict, all_predictions, all_labels, torch.cat(all_outputs) if all_outputs else None\n"
   ]
  },
  {
   "cell_type": "markdown",
   "metadata": {},
   "source": [
    "### Basic Metrics Comparison\n",
    "\n",
    "This analysis provides a direct head-to-head comparison of model performance. I compute:\n",
    "\n",
    "- **Overall accuracy**: The percentage of examples where each model selects the correct answer\n",
    "- **Performance gap**: The difference in accuracy between models\n",
    "- **Detailed metrics**: Precision, recall, and F1 scores for a more nuanced comparison\n",
    "\n",
    "With these core metrics I can get a high-level understanding of how my models perform on the commonsense reasoning task. "
   ]
  },
  {
   "cell_type": "code",
   "execution_count": 46,
   "metadata": {},
   "outputs": [
    {
     "name": "stderr",
     "output_type": "stream",
     "text": [
      "Evaluating embedding model:   0%|          | 0/2 [00:00<?, ?it/s]"
     ]
    },
    {
     "name": "stderr",
     "output_type": "stream",
     "text": [
      "Evaluating embedding model: 100%|██████████| 2/2 [00:00<00:00,  2.15it/s]\n",
      "Evaluating rnn model: 100%|██████████| 5/5 [00:01<00:00,  3.53it/s]"
     ]
    },
    {
     "name": "stdout",
     "output_type": "stream",
     "text": [
      "\n",
      "===== MODEL PERFORMANCE COMPARISON =====\n",
      "Embedding Model Test Accuracy: 0.2342\n",
      "RNN Model Test Accuracy: 0.2457\n",
      "Difference: 0.0115 in favor of the RNN model\n",
      "\n",
      "===== DETAILED METRICS =====\n",
      "Embedding Model - Macro Precision: 0.2343, Macro Recall: 0.2345, Macro F1: 0.2342\n",
      "RNN Model - Macro Precision: 0.2449, Macro Recall: 0.2453, Macro F1: 0.2450\n"
     ]
    },
    {
     "name": "stderr",
     "output_type": "stream",
     "text": [
      "\n"
     ]
    }
   ],
   "source": [
    "from sklearn.metrics import classification_report, confusion_matrix\n",
    "\n",
    "embedding_metrics, embedding_predictions, embedding_labels, embedding_outputs = evaluate_model(\n",
    "    embedding_model, embedding_test_loader, \"embedding\"\n",
    ")\n",
    "\n",
    "rnn_metrics, rnn_predictions, rnn_labels, rnn_outputs = evaluate_model(\n",
    "    rnn_model, rnn_test_loader, \"rnn\"\n",
    ")\n",
    "\n",
    "print(\"\\n===== MODEL PERFORMANCE COMPARISON =====\")\n",
    "print(f\"Embedding Model Test Accuracy: {embedding_metrics['accuracy']:.4f}\")\n",
    "print(f\"RNN Model Test Accuracy: {rnn_metrics['accuracy']:.4f}\")\n",
    "print(f\"Difference: {abs(embedding_metrics['accuracy'] - rnn_metrics['accuracy']):.4f} in favor of the \"\n",
    "      f\"{'Embedding' if embedding_metrics['accuracy'] > rnn_metrics['accuracy'] else 'RNN'} model\")\n",
    "\n",
    "print(\"\\n===== DETAILED METRICS =====\")\n",
    "print(f\"Embedding Model - Macro Precision: {embedding_metrics['macro_precision']:.4f}, \"\n",
    "      f\"Macro Recall: {embedding_metrics['macro_recall']:.4f}, \"\n",
    "      f\"Macro F1: {embedding_metrics['macro_f1']:.4f}\")\n",
    "print(f\"RNN Model - Macro Precision: {rnn_metrics['macro_precision']:.4f}, \"\n",
    "      f\"Macro Recall: {rnn_metrics['macro_recall']:.4f}, \"\n",
    "      f\"Macro F1: {rnn_metrics['macro_f1']:.4f}\")"
   ]
  },
  {
   "cell_type": "markdown",
   "metadata": {},
   "source": [
    "After evaluating both models:\n",
    "\n",
    "- **RNN model** achieves slightly higher accuracy: `0.2457` vs. `0.2359` for the embedding model.\n",
    "- **Macro F1 scores** also favor the RNN: `0.2450` vs. `0.2359`, showing better overall balance across classes.\n",
    "- The **performance gap** is small (`~0.98%`), but consistent across metrics.\n",
    "\n",
    "This suggests that the RNN model captures sequential patterns slightly better in this commonsense QA setup."
   ]
  },
  {
   "cell_type": "markdown",
   "metadata": {},
   "source": [
    "### Model Agreement Analysis\n",
    "\n",
    "I now check how frequently both models make the same prediction, regardless of correctness. It reveals:\n",
    "\n",
    "- **Convergent thinking**: How often models reach the same conclusion\n",
    "- **Diversity of approach**: Whether models learn different reasoning strategies\n",
    "- **Ensemble potential**: Low agreement suggests models might complement each other\n",
    "\n",
    "Agreement analysis shows whether the models are solving the task in similar ways or not. High disagreement with similar accuracy suggests the models have learned different, equally effective reasoning strategies, while high agreement indicates they've converged on similar approaches."
   ]
  },
  {
   "cell_type": "code",
   "execution_count": 47,
   "metadata": {},
   "outputs": [
    {
     "name": "stdout",
     "output_type": "stream",
     "text": [
      "\n",
      "===== MODEL AGREEMENT ANALYSIS =====\n",
      "Models agree on 392 out of 1221 examples (32.10%)\n"
     ]
    }
   ],
   "source": [
    "agreements = np.sum(np.array(embedding_predictions) == np.array(rnn_predictions))\n",
    "agreement_percentage = agreements / len(embedding_predictions) * 100\n",
    "\n",
    "print(\"\\n===== MODEL AGREEMENT ANALYSIS =====\")\n",
    "print(f\"Models agree on {agreements} out of {len(embedding_predictions)} examples ({agreement_percentage:.2f}%)\")\n",
    "\n",
    "label_mapping = {i: chr(65 + i) for i in range(5)}\n",
    "label_names = list(label_mapping.values())"
   ]
  },
  {
   "cell_type": "markdown",
   "metadata": {},
   "source": [
    "## Classification Reports and Confusion Matrices\n",
    "\n",
    "I generate detailed reports and confusion matrices to understand **per-class performance**.\n",
    "\n",
    "- The classification report includes **precision, recall, and F1 score** for each answer (A–E).\n",
    "- Confusion matrices show where the models make the most mistakes and which classes are often confused.\n",
    "- This helps detect **biases** or patterns, like certain options being over- or under-predicted.\n",
    "\n",
    "These logs and plots are more than overall accuracy and give me a clearer view of the model's performance.\n"
   ]
  },
  {
   "cell_type": "code",
   "execution_count": 48,
   "metadata": {},
   "outputs": [
    {
     "name": "stdout",
     "output_type": "stream",
     "text": [
      "\n",
      "===== CLASSIFICATION REPORTS =====\n",
      "\n",
      "Embedding Model Classification Report:\n",
      "              precision    recall  f1-score   support\n",
      "\n",
      "           A       0.24      0.25      0.24       239\n",
      "           B       0.24      0.22      0.23       255\n",
      "           C       0.22      0.22      0.22       241\n",
      "           D       0.23      0.24      0.24       251\n",
      "           E       0.24      0.25      0.24       235\n",
      "\n",
      "    accuracy                           0.23      1221\n",
      "   macro avg       0.23      0.23      0.23      1221\n",
      "weighted avg       0.23      0.23      0.23      1221\n",
      "\n",
      "\n",
      "RNN Model Classification Report:\n",
      "              precision    recall  f1-score   support\n",
      "\n",
      "           A       0.26      0.27      0.26       239\n",
      "           B       0.28      0.29      0.29       255\n",
      "           C       0.23      0.23      0.23       241\n",
      "           D       0.23      0.22      0.23       251\n",
      "           E       0.22      0.22      0.22       235\n",
      "\n",
      "    accuracy                           0.25      1221\n",
      "   macro avg       0.24      0.25      0.25      1221\n",
      "weighted avg       0.25      0.25      0.25      1221\n",
      "\n"
     ]
    },
    {
     "data": {
      "image/png": "[encoded data removed]",
      "text/plain": [
       "<Figure size 1600x700 with 4 Axes>"
      ]
     },
     "metadata": {},
     "output_type": "display_data"
    }
   ],
   "source": [
    "print(\"\\n===== CLASSIFICATION REPORTS =====\")\n",
    "print(\"\\nEmbedding Model Classification Report:\")\n",
    "print(classification_report(embedding_labels, embedding_predictions, target_names=label_names, zero_division=0))\n",
    "\n",
    "print(\"\\nRNN Model Classification Report:\")\n",
    "print(classification_report(rnn_labels, rnn_predictions, target_names=label_names, zero_division=0))\n",
    "\n",
    "embedding_cm = confusion_matrix(embedding_labels, embedding_predictions)\n",
    "rnn_cm = confusion_matrix(rnn_labels, rnn_predictions)\n",
    "\n",
    "plt.figure(figsize=(16, 7))\n",
    "\n",
    "plt.subplot(1, 2, 1)\n",
    "sns.heatmap(embedding_cm, annot=True, fmt=\"d\", cmap=\"Blues\", xticklabels=label_names, yticklabels=label_names)\n",
    "plt.title(\"Embedding Model Confusion Matrix\")\n",
    "plt.xlabel(\"Predicted\")\n",
    "plt.ylabel(\"True\")\n",
    "\n",
    "plt.subplot(1, 2, 2)\n",
    "sns.heatmap(rnn_cm, annot=True, fmt=\"d\", cmap=\"Blues\", xticklabels=label_names, yticklabels=label_names)\n",
    "plt.title(\"RNN Model Confusion Matrix\")\n",
    "plt.xlabel(\"Predicted\")\n",
    "plt.ylabel(\"True\")\n",
    "\n",
    "plt.tight_layout()\n",
    "plt.savefig('confusion_matrices.png')\n",
    "plt.show()"
   ]
  },
  {
   "cell_type": "markdown",
   "metadata": {},
   "source": [
    "## Example-Based Analysis\n",
    "\n",
    "To better understand where the models differ, I look at specific test examples where their predictions don’t match.\n",
    "\n",
    "- I show actual **questions and answer choices** from the dataset.\n",
    "- For each case, I highlight the **true answer**, the **embedding model’s prediction**, and the **RNN model’s prediction**.\n",
    "- This helps identify **question types** or phrasing that may confuse one model but not the other.\n",
    "\n",
    "These real examples give more context to the metrics and help explain model behavior in practical terms.\n"
   ]
  },
  {
   "cell_type": "code",
   "execution_count": 49,
   "metadata": {},
   "outputs": [
    {
     "name": "stdout",
     "output_type": "stream",
     "text": [
      "\n",
      "===== MODEL DISAGREEMENTS =====\n",
      "Models disagree on 829 examples (67.90%)\n",
      "\n",
      "Examples where models disagree:\n",
      "\n",
      "Question: He wanted lodging in the actual what, so that he was already where he needed to be?\n",
      "A) a yurt\n",
      "B) resort area\n",
      "C) big city\n",
      "D) michigan\n",
      "E) going on vacation\n",
      "True Answer: B\n",
      "Embedding Model Prediction: D\n",
      "RNN Model Prediction: B\n",
      "--------------------------------------------------------------------------------\n",
      "\n",
      "Question: What is the least likely immediate side effect of eating hamburger?\n",
      "A) nausea\n",
      "B) death\n",
      "C) illness\n",
      "D) health problems\n",
      "E) gain weight\n",
      "True Answer: B\n",
      "Embedding Model Prediction: A\n",
      "RNN Model Prediction: E\n",
      "--------------------------------------------------------------------------------\n",
      "\n",
      "Question: Where is food likely to stay dry?\n",
      "A) etna\n",
      "B) cupboard\n",
      "C) oven\n",
      "D) stomach\n",
      "E) fridge\n",
      "True Answer: B\n",
      "Embedding Model Prediction: B\n",
      "RNN Model Prediction: A\n",
      "--------------------------------------------------------------------------------\n",
      "\n",
      "Question: Where are traveling clothes often kept?\n",
      "A) suitcase\n",
      "B) bedroom\n",
      "C) closet\n",
      "D) draws\n",
      "E) dresser\n",
      "True Answer: A\n",
      "Embedding Model Prediction: D\n",
      "RNN Model Prediction: E\n",
      "--------------------------------------------------------------------------------\n",
      "\n",
      "Question: The fact that Joe was able to memorize the list in spite of his apparent  state proved that part of his brain was what?\n",
      "A) awake\n",
      "B) repeat\n",
      "C) sleeping\n",
      "D) concentrate\n",
      "E) read aloud\n",
      "True Answer: A\n",
      "Embedding Model Prediction: A\n",
      "RNN Model Prediction: E\n",
      "--------------------------------------------------------------------------------\n"
     ]
    }
   ],
   "source": [
    "label_mapping = {i: chr(65 + i) for i in range(5)}\n",
    "\n",
    "disagreement_indices = np.where(np.array(embedding_predictions) != np.array(rnn_predictions))[0]\n",
    "print(f\"\\n===== MODEL DISAGREEMENTS =====\")\n",
    "print(f\"Models disagree on {len(disagreement_indices)} examples ({len(disagreement_indices)/len(embedding_predictions)*100:.2f}%)\")\n",
    "\n",
    "print(\"\\nExamples where models disagree:\")\n",
    "np.random.seed(42)\n",
    "sample_indices = np.random.choice(disagreement_indices, min(5, len(disagreement_indices)), replace=False)\n",
    "\n",
    "for i in sample_indices:\n",
    "    idx = int(i)\n",
    "    example = test[idx]\n",
    "    print(f\"\\nQuestion: {example['question']}\")\n",
    "    for j, choice in enumerate(example[\"choices\"][\"text\"]):\n",
    "        print(f\"{chr(65+j)}) {choice}\")\n",
    "    print(f\"True Answer: {example['answerKey']}\")\n",
    "    print(f\"Embedding Model Prediction: {label_mapping[embedding_predictions[idx]]}\")\n",
    "    print(f\"RNN Model Prediction: {label_mapping[rnn_predictions[idx]]}\")\n",
    "    print(\"-\" * 80)"
   ]
  },
  {
   "cell_type": "markdown",
   "metadata": {},
   "source": [
    "## Correctness Pattern Analysis\n",
    "\n",
    "I categorize test examples based on which model made the correct prediction:\n",
    "\n",
    "- **Only embedding correct**\n",
    "- **Only RNN correct**\n",
    "- **Both correct**\n",
    "- **Both incorrect**\n",
    "\n",
    "This shows how often the models **complement each other** vs. making similar mistakes.\n",
    "\n",
    "A high number of cases where only one model is correct suggests potential for **ensemble methods**. I also visualize these patterns to better understand how model behavior overlaps or diverges.\n"
   ]
  },
  {
   "cell_type": "code",
   "execution_count": 50,
   "metadata": {},
   "outputs": [
    {
     "name": "stdout",
     "output_type": "stream",
     "text": [
      "\n",
      "===== CORRECTNESS PATTERNS =====\n",
      "Only Embedding Model Correct: 181 examples (14.82%)\n",
      "Only RNN Model Correct: 195 examples (15.97%)\n",
      "Both Models Correct: 105 examples (8.60%)\n",
      "Both Models Incorrect: 740 examples (60.61%)\n"
     ]
    },
    {
     "data": {
      "image/png": "[encoded data removed]",
      "text/plain": [
       "<Figure size 1000x600 with 1 Axes>"
      ]
     },
     "metadata": {},
     "output_type": "display_data"
    }
   ],
   "source": [
    "embedding_correct = np.array(embedding_predictions) == np.array(embedding_labels)\n",
    "rnn_correct = np.array(rnn_predictions) == np.array(rnn_labels)\n",
    "\n",
    "only_embedding_correct = np.logical_and(embedding_correct, np.logical_not(rnn_correct))\n",
    "only_rnn_correct = np.logical_and(rnn_correct, np.logical_not(embedding_correct))\n",
    "both_correct = np.logical_and(embedding_correct, rnn_correct)\n",
    "both_incorrect = np.logical_and(np.logical_not(embedding_correct), np.logical_not(rnn_correct))\n",
    "\n",
    "print(\"\\n===== CORRECTNESS PATTERNS =====\")\n",
    "print(f\"Only Embedding Model Correct: {np.sum(only_embedding_correct)} examples ({np.sum(only_embedding_correct)/len(embedding_predictions)*100:.2f}%)\")\n",
    "print(f\"Only RNN Model Correct: {np.sum(only_rnn_correct)} examples ({np.sum(only_rnn_correct)/len(embedding_predictions)*100:.2f}%)\")\n",
    "print(f\"Both Models Correct: {np.sum(both_correct)} examples ({np.sum(both_correct)/len(embedding_predictions)*100:.2f}%)\")\n",
    "print(f\"Both Models Incorrect: {np.sum(both_incorrect)} examples ({np.sum(both_incorrect)/len(embedding_predictions)*100:.2f}%)\")\n",
    "\n",
    "plt.figure(figsize=(10, 6))\n",
    "categories = ['Only Embedding\\nCorrect', 'Only RNN\\nCorrect', 'Both\\nCorrect', 'Both\\nIncorrect']\n",
    "values = [np.sum(only_embedding_correct), np.sum(only_rnn_correct), np.sum(both_correct), np.sum(both_incorrect)]\n",
    "\n",
    "plt.bar(categories, values, color=['blue', 'orange', 'green', 'red'])\n",
    "plt.ylabel('Number of Examples')\n",
    "plt.title('Model Correctness Patterns')\n",
    "plt.grid(axis='y', linestyle='--', alpha=0.7)\n",
    "\n",
    "for i, v in enumerate(values):\n",
    "    plt.text(i, v + 5, f\"{v/len(embedding_predictions)*100:.1f}%\", ha='center')\n",
    "    \n",
    "plt.tight_layout()\n",
    "plt.savefig('correctness_patterns.png')\n",
    "plt.show()"
   ]
  },
  {
   "cell_type": "markdown",
   "metadata": {},
   "source": [
    "### Question Type Distribution and Performance Comparison\n",
    "\n",
    "I started by analyzing the distribution of question types across the training, validation, and test sets. The dataset is heavily skewed toward *what*, *where*, and *other* questions:\n",
    "\n",
    "- **\"What\" questions** make up over 40% of each split.\n",
    "- **\"Where\" questions** are the second most common, around 25%.\n",
    "- Less frequent types like *who*, *how*, and *which* are underrepresented (<5%).\n",
    "\n",
    "In the performance analysis:\n",
    "\n",
    "- Both models perform similarly across most question types.\n",
    "- The **RNN model outperforms the embedding model** on rarer types like *who* and *why*.\n",
    "- For dominant categories like *what* and *where*, **both models perform similarly**, reflecting the strong training signal.\n",
    "- Interestingly, the RNN also shows a slight edge on **\"which\"** questions, despite their low frequency.\n",
    "\n",
    "This comparison shows that **data imbalance strongly influences performance**, but the RNN model generalizes better to underrepresented question types, possibly due to its ability to capture sequential patterns in language.\n"
   ]
  },
  {
   "cell_type": "code",
   "execution_count": 51,
   "metadata": {},
   "outputs": [
    {
     "name": "stdout",
     "output_type": "stream",
     "text": [
      "\n",
      "===== PERFORMANCE BY QUESTION TYPE =====\n",
      "Question type 'how':\n",
      "  Count: 32\n",
      "  Embedding Accuracy: 0.1875\n",
      "  RNN Accuracy: 0.1562\n",
      "  Difference: 0.0312 in favor of Embedding model\n",
      "Question type 'other':\n",
      "  Count: 258\n",
      "  Embedding Accuracy: 0.2171\n",
      "  RNN Accuracy: 0.2481\n",
      "  Difference: 0.0310 in favor of RNN model\n",
      "Question type 'what':\n",
      "  Count: 524\n",
      "  Embedding Accuracy: 0.2137\n",
      "  RNN Accuracy: 0.2156\n",
      "  Difference: 0.0019 in favor of RNN model\n",
      "Question type 'when':\n",
      "  Count: 39\n",
      "  Embedding Accuracy: 0.1795\n",
      "  RNN Accuracy: 0.1538\n",
      "  Difference: 0.0256 in favor of Embedding model\n",
      "Question type 'where':\n",
      "  Count: 310\n",
      "  Embedding Accuracy: 0.2871\n",
      "  RNN Accuracy: 0.3032\n",
      "  Difference: 0.0161 in favor of RNN model\n",
      "Question type 'which':\n",
      "  Count: 8\n",
      "  Embedding Accuracy: 0.6250\n",
      "  RNN Accuracy: 0.3750\n",
      "  Difference: 0.2500 in favor of Embedding model\n",
      "Question type 'who':\n",
      "  Count: 16\n",
      "  Embedding Accuracy: 0.0625\n",
      "  RNN Accuracy: 0.2500\n",
      "  Difference: 0.1875 in favor of RNN model\n",
      "Question type 'why':\n",
      "  Count: 34\n",
      "  Embedding Accuracy: 0.2941\n",
      "  RNN Accuracy: 0.3235\n",
      "  Difference: 0.0294 in favor of RNN model\n"
     ]
    },
    {
     "data": {
      "image/png": "[encoded data removed]",
      "text/plain": [
       "<Figure size 1200x600 with 1 Axes>"
      ]
     },
     "metadata": {},
     "output_type": "display_data"
    }
   ],
   "source": [
    "print(\"\\n===== PERFORMANCE BY QUESTION TYPE =====\")\n",
    "question_types = []\n",
    "for idx in range(len(test)):\n",
    "    question_type = get_question_type(test[idx]['question'])\n",
    "    question_types.append(question_type)\n",
    "\n",
    "question_types = np.array(question_types)\n",
    "unique_types = np.unique(question_types)\n",
    "\n",
    "embedding_by_type = []\n",
    "rnn_by_type = []\n",
    "\n",
    "for q_type in unique_types:\n",
    "    type_indices = question_types == q_type\n",
    "    if np.sum(type_indices) > 0:\n",
    "        embedding_accuracy = np.mean(embedding_correct[type_indices])\n",
    "        rnn_accuracy = np.mean(rnn_correct[type_indices])\n",
    "        \n",
    "        embedding_by_type.append(embedding_accuracy)\n",
    "        rnn_by_type.append(rnn_accuracy)\n",
    "        \n",
    "        print(f\"Question type '{q_type}':\")\n",
    "        print(f\"  Count: {np.sum(type_indices)}\")\n",
    "        print(f\"  Embedding Accuracy: {embedding_accuracy:.4f}\")\n",
    "        print(f\"  RNN Accuracy: {rnn_accuracy:.4f}\")\n",
    "        print(f\"  Difference: {abs(embedding_accuracy - rnn_accuracy):.4f} in favor of \" \n",
    "              f\"{'Embedding' if embedding_accuracy > rnn_accuracy else 'RNN'} model\")\n",
    "\n",
    "plt.figure(figsize=(12, 6))\n",
    "x = np.arange(len(unique_types))\n",
    "width = 0.35\n",
    "\n",
    "plt.bar(x - width/2, embedding_by_type, width, label='Embedding Model')\n",
    "plt.bar(x + width/2, rnn_by_type, width, label='RNN Model')\n",
    "\n",
    "plt.xlabel('Question Type')\n",
    "plt.ylabel('Accuracy')\n",
    "plt.title('Model Performance by Question Type')\n",
    "plt.xticks(x, unique_types)\n",
    "plt.ylim(0, 1.0)\n",
    "plt.legend()\n",
    "plt.grid(axis='y', linestyle='--', alpha=0.7)\n",
    "\n",
    "plt.tight_layout()\n",
    "plt.savefig('performance_by_question_type.png')\n",
    "plt.show()"
   ]
  },
  {
   "cell_type": "markdown",
   "metadata": {},
   "source": [
    "# Conclusion"
   ]
  },
  {
   "cell_type": "markdown",
   "metadata": {},
   "source": [
    "## Tools and Resources Used\n",
    "\n",
    "This project was implemented using the following tools and resources:\n",
    "\n",
    "1. **Libraries and Frameworks**:\n",
    "   - PyTorch for neural network implementation and training\n",
    "   - Hugging Face Datasets for data loading and preprocessing\n",
    "   - NLTK for tokenization and text processing\n",
    "   - Gensim for working with word embeddings\n",
    "   - Pandas and NumPy for data manipulation\n",
    "   - Matplotlib and Seaborn for visualization\n",
    "   - Scikit-learn for evaluation metrics\n",
    "\n",
    "2. **Pre-trained Resources**:\n",
    "   - FastText word embeddings (Common Crawl, 2M word vectors)\n",
    "   - NLTK's pre-trained tokenizer\n",
    "\n",
    "3. **Experiment Tracking**:\n",
    "   - Weights & Biases for logging metrics and visualizing training progress\n",
    "\n",
    "4. **Development Environment**:\n",
    "   - Jupyter Notebook for interactive development\n",
    "   - Google Colab for GPU-accelerated training\n",
    "\n",
    "5. **AI Tools**:\n",
    "   - Claude 3.5 Sonnet for help with debugging and optimizing code\n",
    "   - GitHub Copilot for code suggestions and documentation\n",
    "\n",
    "This toolkit provided the necessary components for building, training, and evaluating models for the CommonsenseQA task while enabling detailed analysis and documentation of the project workflow."
   ]
  },
  {
   "cell_type": "markdown",
   "metadata": {},
   "source": []
  }
 ],
 "metadata": {
  "kernelspec": {
   "display_name": "nlp_env",
   "language": "python",
   "name": "python3"
  },
  "language_info": {
   "codemirror_mode": {
    "name": "ipython",
    "version": 3
   },
   "file_extension": ".py",
   "mimetype": "text/x-python",
   "name": "python",
   "nbconvert_exporter": "python",
   "pygments_lexer": "ipython3",
   "version": "3.10.16"
  }
 },
 "nbformat": 4,
 "nbformat_minor": 2
}
