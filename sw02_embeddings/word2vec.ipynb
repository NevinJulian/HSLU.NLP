{
 "cells": [
  {
   "cell_type": "markdown",
   "metadata": {},
   "source": [
    "# Word Embeddings\n",
    "We will use word2vec with gensim to solve word similarity and analogy tasks. Use gensim's [word2vec tutorial](https://radimrehurek.com/gensim/auto_examples/tutorials/run_word2vec.html) for a reference of the functions we need.\n",
    "\n",
    "First, we download the word embeddings pretrained on the (private) Google News corpus. The embeddings are quite big with 1.7 GB. They will be downloaded to your `<HOME>/gensim-data` directory."
   ]
  },
  {
   "cell_type": "code",
   "execution_count": null,
   "metadata": {},
   "outputs": [
    {
     "name": "stdout",
     "output_type": "stream",
     "text": [
      "[==================================================] 100.0% 1662.8/1662.8MB downloaded\n"
     ]
    }
   ],
   "source": [
    "import gensim.downloader as api\n",
    "wv = api.load('word2vec-google-news-300') #300 Dimensional Word Vectors"
   ]
  },
  {
   "cell_type": "markdown",
   "metadata": {},
   "source": [
    "Let's look at the vector size, vocabulary size and its first 10 and last 5 words."
   ]
  },
  {
   "cell_type": "code",
   "execution_count": 7,
   "metadata": {},
   "outputs": [
    {
     "name": "stdout",
     "output_type": "stream",
     "text": [
      "300\n",
      "3000000\n",
      "['</s>', 'in', 'for', 'that', 'is', 'on', '##', 'The', 'with', 'said', 'was', 'the', 'at', 'not', 'as', 'it', 'be', 'from', 'by', 'are']\n",
      "['RAFFAELE', 'Bim_Skala_Bim', 'Mezze_Cafe', 'pulverizes_boulders', 'snowcapped_Caucasus']\n"
     ]
    }
   ],
   "source": [
    "print(wv.vector_size)\n",
    "print(len(wv.index_to_key))\n",
    "\n",
    "print(wv.index_to_key[:20])\n",
    "print(wv.index_to_key[-5:])"
   ]
  },
  {
   "cell_type": "markdown",
   "metadata": {},
   "source": [
    "Get the vectors for woman, man, queen and king."
   ]
  },
  {
   "cell_type": "code",
   "execution_count": 8,
   "metadata": {},
   "outputs": [
    {
     "name": "stdout",
     "output_type": "stream",
     "text": [
      "4\n"
     ]
    }
   ],
   "source": [
    "vectors = [wv[word] for word in ['woman', 'man', 'queen', 'king']]\n",
    "print(len(vectors))"
   ]
  },
  {
   "cell_type": "markdown",
   "metadata": {},
   "source": [
    "Compute their norms. Are they normalized?"
   ]
  },
  {
   "cell_type": "code",
   "execution_count": 9,
   "metadata": {},
   "outputs": [
    {
     "name": "stdout",
     "output_type": "stream",
     "text": [
      "[2.655624, 2.3106172, 3.0283043, 2.9022589]\n"
     ]
    }
   ],
   "source": [
    "import numpy as np\n",
    "\n",
    "norms = [np.linalg.norm(v) for v in vectors]\n",
    "print(norms)"
   ]
  },
  {
   "cell_type": "markdown",
   "metadata": {},
   "source": [
    "## Word Similarity\n",
    "We will now perform a few operations that use word similarity.\n",
    "\n",
    "Given the pairs below..."
   ]
  },
  {
   "cell_type": "code",
   "execution_count": 10,
   "metadata": {},
   "outputs": [],
   "source": [
    "pairs = [\n",
    "    ('car', 'minivan'),   # a minivan is a kind of car\n",
    "    ('car', 'bicycle'),   # still a wheeled vehicle\n",
    "    ('car', 'airplane'),  # ok, no wheels, but still a vehicle\n",
    "    ('car', 'cereal'),    # ... and so on\n",
    "    ('car', 'democracy'),\n",
    "]"
   ]
  },
  {
   "cell_type": "markdown",
   "metadata": {},
   "source": [
    "... compute the word similarity of each pair, once with [sklearn's cosine similarity](https://scikit-learn.org/stable/modules/generated/sklearn.metrics.pairwise.cosine_similarity.html), and once with gensim's similarity."
   ]
  },
  {
   "cell_type": "code",
   "execution_count": 13,
   "metadata": {},
   "outputs": [
    {
     "name": "stdout",
     "output_type": "stream",
     "text": [
      "car minivan 0.69070363 0.69070363\n",
      "car bicycle 0.5364485 0.5364485\n",
      "car airplane 0.4243558 0.4243558\n",
      "car cereal 0.13924748 0.13924748\n",
      "car democracy 0.078821905 0.078821905\n"
     ]
    }
   ],
   "source": [
    "from sklearn.metrics.pairwise import cosine_similarity\n",
    "\n",
    "for w1, w2 in pairs:\n",
    "    print(w1, w2, cosine_similarity([wv[w1]], [wv[w2]])[0][0], wv.similarity(w1, w2))"
   ]
  },
  {
   "cell_type": "markdown",
   "metadata": {},
   "source": [
    "Find the most similar word to all of the words: bike, train, plane, car, bus."
   ]
  },
  {
   "cell_type": "code",
   "execution_count": 14,
   "metadata": {},
   "outputs": [
    {
     "name": "stdout",
     "output_type": "stream",
     "text": [
      "[('bicycle', 0.6787395477294922), ('scooter', 0.672615647315979), ('van', 0.6673938632011414), ('buses', 0.6520541310310364), ('vehicle', 0.6501879692077637)]\n"
     ]
    }
   ],
   "source": [
    "print(wv.most_similar(positive=['bike', 'train', 'plane', 'car', 'bus'], topn=5))"
   ]
  },
  {
   "cell_type": "markdown",
   "metadata": {},
   "source": [
    "**Odd one out.** Find the term that doesn't fit the rest of the list: fire, water, land, car, sea, air."
   ]
  },
  {
   "cell_type": "code",
   "execution_count": 15,
   "metadata": {},
   "outputs": [
    {
     "name": "stdout",
     "output_type": "stream",
     "text": [
      "car\n"
     ]
    }
   ],
   "source": [
    "print(wv.doesnt_match(['fire', 'water', 'land', 'sea', 'air', 'car']))"
   ]
  },
  {
   "cell_type": "markdown",
   "metadata": {},
   "source": [
    "Let's evaluate our word vectors on the WordSim353 dataset. You can get it from `datapath('wordsim353.tsv')` (import `datapath` from `gensim.test.utils`). What's the Pearson correlation?"
   ]
  },
  {
   "cell_type": "code",
   "execution_count": 16,
   "metadata": {},
   "outputs": [
    {
     "name": "stdout",
     "output_type": "stream",
     "text": [
      "(PearsonRResult(statistic=0.6238773456971292, pvalue=1.796324396313413e-39), SignificanceResult(statistic=0.6589215888009288, pvalue=2.5346056459149263e-45), 0.0)\n"
     ]
    }
   ],
   "source": [
    "from gensim.test.utils import datapath\n",
    "\n",
    "similarity = wv.evaluate_word_pairs(datapath('wordsim353.tsv'))\n",
    "print(similarity)"
   ]
  },
  {
   "cell_type": "markdown",
   "metadata": {},
   "source": [
    "## Word Analogy\n",
    "We also want to evaluate our word embeddings on the word analogy task. The test set from the original word2vec paper also comes with gensim, and is found in `datapath('questions-words.txt')`. Let's look at the categories that are present in the test file."
   ]
  },
  {
   "cell_type": "code",
   "execution_count": 17,
   "metadata": {},
   "outputs": [
    {
     "name": "stdout",
     "output_type": "stream",
     "text": [
      "0 : capital-common-countries\n",
      "507 : capital-world\n",
      "5032 : currency\n",
      "5899 : city-in-state\n",
      "8367 : family\n",
      "8874 : gram1-adjective-to-adverb\n",
      "9867 : gram2-opposite\n",
      "10680 : gram3-comparative\n",
      "12013 : gram4-superlative\n",
      "13136 : gram5-present-participle\n",
      "14193 : gram6-nationality-adjective\n",
      "15793 : gram7-past-tense\n",
      "17354 : gram8-plural\n",
      "18687 : gram9-plural-verbs\n"
     ]
    }
   ],
   "source": [
    "with open(datapath('questions-words.txt')) as f:\n",
    "    for i, line in enumerate(f):\n",
    "        if line.startswith(':'):\n",
    "            print(i, line.strip())"
   ]
  },
  {
   "cell_type": "markdown",
   "metadata": {},
   "source": [
    "To save us some computation time, we're just going to use the first category, `capital-common-countries`. We store its evaluation examples in a new text file `word-analogies.txt`."
   ]
  },
  {
   "cell_type": "code",
   "execution_count": 18,
   "metadata": {},
   "outputs": [
    {
     "name": "stdout",
     "output_type": "stream",
     "text": [
      "[': capital-common-countries\\n', 'Athens Greece Baghdad Iraq\\n', 'Athens Greece Bangkok Thailand\\n', 'Athens Greece Beijing China\\n', 'Athens Greece Berlin Germany\\n', 'Athens Greece Bern Switzerland\\n', 'Athens Greece Cairo Egypt\\n', 'Athens Greece Canberra Australia\\n', 'Athens Greece Hanoi Vietnam\\n', 'Athens Greece Havana Cuba\\n']\n"
     ]
    }
   ],
   "source": [
    "lines = []\n",
    "with open(datapath('questions-words.txt')) as f:\n",
    "    for line in f:\n",
    "        if line.startswith(': capital-world'):\n",
    "            break\n",
    "        lines.append(line)\n",
    "print(lines[:10])\n",
    "with open(datapath('word-analogies.txt'), 'w') as f:\n",
    "    f.writelines(lines)"
   ]
  },
  {
   "cell_type": "markdown",
   "metadata": {},
   "source": [
    "Now we can evaluate our model with gensim's built-in function `evaluate_word_analogies`. Save the results to a variable `analogy_scores`."
   ]
  },
  {
   "cell_type": "code",
   "execution_count": 19,
   "metadata": {},
   "outputs": [],
   "source": [
    "analogy_scores = wv.evaluate_word_analogies(datapath('word-analogies.txt'))"
   ]
  },
  {
   "cell_type": "markdown",
   "metadata": {},
   "source": [
    "Print the accuracy and show an example of a correctly solved analogy, and an incorrectly solved one."
   ]
  },
  {
   "cell_type": "code",
   "execution_count": 24,
   "metadata": {},
   "outputs": [
    {
     "name": "stdout",
     "output_type": "stream",
     "text": [
      "Accuracy: 83.20%\n",
      "capital-common-countries\n",
      "Total accuracy\n",
      "dict_keys(['section', 'correct', 'incorrect'])\n",
      "('ATHENS', 'GREECE', 'BANGKOK', 'THAILAND')\n",
      "('ATHENS', 'GREECE', 'BAGHDAD', 'IRAQ')\n"
     ]
    }
   ],
   "source": [
    "print(f\"Accuracy: {analogy_scores[0]:.2%}\")\n",
    "print(analogy_scores[1][0]['section'])\n",
    "print(analogy_scores[1][1]['section'])\n",
    "print(analogy_scores[1][0].keys())\n",
    "print(analogy_scores[1][1]['correct'][0])\n",
    "print(analogy_scores[1][1]['incorrect'][0])"
   ]
  },
  {
   "cell_type": "markdown",
   "metadata": {},
   "source": [
    "## Visualization\n",
    "Let's visualize our word embeddings in two dimensions. We use PCA to reduce the dimensionality of our 300-dim word vectors to 2. Below is a function `display_scatterplot` that takes a list of words as input and plots them in 2D."
   ]
  },
  {
   "cell_type": "code",
   "execution_count": 25,
   "metadata": {},
   "outputs": [],
   "source": [
    "from sklearn.decomposition import PCA\n",
    "import matplotlib.pyplot as plt\n",
    "%matplotlib inline\n",
    "\n",
    "def display_scatterplot(model, words): # assumes all words are in the vocabulary\n",
    "    word_vectors = [model[word] for word in words]\n",
    "    twodim = PCA().fit_transform(word_vectors)[:,:2]\n",
    "    plt.figure(figsize=(6,6))\n",
    "    plt.scatter(twodim[:,0], twodim[:,1], edgecolors='k', c='r')\n",
    "    for word, (x,y) in zip(words, twodim):\n",
    "        plt.text(x + 0.03, y + 0.03, word)"
   ]
  },
  {
   "cell_type": "markdown",
   "metadata": {},
   "source": [
    "Define a list of words that could be present in an analogy task. Plot their down-projected embeddings. Can you detect a vector for the relation of your analogy?"
   ]
  },
  {
   "cell_type": "code",
   "execution_count": 26,
   "metadata": {},
   "outputs": [
    {
     "data": {
      "image/png": "[encoded data removed]",
      "text/plain": [
       "<Figure size 600x600 with 1 Axes>"
      ]
     },
     "metadata": {},
     "output_type": "display_data"
    }
   ],
   "source": [
    "words = [\"fish\", \"water\", \"bird\", \"air\", \"lion\", \"savanna\", \"penguin\", \"ice\"]\n",
    "display_scatterplot(wv, words)\n",
    "\n",
    "\n",
    "\n"
   ]
  },
  {
   "cell_type": "markdown",
   "metadata": {},
   "source": [
    "## Fun with words\n",
    "Try your own skills in guessing the hidden word by entering words and receiving the cosine similarity on [Semantle](https://semantle.com/)."
   ]
  }
 ],
 "metadata": {
  "kernelspec": {
   "display_name": "Python 3",
   "language": "python",
   "name": "python3"
  },
  "language_info": {
   "codemirror_mode": {
    "name": "ipython",
    "version": 3
   },
   "file_extension": ".py",
   "mimetype": "text/x-python",
   "name": "python",
   "nbconvert_exporter": "python",
   "pygments_lexer": "ipython3",
   "version": "3.12.3"
  }
 },
 "nbformat": 4,
 "nbformat_minor": 4
}
