{
 "cells": [
  {
   "cell_type": "markdown",
   "id": "d3a1078d",
   "metadata": {},
   "source": [
    "# Recurrent Neural Networks\n",
    "In this exercise, we will implement a simple one-layer recurrent neural network. We will use the formula for an [Elman RNN](https://en.wikipedia.org/wiki/Recurrent_neural_network#Elman_networks_and_Jordan_networks), one of the most basic and classical RNNs. The hidden state update and output at time $t$ are defined like this:\n",
    "\n",
    "$$\n",
    "\\begin{align}\n",
    "h_t &= \\tanh(W_h x_t + U_h h_{t-1} + b_h) \\\\\n",
    "y_t &= \\tanh(W_y h_t + b_y)\n",
    "\\end{align}\n",
    "$$"
   ]
  },
  {
   "cell_type": "code",
   "execution_count": 5,
   "id": "cd53e848",
   "metadata": {},
   "outputs": [],
   "source": [
    "import torch\n",
    "import torch.nn as nn"
   ]
  },
  {
   "cell_type": "markdown",
   "id": "96717180",
   "metadata": {},
   "source": [
    "We start by defining the RNN as a subclass of `nn.Module`. The network's parameters are created in the `__init__` method. Use `input_dim`, `hidden_dim` and `output_dim` as arguments that define the dimensionality of the input/hidden/output vectors. Define your parameters as `nn.Parameter` with the appropriate dimensions. The documentation of `torch.nn` can be found [here](https://pytorch.org/docs/stable/nn.html)."
   ]
  },
  {
   "cell_type": "code",
   "execution_count": 6,
   "id": "3046a484",
   "metadata": {},
   "outputs": [],
   "source": [
    "class RNN(nn.Module):\n",
    "\n",
    "    def __init__(self, input_dim, hidden_dim, output_dim):\n",
    "        super().__init__()\n",
    "        self.W_ih = nn.Parameter(torch.zeros(hidden_dim, input_dim))\n",
    "        self.W_hh = nn.Parameter(torch.zeros(hidden_dim, hidden_dim))\n",
    "        self.W_ho = nn.Parameter(torch.zeros(output_dim, hidden_dim))\n",
    "\n",
    "        self.b_ih = nn.Parameter(torch.zeros(hidden_dim))\n",
    "        self.b_ho = nn.Parameter(torch.zeros(output_dim))"
   ]
  },
  {
   "cell_type": "markdown",
   "id": "2f1d42c7",
   "metadata": {},
   "source": [
    "Add a function `reset_parameters` that initializes your parameters. Pick a suitable distribution from [nn.init](https://pytorch.org/docs/stable/nn.init.html)."
   ]
  },
  {
   "cell_type": "code",
   "execution_count": 7,
   "id": "0f7f786e",
   "metadata": {},
   "outputs": [],
   "source": [
    "def reset_parameters(self):\n",
    "    for weight in self.parameters():\n",
    "        nn.init.uniform_(weight, -1, 1)\n",
    "\n",
    "RNN.reset_parameters = reset_parameters"
   ]
  },
  {
   "cell_type": "markdown",
   "id": "b2f8081d",
   "metadata": {},
   "source": [
    "Add a `forward` function that takes an input and a starting hidden state $h_{t-1}$ and returns the updated hidden state $h_t$ and output $y$ as outputs. The initial hidden state $h_0$ can be initialized randomly/to all zeros."
   ]
  },
  {
   "cell_type": "code",
   "execution_count": 8,
   "id": "be12dc16",
   "metadata": {},
   "outputs": [],
   "source": [
    "def forward(self, x, hidden_state):\n",
    "    hidden_state = torch.tanh(\n",
    "        torch.matmul(self.W_ih, x) + self.b_ih +\n",
    "        torch.matmul(self.W_hh, hidden_state)\n",
    "    )\n",
    "    output = torch.matmul(self.W_ho, hidden_state) + self.b_ho\n",
    "    return output, hidden_state\n",
    "    \n",
    "\n",
    "RNN.forward = forward"
   ]
  },
  {
   "cell_type": "markdown",
   "id": "79bfa8a9",
   "metadata": {},
   "source": [
    "Test your RNN with a single input."
   ]
  },
  {
   "cell_type": "code",
   "execution_count": 9,
   "id": "8521f93b",
   "metadata": {},
   "outputs": [
    {
     "name": "stdout",
     "output_type": "stream",
     "text": [
      "y shape: torch.Size([10])\n",
      "hidden state shape: torch.Size([20])\n",
      "y: tensor([ 3.6179, -3.9651,  2.4711,  3.0582,  1.3208, -0.0065,  2.2494, -3.7407,\n",
      "        -2.2305, -0.4158], grad_fn=<AddBackward0>)\n",
      "hidden state: tensor([ 0.3776, -0.8823,  0.6815,  0.8881, -0.8093, -0.9457, -0.9092,  0.6093,\n",
      "        -0.8032,  0.6621,  0.8265,  0.2261, -0.9486, -0.3425,  0.8368,  0.8207,\n",
      "         0.1809,  0.3537, -0.9602,  0.4349], grad_fn=<TanhBackward0>)\n"
     ]
    }
   ],
   "source": [
    "input_dim = 5\n",
    "hidden_dim = 20\n",
    "output_dim = 10\n",
    "rnn = RNN(input_dim, hidden_dim, output_dim)\n",
    "rnn.reset_parameters()\n",
    "\n",
    "x = torch.randn(input_dim)\n",
    "hidden_state = torch.zeros(hidden_dim)\n",
    "output, hidden_state = rnn(x, hidden_state) \n",
    "\n",
    "print('y shape:', output.shape)\n",
    "print('hidden state shape:', hidden_state.shape)\n",
    "print('y:', output)\n",
    "print('hidden state:', hidden_state)"
   ]
  },
  {
   "cell_type": "markdown",
   "id": "bcbd792b",
   "metadata": {},
   "source": [
    "Now create an input sequence and run it through your RNN."
   ]
  },
  {
   "cell_type": "code",
   "execution_count": 10,
   "id": "f7570b70",
   "metadata": {},
   "outputs": [
    {
     "name": "stdout",
     "output_type": "stream",
     "text": [
      "y shape: torch.Size([10])\n",
      "hidden state shape: torch.Size([20])\n",
      "y: tensor([-0.1227, -0.3844, -2.2604,  3.4452, -6.7179,  0.0838, -1.3907,  0.9174,\n",
      "        -0.0674,  2.3946], grad_fn=<AddBackward0>)\n",
      "hidden state: tensor([ 0.9990,  0.9542, -1.0000,  0.7215,  0.9027,  0.9982, -0.9286, -0.9915,\n",
      "        -0.9815,  0.8992, -0.9880, -0.2719,  0.9751,  0.9990,  0.9988,  0.9763,\n",
      "        -0.9923,  0.8183,  0.9315,  0.9997], grad_fn=<TanhBackward0>)\n"
     ]
    }
   ],
   "source": [
    "seq_length = 4\n",
    "inputs = [torch.randn(input_dim) for _ in range(seq_length)]\n",
    "hidden_state = torch.zeros(hidden_dim)\n",
    "outputs = []\n",
    "\n",
    "for x in inputs:\n",
    "    output, new_hidden_state = rnn(x, hidden_state)\n",
    "    hidden_state = new_hidden_state\n",
    "    outputs.append(output)\n",
    "\n",
    "print('y shape:', output.shape)\n",
    "print('hidden state shape:', hidden_state.shape)\n",
    "print('y:', output)\n",
    "print('hidden state:', hidden_state)"
   ]
  },
  {
   "cell_type": "markdown",
   "id": "9c258a2f",
   "metadata": {},
   "source": [
    "The final hidden state encodes all the information present in the input sequence. It can be used as a feature for classification, or to initialize a decoder RNN to do translation, for example.\n",
    "\n",
    "Now look at PyTorch's documentation for the [`nn.RNN`](https://pytorch.org/docs/stable/generated/torch.nn.RNN.html) and the [`nn.RNNCell`](https://pytorch.org/docs/stable/generated/torch.nn.RNNCell.html) classes. What is the difference between the two? What is the difference to the definition from Wikipedia we used above? Run your input sequence through both the `nn.RNN` and the `nn.RNNCell`."
   ]
  },
  {
   "cell_type": "code",
   "execution_count": 11,
   "id": "7c5ce3f8",
   "metadata": {},
   "outputs": [
    {
     "name": "stdout",
     "output_type": "stream",
     "text": [
      "hx shape: torch.Size([3, 20])\n",
      "hx: tensor([[ 0.7233,  0.5792, -0.4003,  0.3691,  0.0636,  0.3248, -0.1921, -0.4253,\n",
      "         -0.7624, -0.2697, -0.5016,  0.2533,  0.2468,  0.3396,  0.0448, -0.2077,\n",
      "          0.3960, -0.4848, -0.5844,  0.4620],\n",
      "        [ 0.0211,  0.3357, -0.0255,  0.3007, -0.1474,  0.1392, -0.0698, -0.4382,\n",
      "         -0.3114,  0.2774,  0.0880, -0.7112,  0.1508,  0.5629,  0.2197,  0.6349,\n",
      "         -0.1773, -0.5267, -0.1543, -0.1631],\n",
      "        [ 0.5205,  0.5119,  0.4771, -0.2527,  0.5881, -0.5667,  0.2836,  0.0392,\n",
      "          0.0441,  0.3735, -0.2442,  0.0407,  0.1120,  0.3315,  0.4730, -0.1075,\n",
      "          0.0994,  0.1260,  0.0323, -0.2825]], grad_fn=<TanhBackward0>)\n",
      "len(output): 6\n",
      "output[-1] shape: torch.Size([3, 20])\n"
     ]
    }
   ],
   "source": [
    "rnn = nn.RNNCell(10, 20)\n",
    "input = torch.randn(6, 3, 10)\n",
    "hx = torch.randn(3, 20)\n",
    "output = []\n",
    "for i in range(6):\n",
    "    hx = rnn(input[i], hx)\n",
    "    output.append(hx)\n",
    "\n",
    "print('hx shape:', hx.shape)\n",
    "print('hx:', hx)\n",
    "print('len(output):', len(output))\n",
    "print('output[-1] shape:', output[-1].shape)"
   ]
  },
  {
   "cell_type": "code",
   "execution_count": 12,
   "id": "49cc3c2c",
   "metadata": {},
   "outputs": [
    {
     "name": "stdout",
     "output_type": "stream",
     "text": [
      "output shape: torch.Size([5, 3, 20])\n",
      "hn shape: torch.Size([2, 3, 20])\n",
      "output: tensor([[[-4.8626e-01,  4.0709e-01, -8.4299e-01, -4.0113e-01, -2.6314e-01,\n",
      "          -1.8457e-01,  4.1829e-01,  9.7122e-01, -6.0532e-01, -2.3119e-01,\n",
      "           7.4868e-01, -4.3750e-01, -1.3184e-01,  3.9995e-01, -7.0460e-01,\n",
      "          -5.5162e-01, -5.0897e-01,  7.4554e-01, -5.6218e-02,  6.3047e-01],\n",
      "         [ 6.3641e-01,  3.5804e-01, -6.2575e-01, -7.1356e-01, -4.5802e-01,\n",
      "          -5.6249e-01,  2.4483e-01,  6.5745e-01,  1.2468e-01,  6.6862e-01,\n",
      "          -3.4193e-01,  6.3295e-01, -6.8234e-02,  2.7414e-02, -3.7042e-01,\n",
      "          -6.0987e-01, -4.9840e-01,  4.5116e-01,  1.4207e-01, -9.8684e-02],\n",
      "         [ 4.2996e-01, -1.1258e-01,  1.2652e-01, -6.6382e-01,  3.3842e-01,\n",
      "          -1.8776e-01, -2.2294e-02,  7.6567e-01,  5.3179e-01,  2.1342e-01,\n",
      "          -1.4541e-01, -1.5331e-01, -1.7251e-01, -7.1197e-01, -4.9672e-01,\n",
      "          -6.6058e-01,  2.8546e-01,  2.2175e-01, -6.4800e-01,  4.8958e-01]],\n",
      "\n",
      "        [[-2.9645e-01, -5.1708e-01,  7.0855e-01, -1.3572e-01,  3.1232e-01,\n",
      "          -6.3932e-01, -5.7525e-01,  7.5799e-01,  7.0064e-02,  5.0059e-01,\n",
      "           3.6280e-01, -1.2293e-02, -1.3785e-01, -6.3492e-01, -8.7053e-02,\n",
      "          -5.3260e-01, -8.2848e-01,  6.4505e-01, -2.4320e-01,  3.4396e-01],\n",
      "         [ 2.2596e-01, -3.4454e-01,  6.4151e-01, -3.6055e-01,  1.8678e-02,\n",
      "          -6.2461e-01, -2.6914e-01,  3.9352e-01,  7.8238e-02, -2.0228e-01,\n",
      "          -3.3092e-02,  6.9849e-02,  4.9722e-01, -7.7435e-01, -1.8407e-01,\n",
      "          -2.0554e-01, -7.2108e-01, -1.0923e-02, -4.1677e-01,  4.4436e-01],\n",
      "         [-1.1743e-01,  7.5101e-03,  1.0168e-01, -3.0102e-01, -4.5118e-02,\n",
      "          -1.8349e-01,  5.3916e-02,  1.1811e-01,  3.7519e-03,  3.2708e-01,\n",
      "          -6.6042e-01,  7.8150e-01,  1.1570e-01, -3.4116e-01,  3.1952e-01,\n",
      "          -4.8232e-01, -3.0307e-01,  6.2537e-01, -7.5721e-02,  1.0734e-01]],\n",
      "\n",
      "        [[ 3.2744e-01, -1.9907e-01, -5.8811e-02,  1.2778e-01,  3.1605e-01,\n",
      "          -7.6816e-02,  3.2586e-01,  4.3976e-01,  5.0731e-03,  3.0575e-01,\n",
      "          -1.1258e-01,  3.6878e-01, -1.1048e-01, -2.8073e-02, -2.5127e-02,\n",
      "          -1.7102e-01, -2.4024e-01,  4.7432e-01, -4.0527e-01,  3.6468e-01],\n",
      "         [ 1.3512e-01,  1.8115e-01, -4.8022e-01, -3.9464e-01,  4.2257e-02,\n",
      "          -1.3673e-01, -3.8790e-01,  4.0653e-02,  2.2845e-01, -3.3848e-01,\n",
      "          -3.0926e-01,  5.5170e-02,  4.9890e-01, -5.8167e-01, -4.7149e-01,\n",
      "          -2.5423e-01, -3.2908e-01,  1.0335e-01, -7.3599e-02,  1.2577e-01],\n",
      "         [ 2.2915e-01, -3.5779e-01, -5.8582e-03, -5.3682e-01,  1.6486e-01,\n",
      "          -7.0580e-01,  4.4571e-01,  4.6303e-02,  1.0325e-01, -3.9095e-01,\n",
      "          -2.6855e-02,  5.2325e-02,  2.5743e-01, -5.6612e-01, -6.1027e-02,\n",
      "          -1.4982e-01, -4.1785e-01,  1.7451e-01, -3.1667e-01,  6.2174e-01]],\n",
      "\n",
      "        [[ 1.3321e-01, -4.5931e-01, -1.0144e-01,  6.0474e-02,  7.6780e-02,\n",
      "          -8.2656e-02,  2.3540e-01,  5.3564e-01,  5.4048e-02,  3.0725e-01,\n",
      "          -5.8978e-02,  1.8040e-01, -8.5615e-02, -2.2418e-01,  4.6708e-01,\n",
      "          -2.7356e-01, -4.4171e-01,  3.9570e-01, -2.1729e-01,  1.1889e-01],\n",
      "         [-3.0745e-01,  3.4824e-02,  1.3053e-01, -7.7090e-02,  1.4561e-01,\n",
      "          -1.8565e-01, -1.4615e-01,  8.1205e-02,  5.2375e-02,  4.9649e-02,\n",
      "           7.6138e-02,  4.4592e-01,  3.9792e-02,  1.5906e-01,  2.6436e-01,\n",
      "          -1.0577e-01, -5.3915e-01,  5.1630e-01, -2.1373e-01, -1.7861e-01],\n",
      "         [ 3.5793e-01, -7.6299e-02,  6.6253e-02, -2.7781e-02,  1.5301e-02,\n",
      "          -3.2896e-01, -4.8209e-01, -2.8477e-02,  2.1583e-01,  3.4832e-01,\n",
      "           2.6365e-01, -3.0445e-01,  2.0017e-01, -4.0084e-01, -5.6862e-01,\n",
      "          -3.5013e-01, -3.0841e-01,  6.0434e-03, -3.7424e-01, -1.4280e-01]],\n",
      "\n",
      "        [[-6.8658e-02, -3.6022e-01,  4.4232e-02, -3.1480e-01,  4.8907e-01,\n",
      "          -6.1476e-01,  2.6830e-01,  1.0474e-01, -1.0248e-01,  3.9016e-01,\n",
      "           1.6386e-01,  4.5462e-01, -6.5270e-02, -5.3843e-01,  2.4333e-01,\n",
      "          -1.2723e-01, -6.7664e-01,  5.5481e-01, -2.4786e-01,  4.0588e-01],\n",
      "         [ 6.4519e-02, -1.4620e-01,  1.0702e-01, -3.0824e-01, -3.5733e-02,\n",
      "          -3.5561e-01,  9.7183e-03,  6.5038e-01, -3.0513e-01,  1.1978e-01,\n",
      "           2.1974e-01,  2.0072e-01,  1.2253e-01,  8.0581e-02, -2.4512e-04,\n",
      "          -3.6587e-01, -5.0086e-01,  2.5377e-01, -1.5179e-01,  5.7844e-01],\n",
      "         [-3.1129e-01,  8.5505e-02,  2.3717e-01, -1.1552e-01,  1.9818e-01,\n",
      "          -3.8835e-01, -2.1706e-01, -1.5188e-01, -2.5438e-01,  2.1632e-01,\n",
      "          -3.3299e-01,  2.7658e-01, -8.8015e-03, -4.0430e-01,  2.0538e-02,\n",
      "          -1.1509e-01, -2.2688e-01,  3.3562e-01, -3.6836e-02,  2.5360e-01]]],\n",
      "       grad_fn=<StackBackward0>)\n",
      "hn: tensor([[[ 4.2271e-01, -5.4163e-01,  1.4840e-01, -3.2509e-01,  6.0859e-01,\n",
      "           2.2526e-02, -8.0424e-01,  7.7396e-01,  7.1627e-01, -3.6787e-01,\n",
      "           6.9104e-01, -3.2555e-01, -4.2576e-02, -4.7322e-01,  2.0480e-02,\n",
      "           7.0477e-01,  6.0238e-01, -7.1619e-01, -3.9019e-01,  2.6706e-01],\n",
      "         [-5.2039e-01,  1.8652e-01, -1.1799e-01, -1.9418e-01, -1.0782e-01,\n",
      "           3.0419e-01,  6.1027e-02, -9.9786e-02,  2.6479e-01, -2.6285e-01,\n",
      "           6.0776e-01, -6.5290e-01,  1.4590e-01,  3.0111e-01, -7.0909e-01,\n",
      "          -2.4337e-01,  2.3140e-01, -5.0842e-01,  2.1231e-01,  2.5217e-01],\n",
      "         [ 2.0630e-01,  1.9215e-01,  2.8141e-01, -3.4905e-02,  1.1782e-01,\n",
      "          -2.0508e-01, -5.1560e-01,  4.0045e-01, -2.0893e-01, -2.8085e-01,\n",
      "           1.5205e-01, -1.7762e-01, -3.6877e-01, -5.1663e-01,  1.8833e-02,\n",
      "          -4.1949e-01,  7.1562e-01, -4.6110e-01, -5.4029e-01, -1.2129e-01]],\n",
      "\n",
      "        [[-6.8658e-02, -3.6022e-01,  4.4232e-02, -3.1480e-01,  4.8907e-01,\n",
      "          -6.1476e-01,  2.6830e-01,  1.0474e-01, -1.0248e-01,  3.9016e-01,\n",
      "           1.6386e-01,  4.5462e-01, -6.5270e-02, -5.3843e-01,  2.4333e-01,\n",
      "          -1.2723e-01, -6.7664e-01,  5.5481e-01, -2.4786e-01,  4.0588e-01],\n",
      "         [ 6.4519e-02, -1.4620e-01,  1.0702e-01, -3.0824e-01, -3.5733e-02,\n",
      "          -3.5561e-01,  9.7183e-03,  6.5038e-01, -3.0513e-01,  1.1978e-01,\n",
      "           2.1974e-01,  2.0072e-01,  1.2253e-01,  8.0581e-02, -2.4512e-04,\n",
      "          -3.6587e-01, -5.0086e-01,  2.5377e-01, -1.5179e-01,  5.7844e-01],\n",
      "         [-3.1129e-01,  8.5505e-02,  2.3717e-01, -1.1552e-01,  1.9818e-01,\n",
      "          -3.8835e-01, -2.1706e-01, -1.5188e-01, -2.5438e-01,  2.1632e-01,\n",
      "          -3.3299e-01,  2.7658e-01, -8.8015e-03, -4.0430e-01,  2.0538e-02,\n",
      "          -1.1509e-01, -2.2688e-01,  3.3562e-01, -3.6836e-02,  2.5360e-01]]],\n",
      "       grad_fn=<StackBackward0>)\n"
     ]
    }
   ],
   "source": [
    "rnn = nn.RNN(10, 20, 2)\n",
    "input = torch.randn(5, 3, 10) # 5 = Sequence length, 3 = Batch size, 10 = Input dim\n",
    "h0 = torch.randn(2, 3, 20) # 2 = Number of layers, 3 = Batch size, 20 = Hidden dim\n",
    "output, hn = rnn(input, h0)\n",
    "\n",
    "print('output shape:', output.shape)\n",
    "print('hn shape:', hn.shape)\n",
    "print('output:', output)\n",
    "print('hn:', hn)\n"
   ]
  },
  {
   "cell_type": "code",
   "execution_count": 14,
   "id": "da8381b8",
   "metadata": {},
   "outputs": [
    {
     "name": "stdout",
     "output_type": "stream",
     "text": [
      "hidden state shape: torch.Size([20])\n",
      "len(output): 4\n"
     ]
    }
   ],
   "source": [
    "rnn_cell = nn.RNNCell(input_dim, hidden_dim)\n",
    "x = torch.randn(seq_length, input_dim)\n",
    "hidden_state = torch.zeros(hidden_dim)\n",
    "output = []\t\n",
    "\n",
    "for i in range(seq_length):\n",
    "    hidden_state = rnn_cell(x[i], hidden_state)\n",
    "    output.append(hidden_state)\n",
    "\n",
    "print('hidden state shape:', hidden_state.shape)\n",
    "print('len(output):', len(output))"
   ]
  },
  {
   "cell_type": "code",
   "execution_count": 15,
   "id": "677bcce7",
   "metadata": {},
   "outputs": [
    {
     "name": "stdout",
     "output_type": "stream",
     "text": [
      "output shape: torch.Size([4, 20])\n"
     ]
    }
   ],
   "source": [
    "torch_rnn = nn.RNN(input_dim, hidden_dim, num_layers=1)\n",
    "x = torch.randn(seq_length, input_dim)\n",
    "h0 = torch.zeros(1, hidden_dim)\n",
    "output, hn = torch_rnn(x, h0)\n",
    "\n",
    "print('output shape:', output.shape)"
   ]
  }
 ],
 "metadata": {
  "kernelspec": {
   "display_name": "Python 3",
   "language": "python",
   "name": "python3"
  },
  "language_info": {
   "codemirror_mode": {
    "name": "ipython",
    "version": 3
   },
   "file_extension": ".py",
   "mimetype": "text/x-python",
   "name": "python",
   "nbconvert_exporter": "python",
   "pygments_lexer": "ipython3",
   "version": "3.10.7"
  }
 },
 "nbformat": 4,
 "nbformat_minor": 5
}
