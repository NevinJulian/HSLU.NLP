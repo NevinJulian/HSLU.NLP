{
 "cells": [
  {
   "cell_type": "markdown",
   "id": "d3a1078d",
   "metadata": {},
   "source": [
    "# Recurrent Neural Networks\n",
    "In this exercise, we will implement a simple one-layer recurrent neural network. We will use the formula for an [Elman RNN](https://en.wikipedia.org/wiki/Recurrent_neural_network#Elman_networks_and_Jordan_networks), one of the most basic and classical RNNs. The hidden state update and output at time $t$ are defined like this:\n",
    "\n",
    "$$\n",
    "\\begin{align}\n",
    "h_t &= \\tanh(W_h x_t + U_h h_{t-1} + b_h) \\\\\n",
    "y_t &= \\tanh(W_y h_t + b_y)\n",
    "\\end{align}\n",
    "$$"
   ]
  },
  {
   "cell_type": "code",
   "execution_count": 1,
   "id": "cd53e848",
   "metadata": {},
   "outputs": [],
   "source": [
    "import torch\n",
    "import torch.nn as nn"
   ]
  },
  {
   "cell_type": "markdown",
   "id": "96717180",
   "metadata": {},
   "source": [
    "We start by defining the RNN as a subclass of `nn.Module`. The network's parameters are created in the `__init__` method. Use `input_dim`, `hidden_dim` and `output_dim` as arguments that define the dimensionality of the input/hidden/output vectors. Define your parameters as `nn.Parameter` with the appropriate dimensions. The documentation of `torch.nn` can be found [here](https://pytorch.org/docs/stable/nn.html)."
   ]
  },
  {
   "cell_type": "code",
   "execution_count": 5,
   "id": "3046a484",
   "metadata": {},
   "outputs": [],
   "source": [
    "class RNN(nn.Module):\n",
    "\n",
    "    def __init__(self, input_dim, hidden_dim, output_dim):\n",
    "        super().__init__()\n",
    "        self.W_ih = nn.Parameter(torch.zeros(hidden_dim, input_dim))\n",
    "        self.W_hh = nn.Parameter(torch.zeros(hidden_dim, hidden_dim))\n",
    "        self.W_ho = nn.Parameter(torch.zeros(output_dim, hidden_dim))\n",
    "\n",
    "        self.b_ih = nn.Parameter(torch.zeros(hidden_dim))\n",
    "        self.b_ho = nn.Parameter(torch.zeros(output_dim))"
   ]
  },
  {
   "cell_type": "markdown",
   "id": "2f1d42c7",
   "metadata": {},
   "source": [
    "Add a function `reset_parameters` that initializes your parameters. Pick a suitable distribution from [nn.init](https://pytorch.org/docs/stable/nn.init.html)."
   ]
  },
  {
   "cell_type": "code",
   "execution_count": 8,
   "id": "0f7f786e",
   "metadata": {},
   "outputs": [],
   "source": [
    "def reset_parameters(self):\n",
    "    for weight in self.parameters():\n",
    "        nn.init.uniform_(weight, -1, 1)\n",
    "\n",
    "RNN.reset_parameters = reset_parameters"
   ]
  },
  {
   "cell_type": "markdown",
   "id": "b2f8081d",
   "metadata": {},
   "source": [
    "Add a `forward` function that takes an input and a starting hidden state $h_{t-1}$ and returns the updated hidden state $h_t$ and output $y$ as outputs. The initial hidden state $h_0$ can be initialized randomly/to all zeros."
   ]
  },
  {
   "cell_type": "code",
   "execution_count": 11,
   "id": "be12dc16",
   "metadata": {},
   "outputs": [],
   "source": [
    "def forward(self, x, hidden_state):\n",
    "    hidden_state = torch.tanh(\n",
    "        torch.matmul(self.W_ih, x) + self.b_ih +\n",
    "        torch.matmul(self.W_hh, hidden_state)\n",
    "    )\n",
    "    output = torch.matmul(self.W_ho, hidden_state) + self.b_ho\n",
    "    return output, hidden_state\n",
    "    \n",
    "\n",
    "RNN.forward = forward"
   ]
  },
  {
   "cell_type": "markdown",
   "id": "79bfa8a9",
   "metadata": {},
   "source": [
    "Test your RNN with a single input."
   ]
  },
  {
   "cell_type": "code",
   "execution_count": 12,
   "id": "8521f93b",
   "metadata": {},
   "outputs": [
    {
     "name": "stdout",
     "output_type": "stream",
     "text": [
      "y shape: torch.Size([10])\n",
      "hidden state shape: torch.Size([20])\n",
      "y: tensor([ 0.1539,  1.0786, -0.0413, -0.0896,  0.7565,  1.1715,  3.0346,  1.6836,\n",
      "         1.3743, -2.6290], grad_fn=<AddBackward0>)\n",
      "hidden state: tensor([-0.1219, -0.9612,  0.6818, -0.9993, -0.0551,  0.9607, -0.7810, -0.9295,\n",
      "        -0.9291,  0.9873,  0.3704,  0.8568,  0.7495,  0.2143, -0.5961, -0.9334,\n",
      "        -0.7909, -0.3600,  0.8832,  0.9368], grad_fn=<TanhBackward0>)\n"
     ]
    }
   ],
   "source": [
    "input_dim = 5\n",
    "hidden_dim = 20\n",
    "output_dim = 10\n",
    "rnn = RNN(input_dim, hidden_dim, output_dim)\n",
    "rnn.reset_parameters()\n",
    "\n",
    "x = torch.randn(input_dim)\n",
    "hidden_state = torch.zeros(hidden_dim)\n",
    "output, hidden_state = rnn(x, hidden_state)\n",
    "\n",
    "print('y shape:', output.shape)\n",
    "print('hidden state shape:', hidden_state.shape)\n",
    "print('y:', output)\n",
    "print('hidden state:', hidden_state)"
   ]
  },
  {
   "cell_type": "markdown",
   "id": "bcbd792b",
   "metadata": {},
   "source": [
    "Now create an input sequence and run it through your RNN."
   ]
  },
  {
   "cell_type": "code",
   "execution_count": null,
   "id": "f7570b70",
   "metadata": {},
   "outputs": [],
   "source": []
  },
  {
   "cell_type": "markdown",
   "id": "9c258a2f",
   "metadata": {},
   "source": [
    "The final hidden state encodes all the information present in the input sequence. It can be used as a feature for classification, or to initialize a decoder RNN to do translation, for example.\n",
    "\n",
    "Now look at PyTorch's documentation for the [`nn.RNN`](https://pytorch.org/docs/stable/generated/torch.nn.RNN.html) and the [`nn.RNNCell`](https://pytorch.org/docs/stable/generated/torch.nn.RNNCell.html) classes. What is the difference between the two? What is the difference to the definition from Wikipedia we used above? Run your input sequence through both the `nn.RNN` and the `nn.RNNCell`."
   ]
  },
  {
   "cell_type": "code",
   "execution_count": null,
   "id": "7c5ce3f8",
   "metadata": {},
   "outputs": [],
   "source": []
  }
 ],
 "metadata": {
  "kernelspec": {
   "display_name": "Python 3",
   "language": "python",
   "name": "python3"
  },
  "language_info": {
   "codemirror_mode": {
    "name": "ipython",
    "version": 3
   },
   "file_extension": ".py",
   "mimetype": "text/x-python",
   "name": "python",
   "nbconvert_exporter": "python",
   "pygments_lexer": "ipython3",
   "version": "3.10.7"
  }
 },
 "nbformat": 4,
 "nbformat_minor": 5
}
