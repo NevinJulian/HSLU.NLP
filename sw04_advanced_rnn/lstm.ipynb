{
 "cells": [
  {
   "cell_type": "markdown",
   "id": "20bae9b5",
   "metadata": {},
   "source": [
    "# Long Short-Term Memory\n",
    "In this exercise, we will implement an LSTM. In the class, we have already seen the definition of the LSTM update rules at time step $t$:\n",
    "\n",
    "$$\n",
    "\\begin{align}\n",
    "f_t &= \\sigma(W_f h_{t-1} + U_f x_t + b_f) \\\\\n",
    "i_t &= \\sigma(W_i h_{t-1} + U_i x_t + b_i) \\\\\n",
    "o_t &= \\sigma(W_o h_{t-1} + U_o x_t + b_o) \\\\\n",
    "\\tilde{c}_t &= \\tanh(W_c h_{t-1} + U_c x_t + b_c) \\\\\n",
    "c_t &= f_t * c_{t-1} + i_t * \\tilde{c}_t \\\\\n",
    "h_t &= o_t * \\tanh(c_t)\n",
    "\\end{align}\n",
    "$$"
   ]
  },
  {
   "cell_type": "code",
   "execution_count": 1,
   "id": "e7619e77",
   "metadata": {},
   "outputs": [],
   "source": [
    "import torch\n",
    "import torch.nn as nn"
   ]
  },
  {
   "cell_type": "markdown",
   "id": "c18fa802",
   "metadata": {},
   "source": [
    "Implement this original version of the LSTM as an `LSTMCell`."
   ]
  },
  {
   "cell_type": "code",
   "execution_count": null,
   "id": "bc600661",
   "metadata": {},
   "outputs": [],
   "source": [
    "#DO NOT EXECUTE THIS CELL\n",
    "#Other implementation to use linear instead of parameter\n",
    "\n",
    "class LSTMCell(nn.Module):\n",
    "\n",
    "    def __init__(self, input_dim, hidden_dim, num_chunks=4):\n",
    "        super().__init__()\n",
    "        #self.W_f = nn.Linear(hidden_dim, hidden_dim, bias=False)\n",
    "        #self.W_i = nn.Linear(hidden_dim, hidden_dim, bias=False)\n",
    "        #self.W_o = nn.Linear(hidden_dim, hidden_dim, bias=False)\n",
    "        #self.W_c = nn.Linear(hidden_dim, hidden_dim, bias=False)\n",
    "        #self.U_f = nn.Linear(input_dim, hidden_dim, bias=False)\n",
    "        #self.U_i = nn.Linear(input_dim, hidden_dim, bias=False)\n",
    "        #self.U_o = nn.Linear(input_dim, hidden_dim, bias=False)\n",
    "        #self.U_c = nn.Linear(input_dim, hidden_dim, bias=False)\n",
    "\n",
    "        #define everything together\n",
    "        self.w = nn.Linear(hidden_dim, num_chunks * hidden_dim, bias=False)\n",
    "        self.u = nn.Linear(input_dim, num_chunks * hidden_dim, bias=False)\n",
    "        self.b = nn.Parameter(torch.zeros(num_chunks * hidden_dim))\n",
    "\n",
    "    def reset_parameters(self): \n",
    "        for param in self.parameters():\n",
    "            nn.init.normal(param, mean=0, std=1)\n",
    "\n",
    "    def forward(self, x, hidden_state, cell_state):\n",
    "        updates = self.w(hidden_state) + self.u(x) + self.b\n",
    "        updates = updates.reshape(self.num_chunks, self.hidden_dim)\n",
    "\n",
    "        forget_gate = torch.sigmoid(updates[0])\n",
    "        input_gate = torch.sigmoid(updates[1])\n",
    "        output_gate = torch.sigmoid(updates[2])\n",
    "        cell_gate = torch.tanh(updates[3])\n",
    "\n",
    "        new_cell_state = forget_gate * cell_state + input_gate * cell_gate\n",
    "        new_hidden_state = output_gate * torch.tanh(new_cell_state)\n",
    "        return new_hidden_state, new_cell_state"
   ]
  },
  {
   "cell_type": "code",
   "execution_count": 11,
   "id": "5b7cf7f3",
   "metadata": {},
   "outputs": [],
   "source": [
    "class LSTMCell(nn.Module):\n",
    "\n",
    "    def __init__(self, input_dim, hidden_dim):\n",
    "        super().__init__()\n",
    "        self.W_f = nn.Parameter(torch.randn(hidden_dim, hidden_dim))\n",
    "        self.U_f = nn.Parameter(torch.randn(hidden_dim, input_dim))\n",
    "        self.W_i = nn.Parameter(torch.randn(hidden_dim, hidden_dim))\n",
    "        self.U_i = nn.Parameter(torch.randn(hidden_dim, input_dim))\n",
    "        self.W_o = nn.Parameter(torch.randn(hidden_dim, hidden_dim))\n",
    "        self.U_o = nn.Parameter(torch.randn(hidden_dim, input_dim))\n",
    "        self.W_c = nn.Parameter(torch.randn(hidden_dim, hidden_dim))\n",
    "        self.U_c = nn.Parameter(torch.randn(hidden_dim, input_dim))\n",
    "\n",
    "        self.b_f = nn.Parameter(torch.randn(hidden_dim))\n",
    "        self.b_i = nn.Parameter(torch.randn(hidden_dim))\n",
    "        self.b_o = nn.Parameter(torch.randn(hidden_dim))\n",
    "        self.b_c = nn.Parameter(torch.randn(hidden_dim))\n",
    "\n",
    "\n",
    "    def reset_parameters(self): \n",
    "        for param in self.parameters():\n",
    "            nn.init.normal(param, mean=0, std=1)\n",
    "\n",
    "    def forward(self, x, hidden_state, cell_state):\n",
    "        f = torch.sigmoid(torch.matmul(self.W_f, hidden_state) + torch.matmul(self.U_f, x) + self.b_f)\n",
    "        i = torch.sigmoid(torch.matmul(self.W_i, hidden_state) + torch.matmul(self.U_i, x) + self.b_i)\n",
    "        o = torch.sigmoid(torch.matmul(self.W_o, hidden_state) + torch.matmul(self.U_o, x) + self.b_o)\n",
    "        c_hat = torch.tanh(torch.matmul(self.W_c, hidden_state) + torch.matmul(self.U_c, x) + self.b_c)\n",
    "        c = f * cell_state + i * c_hat\n",
    "        h = o * torch.tanh(c)\n",
    "        return h, c"
   ]
  },
  {
   "cell_type": "markdown",
   "id": "f49ac90b",
   "metadata": {},
   "source": [
    "Create a 2-layer LSTM from your LSTMCell base class and run a forward pass with a random input sequence to test that all your dimensions are correct."
   ]
  },
  {
   "cell_type": "code",
   "execution_count": 16,
   "id": "1562d0bb",
   "metadata": {},
   "outputs": [
    {
     "name": "stdout",
     "output_type": "stream",
     "text": [
      "LSTM outputs:  6 torch.Size([10])\n",
      "Hidden state:  torch.Size([2, 10])\n",
      "Cell state:  torch.Size([2, 10])\n"
     ]
    },
    {
     "name": "stderr",
     "output_type": "stream",
     "text": [
      "C:\\Users\\nevin\\AppData\\Local\\Temp\\ipykernel_19676\\1973326766.py:22: FutureWarning: `nn.init.normal` is now deprecated in favor of `nn.init.normal_`.\n",
      "  nn.init.normal(param, mean=0, std=1)\n"
     ]
    }
   ],
   "source": [
    "class LSTM(nn.Module):\n",
    "    def __init__(self, input_dim, hidden_dim, num_layers):\n",
    "        super().__init__()\n",
    "        self.layers = nn.ModuleList()\n",
    "        for i in range(num_layers):\n",
    "            in_dim = input_dim if i == 0 else hidden_dim\n",
    "            self.layers.append(LSTMCell(in_dim, hidden_dim))\n",
    "\n",
    "    def reset_parameters(self):\n",
    "        for layer in self.layers:\n",
    "            layer.reset_parameters()\n",
    "\n",
    "    def forward(self, x, hidden_state, cell_state):\n",
    "        outputs = []\n",
    "        for x_i in x:\n",
    "            for i, layer in enumerate(self.layers):\n",
    "                hidden_state[i], cell_state[i] = layer(x_i, hidden_state[i], cell_state[i])\n",
    "                x_i = hidden_state[i]\n",
    "            outputs.append(hidden_state[-1])\n",
    "        return outputs, (hidden_state, cell_state)\n",
    "    \n",
    "\n",
    "#Example of usage\n",
    "input_dim = 5\n",
    "hidden_dim = 10\n",
    "num_layers = 2\n",
    "seq_len = 6\n",
    "\n",
    "x = torch.randn(seq_len, input_dim)\n",
    "hidden_state = torch.zeros(num_layers, hidden_dim)\n",
    "cell_state = torch.zeros(num_layers, hidden_dim)\n",
    "\n",
    "lstm = LSTM(input_dim, hidden_dim, num_layers)\n",
    "lstm.reset_parameters()\n",
    "\n",
    "outputs, (hidden_state, cell_state) = lstm(x, hidden_state, cell_state)\n",
    "print('LSTM outputs: ', len(outputs), outputs[0].shape)\n",
    "print('Hidden state: ', hidden_state.shape)\n",
    "print('Cell state: ', cell_state.shape)\n"
   ]
  },
  {
   "cell_type": "markdown",
   "id": "dbc4028e",
   "metadata": {},
   "source": [
    "Implement a subclass of your LSTM that uses a coupled forget and input gate, i.e. the cell state update becomes:\n",
    "\n",
    "$$c_t = f_t * c_{t-1} + (1-f_t) * \\tilde{c}_t$$"
   ]
  },
  {
   "cell_type": "code",
   "execution_count": null,
   "id": "821ee42c",
   "metadata": {},
   "outputs": [],
   "source": [
    "class CoupledLSTMCell(LSTMCell):\n",
    "\n",
    "    def __init__(self, inout_dim, hidden_dim):\n",
    "        super().__init__(inout_dim, hidden_dim)\n",
    "\n",
    "    def forward(self, x, hidden_state, cell_state):\n",
    "        updates = self.w(hidden_state) + self.u(x) + self.b\n",
    "        updates = updates.reshape(self.num_chunks, self.hidden_dim)\n",
    "\n",
    "        forget_gate = torch.sigmoid(updates[0])\n",
    "        output_gate = torch.sigmoid(updates[1])\n",
    "        cell_gate = torch.tanh(updates[2])\n",
    "\n",
    "        new_cell_state = forget_gate * cell_state + (1 - forget_gate) * cell_gate\n",
    "        new_hidden_state = output_gate * torch.tanh(new_cell_state)\n",
    "        return new_hidden_state, new_cell_state\n",
    "    \n",
    "class CoupledLSTM(LSTM):\n",
    "    \n",
    "    def __init__(self, input_dim, hidden_dim, num_layers):\n",
    "        super().__init__(input_dim, hidden_dim, num_layers)\n",
    "        self.layers = nn.ModuleList()\n",
    "        for i in range(num_layers):\n",
    "            in_dim = input_dim if i == 0 else hidden_dim\n",
    "            self.layers.append(CoupledLSTMCell(in_dim, hidden_dim))"
   ]
  },
  {
   "cell_type": "markdown",
   "id": "371c955b",
   "metadata": {},
   "source": [
    "**Bonus:** Implement *peephole connections* as described at the start of the Section *Variants on Long Short Term Memory* in [this blog post explaining LSTMs](https://colah.github.io/posts/2015-08-Understanding-LSTMs/).\n",
    "\n",
    "The gate update definitions get an additional term that looks at the cell state:\n",
    "$$\n",
    "\\begin{align}\n",
    "f_t &= \\sigma(W_f h_{t-1} + U_f x_t + b_f \\boldsymbol{+ V_f c_{t-1}}) \\\\\n",
    "i_t &= \\sigma(W_i h_{t-1} + U_i x_t + b_i \\boldsymbol{+ V_i c_{t-1}}) \\\\\n",
    "o_t &= \\sigma(W_o h_{t-1} + U_o x_t + b_o \\boldsymbol{+ V_o c_t})\n",
    "\\end{align}\n",
    "$$\n",
    "\n",
    "To make the task a bit easier, we will implement the last equation with the cell state of the previous time step $t-1$ as $$o_t = \\sigma(W_o h_{t-1} + U_o x_t + b_o \\boldsymbol{+ V_o c_{t-1}})$$ instead."
   ]
  },
  {
   "cell_type": "code",
   "execution_count": null,
   "id": "97f33705",
   "metadata": {},
   "outputs": [],
   "source": []
  }
 ],
 "metadata": {
  "kernelspec": {
   "display_name": "Python 3",
   "language": "python",
   "name": "python3"
  },
  "language_info": {
   "codemirror_mode": {
    "name": "ipython",
    "version": 3
   },
   "file_extension": ".py",
   "mimetype": "text/x-python",
   "name": "python",
   "nbconvert_exporter": "python",
   "pygments_lexer": "ipython3",
   "version": "3.10.7"
  }
 },
 "nbformat": 4,
 "nbformat_minor": 5
}
