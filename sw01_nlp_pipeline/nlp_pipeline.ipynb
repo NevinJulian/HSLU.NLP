{
 "cells": [
  {
   "cell_type": "markdown",
   "id": "40427979",
   "metadata": {},
   "source": [
    "# NLP Pipeline\n",
    "We will learn some basic operations of the NLP pipelines with the help of two libraries, NLTK and spaCy. These will prove useful in your project for tasks such as preprocessing."
   ]
  },
  {
   "cell_type": "code",
   "execution_count": 7,
   "id": "144162dd",
   "metadata": {},
   "outputs": [
    {
     "name": "stdout",
     "output_type": "stream",
     "text": [
      "Note: you may need to restart the kernel to use updated packages.\n"
     ]
    },
    {
     "name": "stderr",
     "output_type": "stream",
     "text": [
      "\n",
      "[notice] A new release of pip is available: 24.3.1 -> 25.0.1\n",
      "[notice] To update, run: python.exe -m pip install --upgrade pip\n"
     ]
    }
   ],
   "source": [
    "%pip install -q nltk matplotlib"
   ]
  },
  {
   "cell_type": "markdown",
   "id": "8333d6fa",
   "metadata": {},
   "source": [
    "## NLTK\n",
    "We will use [Chapter 3 of the introductory manual of NLTK](https://www.nltk.org/book/ch03.html) to solve the following exercises.\n",
    "\n",
    "First, use the interactive downloader to get the *gutenberg* book corpus (in the *Corpora* tab). Take a moment to admire the amazing user interface."
   ]
  },
  {
   "cell_type": "code",
   "execution_count": 8,
   "id": "d6d021c0",
   "metadata": {},
   "outputs": [
    {
     "name": "stdout",
     "output_type": "stream",
     "text": [
      "showing info https://raw.githubusercontent.com/nltk/nltk_data/gh-pages/index.xml\n"
     ]
    },
    {
     "data": {
      "text/plain": [
       "True"
      ]
     },
     "execution_count": 8,
     "metadata": {},
     "output_type": "execute_result"
    }
   ],
   "source": [
    "import nltk\n",
    "nltk.download()"
   ]
  },
  {
   "cell_type": "markdown",
   "id": "3c9da622",
   "metadata": {},
   "source": [
    "NLTK automatically saves its files in the `nltk_data` folder in your home directory. (Windows users: Maybe it's in your `Documents`?)\n",
    "\n",
    "We load the raw text of the first book in the corpus."
   ]
  },
  {
   "cell_type": "code",
   "execution_count": 9,
   "id": "977b230b",
   "metadata": {},
   "outputs": [
    {
     "name": "stdout",
     "output_type": "stream",
     "text": [
      "887071\n"
     ]
    }
   ],
   "source": [
    "from nltk.corpus import gutenberg\n",
    "raw_text = gutenberg.raw('austen-emma.txt')\n",
    "print(len(raw_text))"
   ]
  },
  {
   "cell_type": "markdown",
   "id": "8fb99b02",
   "metadata": {},
   "source": [
    "To use nltk's tokenization, we need to download the `punkt_tab` resource."
   ]
  },
  {
   "cell_type": "code",
   "execution_count": 10,
   "id": "779c157c",
   "metadata": {},
   "outputs": [
    {
     "name": "stderr",
     "output_type": "stream",
     "text": [
      "[nltk_data] Downloading package punkt_tab to\n",
      "[nltk_data]     C:\\Users\\Nevin\\AppData\\Roaming\\nltk_data...\n",
      "[nltk_data]   Unzipping tokenizers\\punkt_tab.zip.\n"
     ]
    },
    {
     "data": {
      "text/plain": [
       "True"
      ]
     },
     "execution_count": 10,
     "metadata": {},
     "output_type": "execute_result"
    }
   ],
   "source": [
    "nltk.download('punkt_tab')"
   ]
  },
  {
   "cell_type": "markdown",
   "id": "bcb59b1d",
   "metadata": {},
   "source": [
    "Count the number of words and sentences in the book."
   ]
  },
  {
   "cell_type": "code",
   "execution_count": 11,
   "id": "68052e02",
   "metadata": {},
   "outputs": [
    {
     "name": "stdout",
     "output_type": "stream",
     "text": [
      "191855\n",
      "7493\n"
     ]
    }
   ],
   "source": [
    "#count number of words\n",
    "words = nltk.word_tokenize(raw_text)\n",
    "print(len(words))\n",
    "\n",
    "#count number of sentences\n",
    "sentences = nltk.sent_tokenize(raw_text)\n",
    "print(len(sentences))"
   ]
  },
  {
   "cell_type": "markdown",
   "id": "ef55d386",
   "metadata": {},
   "source": [
    "- Lowercase all words. \n",
    "- Count the number of unique lower-cased words in the book."
   ]
  },
  {
   "cell_type": "code",
   "execution_count": 12,
   "id": "e2028dd4",
   "metadata": {},
   "outputs": [
    {
     "name": "stdout",
     "output_type": "stream",
     "text": [
      "7914\n",
      "4.124990226994345 %\n"
     ]
    }
   ],
   "source": [
    "#lowercase all words\n",
    "words = [word.lower() for word in words]\n",
    "\n",
    "#count number of unique lowercase words\n",
    "unique_words = set(words)\n",
    "print(len(unique_words))\n",
    "\n",
    "#print type token ratio\n",
    "ttr = len(unique_words) / len(words)\n",
    "print(ttr * 100, '%')"
   ]
  },
  {
   "cell_type": "markdown",
   "id": "9f5a45a3",
   "metadata": {},
   "source": [
    "The total number of words is also called *tokens*, and the unique words are the *types*. (This is the same distinction as instance vs. class in software engineering.)\n",
    "\n",
    "We now perform *stemming* on the first 50 words of the text. We use the PorterStemmer (example usage [here](https://www.nltk.org/howto/stem.html)). Plot only the pairs of words that have changed after stemming."
   ]
  },
  {
   "cell_type": "code",
   "execution_count": 13,
   "id": "6ae02b60",
   "metadata": {},
   "outputs": [
    {
     "name": "stdout",
     "output_type": "stream",
     "text": [
      "volume -> volum\n",
      "woodhouse -> woodhous\n",
      "handsome -> handsom\n",
      "comfortable -> comfort\n",
      "happy -> happi\n",
      "disposition -> disposit\n",
      "seemed -> seem\n",
      "unite -> unit\n",
      "blessings -> bless\n",
      "existence -> exist\n",
      "lived -> live\n",
      "nearly -> nearli\n",
      "twenty-one -> twenty-on\n",
      "years -> year\n"
     ]
    }
   ],
   "source": [
    "#stemming on first 50 words\n",
    "stemmer = nltk.PorterStemmer()\n",
    "stemmed_words = [stemmer.stem(word) for word in words[:50]]\n",
    "\n",
    "#print words changed by stemming\n",
    "for i in range(50):\n",
    "    if words[i] != stemmed_words[i]:\n",
    "        print(words[i], '->', stemmed_words[i])\n"
   ]
  },
  {
   "cell_type": "markdown",
   "id": "522cf088",
   "metadata": {},
   "source": [
    "Find the 10 most frequent words, together with their counts, using the `FreqDist` object from NLTK. Save it to a variable named `fdist`."
   ]
  },
  {
   "cell_type": "code",
   "execution_count": 14,
   "id": "425c26c7",
   "metadata": {},
   "outputs": [
    {
     "name": "stdout",
     "output_type": "stream",
     "text": [
      "[(',', 12016), ('.', 6355), ('the', 5201), ('to', 5181), ('and', 4877), ('of', 4284), ('i', 3177), ('a', 3124), ('--', 3100), ('it', 2503)]\n"
     ]
    }
   ],
   "source": [
    "fdist = nltk.FreqDist(words)\n",
    "print(fdist.most_common(10))"
   ]
  },
  {
   "cell_type": "markdown",
   "id": "abfc5cff",
   "metadata": {},
   "source": [
    "Run the below command to see the word counts vs. the words in the frequency distribution."
   ]
  },
  {
   "cell_type": "code",
   "execution_count": 15,
   "id": "7fbdd446",
   "metadata": {},
   "outputs": [
    {
     "data": {
      "text/plain": [
       "<Axes: xlabel='Samples', ylabel='Counts'>"
      ]
     },
     "execution_count": 15,
     "metadata": {},
     "output_type": "execute_result"
    },
    {
     "data": {
      "image/png": "[encoded data removed]",
      "text/plain": [
       "<Figure size 640x480 with 1 Axes>"
      ]
     },
     "metadata": {},
     "output_type": "display_data"
    }
   ],
   "source": [
    "fdist.plot(50)"
   ]
  },
  {
   "cell_type": "markdown",
   "id": "f776c7b9",
   "metadata": {},
   "source": [
    "This curve is characteristic of any natural (= human) language, and is known as [Zipf's law](https://en.wikipedia.org/wiki/Zipf%27s_law). It states that the frequency of a word is inversely proportional to its rank, i.e.:\n",
    "$$\\text{frequency}(x) \\propto \\frac{1}{\\text{rank}(x)}$$"
   ]
  },
  {
   "cell_type": "markdown",
   "id": "3444a5e9",
   "metadata": {},
   "source": [
    "## Hugging Face\n",
    "\n",
    "With Transformers (we will get to know them in more detail later in the course), tokenization has become part of the model itself. As opposed to `word_tokenize` in NLTK, Transformers use BPE tokenization.\n",
    "\n",
    "We first install Hugging Face's `transformers` library."
   ]
  },
  {
   "cell_type": "code",
   "execution_count": 16,
   "id": "2ac74dd3",
   "metadata": {},
   "outputs": [
    {
     "name": "stdout",
     "output_type": "stream",
     "text": [
      "Note: you may need to restart the kernel to use updated packages.\n"
     ]
    },
    {
     "name": "stderr",
     "output_type": "stream",
     "text": [
      "\n",
      "[notice] A new release of pip is available: 24.3.1 -> 25.0.1\n",
      "[notice] To update, run: python.exe -m pip install --upgrade pip\n"
     ]
    }
   ],
   "source": [
    "%pip install -q transformers ipywidgets"
   ]
  },
  {
   "cell_type": "markdown",
   "id": "54e8318c",
   "metadata": {},
   "source": [
    "Use the [model page of the base-uncased version of BERT](https://huggingface.co/google-bert/bert-base-uncased) to initialize a `BertTokenizer`."
   ]
  },
  {
   "cell_type": "code",
   "execution_count": 17,
   "id": "545492bd",
   "metadata": {},
   "outputs": [
    {
     "data": {
      "application/vnd.jupyter.widget-view+json": {
       "model_id": "229c31db1087478e8a3dbe7b1733c9ec",
       "version_major": 2,
       "version_minor": 0
      },
      "text/plain": [
       "tokenizer_config.json:   0%|          | 0.00/48.0 [00:00<?, ?B/s]"
      ]
     },
     "metadata": {},
     "output_type": "display_data"
    },
    {
     "name": "stderr",
     "output_type": "stream",
     "text": [
      "c:\\Users\\Nevin\\AppData\\Local\\Programs\\Python\\Python312\\Lib\\site-packages\\huggingface_hub\\file_download.py:142: UserWarning: `huggingface_hub` cache-system uses symlinks by default to efficiently store duplicated files but your machine does not support them in C:\\Users\\Nevin\\.cache\\huggingface\\hub\\models--bert-base-uncased. Caching files will still work but in a degraded version that might require more space on your disk. This warning can be disabled by setting the `HF_HUB_DISABLE_SYMLINKS_WARNING` environment variable. For more details, see https://huggingface.co/docs/huggingface_hub/how-to-cache#limitations.\n",
      "To support symlinks on Windows, you either need to activate Developer Mode or to run Python as an administrator. In order to activate developer mode, see this article: https://docs.microsoft.com/en-us/windows/apps/get-started/enable-your-device-for-development\n",
      "  warnings.warn(message)\n"
     ]
    },
    {
     "data": {
      "application/vnd.jupyter.widget-view+json": {
       "model_id": "634cac4440b74ce38af64b0e7806f03a",
       "version_major": 2,
       "version_minor": 0
      },
      "text/plain": [
       "vocab.txt:   0%|          | 0.00/232k [00:00<?, ?B/s]"
      ]
     },
     "metadata": {},
     "output_type": "display_data"
    },
    {
     "data": {
      "application/vnd.jupyter.widget-view+json": {
       "model_id": "f99fe1f122e84bbe852be48c6d5800f9",
       "version_major": 2,
       "version_minor": 0
      },
      "text/plain": [
       "tokenizer.json:   0%|          | 0.00/466k [00:00<?, ?B/s]"
      ]
     },
     "metadata": {},
     "output_type": "display_data"
    },
    {
     "data": {
      "application/vnd.jupyter.widget-view+json": {
       "model_id": "dd4dea8f987c4ff1ac68fcb7ad4be791",
       "version_major": 2,
       "version_minor": 0
      },
      "text/plain": [
       "config.json:   0%|          | 0.00/570 [00:00<?, ?B/s]"
      ]
     },
     "metadata": {},
     "output_type": "display_data"
    },
    {
     "data": {
      "application/vnd.jupyter.widget-view+json": {
       "model_id": "5eb2d41af79a4fc9b1865844efe68fb5",
       "version_major": 2,
       "version_minor": 0
      },
      "text/plain": [
       "model.safetensors:   0%|          | 0.00/440M [00:00<?, ?B/s]"
      ]
     },
     "metadata": {},
     "output_type": "display_data"
    }
   ],
   "source": [
    "from transformers import BertTokenizer, BertModel\n",
    "tokenizer = BertTokenizer.from_pretrained('bert-base-uncased')\n",
    "model = BertModel.from_pretrained(\"bert-base-uncased\")"
   ]
  },
  {
   "cell_type": "markdown",
   "id": "b177d372",
   "metadata": {},
   "source": [
    "We look at the first sentence of Jane Austen's Emma."
   ]
  },
  {
   "cell_type": "code",
   "execution_count": 18,
   "id": "e2eca187",
   "metadata": {},
   "outputs": [
    {
     "name": "stdout",
     "output_type": "stream",
     "text": [
      "Emma Woodhouse, handsome, clever, and rich, with a comfortable home and happy disposition, seemed to unite some of the best blessings of existence; and had lived nearly twenty-one years in the world with very little to distress or vex her.\n"
     ]
    }
   ],
   "source": [
    "sentence = nltk.sent_tokenize(raw_text)[0].split('\\n\\n\\n')[-1].replace('\\n', ' ')\n",
    "print(sentence)"
   ]
  },
  {
   "cell_type": "markdown",
   "id": "711cc14b",
   "metadata": {},
   "source": [
    "Encode the sentence. Look at the outputs of the following functions:\n",
    "- `tokenizer(sentence)`\n",
    "- `tokenizer.encode(sentence)`\n",
    "- `tokenizer.tokenize(sentence)`\n",
    "- `tokenizer.convert_tokens_to_ids(tokenizer.tokenize(sentence))`"
   ]
  },
  {
   "cell_type": "code",
   "execution_count": 19,
   "id": "84e52ccb",
   "metadata": {},
   "outputs": [
    {
     "data": {
      "text/plain": [
       "{'input_ids': [101, 5616, 3536, 4580, 1010, 8502, 1010, 12266, 1010, 1998, 4138, 1010, 2007, 1037, 6625, 2188, 1998, 3407, 22137, 1010, 2790, 2000, 15908, 2070, 1997, 1996, 2190, 24618, 1997, 4598, 1025, 1998, 2018, 2973, 3053, 3174, 1011, 2028, 2086, 1999, 1996, 2088, 2007, 2200, 2210, 2000, 12893, 2030, 2310, 2595, 2014, 1012, 102], 'token_type_ids': [0, 0, 0, 0, 0, 0, 0, 0, 0, 0, 0, 0, 0, 0, 0, 0, 0, 0, 0, 0, 0, 0, 0, 0, 0, 0, 0, 0, 0, 0, 0, 0, 0, 0, 0, 0, 0, 0, 0, 0, 0, 0, 0, 0, 0, 0, 0, 0, 0, 0, 0, 0, 0], 'attention_mask': [1, 1, 1, 1, 1, 1, 1, 1, 1, 1, 1, 1, 1, 1, 1, 1, 1, 1, 1, 1, 1, 1, 1, 1, 1, 1, 1, 1, 1, 1, 1, 1, 1, 1, 1, 1, 1, 1, 1, 1, 1, 1, 1, 1, 1, 1, 1, 1, 1, 1, 1, 1, 1]}"
      ]
     },
     "execution_count": 19,
     "metadata": {},
     "output_type": "execute_result"
    }
   ],
   "source": [
    "tokenizer(sentence)"
   ]
  },
  {
   "cell_type": "code",
   "execution_count": 20,
   "id": "547a8e39",
   "metadata": {},
   "outputs": [
    {
     "data": {
      "text/plain": [
       "[101,\n",
       " 5616,\n",
       " 3536,\n",
       " 4580,\n",
       " 1010,\n",
       " 8502,\n",
       " 1010,\n",
       " 12266,\n",
       " 1010,\n",
       " 1998,\n",
       " 4138,\n",
       " 1010,\n",
       " 2007,\n",
       " 1037,\n",
       " 6625,\n",
       " 2188,\n",
       " 1998,\n",
       " 3407,\n",
       " 22137,\n",
       " 1010,\n",
       " 2790,\n",
       " 2000,\n",
       " 15908,\n",
       " 2070,\n",
       " 1997,\n",
       " 1996,\n",
       " 2190,\n",
       " 24618,\n",
       " 1997,\n",
       " 4598,\n",
       " 1025,\n",
       " 1998,\n",
       " 2018,\n",
       " 2973,\n",
       " 3053,\n",
       " 3174,\n",
       " 1011,\n",
       " 2028,\n",
       " 2086,\n",
       " 1999,\n",
       " 1996,\n",
       " 2088,\n",
       " 2007,\n",
       " 2200,\n",
       " 2210,\n",
       " 2000,\n",
       " 12893,\n",
       " 2030,\n",
       " 2310,\n",
       " 2595,\n",
       " 2014,\n",
       " 1012,\n",
       " 102]"
      ]
     },
     "execution_count": 20,
     "metadata": {},
     "output_type": "execute_result"
    }
   ],
   "source": [
    "tokenizer.encode(sentence)"
   ]
  },
  {
   "cell_type": "code",
   "execution_count": 21,
   "id": "a210800a",
   "metadata": {},
   "outputs": [
    {
     "data": {
      "text/plain": [
       "['emma',\n",
       " 'wood',\n",
       " '##house',\n",
       " ',',\n",
       " 'handsome',\n",
       " ',',\n",
       " 'clever',\n",
       " ',',\n",
       " 'and',\n",
       " 'rich',\n",
       " ',',\n",
       " 'with',\n",
       " 'a',\n",
       " 'comfortable',\n",
       " 'home',\n",
       " 'and',\n",
       " 'happy',\n",
       " 'disposition',\n",
       " ',',\n",
       " 'seemed',\n",
       " 'to',\n",
       " 'unite',\n",
       " 'some',\n",
       " 'of',\n",
       " 'the',\n",
       " 'best',\n",
       " 'blessings',\n",
       " 'of',\n",
       " 'existence',\n",
       " ';',\n",
       " 'and',\n",
       " 'had',\n",
       " 'lived',\n",
       " 'nearly',\n",
       " 'twenty',\n",
       " '-',\n",
       " 'one',\n",
       " 'years',\n",
       " 'in',\n",
       " 'the',\n",
       " 'world',\n",
       " 'with',\n",
       " 'very',\n",
       " 'little',\n",
       " 'to',\n",
       " 'distress',\n",
       " 'or',\n",
       " 've',\n",
       " '##x',\n",
       " 'her',\n",
       " '.']"
      ]
     },
     "execution_count": 21,
     "metadata": {},
     "output_type": "execute_result"
    }
   ],
   "source": [
    "tokenizer.tokenize(sentence)"
   ]
  },
  {
   "cell_type": "code",
   "execution_count": 22,
   "id": "b99ddc96",
   "metadata": {},
   "outputs": [
    {
     "data": {
      "text/plain": [
       "[5616,\n",
       " 3536,\n",
       " 4580,\n",
       " 1010,\n",
       " 8502,\n",
       " 1010,\n",
       " 12266,\n",
       " 1010,\n",
       " 1998,\n",
       " 4138,\n",
       " 1010,\n",
       " 2007,\n",
       " 1037,\n",
       " 6625,\n",
       " 2188,\n",
       " 1998,\n",
       " 3407,\n",
       " 22137,\n",
       " 1010,\n",
       " 2790,\n",
       " 2000,\n",
       " 15908,\n",
       " 2070,\n",
       " 1997,\n",
       " 1996,\n",
       " 2190,\n",
       " 24618,\n",
       " 1997,\n",
       " 4598,\n",
       " 1025,\n",
       " 1998,\n",
       " 2018,\n",
       " 2973,\n",
       " 3053,\n",
       " 3174,\n",
       " 1011,\n",
       " 2028,\n",
       " 2086,\n",
       " 1999,\n",
       " 1996,\n",
       " 2088,\n",
       " 2007,\n",
       " 2200,\n",
       " 2210,\n",
       " 2000,\n",
       " 12893,\n",
       " 2030,\n",
       " 2310,\n",
       " 2595,\n",
       " 2014,\n",
       " 1012]"
      ]
     },
     "execution_count": 22,
     "metadata": {},
     "output_type": "execute_result"
    }
   ],
   "source": [
    "tokenizer.convert_tokens_to_ids(tokenizer.tokenize(sentence))"
   ]
  },
  {
   "cell_type": "markdown",
   "id": "9b7629a8",
   "metadata": {},
   "source": [
    "**Decoding.** Check out the various ways of decoding: `.decode`, `.convert_ids_to_tokens`, `.convert_tokens_to_string`."
   ]
  },
  {
   "cell_type": "code",
   "execution_count": 23,
   "id": "9ad3b807",
   "metadata": {},
   "outputs": [
    {
     "name": "stdout",
     "output_type": "stream",
     "text": [
      "emma woodhouse, handsome, clever, and rich, with a comfortable home and happy disposition, seemed to unite some of the best blessings of existence ; and had lived nearly twenty - one years in the world with very little to distress or vex her.\n",
      "['[CLS]', 'emma', 'wood', '##house', ',', 'handsome', ',', 'clever', ',', 'and', 'rich', ',', 'with', 'a', 'comfortable', 'home', 'and', 'happy', 'disposition', ',', 'seemed', 'to', 'unite', 'some', 'of', 'the', 'best', 'blessings', 'of', 'existence', ';', 'and', 'had', 'lived', 'nearly', 'twenty', '-', 'one', 'years', 'in', 'the', 'world', 'with', 'very', 'little', 'to', 'distress', 'or', 've', '##x', 'her', '.', '[SEP]']\n"
     ]
    }
   ],
   "source": [
    "input_ids = tokenizer.encode(sentence)\n",
    "print(tokenizer.decode(input_ids, skip_special_tokens=True))\n",
    "print(tokenizer.convert_ids_to_tokens(input_ids))"
   ]
  },
  {
   "cell_type": "markdown",
   "id": "b8673fdd",
   "metadata": {},
   "source": [
    "**Tokenization differences.** Compare the tokenization of NLTK, bert-base-uncased and [t5-small](https://huggingface.co/google-t5/t5-small)."
   ]
  },
  {
   "cell_type": "code",
   "execution_count": 24,
   "id": "efc8fb9f",
   "metadata": {},
   "outputs": [
    {
     "name": "stdout",
     "output_type": "stream",
     "text": [
      "['Emma', 'Woodhouse', ',', 'handsome', ',', 'clever', ',', 'and', 'rich', ',', 'with', 'a', 'comfortable', 'home', 'and', 'happy', 'disposition', ',', 'seemed', 'to', 'unite', 'some', 'of', 'the', 'best', 'blessings', 'of', 'existence', ';', 'and', 'had', 'lived', 'nearly', 'twenty-one', 'years', 'in', 'the', 'world', 'with', 'very', 'little', 'to', 'distress', 'or', 'vex', 'her', '.']\n",
      "['emma', 'wood', '##house', ',', 'handsome', ',', 'clever', ',', 'and', 'rich', ',', 'with', 'a', 'comfortable', 'home', 'and', 'happy', 'disposition', ',', 'seemed', 'to', 'unite', 'some', 'of', 'the', 'best', 'blessings', 'of', 'existence', ';', 'and', 'had', 'lived', 'nearly', 'twenty', '-', 'one', 'years', 'in', 'the', 'world', 'with', 'very', 'little', 'to', 'distress', 'or', 've', '##x', 'her', '.']\n"
     ]
    },
    {
     "data": {
      "application/vnd.jupyter.widget-view+json": {
       "model_id": "a129c0e3d1fe4af696bd1be66a5a873f",
       "version_major": 2,
       "version_minor": 0
      },
      "text/plain": [
       "tokenizer_config.json:   0%|          | 0.00/2.32k [00:00<?, ?B/s]"
      ]
     },
     "metadata": {},
     "output_type": "display_data"
    },
    {
     "name": "stderr",
     "output_type": "stream",
     "text": [
      "c:\\Users\\Nevin\\AppData\\Local\\Programs\\Python\\Python312\\Lib\\site-packages\\huggingface_hub\\file_download.py:142: UserWarning: `huggingface_hub` cache-system uses symlinks by default to efficiently store duplicated files but your machine does not support them in C:\\Users\\Nevin\\.cache\\huggingface\\hub\\models--google-t5--t5-small. Caching files will still work but in a degraded version that might require more space on your disk. This warning can be disabled by setting the `HF_HUB_DISABLE_SYMLINKS_WARNING` environment variable. For more details, see https://huggingface.co/docs/huggingface_hub/how-to-cache#limitations.\n",
      "To support symlinks on Windows, you either need to activate Developer Mode or to run Python as an administrator. In order to activate developer mode, see this article: https://docs.microsoft.com/en-us/windows/apps/get-started/enable-your-device-for-development\n",
      "  warnings.warn(message)\n"
     ]
    },
    {
     "data": {
      "application/vnd.jupyter.widget-view+json": {
       "model_id": "dffbf829d067419dbc0898f942090c68",
       "version_major": 2,
       "version_minor": 0
      },
      "text/plain": [
       "spiece.model:   0%|          | 0.00/792k [00:00<?, ?B/s]"
      ]
     },
     "metadata": {},
     "output_type": "display_data"
    },
    {
     "data": {
      "application/vnd.jupyter.widget-view+json": {
       "model_id": "87d43078536c4b4190e3d1ad57a3df68",
       "version_major": 2,
       "version_minor": 0
      },
      "text/plain": [
       "tokenizer.json:   0%|          | 0.00/1.39M [00:00<?, ?B/s]"
      ]
     },
     "metadata": {},
     "output_type": "display_data"
    },
    {
     "name": "stdout",
     "output_type": "stream",
     "text": [
      "['▁Emma', '▁Wood', 'house', ',', '▁handsome', ',', '▁clever', ',', '▁and', '▁rich', ',', '▁with', '▁', 'a', '▁comfortable', '▁home', '▁and', '▁happy', '▁disposition', ',', '▁seemed', '▁to', '▁unit', 'e', '▁some', '▁of', '▁the', '▁best', '▁blessing', 's', '▁of', '▁existence', ';', '▁and', '▁had', '▁lived', '▁nearly', '▁twenty', '-', 'one', '▁years', '▁in', '▁the', '▁world', '▁with', '▁very', '▁little', '▁to', '▁distress', '▁or', '▁', 've', 'x', '▁her', '.']\n"
     ]
    }
   ],
   "source": [
    "#compare tokenization from NLTK, bert-base-uncased and t5-small\n",
    "print(nltk.word_tokenize(sentence))\n",
    "print(tokenizer.tokenize(sentence))\n",
    "\n",
    "from transformers import AutoTokenizer\n",
    "#use t5-small tokenizer\n",
    "t5_tokenzizer = AutoTokenizer.from_pretrained('google-t5/t5-small')\n",
    "print(t5_tokenzizer.tokenize(sentence))\n",
    "\n"
   ]
  },
  {
   "cell_type": "markdown",
   "id": "60559c74",
   "metadata": {},
   "source": [
    "Now `encode` and `decode` the sentence with all 3 tokenizers. Is the encoding/decoding lossless, i.e. do we recover the original sentence?"
   ]
  },
  {
   "cell_type": "code",
   "execution_count": 25,
   "id": "851fe7bf",
   "metadata": {},
   "outputs": [
    {
     "name": "stdout",
     "output_type": "stream",
     "text": [
      "[101, 5616, 3536, 4580, 1010, 8502, 1010, 12266, 1010, 1998, 4138, 1010, 2007, 1037, 6625, 2188, 1998, 3407, 22137, 1010, 2790, 2000, 15908, 2070, 1997, 1996, 2190, 24618, 1997, 4598, 1025, 1998, 2018, 2973, 3053, 3174, 1011, 2028, 2086, 1999, 1996, 2088, 2007, 2200, 2210, 2000, 12893, 2030, 2310, 2595, 2014, 1012, 102]\n",
      "[15325, 2985, 1840, 6, 22989, 6, 13183, 6, 11, 2354, 6, 28, 3, 9, 1965, 234, 11, 1095, 8295, 6, 3776, 12, 1745, 15, 128, 13, 8, 200, 10463, 7, 13, 6831, 117, 11, 141, 4114, 2111, 6786, 18, 782, 203, 16, 8, 296, 28, 182, 385, 12, 19285, 42, 3, 162, 226, 160, 5, 1]\n",
      "emma woodhouse, handsome, clever, and rich, with a comfortable home and happy disposition, seemed to unite some of the best blessings of existence ; and had lived nearly twenty - one years in the world with very little to distress or vex her.\n",
      "Emma Woodhouse, handsome, clever, and rich, with a comfortable home and happy disposition, seemed to unite some of the best blessings of existence; and had lived nearly twenty-one years in the world with very little to distress or vex her.\n"
     ]
    }
   ],
   "source": [
    "#encode and decode with all three tokenizers\n",
    "print(tokenizer.encode(sentence))\n",
    "print(t5_tokenzizer.encode(sentence))\n",
    "\n",
    "print(tokenizer.decode(tokenizer.encode(sentence), skip_special_tokens=True))\n",
    "print(t5_tokenzizer.decode(t5_tokenzizer.encode(sentence), skip_special_tokens=True))\n"
   ]
  },
  {
   "cell_type": "markdown",
   "id": "89ab450c",
   "metadata": {},
   "source": [
    "## spaCy\n",
    "We will use the [spaCy 101 guide](https://spacy.io/usage/spacy-101) to familiarize ourselves with its capabilities. First we install and download the small core model for English."
   ]
  },
  {
   "cell_type": "code",
   "execution_count": 26,
   "id": "8500c142",
   "metadata": {},
   "outputs": [
    {
     "name": "stdout",
     "output_type": "stream",
     "text": [
      "Note: you may need to restart the kernel to use updated packages.Requirement already satisfied: setuptools in c:\\users\\nevin\\appdata\\local\\programs\\python\\python312\\lib\\site-packages (75.5.0)\n",
      "Requirement already satisfied: wheel in c:\\users\\nevin\\appdata\\local\\programs\\python\\python312\\lib\\site-packages (0.45.0)\n",
      "\n"
     ]
    },
    {
     "name": "stderr",
     "output_type": "stream",
     "text": [
      "\n",
      "[notice] A new release of pip is available: 24.3.1 -> 25.0.1\n",
      "[notice] To update, run: python.exe -m pip install --upgrade pip\n"
     ]
    },
    {
     "name": "stdout",
     "output_type": "stream",
     "text": [
      "Collecting spacy\n",
      "  Downloading spacy-3.8.4-cp312-cp312-win_amd64.whl.metadata (27 kB)\n",
      "Collecting spacy-legacy<3.1.0,>=3.0.11 (from spacy)\n",
      "  Downloading spacy_legacy-3.0.12-py2.py3-none-any.whl.metadata (2.8 kB)\n",
      "Collecting spacy-loggers<2.0.0,>=1.0.0 (from spacy)\n",
      "  Downloading spacy_loggers-1.0.5-py3-none-any.whl.metadata (23 kB)\n",
      "Collecting murmurhash<1.1.0,>=0.28.0 (from spacy)\n",
      "  Downloading murmurhash-1.0.12-cp312-cp312-win_amd64.whl.metadata (2.2 kB)\n",
      "Collecting cymem<2.1.0,>=2.0.2 (from spacy)\n",
      "  Downloading cymem-2.0.11-cp312-cp312-win_amd64.whl.metadata (8.8 kB)\n",
      "Collecting preshed<3.1.0,>=3.0.2 (from spacy)\n",
      "  Downloading preshed-3.0.9-cp312-cp312-win_amd64.whl.metadata (2.2 kB)\n",
      "Collecting thinc<8.4.0,>=8.3.4 (from spacy)\n",
      "  Downloading thinc-8.3.4-cp312-cp312-win_amd64.whl.metadata (15 kB)\n",
      "Collecting wasabi<1.2.0,>=0.9.1 (from spacy)\n",
      "  Downloading wasabi-1.1.3-py3-none-any.whl.metadata (28 kB)\n",
      "Collecting srsly<3.0.0,>=2.4.3 (from spacy)\n",
      "  Downloading srsly-2.5.1-cp312-cp312-win_amd64.whl.metadata (20 kB)\n",
      "Collecting catalogue<2.1.0,>=2.0.6 (from spacy)\n",
      "  Downloading catalogue-2.0.10-py3-none-any.whl.metadata (14 kB)\n",
      "Collecting weasel<0.5.0,>=0.1.0 (from spacy)\n",
      "  Downloading weasel-0.4.1-py3-none-any.whl.metadata (4.6 kB)\n",
      "Collecting typer<1.0.0,>=0.3.0 (from spacy)\n",
      "  Downloading typer-0.15.1-py3-none-any.whl.metadata (15 kB)\n",
      "Requirement already satisfied: tqdm<5.0.0,>=4.38.0 in c:\\users\\nevin\\appdata\\local\\programs\\python\\python312\\lib\\site-packages (from spacy) (4.67.0)\n",
      "Requirement already satisfied: numpy>=1.19.0 in c:\\users\\nevin\\appdata\\local\\programs\\python\\python312\\lib\\site-packages (from spacy) (1.26.4)\n",
      "Requirement already satisfied: requests<3.0.0,>=2.13.0 in c:\\users\\nevin\\appdata\\local\\programs\\python\\python312\\lib\\site-packages (from spacy) (2.32.3)\n",
      "Requirement already satisfied: pydantic!=1.8,!=1.8.1,<3.0.0,>=1.7.4 in c:\\users\\nevin\\appdata\\local\\programs\\python\\python312\\lib\\site-packages (from spacy) (2.9.2)\n",
      "Requirement already satisfied: jinja2 in c:\\users\\nevin\\appdata\\local\\programs\\python\\python312\\lib\\site-packages (from spacy) (3.1.4)\n",
      "Requirement already satisfied: setuptools in c:\\users\\nevin\\appdata\\local\\programs\\python\\python312\\lib\\site-packages (from spacy) (75.5.0)\n",
      "Requirement already satisfied: packaging>=20.0 in c:\\users\\nevin\\appdata\\roaming\\python\\python312\\site-packages (from spacy) (24.1)\n",
      "Collecting langcodes<4.0.0,>=3.2.0 (from spacy)\n",
      "  Downloading langcodes-3.5.0-py3-none-any.whl.metadata (29 kB)\n",
      "Collecting language-data>=1.2 (from langcodes<4.0.0,>=3.2.0->spacy)\n",
      "  Downloading language_data-1.3.0-py3-none-any.whl.metadata (4.3 kB)\n",
      "Requirement already satisfied: annotated-types>=0.6.0 in c:\\users\\nevin\\appdata\\local\\programs\\python\\python312\\lib\\site-packages (from pydantic!=1.8,!=1.8.1,<3.0.0,>=1.7.4->spacy) (0.7.0)\n",
      "Requirement already satisfied: pydantic-core==2.23.4 in c:\\users\\nevin\\appdata\\local\\programs\\python\\python312\\lib\\site-packages (from pydantic!=1.8,!=1.8.1,<3.0.0,>=1.7.4->spacy) (2.23.4)\n",
      "Requirement already satisfied: typing-extensions>=4.6.1 in c:\\users\\nevin\\appdata\\local\\programs\\python\\python312\\lib\\site-packages (from pydantic!=1.8,!=1.8.1,<3.0.0,>=1.7.4->spacy) (4.12.2)\n",
      "Requirement already satisfied: charset-normalizer<4,>=2 in c:\\users\\nevin\\appdata\\local\\programs\\python\\python312\\lib\\site-packages (from requests<3.0.0,>=2.13.0->spacy) (3.4.0)\n",
      "Requirement already satisfied: idna<4,>=2.5 in c:\\users\\nevin\\appdata\\local\\programs\\python\\python312\\lib\\site-packages (from requests<3.0.0,>=2.13.0->spacy) (3.10)\n",
      "Requirement already satisfied: urllib3<3,>=1.21.1 in c:\\users\\nevin\\appdata\\local\\programs\\python\\python312\\lib\\site-packages (from requests<3.0.0,>=2.13.0->spacy) (2.2.3)\n",
      "Requirement already satisfied: certifi>=2017.4.17 in c:\\users\\nevin\\appdata\\local\\programs\\python\\python312\\lib\\site-packages (from requests<3.0.0,>=2.13.0->spacy) (2024.8.30)\n",
      "Collecting blis<1.3.0,>=1.2.0 (from thinc<8.4.0,>=8.3.4->spacy)\n",
      "  Downloading blis-1.2.0-cp312-cp312-win_amd64.whl.metadata (7.9 kB)\n",
      "Collecting confection<1.0.0,>=0.0.1 (from thinc<8.4.0,>=8.3.4->spacy)\n",
      "  Downloading confection-0.1.5-py3-none-any.whl.metadata (19 kB)\n",
      "Requirement already satisfied: colorama in c:\\users\\nevin\\appdata\\roaming\\python\\python312\\site-packages (from tqdm<5.0.0,>=4.38.0->spacy) (0.4.6)\n",
      "Requirement already satisfied: click>=8.0.0 in c:\\users\\nevin\\appdata\\local\\programs\\python\\python312\\lib\\site-packages (from typer<1.0.0,>=0.3.0->spacy) (8.1.8)\n",
      "Collecting shellingham>=1.3.0 (from typer<1.0.0,>=0.3.0->spacy)\n",
      "  Downloading shellingham-1.5.4-py2.py3-none-any.whl.metadata (3.5 kB)\n",
      "Requirement already satisfied: rich>=10.11.0 in c:\\users\\nevin\\appdata\\local\\programs\\python\\python312\\lib\\site-packages (from typer<1.0.0,>=0.3.0->spacy) (13.9.4)\n",
      "Collecting cloudpathlib<1.0.0,>=0.7.0 (from weasel<0.5.0,>=0.1.0->spacy)\n",
      "  Downloading cloudpathlib-0.20.0-py3-none-any.whl.metadata (14 kB)\n",
      "Collecting smart-open<8.0.0,>=5.2.1 (from weasel<0.5.0,>=0.1.0->spacy)\n",
      "  Downloading smart_open-7.1.0-py3-none-any.whl.metadata (24 kB)\n",
      "Requirement already satisfied: MarkupSafe>=2.0 in c:\\users\\nevin\\appdata\\local\\programs\\python\\python312\\lib\\site-packages (from jinja2->spacy) (3.0.2)\n",
      "Collecting marisa-trie>=1.1.0 (from language-data>=1.2->langcodes<4.0.0,>=3.2.0->spacy)\n",
      "  Downloading marisa_trie-1.2.1-cp312-cp312-win_amd64.whl.metadata (9.3 kB)\n",
      "Requirement already satisfied: markdown-it-py>=2.2.0 in c:\\users\\nevin\\appdata\\local\\programs\\python\\python312\\lib\\site-packages (from rich>=10.11.0->typer<1.0.0,>=0.3.0->spacy) (3.0.0)\n",
      "Requirement already satisfied: pygments<3.0.0,>=2.13.0 in c:\\users\\nevin\\appdata\\roaming\\python\\python312\\site-packages (from rich>=10.11.0->typer<1.0.0,>=0.3.0->spacy) (2.18.0)\n",
      "Requirement already satisfied: wrapt in c:\\users\\nevin\\appdata\\local\\programs\\python\\python312\\lib\\site-packages (from smart-open<8.0.0,>=5.2.1->weasel<0.5.0,>=0.1.0->spacy) (1.16.0)\n",
      "Requirement already satisfied: mdurl~=0.1 in c:\\users\\nevin\\appdata\\local\\programs\\python\\python312\\lib\\site-packages (from markdown-it-py>=2.2.0->rich>=10.11.0->typer<1.0.0,>=0.3.0->spacy) (0.1.2)\n",
      "Downloading spacy-3.8.4-cp312-cp312-win_amd64.whl (11.8 MB)\n",
      "   ---------------------------------------- 0.0/11.8 MB ? eta -:--:--\n",
      "   ------------- -------------------------- 3.9/11.8 MB 21.3 MB/s eta 0:00:01\n",
      "   -------------------------------- ------- 9.7/11.8 MB 25.2 MB/s eta 0:00:01\n",
      "   ---------------------------------------- 11.8/11.8 MB 24.6 MB/s eta 0:00:00\n",
      "Downloading catalogue-2.0.10-py3-none-any.whl (17 kB)\n",
      "Downloading cymem-2.0.11-cp312-cp312-win_amd64.whl (39 kB)\n",
      "Downloading langcodes-3.5.0-py3-none-any.whl (182 kB)\n",
      "Downloading murmurhash-1.0.12-cp312-cp312-win_amd64.whl (25 kB)\n",
      "Downloading preshed-3.0.9-cp312-cp312-win_amd64.whl (122 kB)\n",
      "Downloading spacy_legacy-3.0.12-py2.py3-none-any.whl (29 kB)\n",
      "Downloading spacy_loggers-1.0.5-py3-none-any.whl (22 kB)\n",
      "Downloading srsly-2.5.1-cp312-cp312-win_amd64.whl (632 kB)\n",
      "   ---------------------------------------- 0.0/632.6 kB ? eta -:--:--\n",
      "   --------------------------------------- 632.6/632.6 kB 24.7 MB/s eta 0:00:00\n",
      "Downloading thinc-8.3.4-cp312-cp312-win_amd64.whl (1.5 MB)\n",
      "   ---------------------------------------- 0.0/1.5 MB ? eta -:--:--\n",
      "   ---------------------------------------- 1.5/1.5 MB 25.4 MB/s eta 0:00:00\n",
      "Downloading typer-0.15.1-py3-none-any.whl (44 kB)\n",
      "Downloading wasabi-1.1.3-py3-none-any.whl (27 kB)\n",
      "Downloading weasel-0.4.1-py3-none-any.whl (50 kB)\n",
      "Downloading blis-1.2.0-cp312-cp312-win_amd64.whl (6.3 MB)\n",
      "   ---------------------------------------- 0.0/6.3 MB ? eta -:--:--\n",
      "   ------------------------------------ --- 5.8/6.3 MB 27.0 MB/s eta 0:00:01\n",
      "   ---------------------------------------- 6.3/6.3 MB 25.5 MB/s eta 0:00:00\n",
      "Downloading cloudpathlib-0.20.0-py3-none-any.whl (52 kB)\n",
      "Downloading confection-0.1.5-py3-none-any.whl (35 kB)\n",
      "Downloading language_data-1.3.0-py3-none-any.whl (5.4 MB)\n",
      "   ---------------------------------------- 0.0/5.4 MB ? eta -:--:--\n",
      "   ---------------------------------------- 5.4/5.4 MB 25.2 MB/s eta 0:00:00\n",
      "Downloading shellingham-1.5.4-py2.py3-none-any.whl (9.8 kB)\n",
      "Downloading smart_open-7.1.0-py3-none-any.whl (61 kB)\n",
      "Downloading marisa_trie-1.2.1-cp312-cp312-win_amd64.whl (150 kB)\n",
      "Installing collected packages: cymem, wasabi, spacy-loggers, spacy-legacy, smart-open, shellingham, murmurhash, marisa-trie, cloudpathlib, catalogue, blis, srsly, preshed, language-data, typer, langcodes, confection, weasel, thinc, spacy\n",
      "Successfully installed blis-1.2.0 catalogue-2.0.10 cloudpathlib-0.20.0 confection-0.1.5 cymem-2.0.11 langcodes-3.5.0 language-data-1.3.0 marisa-trie-1.2.1 murmurhash-1.0.12 preshed-3.0.9 shellingham-1.5.4 smart-open-7.1.0 spacy-3.8.4 spacy-legacy-3.0.12 spacy-loggers-1.0.5 srsly-2.5.1 thinc-8.3.4 typer-0.15.1 wasabi-1.1.3 weasel-0.4.1\n",
      "Note: you may need to restart the kernel to use updated packages.\n"
     ]
    },
    {
     "name": "stderr",
     "output_type": "stream",
     "text": [
      "\n",
      "[notice] A new release of pip is available: 24.3.1 -> 25.0.1\n",
      "[notice] To update, run: python.exe -m pip install --upgrade pip\n"
     ]
    },
    {
     "name": "stdout",
     "output_type": "stream",
     "text": [
      "Collecting en-core-web-sm==3.8.0\n",
      "  Downloading https://github.com/explosion/spacy-models/releases/download/en_core_web_sm-3.8.0/en_core_web_sm-3.8.0-py3-none-any.whl (12.8 MB)\n",
      "     ---------------------------------------- 0.0/12.8 MB ? eta -:--:--\n",
      "     ----------- ---------------------------- 3.7/12.8 MB 19.8 MB/s eta 0:00:01\n",
      "     ---------------------------- ----------- 9.2/12.8 MB 23.8 MB/s eta 0:00:01\n",
      "     --------------------------------------- 12.8/12.8 MB 24.4 MB/s eta 0:00:00\n",
      "Installing collected packages: en-core-web-sm\n",
      "Successfully installed en-core-web-sm-3.8.0\n",
      "\u001b[38;5;2m✔ Download and installation successful\u001b[0m\n",
      "You can now load the package via spacy.load('en_core_web_sm')\n"
     ]
    },
    {
     "name": "stderr",
     "output_type": "stream",
     "text": [
      "\n",
      "[notice] A new release of pip is available: 24.3.1 -> 25.0.1\n",
      "[notice] To update, run: python.exe -m pip install --upgrade pip\n"
     ]
    }
   ],
   "source": [
    "import os\n",
    "os.environ[\"TOKENIZERS_PARALLELISM\"] = \"false\"\n",
    "\n",
    "%pip install setuptools wheel\n",
    "%pip install spacy\n",
    "!python -m spacy download en_core_web_sm"
   ]
  },
  {
   "cell_type": "markdown",
   "id": "5ce37219",
   "metadata": {},
   "source": [
    "*(You may have to restart your kernel after installing spacy.)*\n",
    "\n",
    "We can now load the NLP pipeline from the small model."
   ]
  },
  {
   "cell_type": "code",
   "execution_count": 27,
   "id": "ef7c3812",
   "metadata": {},
   "outputs": [],
   "source": [
    "import spacy\n",
    "pipeline = spacy.load('en_core_web_sm')\n",
    "doc = pipeline('Apple is looking at buying U.K. startup for $1 billion.')"
   ]
  },
  {
   "attachments": {},
   "cell_type": "markdown",
   "id": "ebf94fec",
   "metadata": {},
   "source": [
    "The `doc` object has now tokenized our sentence and ran the NLP pipeline on it, as shown in this image:\n",
    "![spacy pipeline](https://spacy.io/images/pipeline.svg)\n",
    "\n",
    "Use the 101 guide to display the following information about each token.\n",
    "- Text: The original word text.\n",
    "- Lemma: The base form of the word.\n",
    "- POS: The simple [UPOS](https://universaldependencies.org/u/pos/) part-of-speech tag.\n",
    "- Tag: The detailed part-of-speech tag.\n",
    "- Dep: Syntactic dependency, i.e. the relation between tokens.\n",
    "- Shape: The word shape – capitalization, punctuation, digits.\n",
    "- is stopword: Is the token part of a stop list, i.e. the most common words of the language?"
   ]
  },
  {
   "cell_type": "code",
   "execution_count": 28,
   "id": "cd87b5d5",
   "metadata": {},
   "outputs": [
    {
     "name": "stdout",
     "output_type": "stream",
     "text": [
      "Apple PROPN nsubj\n",
      "is AUX aux\n",
      "looking VERB ROOT\n",
      "at ADP prep\n",
      "buying VERB pcomp\n",
      "U.K. PROPN nsubj\n",
      "startup VERB ccomp\n",
      "for ADP prep\n",
      "$ SYM quantmod\n",
      "1 NUM compound\n",
      "billion NUM pobj\n",
      ". PUNCT punct\n"
     ]
    }
   ],
   "source": [
    "#show the original text using spacy\n",
    "for token in doc:\n",
    "    print(token.text, token.pos_, token.dep_)"
   ]
  },
  {
   "cell_type": "markdown",
   "id": "41f3326a",
   "metadata": {},
   "source": [
    "Looking at the named entities in `doc`, print the following information:\n",
    "- The token's text\n",
    "- The start index of the named entity\n",
    "- Its end index\n",
    "- The NER label"
   ]
  },
  {
   "cell_type": "code",
   "execution_count": 30,
   "id": "40d7418a",
   "metadata": {},
   "outputs": [
    {
     "name": "stdout",
     "output_type": "stream",
     "text": [
      "['Apple', 'is', 'looking', 'at', 'buying', 'U.K.', 'startup', 'for', '$', '1', 'billion', '.']\n",
      "[('Apple', 0), ('U.K.', 27), ('$1 billion', 44)]\n",
      "[('Apple', 5), ('U.K.', 31), ('$1 billion', 54)]\n",
      "[('Apple', 'ORG'), ('U.K.', 'GPE'), ('$1 billion', 'MONEY')]\n"
     ]
    }
   ],
   "source": [
    "#printe the tokens text\n",
    "print([token.text for token in doc])\n",
    "\n",
    "#print the start index of the named entity\n",
    "print([(ent.text, ent.start_char) for ent in doc.ents])\n",
    "\n",
    "#print its end index\n",
    "print([(ent.text, ent.end_char) for ent in doc.ents])\n",
    "\n",
    "#print the NER label\n",
    "print([(ent.text, ent.label_) for ent in doc.ents])"
   ]
  },
  {
   "cell_type": "markdown",
   "id": "decfbf10",
   "metadata": {},
   "source": [
    "**Question:** Search the internet for a description of the entity labels `FAC`, `ORG`, `GPE` and `LOC`."
   ]
  },
  {
   "cell_type": "markdown",
   "id": "672d6e3e",
   "metadata": {},
   "source": [
    "**Answer:**"
   ]
  }
 ],
 "metadata": {
  "kernelspec": {
   "display_name": "Python 3",
   "language": "python",
   "name": "python3"
  },
  "language_info": {
   "codemirror_mode": {
    "name": "ipython",
    "version": 3
   },
   "file_extension": ".py",
   "mimetype": "text/x-python",
   "name": "python",
   "nbconvert_exporter": "python",
   "pygments_lexer": "ipython3",
   "version": "3.12.3"
  }
 },
 "nbformat": 4,
 "nbformat_minor": 5
}
